{
 "cells": [
  {
   "cell_type": "markdown",
   "id": "d766b47d",
   "metadata": {
    "toc": true
   },
   "source": [
    "<h1>Table of Contents<span class=\"tocSkip\"></span></h1>\n",
    "<div class=\"toc\"><ul class=\"toc-item\"></ul></div>"
   ]
  },
  {
   "cell_type": "code",
   "execution_count": 1,
   "id": "01504825",
   "metadata": {},
   "outputs": [],
   "source": [
    "# the only \"missing\" data is session_execution_summary (it is in other file)"
   ]
  },
  {
   "cell_type": "code",
   "execution_count": 1,
   "id": "a0b9d13a",
   "metadata": {},
   "outputs": [],
   "source": [
    "import pandas as pd\n",
    "import numpy as np"
   ]
  },
  {
   "cell_type": "code",
   "execution_count": 3,
   "id": "4f6c85f7",
   "metadata": {},
   "outputs": [],
   "source": [
    "def jeden(table, var):\n",
    "    print('nunique:', table[var].nunique(), ',',\n",
    "'duplicated:', table[var].duplicated().any(), ',',\n",
    "     'nan sum', table[var].isna().sum())"
   ]
  },
  {
   "cell_type": "code",
   "execution_count": 4,
   "id": "648f0ca8",
   "metadata": {},
   "outputs": [],
   "source": [
    "def dwa(table, var1, var2):\n",
    "    print('Duplicated:', '\\n',\n",
    "           var1,':',table[var1].duplicated().any(),\n",
    "      ',', var2, ':', table[var2].duplicated().any(), '\\n',\n",
    "         'Nunique:', '\\n',\n",
    "          var1,':', table[var1].nunique(),\n",
    "     ',', var2, ':', table[var2].nunique(), '\\n',\n",
    "         'NA sum:', '\\n',\n",
    "          var1,':', table[var1].isna().sum(),\n",
    "     ',', var2, ':', table[var2].isna().sum())"
   ]
  },
  {
   "cell_type": "code",
   "execution_count": 5,
   "id": "0f430214",
   "metadata": {},
   "outputs": [],
   "source": [
    "def trzy(table, var1, var2, var3):\n",
    "    print('Duplicated:', '\\n',\n",
    "           var1, ':',table[var1].duplicated().any(),\n",
    "      ',', var2, ':', table[var2].duplicated().any(), \n",
    "      ',', var3, ':', table[var3].duplicated().any(), '\\n',\n",
    "         'Nunique:', '\\n',\n",
    "          var1, ':', table[var1].nunique(),\n",
    "     ',', var2, ':', table[var2].nunique(), \n",
    "     ',', var3, ':', table[var3].nunique(),'\\n',\n",
    "         'NA sum:', '\\n',\n",
    "          var1, ':', table[var1].isna().sum(),\n",
    "     ',', var2, ':', table[var2].isna().sum(),\n",
    "     ',', var3, ':', table[var3].isna().sum())"
   ]
  },
  {
   "cell_type": "code",
   "execution_count": 6,
   "id": "09eaeb8a",
   "metadata": {},
   "outputs": [],
   "source": [
    "achievements = pd.read_csv('/home/evida-monika/mhunters/achievments.csv', sep=';')\n",
    "# achievements.sort_values('id')"
   ]
  },
  {
   "cell_type": "code",
   "execution_count": 7,
   "id": "e32469fb",
   "metadata": {},
   "outputs": [],
   "source": [
    "users = pd.read_csv('/home/evida-monika/mhunters/users.csv', low_memory=False)\n",
    "\n",
    "users2 = users.drop(['email', 'encrypted_password', \n",
    "                     'reset_password_token','reset_password_sent_at',\n",
    "                     'remember_created_at','is_admin','names', 'last_name',\n",
    "                     'current_sign_in_ip', 'last_sign_in_ip', \n",
    "                     'recover_password_code','recover_password_attempts', \n",
    "                     'facebook_uid','workout_setting_voice_coach', 'workout_setting_sound',\n",
    "                     'workout_setting_vibration', 'workout_setting_mobility',\n",
    "                     'workout_setting_cardio_warmup', 'workout_setting_countdown',\n",
    "                     'google_uid','t1_push','t1_core', \n",
    "                     't1_legs', 't1_full', 't1_push_exercise', \n",
    "                     't1_pull_up','t2_reps', 't2_steps', \n",
    "                     't2_reps_push', 't2_reps_core', 't2_reps_legs',\n",
    "                     't2_reps_full', 't2_time_push', 't2_time_core',\n",
    "                     't2_time_legs', 't2_time_full', 't1_full_exercise', \n",
    "                     't1_pull_up_exercise','warmup_setting', \n",
    "                     'warmup_session_id', 'stripe_id', 'provider', 'uid',\n",
    "                     'affiliate_code', 'moengage_id', 'mix_panel_id',\n",
    "                     'apple_id_token','platform', 'login_token',\n",
    "                     'login_token_generated_at', 'imported',\n",
    "                     'current_sign_in_at', 'last_sign_in_at', 'sign_in_count',\n",
    "                    'current_weekly_streak'], \n",
    "                    axis = 1)"
   ]
  },
  {
   "cell_type": "code",
   "execution_count": 8,
   "id": "05af1917",
   "metadata": {},
   "outputs": [],
   "source": [
    "#users['id'].nunique()"
   ]
  },
  {
   "cell_type": "code",
   "execution_count": 9,
   "id": "b6951b8e",
   "metadata": {},
   "outputs": [],
   "source": [
    "#users.iloc[:,6]"
   ]
  },
  {
   "cell_type": "code",
   "execution_count": 10,
   "id": "ca01f8a0",
   "metadata": {},
   "outputs": [],
   "source": [
    "profiles = pd.read_csv('/home/evida-monika/mhunters/profiles.csv')\n",
    "\n",
    "profiles2 = profiles.drop(['fat_level', 'name', 'created_at', 'updated_at'], axis = 1)"
   ]
  },
  {
   "cell_type": "code",
   "execution_count": 11,
   "id": "b06734dd",
   "metadata": {},
   "outputs": [],
   "source": [
    "session_executions = pd.read_csv('/home/evida-monika/mhunters/session_executions.csv', on_bad_lines='skip', low_memory=False, header = None)\n",
    "session_executions.columns = ['id', 'scheduled_at', 'user_program_id', \n",
    "                              'difficulty_feedback', 'enjoyment_feedback',\n",
    "                             'feedback_comment', 'reps_executed',\n",
    "                             'execution_time', 'order', 'created_at',\n",
    "                             'updated_at', 'front_end_id', 'session_id',\n",
    "                             'discarded', 'discard_reason', 'imported']\n",
    "\n",
    "session_executions2 = session_executions.drop(['scheduled_at', 'feedback_comment',\n",
    "                                              'order', 'created_at', 'updated_at',\n",
    "                                              'front_end_id', 'imported'], axis = 1)"
   ]
  },
  {
   "cell_type": "code",
   "execution_count": 12,
   "id": "57044f71",
   "metadata": {},
   "outputs": [],
   "source": [
    "#dwa(session_executions, 'user_program_id', 'session_id')"
   ]
  },
  {
   "cell_type": "code",
   "execution_count": 13,
   "id": "7f4ae26c",
   "metadata": {},
   "outputs": [],
   "source": [
    "subscriptions = pd.read_csv('/home/evida-monika/mhunters/subscriptions.csv', on_bad_lines='skip', low_memory=False)\n",
    "\n",
    "subscriptions2 = subscriptions.drop(['platform', 'transaction_body', 'start_date', \n",
    "                                     'end_date', 'subscription_type', 'cancelled_at',\n",
    "                                     'cancelled', 'store_metadata','offer_code',\n",
    "       'cancellation_reason', 'receipt_data'], axis = 1)"
   ]
  },
  {
   "cell_type": "code",
   "execution_count": 14,
   "id": "f82c3cfa",
   "metadata": {},
   "outputs": [],
   "source": [
    "# trzy(subscriptions, 'user_id', 'product_id', 'program_id')"
   ]
  },
  {
   "cell_type": "code",
   "execution_count": 15,
   "id": "0622faa5",
   "metadata": {},
   "outputs": [],
   "source": [
    "exercise_sets = pd.read_csv('/home/evida-monika/mhunters/exercise_sets.csv', on_bad_lines='skip', low_memory=False)\n",
    "\n",
    "exercise_sets2 = exercise_sets.drop(['intensity_modificator', 'track_reps'], axis = 1)"
   ]
  },
  {
   "cell_type": "code",
   "execution_count": 16,
   "id": "804fccc1",
   "metadata": {},
   "outputs": [],
   "source": [
    "# exercise_sets.shape"
   ]
  },
  {
   "cell_type": "code",
   "execution_count": 17,
   "id": "87414bc8",
   "metadata": {},
   "outputs": [],
   "source": [
    "# dwa(exercise_sets, 'session_set_id', 'exercise_id')"
   ]
  },
  {
   "cell_type": "code",
   "execution_count": 11,
   "id": "bd6e13a2",
   "metadata": {},
   "outputs": [],
   "source": [
    "exercises = pd.read_csv('/home/evida-monika/mhunters/exercises.csv', sep = ';', on_bad_lines='skip', low_memory=False)\n",
    "\n",
    "exercises2 = exercises.drop(['video','reps', 'time','legacy_id','deprecated', \n",
    "                             'replacement_legacy_id', 'family', 'sub_family',\n",
    "                             'video_female', 'video_male', 'harder_variation_id',\n",
    "                             'easier_variation_id','name_es', 'description_en',\n",
    "       'description_es', 'implement_variation_id', 'test_correction',\n",
    "       'thumbnail', 'thumbnail_male', 'thumbnail_female', 'notes_en',\n",
    "       'notes_es', 'execution_time', 'thumbnail_400', 'thumbnail_400_male',\n",
    "       'thumbnail_400_female', 'coach_id', 'test_equivalent_id', 't1_min',\n",
    "       't1_max', 'excluded'], axis = 1)"
   ]
  },
  {
   "cell_type": "code",
   "execution_count": 12,
   "id": "193b9901",
   "metadata": {},
   "outputs": [
    {
     "data": {
      "text/html": [
       "<div>\n",
       "<style scoped>\n",
       "    .dataframe tbody tr th:only-of-type {\n",
       "        vertical-align: middle;\n",
       "    }\n",
       "\n",
       "    .dataframe tbody tr th {\n",
       "        vertical-align: top;\n",
       "    }\n",
       "\n",
       "    .dataframe thead th {\n",
       "        text-align: right;\n",
       "    }\n",
       "</style>\n",
       "<table border=\"1\" class=\"dataframe\">\n",
       "  <thead>\n",
       "    <tr style=\"text-align: right;\">\n",
       "      <th></th>\n",
       "      <th>id</th>\n",
       "      <th>created_at</th>\n",
       "      <th>updated_at</th>\n",
       "      <th>body_parts_focused</th>\n",
       "      <th>muscles</th>\n",
       "      <th>joints</th>\n",
       "      <th>met_multiplier</th>\n",
       "      <th>name_en</th>\n",
       "    </tr>\n",
       "  </thead>\n",
       "  <tbody>\n",
       "    <tr>\n",
       "      <th>0</th>\n",
       "      <td>5551</td>\n",
       "      <td>2020-10-15 12:37:19.622509</td>\n",
       "      <td>2021-08-24 13:43:14.829103</td>\n",
       "      <td>{\"Todo el cuerpo\"}</td>\n",
       "      <td>{isquiotibiales,\" erector de la columna\",\" dor...</td>\n",
       "      <td>{cadera}</td>\n",
       "      <td>2.3</td>\n",
       "      <td>Straddle split</td>\n",
       "    </tr>\n",
       "    <tr>\n",
       "      <th>1</th>\n",
       "      <td>5528</td>\n",
       "      <td>2020-10-15 12:37:19.379916</td>\n",
       "      <td>2021-08-24 13:43:14.852983</td>\n",
       "      <td>{Piernas}</td>\n",
       "      <td>{cuádriceps,\" isquiotibiales\",\" glúteos\"}</td>\n",
       "      <td>{cadera}</td>\n",
       "      <td>2.3</td>\n",
       "      <td>Side leg swing (left)</td>\n",
       "    </tr>\n",
       "    <tr>\n",
       "      <th>2</th>\n",
       "      <td>5216</td>\n",
       "      <td>2020-10-15 12:37:15.688677</td>\n",
       "      <td>2021-10-13 09:46:28.673338</td>\n",
       "      <td>{Core}</td>\n",
       "      <td>{\"erector de la columna\",\" recto mayor del abd...</td>\n",
       "      <td>{hombros,\" tobillos\"}</td>\n",
       "      <td>2.5</td>\n",
       "      <td>Plank</td>\n",
       "    </tr>\n",
       "    <tr>\n",
       "      <th>3</th>\n",
       "      <td>5706</td>\n",
       "      <td>2020-10-15 12:37:21.440337</td>\n",
       "      <td>2021-09-22 17:13:47.654393</td>\n",
       "      <td>{Brazos,Core}</td>\n",
       "      <td>{pectorales,\" dorsales\",\" bíceps\"}</td>\n",
       "      <td>{hombros,\" codos\",\" muñecas\"}</td>\n",
       "      <td>3.8</td>\n",
       "      <td>Archer row 2</td>\n",
       "    </tr>\n",
       "    <tr>\n",
       "      <th>4</th>\n",
       "      <td>5702</td>\n",
       "      <td>2020-10-15 12:37:21.397943</td>\n",
       "      <td>2021-09-22 17:13:47.669895</td>\n",
       "      <td>{Espalda,Brazos}</td>\n",
       "      <td>{deltoides,\" tríceps\",\" dorsales\"}</td>\n",
       "      <td>{codos,\" hombros\",\" muñecas\"}</td>\n",
       "      <td>3.2</td>\n",
       "      <td>Chest fly 2</td>\n",
       "    </tr>\n",
       "  </tbody>\n",
       "</table>\n",
       "</div>"
      ],
      "text/plain": [
       "     id                  created_at                  updated_at  \\\n",
       "0  5551  2020-10-15 12:37:19.622509  2021-08-24 13:43:14.829103   \n",
       "1  5528  2020-10-15 12:37:19.379916  2021-08-24 13:43:14.852983   \n",
       "2  5216  2020-10-15 12:37:15.688677  2021-10-13 09:46:28.673338   \n",
       "3  5706  2020-10-15 12:37:21.440337  2021-09-22 17:13:47.654393   \n",
       "4  5702  2020-10-15 12:37:21.397943  2021-09-22 17:13:47.669895   \n",
       "\n",
       "   body_parts_focused                                            muscles  \\\n",
       "0  {\"Todo el cuerpo\"}  {isquiotibiales,\" erector de la columna\",\" dor...   \n",
       "1           {Piernas}          {cuádriceps,\" isquiotibiales\",\" glúteos\"}   \n",
       "2              {Core}  {\"erector de la columna\",\" recto mayor del abd...   \n",
       "3       {Brazos,Core}                 {pectorales,\" dorsales\",\" bíceps\"}   \n",
       "4    {Espalda,Brazos}                 {deltoides,\" tríceps\",\" dorsales\"}   \n",
       "\n",
       "                          joints  met_multiplier                name_en  \n",
       "0                       {cadera}             2.3         Straddle split  \n",
       "1                       {cadera}             2.3  Side leg swing (left)  \n",
       "2          {hombros,\" tobillos\"}             2.5                  Plank  \n",
       "3  {hombros,\" codos\",\" muñecas\"}             3.8           Archer row 2  \n",
       "4  {codos,\" hombros\",\" muñecas\"}             3.2            Chest fly 2  "
      ]
     },
     "execution_count": 12,
     "metadata": {},
     "output_type": "execute_result"
    }
   ],
   "source": [
    "exercises2.head()"
   ]
  },
  {
   "cell_type": "code",
   "execution_count": null,
   "id": "01baab18",
   "metadata": {},
   "outputs": [],
   "source": []
  },
  {
   "cell_type": "code",
   "execution_count": null,
   "id": "685efba8",
   "metadata": {},
   "outputs": [],
   "source": []
  },
  {
   "cell_type": "code",
   "execution_count": null,
   "id": "fdfca858",
   "metadata": {},
   "outputs": [],
   "source": []
  },
  {
   "cell_type": "code",
   "execution_count": 19,
   "id": "6be07131",
   "metadata": {},
   "outputs": [],
   "source": [
    "# exercises['id'].nunique()"
   ]
  },
  {
   "cell_type": "code",
   "execution_count": 20,
   "id": "7edb4362",
   "metadata": {},
   "outputs": [],
   "source": [
    "# jeden(exercises, 'coach_id')"
   ]
  },
  {
   "cell_type": "code",
   "execution_count": 21,
   "id": "3b9a642a",
   "metadata": {},
   "outputs": [],
   "source": [
    "session_block_executions = pd.read_csv('/home/evida-monika/mhunters/session_block_executions.csv', on_bad_lines='skip', low_memory=False)\n",
    "\n",
    "session_block_executions2 = session_block_executions.drop(['block_type', \n",
    "                                                           'reps_executed',\n",
    "                                                           'execution_time', \n",
    "                                                           'created_at', \n",
    "                                                           'updated_at'], axis = 1)"
   ]
  },
  {
   "cell_type": "code",
   "execution_count": 22,
   "id": "648680ab",
   "metadata": {},
   "outputs": [],
   "source": [
    "# session_block_executions.shape"
   ]
  },
  {
   "cell_type": "code",
   "execution_count": 23,
   "id": "734ff4df",
   "metadata": {},
   "outputs": [],
   "source": [
    "# jeden(session_block_executions,'session_execution_id')"
   ]
  },
  {
   "cell_type": "code",
   "execution_count": 24,
   "id": "ce58e11e",
   "metadata": {},
   "outputs": [],
   "source": [
    "session_set_executions = pd.read_csv('/home/evida-monika/mhunters/session_set_executions.csv', on_bad_lines='skip', low_memory=False)\n",
    "\n",
    "session_set_executions2 = session_set_executions.drop(['reps_executed', 'execution_time',\n",
    "                                                       'created_at', 'updated_at'], axis = 1)"
   ]
  },
  {
   "cell_type": "code",
   "execution_count": 25,
   "id": "f326f188",
   "metadata": {},
   "outputs": [],
   "source": [
    "# session_set_executions['id'].nunique()"
   ]
  },
  {
   "cell_type": "code",
   "execution_count": 26,
   "id": "1b3dd2d1",
   "metadata": {},
   "outputs": [],
   "source": [
    "# jeden(session_set_executions, 'session_block_execution_id')"
   ]
  },
  {
   "cell_type": "code",
   "execution_count": 27,
   "id": "43c25494",
   "metadata": {},
   "outputs": [],
   "source": [
    "session_blocks = pd.read_csv('/home/evida-monika/mhunters/session_blocks.csv', on_bad_lines='skip', low_memory=False, header = None)\n",
    "session_blocks.columns = ['id', 'session_id', 'time_duration', \n",
    "                              'created_at', 'updated_at',\n",
    "                              'order', 'block_type', 'loop']\n",
    "\n",
    "session_blocks2 = session_blocks.drop(['time_duration', 'created_at', 'updated_at',\n",
    "                                       'loop'], axis = 1)"
   ]
  },
  {
   "cell_type": "code",
   "execution_count": 28,
   "id": "3e495fb4",
   "metadata": {},
   "outputs": [],
   "source": [
    "# jeden(session_blocks,'session_id')"
   ]
  },
  {
   "cell_type": "code",
   "execution_count": 29,
   "id": "bcea24c5",
   "metadata": {},
   "outputs": [],
   "source": [
    "user_programs = pd.read_csv('/home/evida-monika/mhunters/user_programs.csv', on_bad_lines='skip', low_memory=False)\n",
    "\n",
    "user_programs2 = user_programs.drop(['enjoyment_notes'], axis = 1)"
   ]
  },
  {
   "cell_type": "code",
   "execution_count": 30,
   "id": "0a995cf2",
   "metadata": {},
   "outputs": [],
   "source": [
    "# user_programs.info()"
   ]
  },
  {
   "cell_type": "code",
   "execution_count": 31,
   "id": "40e38218",
   "metadata": {},
   "outputs": [],
   "source": [
    "# user_programs['id'].nunique()"
   ]
  },
  {
   "cell_type": "code",
   "execution_count": 32,
   "id": "2e2530a3",
   "metadata": {},
   "outputs": [],
   "source": [
    "# user_programs.shape"
   ]
  },
  {
   "cell_type": "code",
   "execution_count": 33,
   "id": "7eeb90ed",
   "metadata": {},
   "outputs": [],
   "source": [
    "# trzy(user_programs, 'user_id', 'current_session_id', 'program_id')"
   ]
  },
  {
   "cell_type": "code",
   "execution_count": 34,
   "id": "b7fc82ae",
   "metadata": {},
   "outputs": [],
   "source": [
    "sessions = pd.read_csv('/home/evida-monika/mhunters/sessions.csv', on_bad_lines='skip', low_memory=False)\n",
    "\n",
    "sessions2 = sessions.drop(['level', 'reps', 'created_at', 'updated_at', 'strength', \n",
    "                           'endurance', 'technique', 'flexibility', 'intensity',\n",
    "                           'name_es','description_en', 'description_es'], axis = 1)"
   ]
  },
  {
   "cell_type": "code",
   "execution_count": 35,
   "id": "d2600309",
   "metadata": {},
   "outputs": [],
   "source": [
    "# print(sessions['id'].nunique(), sessions.shape)"
   ]
  },
  {
   "cell_type": "code",
   "execution_count": 36,
   "id": "875241ae",
   "metadata": {},
   "outputs": [],
   "source": [
    "session_sets = pd.read_csv('/home/evida-monika/mhunters/session_sets.csv', on_bad_lines='skip', low_memory=False)\n",
    "\n",
    "session_sets2 = session_sets.drop(['level', 'time_duration', 'reps', \n",
    "                                   'session_set_type','created_at', 'updated_at',\n",
    "                                   'loop'], axis = 1)"
   ]
  },
  {
   "cell_type": "code",
   "execution_count": 37,
   "id": "b2e60162",
   "metadata": {},
   "outputs": [],
   "source": [
    "# print(session_sets['id'].nunique(),\n",
    "# session_sets.shape, session_sets['id'].duplicated().any())"
   ]
  },
  {
   "cell_type": "code",
   "execution_count": 38,
   "id": "4263b769",
   "metadata": {},
   "outputs": [],
   "source": [
    "# jeden(session_sets,'session_block_id')"
   ]
  },
  {
   "cell_type": "code",
   "execution_count": 39,
   "id": "e9beb1f1",
   "metadata": {},
   "outputs": [
    {
     "data": {
      "text/plain": [
       "Index(['id', 'exercise_id', 'session_set_execution_id', 'reps_executed',\n",
       "       'execution_time', 'order', 'created_at', 'updated_at'],\n",
       "      dtype='object')"
      ]
     },
     "execution_count": 39,
     "metadata": {},
     "output_type": "execute_result"
    }
   ],
   "source": [
    "exercise_executions = pd.read_csv('/home/evida-monika/mhunters/exercise_executions.csv', on_bad_lines='skip', low_memory=False, header = None)\n",
    "\n",
    "exercise_executions.columns = ['id', 'exercise_id', 'session_set_execution_id', \n",
    "                              'reps_executed', 'execution_time',\n",
    "                              'order', 'created_at', 'updated_at']\n",
    "\n",
    "exercise_executions.columns # here everything stays"
   ]
  },
  {
   "cell_type": "code",
   "execution_count": 40,
   "id": "de871087",
   "metadata": {},
   "outputs": [],
   "source": [
    "# exercise_executions['id'].nunique()"
   ]
  },
  {
   "cell_type": "code",
   "execution_count": 41,
   "id": "3c89f1e7",
   "metadata": {},
   "outputs": [],
   "source": [
    "# dwa(exercise_executions, 'session_set_execution_id', 'exercise_id')"
   ]
  },
  {
   "cell_type": "code",
   "execution_count": 42,
   "id": "ef8c1182",
   "metadata": {},
   "outputs": [],
   "source": [
    "programs = pd.read_csv('/home/evida-monika/mhunters/programs.csv', on_bad_lines='skip', low_memory=False)\n",
    "\n",
    "programs2 = programs.drop(['user_id', 'code_name', 'name_es', \n",
    "                           'description_es', 'auto_generated', 'priority_order', \n",
    "                           'next_program_id'], axis = 1)"
   ]
  },
  {
   "cell_type": "code",
   "execution_count": 43,
   "id": "aac18160",
   "metadata": {},
   "outputs": [],
   "source": [
    "# programs['id'].nunique()"
   ]
  },
  {
   "cell_type": "code",
   "execution_count": 44,
   "id": "84d6db0c",
   "metadata": {},
   "outputs": [],
   "source": [
    "# programs.info()"
   ]
  },
  {
   "cell_type": "code",
   "execution_count": 45,
   "id": "dc564ae1",
   "metadata": {},
   "outputs": [],
   "source": [
    "# jeden(programs,'user_id')"
   ]
  },
  {
   "cell_type": "code",
   "execution_count": 46,
   "id": "433cdb91",
   "metadata": {},
   "outputs": [],
   "source": [
    "exercise_implements = pd.read_csv('/home/evida-monika/mhunters/exercise_implements.csv', on_bad_lines='skip', low_memory=False)\n",
    "\n",
    "exercise_implements2 = exercise_implements.drop(['created_at', 'updated_at'], axis = 1)"
   ]
  },
  {
   "cell_type": "code",
   "execution_count": 47,
   "id": "030cb293",
   "metadata": {},
   "outputs": [],
   "source": [
    "# exercise_implements.shape"
   ]
  },
  {
   "cell_type": "code",
   "execution_count": 48,
   "id": "04bc277f",
   "metadata": {},
   "outputs": [],
   "source": [
    "# dwa(exercise_implements, 'exercise_id', 'implement_id')"
   ]
  },
  {
   "cell_type": "code",
   "execution_count": 49,
   "id": "9f7e0da2",
   "metadata": {},
   "outputs": [
    {
     "data": {
      "text/html": [
       "<div>\n",
       "<style scoped>\n",
       "    .dataframe tbody tr th:only-of-type {\n",
       "        vertical-align: middle;\n",
       "    }\n",
       "\n",
       "    .dataframe tbody tr th {\n",
       "        vertical-align: top;\n",
       "    }\n",
       "\n",
       "    .dataframe thead th {\n",
       "        text-align: right;\n",
       "    }\n",
       "</style>\n",
       "<table border=\"1\" class=\"dataframe\">\n",
       "  <thead>\n",
       "    <tr style=\"text-align: right;\">\n",
       "      <th></th>\n",
       "      <th>id</th>\n",
       "      <th>user_id</th>\n",
       "      <th>achievment_id</th>\n",
       "      <th>created_at</th>\n",
       "      <th>updated_at</th>\n",
       "    </tr>\n",
       "  </thead>\n",
       "  <tbody>\n",
       "    <tr>\n",
       "      <th>0</th>\n",
       "      <td>525</td>\n",
       "      <td>950</td>\n",
       "      <td>5</td>\n",
       "      <td>2021-10-16 06:32:04.112093</td>\n",
       "      <td>2021-10-16 06:32:04.112093</td>\n",
       "    </tr>\n",
       "    <tr>\n",
       "      <th>1</th>\n",
       "      <td>529</td>\n",
       "      <td>1133</td>\n",
       "      <td>4</td>\n",
       "      <td>2021-10-18 05:45:56.186027</td>\n",
       "      <td>2021-10-18 05:45:56.186027</td>\n",
       "    </tr>\n",
       "    <tr>\n",
       "      <th>2</th>\n",
       "      <td>534</td>\n",
       "      <td>1224</td>\n",
       "      <td>3</td>\n",
       "      <td>2021-10-20 15:35:15.671076</td>\n",
       "      <td>2021-10-20 15:35:15.671076</td>\n",
       "    </tr>\n",
       "    <tr>\n",
       "      <th>3</th>\n",
       "      <td>538</td>\n",
       "      <td>1219</td>\n",
       "      <td>3</td>\n",
       "      <td>2021-10-21 11:56:25.874451</td>\n",
       "      <td>2021-10-21 11:56:25.874451</td>\n",
       "    </tr>\n",
       "    <tr>\n",
       "      <th>4</th>\n",
       "      <td>5</td>\n",
       "      <td>571</td>\n",
       "      <td>3</td>\n",
       "      <td>2021-06-03 05:29:39.984727</td>\n",
       "      <td>2021-06-03 05:29:39.984727</td>\n",
       "    </tr>\n",
       "  </tbody>\n",
       "</table>\n",
       "</div>"
      ],
      "text/plain": [
       "    id  user_id  achievment_id                  created_at  \\\n",
       "0  525      950              5  2021-10-16 06:32:04.112093   \n",
       "1  529     1133              4  2021-10-18 05:45:56.186027   \n",
       "2  534     1224              3  2021-10-20 15:35:15.671076   \n",
       "3  538     1219              3  2021-10-21 11:56:25.874451   \n",
       "4    5      571              3  2021-06-03 05:29:39.984727   \n",
       "\n",
       "                   updated_at  \n",
       "0  2021-10-16 06:32:04.112093  \n",
       "1  2021-10-18 05:45:56.186027  \n",
       "2  2021-10-20 15:35:15.671076  \n",
       "3  2021-10-21 11:56:25.874451  \n",
       "4  2021-06-03 05:29:39.984727  "
      ]
     },
     "execution_count": 49,
     "metadata": {},
     "output_type": "execute_result"
    }
   ],
   "source": [
    "user_achievements = pd.read_csv('/home/evida-monika/mhunters/user_achievments.csv', on_bad_lines='skip', low_memory=False)\n",
    "\n",
    "user_achievements.head()"
   ]
  },
  {
   "cell_type": "code",
   "execution_count": 50,
   "id": "7ca37661",
   "metadata": {},
   "outputs": [],
   "source": [
    "# user_achievements['id'].nunique()"
   ]
  },
  {
   "cell_type": "code",
   "execution_count": 51,
   "id": "4a654098",
   "metadata": {},
   "outputs": [],
   "source": [
    "# user_achievements2 = user_achievements.sort_values('updated_at').groupby('user_id').tail(1) # latest value of achievement for each id\n",
    "# dwa(user_achievements2, 'user_id', 'achievment_id')"
   ]
  },
  {
   "cell_type": "code",
   "execution_count": 52,
   "id": "2b8a4ab9",
   "metadata": {},
   "outputs": [],
   "source": [
    "# dwa(user_achievements, 'user_id', 'achievment_id')"
   ]
  },
  {
   "cell_type": "code",
   "execution_count": 53,
   "id": "65e1d47f",
   "metadata": {},
   "outputs": [],
   "source": [
    "# user_achievements2.merge(users, how = 'left', left_on = 'user_id', right_on = 'id')"
   ]
  },
  {
   "cell_type": "code",
   "execution_count": 54,
   "id": "07b8352e",
   "metadata": {},
   "outputs": [],
   "source": [
    "program_sessions = pd.read_csv('/home/evida-monika/mhunters/program_sessions.csv', on_bad_lines='skip', low_memory=False)\n"
   ]
  },
  {
   "cell_type": "code",
   "execution_count": 55,
   "id": "ab017df7",
   "metadata": {},
   "outputs": [],
   "source": [
    "# dwa(program_sessions, 'program_id', 'session_id')"
   ]
  },
  {
   "cell_type": "code",
   "execution_count": 56,
   "id": "ddd4a494",
   "metadata": {},
   "outputs": [],
   "source": [
    "program_profiles = pd.read_csv('/home/evida-monika/mhunters/program_profiles.csv', on_bad_lines='skip', low_memory=False)\n"
   ]
  },
  {
   "cell_type": "code",
   "execution_count": 57,
   "id": "691356a0",
   "metadata": {},
   "outputs": [],
   "source": [
    "# dwa(program_profiles, 'program_id', 'profile_id')"
   ]
  },
  {
   "cell_type": "code",
   "execution_count": 58,
   "id": "610585f3",
   "metadata": {},
   "outputs": [],
   "source": [
    "program_implements = pd.read_csv('/home/evida-monika/mhunters/program_implements.csv', on_bad_lines='skip', low_memory=False)\n",
    "\n",
    "program_implements2 = program_implements.drop(['created_at', 'updated_at'], axis = 1)"
   ]
  },
  {
   "cell_type": "code",
   "execution_count": 59,
   "id": "adcf36de",
   "metadata": {},
   "outputs": [],
   "source": [
    "# dwa(program_implements, 'program_id', 'implement_id')"
   ]
  },
  {
   "cell_type": "code",
   "execution_count": 60,
   "id": "6640579b",
   "metadata": {},
   "outputs": [],
   "source": [
    "implements = pd.read_csv('/home/evida-monika/mhunters/implements.csv', on_bad_lines='skip', low_memory=False)\n",
    "\n",
    "implements2 = implements.drop(['created_at', 'updated_at', 'name_es'], axis = 1)"
   ]
  },
  {
   "cell_type": "code",
   "execution_count": 61,
   "id": "66ef3a03",
   "metadata": {},
   "outputs": [],
   "source": [
    "daily_reports = pd.read_csv('/home/evida-monika/mhunters/daily_reports.csv', sep = ';')\n",
    "\n",
    "daily_reports2 = daily_reports.drop(['created_at', 'updated_at'], axis = 1)"
   ]
  },
  {
   "cell_type": "code",
   "execution_count": 62,
   "id": "2445df52",
   "metadata": {},
   "outputs": [],
   "source": [
    "products = pd.read_csv('/home/evida-monika/mhunters/products.csv', on_bad_lines='skip', low_memory=False)\n",
    "\n",
    "# to delete probably, or just leave the id"
   ]
  },
  {
   "cell_type": "code",
   "execution_count": 78,
   "id": "b4e26205",
   "metadata": {},
   "outputs": [
    {
     "data": {
      "text/html": [
       "<div>\n",
       "<style scoped>\n",
       "    .dataframe tbody tr th:only-of-type {\n",
       "        vertical-align: middle;\n",
       "    }\n",
       "\n",
       "    .dataframe tbody tr th {\n",
       "        vertical-align: top;\n",
       "    }\n",
       "\n",
       "    .dataframe thead th {\n",
       "        text-align: right;\n",
       "    }\n",
       "</style>\n",
       "<table border=\"1\" class=\"dataframe\">\n",
       "  <thead>\n",
       "    <tr style=\"text-align: right;\">\n",
       "      <th></th>\n",
       "      <th>id</th>\n",
       "      <th>price</th>\n",
       "      <th>name</th>\n",
       "      <th>store_reference</th>\n",
       "      <th>currency</th>\n",
       "      <th>local</th>\n",
       "      <th>created_at</th>\n",
       "      <th>updated_at</th>\n",
       "      <th>store</th>\n",
       "      <th>available</th>\n",
       "      <th>has_trial</th>\n",
       "      <th>trial_days</th>\n",
       "      <th>discount_percentage</th>\n",
       "      <th>discount_forever</th>\n",
       "      <th>period</th>\n",
       "    </tr>\n",
       "  </thead>\n",
       "  <tbody>\n",
       "    <tr>\n",
       "      <th>0</th>\n",
       "      <td>60</td>\n",
       "      <td>59.99</td>\n",
       "      <td>PRO 1y 25% off</td>\n",
       "      <td>1y_5999_itunes_ft_14</td>\n",
       "      <td>NaN</td>\n",
       "      <td>NaN</td>\n",
       "      <td>2021-10-19 08:49:08.947257</td>\n",
       "      <td>2021-12-01 09:08:13.308055</td>\n",
       "      <td>0</td>\n",
       "      <td>t</td>\n",
       "      <td>t</td>\n",
       "      <td>14.0</td>\n",
       "      <td>NaN</td>\n",
       "      <td>f</td>\n",
       "      <td>0</td>\n",
       "    </tr>\n",
       "    <tr>\n",
       "      <th>1</th>\n",
       "      <td>48</td>\n",
       "      <td>79.99</td>\n",
       "      <td>PRO 1y</td>\n",
       "      <td>1y_7999_itunes_ft_14</td>\n",
       "      <td>NaN</td>\n",
       "      <td>NaN</td>\n",
       "      <td>2021-02-04 15:34:35.043522</td>\n",
       "      <td>2021-10-18 10:26:48.545155</td>\n",
       "      <td>0</td>\n",
       "      <td>t</td>\n",
       "      <td>t</td>\n",
       "      <td>14.0</td>\n",
       "      <td>NaN</td>\n",
       "      <td>f</td>\n",
       "      <td>0</td>\n",
       "    </tr>\n",
       "    <tr>\n",
       "      <th>2</th>\n",
       "      <td>36</td>\n",
       "      <td>79.99</td>\n",
       "      <td>Test PRO 1y Stripe</td>\n",
       "      <td>id_test</td>\n",
       "      <td>1.0</td>\n",
       "      <td>es</td>\n",
       "      <td>2021-01-29 14:01:34.073265</td>\n",
       "      <td>2021-11-18 11:36:31.927983</td>\n",
       "      <td>2</td>\n",
       "      <td>f</td>\n",
       "      <td>f</td>\n",
       "      <td>0.0</td>\n",
       "      <td>NaN</td>\n",
       "      <td>f</td>\n",
       "      <td>0</td>\n",
       "    </tr>\n",
       "    <tr>\n",
       "      <th>3</th>\n",
       "      <td>16</td>\n",
       "      <td>59.99</td>\n",
       "      <td>PRO 1y</td>\n",
       "      <td>v12.1y</td>\n",
       "      <td>1.0</td>\n",
       "      <td>es</td>\n",
       "      <td>2021-01-19 15:52:09.062109</td>\n",
       "      <td>2021-12-01 09:03:54.41897</td>\n",
       "      <td>0</td>\n",
       "      <td>f</td>\n",
       "      <td>f</td>\n",
       "      <td>0.0</td>\n",
       "      <td>NaN</td>\n",
       "      <td>f</td>\n",
       "      <td>0</td>\n",
       "    </tr>\n",
       "    <tr>\n",
       "      <th>4</th>\n",
       "      <td>52</td>\n",
       "      <td>79.99</td>\n",
       "      <td>Test PRO 1y Play</td>\n",
       "      <td>1y_7999trial_test</td>\n",
       "      <td>NaN</td>\n",
       "      <td>NaN</td>\n",
       "      <td>2021-02-08 13:04:13.216993</td>\n",
       "      <td>2021-11-18 18:06:05.762312</td>\n",
       "      <td>1</td>\n",
       "      <td>f</td>\n",
       "      <td>f</td>\n",
       "      <td>0.0</td>\n",
       "      <td>NaN</td>\n",
       "      <td>f</td>\n",
       "      <td>0</td>\n",
       "    </tr>\n",
       "  </tbody>\n",
       "</table>\n",
       "</div>"
      ],
      "text/plain": [
       "   id  price                name       store_reference  currency local  \\\n",
       "0  60  59.99      PRO 1y 25% off  1y_5999_itunes_ft_14       NaN   NaN   \n",
       "1  48  79.99              PRO 1y  1y_7999_itunes_ft_14       NaN   NaN   \n",
       "2  36  79.99  Test PRO 1y Stripe               id_test       1.0    es   \n",
       "3  16  59.99              PRO 1y                v12.1y       1.0    es   \n",
       "4  52  79.99    Test PRO 1y Play     1y_7999trial_test       NaN   NaN   \n",
       "\n",
       "                   created_at                  updated_at  store available  \\\n",
       "0  2021-10-19 08:49:08.947257  2021-12-01 09:08:13.308055      0         t   \n",
       "1  2021-02-04 15:34:35.043522  2021-10-18 10:26:48.545155      0         t   \n",
       "2  2021-01-29 14:01:34.073265  2021-11-18 11:36:31.927983      2         f   \n",
       "3  2021-01-19 15:52:09.062109   2021-12-01 09:03:54.41897      0         f   \n",
       "4  2021-02-08 13:04:13.216993  2021-11-18 18:06:05.762312      1         f   \n",
       "\n",
       "  has_trial  trial_days  discount_percentage discount_forever  period  \n",
       "0         t        14.0                  NaN                f       0  \n",
       "1         t        14.0                  NaN                f       0  \n",
       "2         f         0.0                  NaN                f       0  \n",
       "3         f         0.0                  NaN                f       0  \n",
       "4         f         0.0                  NaN                f       0  "
      ]
     },
     "execution_count": 78,
     "metadata": {},
     "output_type": "execute_result"
    }
   ],
   "source": [
    "products.head()"
   ]
  },
  {
   "cell_type": "code",
   "execution_count": 63,
   "id": "6458097d",
   "metadata": {},
   "outputs": [],
   "source": [
    "# products['id'].nunique()"
   ]
  },
  {
   "cell_type": "code",
   "execution_count": 64,
   "id": "4298af77",
   "metadata": {},
   "outputs": [],
   "source": [
    "# products.shape"
   ]
  },
  {
   "cell_type": "code",
   "execution_count": 65,
   "id": "1136c548",
   "metadata": {},
   "outputs": [],
   "source": [
    "offers = pd.read_csv('/home/evida-monika/mhunters/offers.csv', on_bad_lines='skip', low_memory=False)\n",
    "\n",
    "offers2 = offers.drop(['created_at', 'updated_at'], axis = 1)"
   ]
  },
  {
   "cell_type": "code",
   "execution_count": 76,
   "id": "28bcea2a",
   "metadata": {},
   "outputs": [
    {
     "data": {
      "text/html": [
       "<div>\n",
       "<style scoped>\n",
       "    .dataframe tbody tr th:only-of-type {\n",
       "        vertical-align: middle;\n",
       "    }\n",
       "\n",
       "    .dataframe tbody tr th {\n",
       "        vertical-align: top;\n",
       "    }\n",
       "\n",
       "    .dataframe thead th {\n",
       "        text-align: right;\n",
       "    }\n",
       "</style>\n",
       "<table border=\"1\" class=\"dataframe\">\n",
       "  <thead>\n",
       "    <tr style=\"text-align: right;\">\n",
       "      <th></th>\n",
       "      <th>id</th>\n",
       "      <th>offer_code</th>\n",
       "    </tr>\n",
       "  </thead>\n",
       "  <tbody>\n",
       "    <tr>\n",
       "      <th>0</th>\n",
       "      <td>2</td>\n",
       "      <td>1y_7999_ft_14</td>\n",
       "    </tr>\n",
       "    <tr>\n",
       "      <th>1</th>\n",
       "      <td>3</td>\n",
       "      <td>3m_4999</td>\n",
       "    </tr>\n",
       "    <tr>\n",
       "      <th>2</th>\n",
       "      <td>5</td>\n",
       "      <td>1y_5999</td>\n",
       "    </tr>\n",
       "    <tr>\n",
       "      <th>3</th>\n",
       "      <td>7</td>\n",
       "      <td>1y_7999_trial_test</td>\n",
       "    </tr>\n",
       "    <tr>\n",
       "      <th>4</th>\n",
       "      <td>1</td>\n",
       "      <td>1y_7999</td>\n",
       "    </tr>\n",
       "  </tbody>\n",
       "</table>\n",
       "</div>"
      ],
      "text/plain": [
       "   id          offer_code\n",
       "0   2       1y_7999_ft_14\n",
       "1   3             3m_4999\n",
       "2   5             1y_5999\n",
       "3   7  1y_7999_trial_test\n",
       "4   1             1y_7999"
      ]
     },
     "execution_count": 76,
     "metadata": {},
     "output_type": "execute_result"
    }
   ],
   "source": [
    "offers2.head()"
   ]
  },
  {
   "cell_type": "code",
   "execution_count": 66,
   "id": "703a4c4b",
   "metadata": {},
   "outputs": [],
   "source": [
    "product_offers = pd.read_csv('/home/evida-monika/mhunters/product_offers.csv', on_bad_lines='skip', low_memory=False)\n",
    "\n",
    "product_offers2 = product_offers.drop(['created_at', 'updated_at', 'code_name'], axis = 1)"
   ]
  },
  {
   "cell_type": "code",
   "execution_count": 77,
   "id": "0f787c6c",
   "metadata": {},
   "outputs": [
    {
     "data": {
      "text/html": [
       "<div>\n",
       "<style scoped>\n",
       "    .dataframe tbody tr th:only-of-type {\n",
       "        vertical-align: middle;\n",
       "    }\n",
       "\n",
       "    .dataframe tbody tr th {\n",
       "        vertical-align: top;\n",
       "    }\n",
       "\n",
       "    .dataframe thead th {\n",
       "        text-align: right;\n",
       "    }\n",
       "</style>\n",
       "<table border=\"1\" class=\"dataframe\">\n",
       "  <thead>\n",
       "    <tr style=\"text-align: right;\">\n",
       "      <th></th>\n",
       "      <th>id</th>\n",
       "      <th>offer_id</th>\n",
       "      <th>product_id</th>\n",
       "    </tr>\n",
       "  </thead>\n",
       "  <tbody>\n",
       "    <tr>\n",
       "      <th>0</th>\n",
       "      <td>25</td>\n",
       "      <td>9</td>\n",
       "      <td>38</td>\n",
       "    </tr>\n",
       "    <tr>\n",
       "      <th>1</th>\n",
       "      <td>2</td>\n",
       "      <td>2</td>\n",
       "      <td>40</td>\n",
       "    </tr>\n",
       "    <tr>\n",
       "      <th>2</th>\n",
       "      <td>3</td>\n",
       "      <td>2</td>\n",
       "      <td>45</td>\n",
       "    </tr>\n",
       "    <tr>\n",
       "      <th>3</th>\n",
       "      <td>4</td>\n",
       "      <td>2</td>\n",
       "      <td>46</td>\n",
       "    </tr>\n",
       "    <tr>\n",
       "      <th>4</th>\n",
       "      <td>5</td>\n",
       "      <td>3</td>\n",
       "      <td>38</td>\n",
       "    </tr>\n",
       "  </tbody>\n",
       "</table>\n",
       "</div>"
      ],
      "text/plain": [
       "   id  offer_id  product_id\n",
       "0  25         9          38\n",
       "1   2         2          40\n",
       "2   3         2          45\n",
       "3   4         2          46\n",
       "4   5         3          38"
      ]
     },
     "execution_count": 77,
     "metadata": {},
     "output_type": "execute_result"
    }
   ],
   "source": [
    "product_offers2.head()"
   ]
  },
  {
   "cell_type": "code",
   "execution_count": 67,
   "id": "3b75da1d",
   "metadata": {},
   "outputs": [],
   "source": [
    "# dwa(product_offers, 'offer_id', 'product_id')"
   ]
  },
  {
   "cell_type": "code",
   "execution_count": 68,
   "id": "d95d2d0b",
   "metadata": {},
   "outputs": [],
   "source": [
    "user_implements = pd.read_csv('/home/evida-monika/mhunters/user_implements.csv', on_bad_lines='skip', low_memory=False)\n",
    "\n",
    "user_implements2 = user_implements.drop(['created_at', 'updated_at'], axis = 1)"
   ]
  },
  {
   "cell_type": "code",
   "execution_count": 69,
   "id": "ebf3ac62",
   "metadata": {},
   "outputs": [],
   "source": [
    "# user_implements.shape"
   ]
  },
  {
   "cell_type": "code",
   "execution_count": 70,
   "id": "462fd1a1",
   "metadata": {},
   "outputs": [],
   "source": [
    "# user_implements['id'].nunique()"
   ]
  },
  {
   "cell_type": "code",
   "execution_count": 71,
   "id": "5574e96f",
   "metadata": {},
   "outputs": [],
   "source": [
    "# dwa(user_implements, 'implement_id', 'user_id')"
   ]
  },
  {
   "cell_type": "code",
   "execution_count": 72,
   "id": "afca2186",
   "metadata": {},
   "outputs": [],
   "source": [
    "program_characteristics = pd.read_csv('/home/evida-monika/mhunters/program_characteristics.csv', on_bad_lines='skip', low_memory=False)\n",
    "\n",
    "program_characteristics2 = program_characteristics.drop(['created_at', 'updated_at', \n",
    "                                                         'objective', 'value_en',\n",
    "                                                         'value_es'], axis = 1)"
   ]
  },
  {
   "cell_type": "code",
   "execution_count": 73,
   "id": "f128d98a",
   "metadata": {},
   "outputs": [],
   "source": [
    "# jeden(program_characteristics, 'program_id')"
   ]
  },
  {
   "cell_type": "code",
   "execution_count": null,
   "id": "30eca558",
   "metadata": {},
   "outputs": [],
   "source": []
  },
  {
   "cell_type": "code",
   "execution_count": 74,
   "id": "5f1ecc27",
   "metadata": {},
   "outputs": [],
   "source": [
    "# user_implements.merge(users2, how='inner', left_on = 'user_id', right_on = 'id')"
   ]
  },
  {
   "cell_type": "code",
   "execution_count": 75,
   "id": "ce04101b",
   "metadata": {},
   "outputs": [],
   "source": [
    "# user_implements[user_implements['user_id'].isin(users['id'])]"
   ]
  },
  {
   "cell_type": "code",
   "execution_count": null,
   "id": "3624f775",
   "metadata": {},
   "outputs": [],
   "source": []
  },
  {
   "cell_type": "code",
   "execution_count": null,
   "id": "bd7d6811",
   "metadata": {},
   "outputs": [],
   "source": []
  },
  {
   "cell_type": "code",
   "execution_count": null,
   "id": "655406f3",
   "metadata": {},
   "outputs": [],
   "source": []
  },
  {
   "cell_type": "code",
   "execution_count": null,
   "id": "b3c64241",
   "metadata": {},
   "outputs": [],
   "source": []
  },
  {
   "cell_type": "code",
   "execution_count": null,
   "id": "16ae5267",
   "metadata": {},
   "outputs": [],
   "source": []
  },
  {
   "cell_type": "code",
   "execution_count": null,
   "id": "c73261e1",
   "metadata": {},
   "outputs": [],
   "source": []
  }
 ],
 "metadata": {
  "hide_input": false,
  "kernelspec": {
   "display_name": "Python 3 (ipykernel)",
   "language": "python",
   "name": "python3"
  },
  "language_info": {
   "codemirror_mode": {
    "name": "ipython",
    "version": 3
   },
   "file_extension": ".py",
   "mimetype": "text/x-python",
   "name": "python",
   "nbconvert_exporter": "python",
   "pygments_lexer": "ipython3",
   "version": "3.10.4"
  },
  "toc": {
   "base_numbering": 1,
   "nav_menu": {},
   "number_sections": true,
   "sideBar": true,
   "skip_h1_title": true,
   "title_cell": "Table of Contents",
   "title_sidebar": "Contents",
   "toc_cell": true,
   "toc_position": {},
   "toc_section_display": true,
   "toc_window_display": false
  }
 },
 "nbformat": 4,
 "nbformat_minor": 5
}
