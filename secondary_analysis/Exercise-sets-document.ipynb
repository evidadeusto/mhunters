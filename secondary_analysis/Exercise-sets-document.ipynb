{
 "cells": [
  {
   "cell_type": "markdown",
   "id": "fd9606fa",
   "metadata": {},
   "source": [
    "# Exercise sets table analysis"
   ]
  },
  {
   "cell_type": "markdown",
   "id": "f70f78a1",
   "metadata": {
    "toc": true
   },
   "source": [
    "<h1>Table of Contents<span class=\"tocSkip\"></span></h1>\n",
    "<div class=\"toc\"><ul class=\"toc-item\"><li><span><a href=\"#Introduction\" data-toc-modified-id=\"Introduction-1\"><span class=\"toc-item-num\">1&nbsp;&nbsp;</span>Introduction</a></span></li><li><span><a href=\"#Numerical-data\" data-toc-modified-id=\"Numerical-data-2\"><span class=\"toc-item-num\">2&nbsp;&nbsp;</span>Numerical data</a></span><ul class=\"toc-item\"><li><span><a href=\"#All-of-the-data\" data-toc-modified-id=\"All-of-the-data-2.1\"><span class=\"toc-item-num\">2.1&nbsp;&nbsp;</span>All of the data</a></span><ul class=\"toc-item\"><li><span><a href=\"#Summary-statistics\" data-toc-modified-id=\"Summary-statistics-2.1.1\"><span class=\"toc-item-num\">2.1.1&nbsp;&nbsp;</span>Summary statistics</a></span></li><li><span><a href=\"#Normal-distribution-evaluation\" data-toc-modified-id=\"Normal-distribution-evaluation-2.1.2\"><span class=\"toc-item-num\">2.1.2&nbsp;&nbsp;</span>Normal distribution evaluation</a></span></li><li><span><a href=\"#Data-distribution-evaluation\" data-toc-modified-id=\"Data-distribution-evaluation-2.1.3\"><span class=\"toc-item-num\">2.1.3&nbsp;&nbsp;</span>Data distribution evaluation</a></span></li><li><span><a href=\"#Outliers-detection\" data-toc-modified-id=\"Outliers-detection-2.1.4\"><span class=\"toc-item-num\">2.1.4&nbsp;&nbsp;</span>Outliers detection</a></span></li></ul></li><li><span><a href=\"#Changed-data\" data-toc-modified-id=\"Changed-data-2.2\"><span class=\"toc-item-num\">2.2&nbsp;&nbsp;</span>Changed data</a></span><ul class=\"toc-item\"><li><span><a href=\"#Summary-statistics\" data-toc-modified-id=\"Summary-statistics-2.2.1\"><span class=\"toc-item-num\">2.2.1&nbsp;&nbsp;</span>Summary statistics</a></span></li><li><span><a href=\"#Normal-distribution-evaluation\" data-toc-modified-id=\"Normal-distribution-evaluation-2.2.2\"><span class=\"toc-item-num\">2.2.2&nbsp;&nbsp;</span>Normal distribution evaluation</a></span></li><li><span><a href=\"#Data-distribution-evaluation\" data-toc-modified-id=\"Data-distribution-evaluation-2.2.3\"><span class=\"toc-item-num\">2.2.3&nbsp;&nbsp;</span>Data distribution evaluation</a></span></li><li><span><a href=\"#Outliers-detection\" data-toc-modified-id=\"Outliers-detection-2.2.4\"><span class=\"toc-item-num\">2.2.4&nbsp;&nbsp;</span>Outliers detection</a></span></li></ul></li></ul></li><li><span><a href=\"#Categorical-data\" data-toc-modified-id=\"Categorical-data-3\"><span class=\"toc-item-num\">3&nbsp;&nbsp;</span>Categorical data</a></span></li></ul></div>"
   ]
  },
  {
   "cell_type": "markdown",
   "id": "9e0b9e4d",
   "metadata": {},
   "source": [
    "## Introduction"
   ]
  },
  {
   "cell_type": "code",
   "execution_count": 1,
   "id": "14e95aaa",
   "metadata": {},
   "outputs": [],
   "source": [
    "import pandas as pd\n",
    "import numpy as np\n",
    "import statistics\n",
    "import matplotlib.pyplot as plt\n",
    "import seaborn as sns\n",
    "import math\n",
    "import pingouin as pg\n",
    "import statsmodels.api as sm\n",
    "import matplotlib as mpl\n",
    "from scipy import stats\n",
    "from distfit import distfit\n",
    "\n",
    "exercise_sets = pd.read_csv('/home/evida-monika/mhunters/exercise_sets.csv', on_bad_lines='skip', low_memory=False)\n",
    "exercise_sets2 = exercise_sets.drop(['intensity_modificator', 'track_reps'], axis = 1)\n",
    "\n",
    "pd.options.display.float_format = '{:.2f}'.format\n",
    "\n",
    "import warnings\n",
    "warnings.filterwarnings('ignore')\n",
    "\n",
    "plt.rcParams[\"image.cmap\"] = \"Pastel2\""
   ]
  },
  {
   "cell_type": "code",
   "execution_count": 6,
   "id": "14852d66",
   "metadata": {},
   "outputs": [],
   "source": [
    "col_date = ['created_at', 'updated_at']\n",
    "\n",
    "for col in col_date:\n",
    "    exercise_sets2[col] = pd.to_datetime(exercise_sets2[col])#.dt.strftime(\"%Y-%m-%d %H:%M:%S\")\n",
    "\n",
    "exercise_sets2['order'] = exercise_sets2['order'].astype('category')"
   ]
  },
  {
   "cell_type": "markdown",
   "id": "68e28c09",
   "metadata": {},
   "source": [
    "In this document there will be statistical analysis of Exercise sets table. \n",
    "Exercise sets table has 8 variables (columns) and 40838 records. \n",
    "For the analysis below libraries will be used:\n",
    "\n",
    "* pandas\n",
    "* numpy\n",
    "* statistics\n",
    "* matplotlib.pyplot\n",
    "* seaborn\n",
    "* pingouin\n",
    "* distfit\n",
    "\n",
    "Below there are information about this dataset and glimpse of the data."
   ]
  },
  {
   "cell_type": "code",
   "execution_count": 7,
   "id": "99c1dea5",
   "metadata": {},
   "outputs": [
    {
     "name": "stdout",
     "output_type": "stream",
     "text": [
      "<class 'pandas.core.frame.DataFrame'>\n",
      "RangeIndex: 40838 entries, 0 to 40837\n",
      "Data columns (total 8 columns):\n",
      " #   Column          Non-Null Count  Dtype         \n",
      "---  ------          --------------  -----         \n",
      " 0   id              40838 non-null  int64         \n",
      " 1   session_set_id  40838 non-null  int64         \n",
      " 2   exercise_id     40838 non-null  int64         \n",
      " 3   order           40838 non-null  category      \n",
      " 4   time_duration   40394 non-null  float64       \n",
      " 5   reps            40325 non-null  float64       \n",
      " 6   created_at      40838 non-null  datetime64[ns]\n",
      " 7   updated_at      40838 non-null  datetime64[ns]\n",
      "dtypes: category(1), datetime64[ns](2), float64(2), int64(3)\n",
      "memory usage: 2.2 MB\n"
     ]
    }
   ],
   "source": [
    "exercise_sets2.info()"
   ]
  },
  {
   "cell_type": "code",
   "execution_count": 3,
   "id": "f99a603f",
   "metadata": {},
   "outputs": [
    {
     "data": {
      "text/html": [
       "<div>\n",
       "<style scoped>\n",
       "    .dataframe tbody tr th:only-of-type {\n",
       "        vertical-align: middle;\n",
       "    }\n",
       "\n",
       "    .dataframe tbody tr th {\n",
       "        vertical-align: top;\n",
       "    }\n",
       "\n",
       "    .dataframe thead th {\n",
       "        text-align: right;\n",
       "    }\n",
       "</style>\n",
       "<table border=\"1\" class=\"dataframe\">\n",
       "  <thead>\n",
       "    <tr style=\"text-align: right;\">\n",
       "      <th></th>\n",
       "      <th>id</th>\n",
       "      <th>session_set_id</th>\n",
       "      <th>exercise_id</th>\n",
       "      <th>order</th>\n",
       "      <th>time_duration</th>\n",
       "      <th>reps</th>\n",
       "      <th>created_at</th>\n",
       "      <th>updated_at</th>\n",
       "    </tr>\n",
       "  </thead>\n",
       "  <tbody>\n",
       "    <tr>\n",
       "      <th>0</th>\n",
       "      <td>1</td>\n",
       "      <td>5</td>\n",
       "      <td>5289</td>\n",
       "      <td>1</td>\n",
       "      <td>0.00</td>\n",
       "      <td>15.00</td>\n",
       "      <td>2020-10-23 13:53:44.337776</td>\n",
       "      <td>2020-10-23 13:53:44.337776</td>\n",
       "    </tr>\n",
       "    <tr>\n",
       "      <th>1</th>\n",
       "      <td>2</td>\n",
       "      <td>5</td>\n",
       "      <td>5218</td>\n",
       "      <td>2</td>\n",
       "      <td>0.00</td>\n",
       "      <td>30.00</td>\n",
       "      <td>2020-10-23 13:53:44.351294</td>\n",
       "      <td>2020-10-23 13:53:44.351294</td>\n",
       "    </tr>\n",
       "    <tr>\n",
       "      <th>2</th>\n",
       "      <td>3</td>\n",
       "      <td>5</td>\n",
       "      <td>5245</td>\n",
       "      <td>3</td>\n",
       "      <td>0.00</td>\n",
       "      <td>20.00</td>\n",
       "      <td>2020-10-23 13:53:44.365517</td>\n",
       "      <td>2020-10-23 13:53:44.365517</td>\n",
       "    </tr>\n",
       "    <tr>\n",
       "      <th>3</th>\n",
       "      <td>4</td>\n",
       "      <td>5</td>\n",
       "      <td>5293</td>\n",
       "      <td>4</td>\n",
       "      <td>0.00</td>\n",
       "      <td>5.00</td>\n",
       "      <td>2020-10-23 13:53:44.378357</td>\n",
       "      <td>2020-10-23 13:53:44.378357</td>\n",
       "    </tr>\n",
       "    <tr>\n",
       "      <th>4</th>\n",
       "      <td>5</td>\n",
       "      <td>6</td>\n",
       "      <td>5289</td>\n",
       "      <td>1</td>\n",
       "      <td>0.00</td>\n",
       "      <td>15.00</td>\n",
       "      <td>2020-10-23 13:53:44.411764</td>\n",
       "      <td>2020-10-23 13:53:44.411764</td>\n",
       "    </tr>\n",
       "  </tbody>\n",
       "</table>\n",
       "</div>"
      ],
      "text/plain": [
       "   id  session_set_id  exercise_id  order  time_duration  reps  \\\n",
       "0   1               5         5289      1           0.00 15.00   \n",
       "1   2               5         5218      2           0.00 30.00   \n",
       "2   3               5         5245      3           0.00 20.00   \n",
       "3   4               5         5293      4           0.00  5.00   \n",
       "4   5               6         5289      1           0.00 15.00   \n",
       "\n",
       "                   created_at                  updated_at  \n",
       "0  2020-10-23 13:53:44.337776  2020-10-23 13:53:44.337776  \n",
       "1  2020-10-23 13:53:44.351294  2020-10-23 13:53:44.351294  \n",
       "2  2020-10-23 13:53:44.365517  2020-10-23 13:53:44.365517  \n",
       "3  2020-10-23 13:53:44.378357  2020-10-23 13:53:44.378357  \n",
       "4  2020-10-23 13:53:44.411764  2020-10-23 13:53:44.411764  "
      ]
     },
     "execution_count": 3,
     "metadata": {},
     "output_type": "execute_result"
    }
   ],
   "source": [
    "exercise_sets2.head()"
   ]
  },
  {
   "cell_type": "markdown",
   "id": "3f188593",
   "metadata": {},
   "source": [
    "In this dataset there are columns that are connections to other tables like:\n",
    "\n",
    "* *exercise_id* - id of exercise from *Exercises* table,\n",
    "* *session_set_id* - id of session set from *session_sets* (in which set of session was the exercise done).\n",
    "\n",
    "The other variables are:\n",
    "\n",
    "* *order* - what number of order in the set has an exercise,\n",
    "* *time_duration* - how many seconds the exercise supposed to be done (it is applied when exercise id for time value, for example - plank),\n",
    "* *reps* - how many times the person supposed to do the exercise,\n",
    "* *created_at*, *updated_at* - date when was the exercise set report created and last updated.\n",
    "\n",
    "\n"
   ]
  },
  {
   "cell_type": "markdown",
   "id": "d1488861",
   "metadata": {},
   "source": [
    "## Numerical data"
   ]
  },
  {
   "cell_type": "markdown",
   "id": "5cf3a16a",
   "metadata": {},
   "source": [
    "Even though *exercise_id* and *session_set_id* are \"numerical\" data, but they can't be treated that way, because they are ID values for other tables. So here, only \n",
    "\n",
    "* *time_duration* and\n",
    "* *reps*\n",
    "\n",
    "will be taken as numerical values."
   ]
  },
  {
   "cell_type": "markdown",
   "id": "158f998d",
   "metadata": {},
   "source": [
    "### All of the data"
   ]
  },
  {
   "cell_type": "markdown",
   "id": "55c655e9",
   "metadata": {},
   "source": [
    "#### Summary statistics"
   ]
  },
  {
   "cell_type": "markdown",
   "id": "b8d4fccb",
   "metadata": {},
   "source": [
    "Below there is summary statistics about this variable that contains mean, standard deviation, minimum, maximum, quartiles, variance, skewness, kurtosis and NULL count."
   ]
  },
  {
   "cell_type": "code",
   "execution_count": 9,
   "id": "8859471c",
   "metadata": {},
   "outputs": [
    {
     "data": {
      "text/html": [
       "<div>\n",
       "<style scoped>\n",
       "    .dataframe tbody tr th:only-of-type {\n",
       "        vertical-align: middle;\n",
       "    }\n",
       "\n",
       "    .dataframe tbody tr th {\n",
       "        vertical-align: top;\n",
       "    }\n",
       "\n",
       "    .dataframe thead th {\n",
       "        text-align: right;\n",
       "    }\n",
       "</style>\n",
       "<table border=\"1\" class=\"dataframe\">\n",
       "  <thead>\n",
       "    <tr style=\"text-align: right;\">\n",
       "      <th></th>\n",
       "      <th>count</th>\n",
       "      <th>mean</th>\n",
       "      <th>std</th>\n",
       "      <th>min</th>\n",
       "      <th>25%</th>\n",
       "      <th>50%</th>\n",
       "      <th>75%</th>\n",
       "      <th>max</th>\n",
       "      <th>var</th>\n",
       "      <th>skewness</th>\n",
       "      <th>kurtosis</th>\n",
       "      <th>NULL count</th>\n",
       "    </tr>\n",
       "  </thead>\n",
       "  <tbody>\n",
       "    <tr>\n",
       "      <th>reps</th>\n",
       "      <td>40325.00</td>\n",
       "      <td>6.56</td>\n",
       "      <td>11.88</td>\n",
       "      <td>0.00</td>\n",
       "      <td>0.00</td>\n",
       "      <td>0.00</td>\n",
       "      <td>10.00</td>\n",
       "      <td>146.00</td>\n",
       "      <td>141.09</td>\n",
       "      <td>3.30</td>\n",
       "      <td>12.93</td>\n",
       "      <td>513</td>\n",
       "    </tr>\n",
       "    <tr>\n",
       "      <th>time_duration</th>\n",
       "      <td>40394.00</td>\n",
       "      <td>18.12</td>\n",
       "      <td>25.95</td>\n",
       "      <td>0.00</td>\n",
       "      <td>0.00</td>\n",
       "      <td>10.00</td>\n",
       "      <td>30.00</td>\n",
       "      <td>480.00</td>\n",
       "      <td>673.29</td>\n",
       "      <td>2.79</td>\n",
       "      <td>18.78</td>\n",
       "      <td>444</td>\n",
       "    </tr>\n",
       "  </tbody>\n",
       "</table>\n",
       "</div>"
      ],
      "text/plain": [
       "                 count  mean   std  min  25%   50%   75%    max    var  \\\n",
       "reps          40325.00  6.56 11.88 0.00 0.00  0.00 10.00 146.00 141.09   \n",
       "time_duration 40394.00 18.12 25.95 0.00 0.00 10.00 30.00 480.00 673.29   \n",
       "\n",
       "               skewness  kurtosis  NULL count  \n",
       "reps               3.30     12.93         513  \n",
       "time_duration      2.79     18.78         444  "
      ]
     },
     "execution_count": 9,
     "metadata": {},
     "output_type": "execute_result"
    }
   ],
   "source": [
    "num_t = exercise_sets2.loc[:, ['reps', 'time_duration']]\n",
    "num_t_desc = num_t.describe()\n",
    "num_t_desc = num_t_desc.transpose()\n",
    "num_t_desc[\"var\"] = num_t.var()\n",
    "num_t_desc[\"skewness\"] = num_t.skew()\n",
    "num_t_desc[\"kurtosis\"] = num_t.kurtosis()\n",
    "num_t_desc[\"NULL count\"] = num_t.isna().sum()\n",
    "num_t_desc"
   ]
  },
  {
   "cell_type": "markdown",
   "id": "24e202b4",
   "metadata": {},
   "source": [
    "Taking into consideration all of the data, mean for planned reps is 6.5 (SD 12), median is 0 (IQR 0 - 10) and maximum value of reps is 146. Mean for planned time_duration of the exercise in set is 18 seconds (SD 26), median is 10 seconds (IQR 0 - 30) and maximum value is 480 seconds."
   ]
  },
  {
   "cell_type": "markdown",
   "id": "aa8261fb",
   "metadata": {},
   "source": [
    "#### Normal distribution evaluation"
   ]
  },
  {
   "cell_type": "markdown",
   "id": "f0de28f2",
   "metadata": {},
   "source": [
    "In this section, the normal distribution evaluation will be done. For this purpose, there will be histogram, qqplot and Shapiro-Wilk test done. Below there is a histogram of the MET values.\n",
    "\n",
    "Below there are histograms."
   ]
  },
  {
   "cell_type": "code",
   "execution_count": 14,
   "id": "ae524dde",
   "metadata": {},
   "outputs": [
    {
     "data": {
      "text/plain": [
       "Text(0.5, 0.98, 'Histogram for numeric variables')"
      ]
     },
     "execution_count": 14,
     "metadata": {},
     "output_type": "execute_result"
    },
    {
     "data": {
      "image/png": "[encoded data removed]",
      "text/plain": [
       "<Figure size 1100x500 with 2 Axes>"
      ]
     },
     "metadata": {},
     "output_type": "display_data"
    }
   ],
   "source": [
    "num_t.hist(layout=(1,2), grid = False, bins = 25, edgecolor='black', figsize=(11,5))\n",
    "plt.suptitle('Histogram for numeric variables', fontsize = 15)"
   ]
  },
  {
   "cell_type": "markdown",
   "id": "a6b182e6",
   "metadata": {},
   "source": [
    "Below there are qqplots."
   ]
  },
  {
   "cell_type": "code",
   "execution_count": 16,
   "id": "89bd3bc0",
   "metadata": {},
   "outputs": [
    {
     "data": {
      "text/plain": [
       "Text(0.5, 1.05, 'QQ plots for numeric variables')"
      ]
     },
     "execution_count": 16,
     "metadata": {},
     "output_type": "execute_result"
    },
    {
     "data": {
      "image/png": "[encoded data removed]",
      "text/plain": [
       "<Figure size 900x500 with 2 Axes>"
      ]
     },
     "metadata": {},
     "output_type": "display_data"
    }
   ],
   "source": [
    "fig, axes = plt.subplots(ncols=2, nrows=1, sharex=True, figsize=(9, 5))\n",
    "for k, ax in zip(num_t.columns, np.ravel(axes)):\n",
    "\n",
    "        sm.qqplot(num_t[k], line='s', ax=ax)\n",
    "        ax.set_title(f'{k}')\n",
    "plt.tight_layout()\n",
    "plt.suptitle('QQ plots for numeric variables', fontsize = 20, y = 1.05)"
   ]
  },
  {
   "cell_type": "markdown",
   "id": "972ef0ed",
   "metadata": {},
   "source": [
    "And last, but not least, below there is the table with Shapiro-Wilk test statistics."
   ]
  },
  {
   "cell_type": "code",
   "execution_count": 18,
   "id": "8c50bdbf",
   "metadata": {},
   "outputs": [
    {
     "data": {
      "text/html": [
       "<div>\n",
       "<style scoped>\n",
       "    .dataframe tbody tr th:only-of-type {\n",
       "        vertical-align: middle;\n",
       "    }\n",
       "\n",
       "    .dataframe tbody tr th {\n",
       "        vertical-align: top;\n",
       "    }\n",
       "\n",
       "    .dataframe thead th {\n",
       "        text-align: right;\n",
       "    }\n",
       "</style>\n",
       "<table border=\"1\" class=\"dataframe\">\n",
       "  <thead>\n",
       "    <tr style=\"text-align: right;\">\n",
       "      <th></th>\n",
       "      <th>W</th>\n",
       "      <th>pval</th>\n",
       "      <th>normal</th>\n",
       "    </tr>\n",
       "  </thead>\n",
       "  <tbody>\n",
       "    <tr>\n",
       "      <th>reps</th>\n",
       "      <td>0.65</td>\n",
       "      <td>0.00</td>\n",
       "      <td>False</td>\n",
       "    </tr>\n",
       "    <tr>\n",
       "      <th>time_duration</th>\n",
       "      <td>0.74</td>\n",
       "      <td>0.00</td>\n",
       "      <td>False</td>\n",
       "    </tr>\n",
       "  </tbody>\n",
       "</table>\n",
       "</div>"
      ],
      "text/plain": [
       "                 W  pval  normal\n",
       "reps          0.65  0.00   False\n",
       "time_duration 0.74  0.00   False"
      ]
     },
     "execution_count": 18,
     "metadata": {},
     "output_type": "execute_result"
    }
   ],
   "source": [
    "normal = pg.normality(num_t, method='shapiro').round(3)\n",
    "normal"
   ]
  },
  {
   "cell_type": "markdown",
   "id": "a57b1c8c",
   "metadata": {},
   "source": [
    "From histograms, qqplots and Shapiro-Wilk normality tests show that there is no normality in the data. Kutosis and skewness also confirms it."
   ]
  },
  {
   "cell_type": "markdown",
   "id": "4f22c4cf",
   "metadata": {},
   "source": [
    "#### Data distribution evaluation"
   ]
  },
  {
   "cell_type": "markdown",
   "id": "c47ae385",
   "metadata": {},
   "source": [
    "In this section, unfortunately, data distribution will not be checked, because after deleting all of the NULL observations there would only 930 observations out of 40838, so the fitted distributions wouldn't be correct."
   ]
  },
  {
   "cell_type": "markdown",
   "id": "ea0658bd",
   "metadata": {},
   "source": [
    "#### Outliers detection"
   ]
  },
  {
   "cell_type": "markdown",
   "id": "8f711cfd",
   "metadata": {},
   "source": [
    "The outliers detection will be done as soon as definition of an outlier will be specified."
   ]
  },
  {
   "cell_type": "markdown",
   "id": "7336df1f",
   "metadata": {},
   "source": [
    "### Changed data"
   ]
  },
  {
   "cell_type": "markdown",
   "id": "ea0fc380",
   "metadata": {},
   "source": [
    "Changed data taken into consideration is only the data when reps or time_duration are greater than 0 (for example, when reps are 0, then we take only time duration), only then the data is not null."
   ]
  },
  {
   "cell_type": "code",
   "execution_count": 10,
   "id": "78ad36c9",
   "metadata": {},
   "outputs": [],
   "source": [
    "num_t2 = num_t"
   ]
  },
  {
   "cell_type": "code",
   "execution_count": 12,
   "id": "2bc84dda",
   "metadata": {},
   "outputs": [],
   "source": [
    "for i in range(0, len(num_t2)):\n",
    "    if (num_t2['reps'][i] > 0 and num_t2['time_duration'][i] == 0):\n",
    "        num_t2['time_duration'][i] = np.NaN\n",
    "    elif (num_t2['reps'][i] == 0 and num_t2['time_duration'][i] > 0):\n",
    "        num_t2['reps'][i] = np.NaN\n",
    "    elif (num_t2['reps'][i] == 0 and num_t2['time_duration'][i] == 0):\n",
    "        num_t2['reps'][i] = np.NaN\n",
    "        num_t2['time_duration'][i] = np.NaN"
   ]
  },
  {
   "cell_type": "markdown",
   "id": "82e411a8",
   "metadata": {},
   "source": [
    "#### Summary statistics"
   ]
  },
  {
   "cell_type": "markdown",
   "id": "e6bacce9",
   "metadata": {},
   "source": [
    "Below there is summary statistics about this variable that contains mean, standard deviation, minimum, maximum, quartiles, variance, skewness, kurtosis and NULL count."
   ]
  },
  {
   "cell_type": "code",
   "execution_count": 13,
   "id": "ea09a058",
   "metadata": {},
   "outputs": [
    {
     "data": {
      "text/html": [
       "<div>\n",
       "<style scoped>\n",
       "    .dataframe tbody tr th:only-of-type {\n",
       "        vertical-align: middle;\n",
       "    }\n",
       "\n",
       "    .dataframe tbody tr th {\n",
       "        vertical-align: top;\n",
       "    }\n",
       "\n",
       "    .dataframe thead th {\n",
       "        text-align: right;\n",
       "    }\n",
       "</style>\n",
       "<table border=\"1\" class=\"dataframe\">\n",
       "  <thead>\n",
       "    <tr style=\"text-align: right;\">\n",
       "      <th></th>\n",
       "      <th>count</th>\n",
       "      <th>mean</th>\n",
       "      <th>std</th>\n",
       "      <th>min</th>\n",
       "      <th>25%</th>\n",
       "      <th>50%</th>\n",
       "      <th>75%</th>\n",
       "      <th>max</th>\n",
       "      <th>var</th>\n",
       "      <th>skewness</th>\n",
       "      <th>kurtosis</th>\n",
       "      <th>NULL count</th>\n",
       "    </tr>\n",
       "  </thead>\n",
       "  <tbody>\n",
       "    <tr>\n",
       "      <th>reps</th>\n",
       "      <td>20030.00</td>\n",
       "      <td>13.20</td>\n",
       "      <td>14.01</td>\n",
       "      <td>0.00</td>\n",
       "      <td>6.00</td>\n",
       "      <td>10.00</td>\n",
       "      <td>15.00</td>\n",
       "      <td>146.00</td>\n",
       "      <td>196.30</td>\n",
       "      <td>2.62</td>\n",
       "      <td>7.15</td>\n",
       "      <td>20808</td>\n",
       "    </tr>\n",
       "    <tr>\n",
       "      <th>time_duration</th>\n",
       "      <td>21734.00</td>\n",
       "      <td>33.68</td>\n",
       "      <td>26.97</td>\n",
       "      <td>2.00</td>\n",
       "      <td>15.00</td>\n",
       "      <td>20.00</td>\n",
       "      <td>60.00</td>\n",
       "      <td>480.00</td>\n",
       "      <td>727.36</td>\n",
       "      <td>2.96</td>\n",
       "      <td>22.58</td>\n",
       "      <td>19104</td>\n",
       "    </tr>\n",
       "  </tbody>\n",
       "</table>\n",
       "</div>"
      ],
      "text/plain": [
       "                 count  mean   std  min   25%   50%   75%    max    var  \\\n",
       "reps          20030.00 13.20 14.01 0.00  6.00 10.00 15.00 146.00 196.30   \n",
       "time_duration 21734.00 33.68 26.97 2.00 15.00 20.00 60.00 480.00 727.36   \n",
       "\n",
       "               skewness  kurtosis  NULL count  \n",
       "reps               2.62      7.15       20808  \n",
       "time_duration      2.96     22.58       19104  "
      ]
     },
     "execution_count": 13,
     "metadata": {},
     "output_type": "execute_result"
    }
   ],
   "source": [
    "num_t2_desc = num_t2.describe()\n",
    "num_t2_desc = num_t2_desc.transpose()\n",
    "num_t2_desc[\"var\"] = num_t2.var()\n",
    "num_t2_desc[\"skewness\"] = num_t2.skew()\n",
    "num_t2_desc[\"kurtosis\"] = num_t2.kurtosis()\n",
    "num_t2_desc[\"NULL count\"] = num_t2.isna().sum()\n",
    "num_t2_desc"
   ]
  },
  {
   "cell_type": "markdown",
   "id": "4e1b2665",
   "metadata": {},
   "source": [
    "Now, the data has some NULL values, but they really should reflect reps and time duration. Mean for reps planned increased from 6.5 reps (SD 12) to 13 reps (SD 14), median increased from 0 reps (IQR 0 - 10) to 10 reps (IQR 6 - 15) and maximum stayed the same as before - at 146 reps. Mean planned time_duration increased from 18 seconds (SD 26) to 34 seconds (SD 27), median also increased from 10 seconds (IQR 0 - 30) to 20 seconds (IQR 15 - 60) and maximum stayed the same - at 480 seconds."
   ]
  },
  {
   "cell_type": "markdown",
   "id": "ca460053",
   "metadata": {},
   "source": [
    "#### Normal distribution evaluation"
   ]
  },
  {
   "cell_type": "markdown",
   "id": "87a2b342",
   "metadata": {},
   "source": [
    "In this section, the normal distribution evaluation will be done. For this purpose, there will be histogram, qqplot and Shapiro-Wilk test done. Below there is a histogram of the MET values.\n",
    "\n",
    "Below there are histograms."
   ]
  },
  {
   "cell_type": "code",
   "execution_count": 15,
   "id": "fe2f794c",
   "metadata": {},
   "outputs": [
    {
     "data": {
      "text/plain": [
       "Text(0.5, 0.98, 'Histogram for numeric variables')"
      ]
     },
     "execution_count": 15,
     "metadata": {},
     "output_type": "execute_result"
    },
    {
     "data": {
      "image/png": "[encoded data removed]",
      "text/plain": [
       "<Figure size 1100x500 with 2 Axes>"
      ]
     },
     "metadata": {},
     "output_type": "display_data"
    }
   ],
   "source": [
    "num_t2.hist(layout=(1,2), grid = False, bins = 25, edgecolor='black', figsize=(11,5))\n",
    "plt.suptitle('Histogram for numeric variables', fontsize = 15)"
   ]
  },
  {
   "cell_type": "markdown",
   "id": "a7a077f3",
   "metadata": {},
   "source": [
    "Below there are qqplots."
   ]
  },
  {
   "cell_type": "code",
   "execution_count": 17,
   "id": "01364d03",
   "metadata": {},
   "outputs": [
    {
     "data": {
      "text/plain": [
       "Text(0.5, 1.05, 'QQ plots for numeric variables')"
      ]
     },
     "execution_count": 17,
     "metadata": {},
     "output_type": "execute_result"
    },
    {
     "data": {
      "image/png": "[encoded data removed]",
      "text/plain": [
       "<Figure size 900x500 with 2 Axes>"
      ]
     },
     "metadata": {},
     "output_type": "display_data"
    }
   ],
   "source": [
    "fig, axes = plt.subplots(ncols=2, nrows=1, sharex=True, figsize=(9, 5))\n",
    "for k, ax in zip(num_t2.columns, np.ravel(axes)):\n",
    "\n",
    "        sm.qqplot(num_t2[k], line='s', ax=ax)\n",
    "        ax.set_title(f'{k}')\n",
    "plt.tight_layout()\n",
    "plt.suptitle('QQ plots for numeric variables', fontsize = 20, y = 1.05)"
   ]
  },
  {
   "cell_type": "markdown",
   "id": "b9130273",
   "metadata": {},
   "source": [
    "And last, but not least, below there is the table with Shapiro-Wilk test statistics."
   ]
  },
  {
   "cell_type": "code",
   "execution_count": 19,
   "id": "977f1d0f",
   "metadata": {},
   "outputs": [
    {
     "data": {
      "text/html": [
       "<div>\n",
       "<style scoped>\n",
       "    .dataframe tbody tr th:only-of-type {\n",
       "        vertical-align: middle;\n",
       "    }\n",
       "\n",
       "    .dataframe tbody tr th {\n",
       "        vertical-align: top;\n",
       "    }\n",
       "\n",
       "    .dataframe thead th {\n",
       "        text-align: right;\n",
       "    }\n",
       "</style>\n",
       "<table border=\"1\" class=\"dataframe\">\n",
       "  <thead>\n",
       "    <tr style=\"text-align: right;\">\n",
       "      <th></th>\n",
       "      <th>W</th>\n",
       "      <th>pval</th>\n",
       "      <th>normal</th>\n",
       "    </tr>\n",
       "  </thead>\n",
       "  <tbody>\n",
       "    <tr>\n",
       "      <th>reps</th>\n",
       "      <td>0.65</td>\n",
       "      <td>0.00</td>\n",
       "      <td>False</td>\n",
       "    </tr>\n",
       "    <tr>\n",
       "      <th>time_duration</th>\n",
       "      <td>0.74</td>\n",
       "      <td>0.00</td>\n",
       "      <td>False</td>\n",
       "    </tr>\n",
       "  </tbody>\n",
       "</table>\n",
       "</div>"
      ],
      "text/plain": [
       "                 W  pval  normal\n",
       "reps          0.65  0.00   False\n",
       "time_duration 0.74  0.00   False"
      ]
     },
     "execution_count": 19,
     "metadata": {},
     "output_type": "execute_result"
    }
   ],
   "source": [
    "normal = pg.normality(num_t2, method='shapiro').round(3)\n",
    "normal"
   ]
  },
  {
   "cell_type": "markdown",
   "id": "0f3a11a5",
   "metadata": {},
   "source": [
    "From histograms, qqplots and Shapiro-Wilk normality tests show that there is no normality in the data. Kutosis and skewness also confirms it."
   ]
  },
  {
   "cell_type": "markdown",
   "id": "39615fab",
   "metadata": {},
   "source": [
    "#### Data distribution evaluation"
   ]
  },
  {
   "cell_type": "markdown",
   "id": "d5a27b3d",
   "metadata": {},
   "source": [
    "In this subset there is no sense to look for data distribution, because available function doesn't count NULL values and without them, most of the data will be gone, and the distribution wouldn't reflect the real data."
   ]
  },
  {
   "cell_type": "markdown",
   "id": "dcb27e64",
   "metadata": {},
   "source": [
    "#### Outliers detection"
   ]
  },
  {
   "cell_type": "markdown",
   "id": "3c89c30f",
   "metadata": {},
   "source": [
    "The outliers detection will be done as soon as definition of an outlier will be specified."
   ]
  },
  {
   "cell_type": "markdown",
   "id": "8b701278",
   "metadata": {},
   "source": [
    "## Categorical data"
   ]
  },
  {
   "cell_type": "markdown",
   "id": "a5cd440c",
   "metadata": {},
   "source": [
    "It is possible to count *order* variable as categorical variable. "
   ]
  },
  {
   "cell_type": "code",
   "execution_count": 29,
   "id": "09c033b3",
   "metadata": {},
   "outputs": [],
   "source": [
    "def my_freq_table(data, var, sort = True, cumul_percent = False):\n",
    "    myFreqTable = data[var].value_counts()\n",
    "    myFreqTable = pd.DataFrame({var: myFreqTable.keys(), 'Frequency': myFreqTable.values})\n",
    "    myFreqTable = myFreqTable.astype({'Frequency': 'int32'})\n",
    "    \n",
    "    if sort == True:\n",
    "        myFreqTable = myFreqTable.sort_values(by=[var])\n",
    "        myFreqTable = myFreqTable.reset_index(drop=True)\n",
    "    \n",
    "    myFreqTable['Percent'] = myFreqTable['Frequency']/myFreqTable['Frequency'].sum()*100\n",
    "    \n",
    "    sum_row1 = myFreqTable['Frequency'].sum()\n",
    "    sum_row2 = myFreqTable['Percent'].sum()\n",
    "    sum_row2 = sum_row2.round(2).astype('str') + '%'\n",
    "    \n",
    "    myFreqTable['Percent'] = myFreqTable['Percent'].round(2).astype('str') + '%'\n",
    "    \n",
    "    if cumul_percent == True:\n",
    "        myFreqTable['Cumulative Percent'] = myFreqTable['Frequency'].cumsum() / myFreqTable['Frequency'].sum() * 100\n",
    "        myFreqTable['Cumulative Percent'] = myFreqTable['Cumulative Percent'].round(2).astype('str') + '%'\n",
    "        sum_row_c = '-'\n",
    "    \n",
    "    '''\n",
    "    if valid_percent == True:\n",
    "    \n",
    "        myMissingCategory = [np.NaN]\n",
    "\n",
    "        myFreqTable2 = myFreqTable\n",
    "        isNonmisAr = np.array([])\n",
    "\n",
    "        for i in data[var]:\n",
    "            isNotMissing=1\n",
    "            for j in myMissingCategory:\n",
    "                if i==j:\n",
    "                    isNotMissing=0\n",
    "            isNonmisAr = np.append(isNonmisAr, [isNotMissing])\n",
    "        \n",
    "        validSum = sum(myFreqTable2['Frequency']*isNonmisAr)\n",
    "        validPerc = myFreqTable2['Frequency']/validSum*isNonmisAr*100\n",
    "        \n",
    "        for i in range(len(validPerc)):\n",
    "            if isNonmisAr[i]==0:\n",
    "                validPerc[i]=np.nan\n",
    "        \n",
    "        myFreqTable2['Valid Percent'] = validPerc\n",
    "        \n",
    "        if cumul_percent == True:\n",
    "            myFreqTable2['Cumulative Valid Percent'] = myFreqTable2['Valid Percent'].cumsum()\n",
    "            \n",
    "            sum_c_2 = '-'\n",
    "            \n",
    "            myFreqTable2['Cumulative Valid Percent'] = myFreqTable2['Cumulative Valid Percent'].round(2).astype('str') + '%'\n",
    "        \n",
    "        sum_valid_percent = myFreqTable2['Valid Percent'].sum()\n",
    "        \n",
    "        myFreqTable2['Valid Percent'] = myFreqTable2['Valid Percent'].round(2).astype('str') + '%'\n",
    "        \n",
    "        sum_valid_percent = sum_valid_percent.round(2).astype('str') + '%'\n",
    "        \n",
    "        #myFreqTable2 = myFreqTable2.set_index(var)\n",
    "        \n",
    "        # return(myFreqTable2)\n",
    "    \n",
    "       \n",
    "    if (valid_percent == True) and (cumul_percent == True):\n",
    "        new_rows = {'Frequency': sum_row1, 'Percent': sum_row2, \n",
    "                    'Cumulative Percent': sum_row_c, \n",
    "                    'Valid Percent': sum_valid_percent,\n",
    "                    'Cumulative Valid Percent': sum_c_2}\n",
    "        \n",
    "    elif (valid_percent == False) and (cumul_percent == True):\n",
    "        new_rows = {'Frequency': sum_row1, 'Percent': sum_row2, \n",
    "                    'Cumulative Percent': sum_row_c}\n",
    "        \n",
    "    elif (valid_percent == True) and (cumul_percent == False):\n",
    "        new_rows = {'Frequency': sum_row1, 'Percent': sum_row2,\n",
    "                    'Valid Percent': sum_valid_percent}\n",
    "            \n",
    "    else: new_rows = {'Frequency': sum_row1, 'Percent': sum_row2}\n",
    "    \n",
    "    if valid_percent == True:\n",
    "        myFreqTable = myFreqTable2\n",
    "    '''\n",
    "    \n",
    "    if cumul_percent == True:\n",
    "        new_rows = {'Frequency': sum_row1, 'Percent': sum_row2, \n",
    "                    'Cumulative Percent': sum_row_c}\n",
    "    else: new_rows = {'Frequency': sum_row1, 'Percent': sum_row2}\n",
    "    \n",
    "    myFreqTable = myFreqTable.append(new_rows, ignore_index=True)\n",
    "    cats = data[var].cat.add_categories(['Total'])\n",
    "    myFreqTable.set_index(cats.cat.categories, inplace = True)\n",
    "    \n",
    "    cols = myFreqTable.columns\n",
    "    \n",
    "    for col in cols:\n",
    "        if col == var:\n",
    "            myFreqTable = myFreqTable.drop(var, axis = 1)\n",
    "    #myFreqTable.rename(index = {'NaN': 'Total'}, inplace = True)\n",
    "    \n",
    "    return(myFreqTable)\n",
    "    "
   ]
  },
  {
   "cell_type": "markdown",
   "id": "6eee2ba8",
   "metadata": {},
   "source": [
    "Below there is a frequency table of orders. It says how many exercises supposed to be done in each order number."
   ]
  },
  {
   "cell_type": "code",
   "execution_count": 30,
   "id": "05d52307",
   "metadata": {},
   "outputs": [
    {
     "data": {
      "text/html": [
       "<div>\n",
       "<style scoped>\n",
       "    .dataframe tbody tr th:only-of-type {\n",
       "        vertical-align: middle;\n",
       "    }\n",
       "\n",
       "    .dataframe tbody tr th {\n",
       "        vertical-align: top;\n",
       "    }\n",
       "\n",
       "    .dataframe thead th {\n",
       "        text-align: right;\n",
       "    }\n",
       "</style>\n",
       "<table border=\"1\" class=\"dataframe\">\n",
       "  <thead>\n",
       "    <tr style=\"text-align: right;\">\n",
       "      <th></th>\n",
       "      <th>Frequency</th>\n",
       "      <th>Percent</th>\n",
       "    </tr>\n",
       "  </thead>\n",
       "  <tbody>\n",
       "    <tr>\n",
       "      <th>Total</th>\n",
       "      <td>40838</td>\n",
       "      <td>100.0%</td>\n",
       "    </tr>\n",
       "    <tr>\n",
       "      <th>1</th>\n",
       "      <td>11569</td>\n",
       "      <td>28.33%</td>\n",
       "    </tr>\n",
       "    <tr>\n",
       "      <th>2</th>\n",
       "      <td>10848</td>\n",
       "      <td>26.56%</td>\n",
       "    </tr>\n",
       "    <tr>\n",
       "      <th>3</th>\n",
       "      <td>6105</td>\n",
       "      <td>14.95%</td>\n",
       "    </tr>\n",
       "    <tr>\n",
       "      <th>4</th>\n",
       "      <td>3990</td>\n",
       "      <td>9.77%</td>\n",
       "    </tr>\n",
       "    <tr>\n",
       "      <th>5</th>\n",
       "      <td>2091</td>\n",
       "      <td>5.12%</td>\n",
       "    </tr>\n",
       "    <tr>\n",
       "      <th>6</th>\n",
       "      <td>1651</td>\n",
       "      <td>4.04%</td>\n",
       "    </tr>\n",
       "    <tr>\n",
       "      <th>7</th>\n",
       "      <td>1092</td>\n",
       "      <td>2.67%</td>\n",
       "    </tr>\n",
       "    <tr>\n",
       "      <th>8</th>\n",
       "      <td>585</td>\n",
       "      <td>1.43%</td>\n",
       "    </tr>\n",
       "    <tr>\n",
       "      <th>9</th>\n",
       "      <td>439</td>\n",
       "      <td>1.07%</td>\n",
       "    </tr>\n",
       "    <tr>\n",
       "      <th>10</th>\n",
       "      <td>398</td>\n",
       "      <td>0.97%</td>\n",
       "    </tr>\n",
       "    <tr>\n",
       "      <th>11</th>\n",
       "      <td>371</td>\n",
       "      <td>0.91%</td>\n",
       "    </tr>\n",
       "    <tr>\n",
       "      <th>12</th>\n",
       "      <td>341</td>\n",
       "      <td>0.84%</td>\n",
       "    </tr>\n",
       "    <tr>\n",
       "      <th>0</th>\n",
       "      <td>315</td>\n",
       "      <td>0.77%</td>\n",
       "    </tr>\n",
       "    <tr>\n",
       "      <th>13</th>\n",
       "      <td>237</td>\n",
       "      <td>0.58%</td>\n",
       "    </tr>\n",
       "    <tr>\n",
       "      <th>14</th>\n",
       "      <td>219</td>\n",
       "      <td>0.54%</td>\n",
       "    </tr>\n",
       "    <tr>\n",
       "      <th>15</th>\n",
       "      <td>149</td>\n",
       "      <td>0.36%</td>\n",
       "    </tr>\n",
       "    <tr>\n",
       "      <th>16</th>\n",
       "      <td>107</td>\n",
       "      <td>0.26%</td>\n",
       "    </tr>\n",
       "    <tr>\n",
       "      <th>17</th>\n",
       "      <td>94</td>\n",
       "      <td>0.23%</td>\n",
       "    </tr>\n",
       "    <tr>\n",
       "      <th>18</th>\n",
       "      <td>84</td>\n",
       "      <td>0.21%</td>\n",
       "    </tr>\n",
       "    <tr>\n",
       "      <th>19</th>\n",
       "      <td>74</td>\n",
       "      <td>0.18%</td>\n",
       "    </tr>\n",
       "    <tr>\n",
       "      <th>20</th>\n",
       "      <td>52</td>\n",
       "      <td>0.13%</td>\n",
       "    </tr>\n",
       "    <tr>\n",
       "      <th>21</th>\n",
       "      <td>17</td>\n",
       "      <td>0.04%</td>\n",
       "    </tr>\n",
       "    <tr>\n",
       "      <th>22</th>\n",
       "      <td>9</td>\n",
       "      <td>0.02%</td>\n",
       "    </tr>\n",
       "    <tr>\n",
       "      <th>23</th>\n",
       "      <td>1</td>\n",
       "      <td>0.0%</td>\n",
       "    </tr>\n",
       "  </tbody>\n",
       "</table>\n",
       "</div>"
      ],
      "text/plain": [
       "       Frequency Percent\n",
       "Total      40838  100.0%\n",
       "1          11569  28.33%\n",
       "2          10848  26.56%\n",
       "3           6105  14.95%\n",
       "4           3990   9.77%\n",
       "5           2091   5.12%\n",
       "6           1651   4.04%\n",
       "7           1092   2.67%\n",
       "8            585   1.43%\n",
       "9            439   1.07%\n",
       "10           398   0.97%\n",
       "11           371   0.91%\n",
       "12           341   0.84%\n",
       "0            315   0.77%\n",
       "13           237   0.58%\n",
       "14           219   0.54%\n",
       "15           149   0.36%\n",
       "16           107   0.26%\n",
       "17            94   0.23%\n",
       "18            84   0.21%\n",
       "19            74   0.18%\n",
       "20            52   0.13%\n",
       "21            17   0.04%\n",
       "22             9   0.02%\n",
       "23             1    0.0%"
      ]
     },
     "execution_count": 30,
     "metadata": {},
     "output_type": "execute_result"
    }
   ],
   "source": [
    "my_freq_table(exercise_sets2, 'order').sort_values(by = 'Frequency', ascending = False)"
   ]
  },
  {
   "cell_type": "code",
   "execution_count": 31,
   "id": "661c35e6",
   "metadata": {},
   "outputs": [
    {
     "data": {
      "image/png": "[encoded data removed]",
      "text/plain": [
       "<Figure size 1000x500 with 1 Axes>"
      ]
     },
     "metadata": {},
     "output_type": "display_data"
    }
   ],
   "source": [
    "total = exercise_sets['order'].count()\n",
    "g = sns.catplot(data=exercise_sets, x='order', kind=\"count\", palette=\"ch:.20\",\n",
    "                order=exercise_sets.order.value_counts().iloc[:10].index, \n",
    "                height=5, aspect=2).set(title = 'Top 10 counts of exercises in orders')\n",
    "\n",
    "#g.set_xticklabels(rotation = 90)\n",
    "\n",
    "ax = g.facet_axis(0, 0)\n",
    "for c in ax.containers:\n",
    "    labels = [f'{v.get_height()}\\n{v.get_height()/total * 100.0:.1f} %' for v in c]\n",
    "    ax.bar_label(c, labels=labels, label_type='edge')"
   ]
  },
  {
   "cell_type": "markdown",
   "id": "3d0cd7e2",
   "metadata": {},
   "source": [
    "Most exercises supposed to be done in first order of the set (28%), 27% of exercises in sets supposed to be in second order, 15% in third, 10% in fourth and 5% in fifth."
   ]
  }
 ],
 "metadata": {
  "hide_input": false,
  "kernelspec": {
   "display_name": "Python 3 (ipykernel)",
   "language": "python",
   "name": "python3"
  },
  "language_info": {
   "codemirror_mode": {
    "name": "ipython",
    "version": 3
   },
   "file_extension": ".py",
   "mimetype": "text/x-python",
   "name": "python",
   "nbconvert_exporter": "python",
   "pygments_lexer": "ipython3",
   "version": "3.10.4"
  },
  "toc": {
   "base_numbering": 1,
   "nav_menu": {},
   "number_sections": true,
   "sideBar": true,
   "skip_h1_title": true,
   "title_cell": "Table of Contents",
   "title_sidebar": "Contents",
   "toc_cell": true,
   "toc_position": {},
   "toc_section_display": true,
   "toc_window_display": false
  }
 },
 "nbformat": 4,
 "nbformat_minor": 5
}
