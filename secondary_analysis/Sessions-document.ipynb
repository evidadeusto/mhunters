{
 "cells": [
  {
   "cell_type": "markdown",
   "id": "37bf2034",
   "metadata": {},
   "source": [
    "# Sessions table analysis"
   ]
  },
  {
   "cell_type": "markdown",
   "id": "1615f207",
   "metadata": {
    "toc": true
   },
   "source": [
    "<h1>Table of Contents<span class=\"tocSkip\"></span></h1>\n",
    "<div class=\"toc\"><ul class=\"toc-item\"><li><span><a href=\"#Introduction\" data-toc-modified-id=\"Introduction-1\"><span class=\"toc-item-num\">1&nbsp;&nbsp;</span>Introduction</a></span></li><li><span><a href=\"#Numeric-data\" data-toc-modified-id=\"Numeric-data-2\"><span class=\"toc-item-num\">2&nbsp;&nbsp;</span>Numeric data</a></span><ul class=\"toc-item\"><li><span><a href=\"#Summary-statistics\" data-toc-modified-id=\"Summary-statistics-2.1\"><span class=\"toc-item-num\">2.1&nbsp;&nbsp;</span>Summary statistics</a></span></li><li><span><a href=\"#Normal-distribution-evaluation\" data-toc-modified-id=\"Normal-distribution-evaluation-2.2\"><span class=\"toc-item-num\">2.2&nbsp;&nbsp;</span>Normal distribution evaluation</a></span></li><li><span><a href=\"#Distribution-evaluation\" data-toc-modified-id=\"Distribution-evaluation-2.3\"><span class=\"toc-item-num\">2.3&nbsp;&nbsp;</span>Distribution evaluation</a></span></li><li><span><a href=\"#Outliers-detection\" data-toc-modified-id=\"Outliers-detection-2.4\"><span class=\"toc-item-num\">2.4&nbsp;&nbsp;</span>Outliers detection</a></span></li></ul></li><li><span><a href=\"#Categorical-data\" data-toc-modified-id=\"Categorical-data-3\"><span class=\"toc-item-num\">3&nbsp;&nbsp;</span>Categorical data</a></span></li></ul></div>"
   ]
  },
  {
   "cell_type": "markdown",
   "id": "3d033275",
   "metadata": {},
   "source": [
    "## Introduction"
   ]
  },
  {
   "cell_type": "markdown",
   "id": "029e43b8",
   "metadata": {},
   "source": [
    "In this document there will be statistical analysis of Exercises table. \n",
    "Exercises table has 21 variables (columns) and 1563 records. \n",
    "For the analysis below libraries will be used:\n",
    "\n",
    "* pandas\n",
    "* numpy\n",
    "* statistics\n",
    "* matplotlib.pyplot\n",
    "* seaborn\n",
    "* pingouin\n",
    "* distfit\n",
    "\n",
    "Below there are information and glimpse of this dataset. "
   ]
  },
  {
   "cell_type": "code",
   "execution_count": 1,
   "id": "46feabe4",
   "metadata": {},
   "outputs": [
    {
     "name": "stderr",
     "output_type": "stream",
     "text": [
      "C:\\Users\\admin\\anaconda\\envs\\mhunters\\lib\\site-packages\\scipy\\__init__.py:146: UserWarning: A NumPy version >=1.16.5 and <1.23.0 is required for this version of SciPy (detected version 1.23.4\n",
      "  warnings.warn(f\"A NumPy version >={np_minversion} and <{np_maxversion}\"\n"
     ]
    }
   ],
   "source": [
    "import pandas as pd\n",
    "import numpy as np\n",
    "import statistics\n",
    "import matplotlib.pyplot as plt\n",
    "import seaborn as sns\n",
    "import math\n",
    "import pingouin as pg\n",
    "import statsmodels.api as sm\n",
    "import matplotlib as mpl\n",
    "from scipy import stats\n",
    "from distfit import distfit\n",
    "\n",
    "sessions = pd.read_csv('C:/Users/admin/Desktop/mhunters/sessions.csv', on_bad_lines='skip', low_memory=False)\n",
    "\n",
    "pd.options.display.float_format = '{:.2f}'.format\n",
    "\n",
    "import warnings\n",
    "warnings.filterwarnings('ignore')\n",
    "\n",
    "plt.rcParams[\"image.cmap\"] = \"Pastel2\""
   ]
  },
  {
   "cell_type": "code",
   "execution_count": 2,
   "id": "6a4b14ff",
   "metadata": {},
   "outputs": [
    {
     "name": "stdout",
     "output_type": "stream",
     "text": [
      "<class 'pandas.core.frame.DataFrame'>\n",
      "RangeIndex: 1563 entries, 0 to 1562\n",
      "Data columns (total 21 columns):\n",
      " #   Column          Non-Null Count  Dtype  \n",
      "---  ------          --------------  -----  \n",
      " 0   id              1563 non-null   int64  \n",
      " 1   level           0 non-null      float64\n",
      " 2   order           1476 non-null   float64\n",
      " 3   session_type    706 non-null    float64\n",
      " 4   time_duration   750 non-null    float64\n",
      " 5   reps            11 non-null     float64\n",
      " 6   created_at      1563 non-null   object \n",
      " 7   updated_at      1563 non-null   object \n",
      " 8   strength        777 non-null    float64\n",
      " 9   endurance       777 non-null    float64\n",
      " 10  technique       777 non-null    float64\n",
      " 11  flexibility     777 non-null    float64\n",
      " 12  intensity       777 non-null    float64\n",
      " 13  code_name       848 non-null    object \n",
      " 14  name_en         1505 non-null   object \n",
      " 15  name_es         1436 non-null   object \n",
      " 16  description_en  1242 non-null   object \n",
      " 17  description_es  1362 non-null   object \n",
      " 18  calories        546 non-null    float64\n",
      " 19  warmup_id       321 non-null    float64\n",
      " 20  cooldown_id     104 non-null    float64\n",
      "dtypes: float64(13), int64(1), object(7)\n",
      "memory usage: 256.6+ KB\n"
     ]
    }
   ],
   "source": [
    "sessions.info()"
   ]
  },
  {
   "cell_type": "code",
   "execution_count": 3,
   "id": "f415556a",
   "metadata": {},
   "outputs": [
    {
     "data": {
      "text/html": [
       "<div>\n",
       "<style scoped>\n",
       "    .dataframe tbody tr th:only-of-type {\n",
       "        vertical-align: middle;\n",
       "    }\n",
       "\n",
       "    .dataframe tbody tr th {\n",
       "        vertical-align: top;\n",
       "    }\n",
       "\n",
       "    .dataframe thead th {\n",
       "        text-align: right;\n",
       "    }\n",
       "</style>\n",
       "<table border=\"1\" class=\"dataframe\">\n",
       "  <thead>\n",
       "    <tr style=\"text-align: right;\">\n",
       "      <th></th>\n",
       "      <th>id</th>\n",
       "      <th>level</th>\n",
       "      <th>order</th>\n",
       "      <th>session_type</th>\n",
       "      <th>time_duration</th>\n",
       "      <th>reps</th>\n",
       "      <th>created_at</th>\n",
       "      <th>updated_at</th>\n",
       "      <th>strength</th>\n",
       "      <th>endurance</th>\n",
       "      <th>...</th>\n",
       "      <th>flexibility</th>\n",
       "      <th>intensity</th>\n",
       "      <th>code_name</th>\n",
       "      <th>name_en</th>\n",
       "      <th>name_es</th>\n",
       "      <th>description_en</th>\n",
       "      <th>description_es</th>\n",
       "      <th>calories</th>\n",
       "      <th>warmup_id</th>\n",
       "      <th>cooldown_id</th>\n",
       "    </tr>\n",
       "  </thead>\n",
       "  <tbody>\n",
       "    <tr>\n",
       "      <th>0</th>\n",
       "      <td>77</td>\n",
       "      <td>NaN</td>\n",
       "      <td>5.00</td>\n",
       "      <td>NaN</td>\n",
       "      <td>826.00</td>\n",
       "      <td>NaN</td>\n",
       "      <td>2020-11-26 10:41:00.640821</td>\n",
       "      <td>2021-06-23 10:13:54.329647</td>\n",
       "      <td>0.00</td>\n",
       "      <td>0.00</td>\n",
       "      <td>...</td>\n",
       "      <td>0.00</td>\n",
       "      <td>0.00</td>\n",
       "      <td>PH1-2-5</td>\n",
       "      <td>CPH</td>\n",
       "      <td>CPH</td>\n",
       "      <td>Do 7 rounds of the following exercise circuit....</td>\n",
       "      <td>Completa 7 vueltas del siguiente circuito de e...</td>\n",
       "      <td>137.00</td>\n",
       "      <td>NaN</td>\n",
       "      <td>NaN</td>\n",
       "    </tr>\n",
       "    <tr>\n",
       "      <th>1</th>\n",
       "      <td>105</td>\n",
       "      <td>NaN</td>\n",
       "      <td>3.00</td>\n",
       "      <td>NaN</td>\n",
       "      <td>1200.00</td>\n",
       "      <td>NaN</td>\n",
       "      <td>2020-11-26 10:58:58.331556</td>\n",
       "      <td>2021-06-23 10:13:46.288148</td>\n",
       "      <td>0.00</td>\n",
       "      <td>0.00</td>\n",
       "      <td>...</td>\n",
       "      <td>0.00</td>\n",
       "      <td>0.00</td>\n",
       "      <td>PH3-2-3</td>\n",
       "      <td>IRP</td>\n",
       "      <td>IRP</td>\n",
       "      <td>Do 2 rounds of the following exercise circuit....</td>\n",
       "      <td>Completa 2 vueltas del siguiente circuito de e...</td>\n",
       "      <td>316.00</td>\n",
       "      <td>NaN</td>\n",
       "      <td>NaN</td>\n",
       "    </tr>\n",
       "    <tr>\n",
       "      <th>2</th>\n",
       "      <td>75</td>\n",
       "      <td>NaN</td>\n",
       "      <td>3.00</td>\n",
       "      <td>NaN</td>\n",
       "      <td>720.00</td>\n",
       "      <td>NaN</td>\n",
       "      <td>2020-11-26 10:40:36.555534</td>\n",
       "      <td>2021-06-23 10:13:46.513456</td>\n",
       "      <td>0.00</td>\n",
       "      <td>0.00</td>\n",
       "      <td>...</td>\n",
       "      <td>0.00</td>\n",
       "      <td>0.00</td>\n",
       "      <td>PH1-2-3</td>\n",
       "      <td>IRP</td>\n",
       "      <td>IRP</td>\n",
       "      <td>Do 2 rounds of the following exercise circuit....</td>\n",
       "      <td>Completa 2 vueltas del siguiente circuito de e...</td>\n",
       "      <td>174.00</td>\n",
       "      <td>NaN</td>\n",
       "      <td>NaN</td>\n",
       "    </tr>\n",
       "    <tr>\n",
       "      <th>3</th>\n",
       "      <td>85</td>\n",
       "      <td>NaN</td>\n",
       "      <td>3.00</td>\n",
       "      <td>NaN</td>\n",
       "      <td>651.00</td>\n",
       "      <td>NaN</td>\n",
       "      <td>2020-11-26 10:46:58.741735</td>\n",
       "      <td>2021-06-23 10:13:46.899618</td>\n",
       "      <td>0.00</td>\n",
       "      <td>0.00</td>\n",
       "      <td>...</td>\n",
       "      <td>0.00</td>\n",
       "      <td>0.00</td>\n",
       "      <td>PH2-1-3</td>\n",
       "      <td>IR</td>\n",
       "      <td>IR</td>\n",
       "      <td>Do 4 rounds of the following exercise circuit ...</td>\n",
       "      <td>Completa 4 vueltas del siguiente circuito de e...</td>\n",
       "      <td>369.00</td>\n",
       "      <td>NaN</td>\n",
       "      <td>NaN</td>\n",
       "    </tr>\n",
       "    <tr>\n",
       "      <th>4</th>\n",
       "      <td>97</td>\n",
       "      <td>NaN</td>\n",
       "      <td>10.00</td>\n",
       "      <td>NaN</td>\n",
       "      <td>738.00</td>\n",
       "      <td>NaN</td>\n",
       "      <td>2020-11-26 10:51:40.586402</td>\n",
       "      <td>2021-06-23 10:14:12.610656</td>\n",
       "      <td>0.00</td>\n",
       "      <td>0.00</td>\n",
       "      <td>...</td>\n",
       "      <td>0.00</td>\n",
       "      <td>0.00</td>\n",
       "      <td>PH2-2-10</td>\n",
       "      <td>SR</td>\n",
       "      <td>SR</td>\n",
       "      <td>Do 4 sets of a descending pyramid of the exerc...</td>\n",
       "      <td>Completa 4 vueltas de una pirámide descendient...</td>\n",
       "      <td>236.00</td>\n",
       "      <td>NaN</td>\n",
       "      <td>NaN</td>\n",
       "    </tr>\n",
       "  </tbody>\n",
       "</table>\n",
       "<p>5 rows × 21 columns</p>\n",
       "</div>"
      ],
      "text/plain": [
       "    id  level  order  session_type  time_duration  reps  \\\n",
       "0   77    NaN   5.00           NaN         826.00   NaN   \n",
       "1  105    NaN   3.00           NaN        1200.00   NaN   \n",
       "2   75    NaN   3.00           NaN         720.00   NaN   \n",
       "3   85    NaN   3.00           NaN         651.00   NaN   \n",
       "4   97    NaN  10.00           NaN         738.00   NaN   \n",
       "\n",
       "                   created_at                  updated_at  strength  \\\n",
       "0  2020-11-26 10:41:00.640821  2021-06-23 10:13:54.329647      0.00   \n",
       "1  2020-11-26 10:58:58.331556  2021-06-23 10:13:46.288148      0.00   \n",
       "2  2020-11-26 10:40:36.555534  2021-06-23 10:13:46.513456      0.00   \n",
       "3  2020-11-26 10:46:58.741735  2021-06-23 10:13:46.899618      0.00   \n",
       "4  2020-11-26 10:51:40.586402  2021-06-23 10:14:12.610656      0.00   \n",
       "\n",
       "   endurance  ...  flexibility  intensity  code_name name_en name_es  \\\n",
       "0       0.00  ...         0.00       0.00    PH1-2-5     CPH     CPH   \n",
       "1       0.00  ...         0.00       0.00    PH3-2-3     IRP     IRP   \n",
       "2       0.00  ...         0.00       0.00    PH1-2-3     IRP     IRP   \n",
       "3       0.00  ...         0.00       0.00    PH2-1-3      IR      IR   \n",
       "4       0.00  ...         0.00       0.00   PH2-2-10      SR      SR   \n",
       "\n",
       "                                      description_en  \\\n",
       "0  Do 7 rounds of the following exercise circuit....   \n",
       "1  Do 2 rounds of the following exercise circuit....   \n",
       "2  Do 2 rounds of the following exercise circuit....   \n",
       "3  Do 4 rounds of the following exercise circuit ...   \n",
       "4  Do 4 sets of a descending pyramid of the exerc...   \n",
       "\n",
       "                                      description_es calories  warmup_id  \\\n",
       "0  Completa 7 vueltas del siguiente circuito de e...   137.00        NaN   \n",
       "1  Completa 2 vueltas del siguiente circuito de e...   316.00        NaN   \n",
       "2  Completa 2 vueltas del siguiente circuito de e...   174.00        NaN   \n",
       "3  Completa 4 vueltas del siguiente circuito de e...   369.00        NaN   \n",
       "4  Completa 4 vueltas de una pirámide descendient...   236.00        NaN   \n",
       "\n",
       "   cooldown_id  \n",
       "0          NaN  \n",
       "1          NaN  \n",
       "2          NaN  \n",
       "3          NaN  \n",
       "4          NaN  \n",
       "\n",
       "[5 rows x 21 columns]"
      ]
     },
     "execution_count": 3,
     "metadata": {},
     "output_type": "execute_result"
    }
   ],
   "source": [
    "sessions.head()"
   ]
  },
  {
   "cell_type": "markdown",
   "id": "1f24c793",
   "metadata": {},
   "source": [
    "In the data, there is a lot of missing values. Below there is a barplot with count of missing data."
   ]
  },
  {
   "cell_type": "code",
   "execution_count": 15,
   "id": "4837f2a9",
   "metadata": {},
   "outputs": [],
   "source": [
    "num_null_counts = []\n",
    "num_no_null_counts = []\n",
    "\n",
    "for col in sessions.columns:\n",
    "    num_null_counts.append(sessions[col].isnull().sum())\n",
    "    num_no_null_counts.append(len(sessions[col]) - sessions[col].isnull().sum())\n",
    "\n",
    "null_c = {\n",
    "    'True': num_null_counts,\n",
    "    'False': num_no_null_counts\n",
    "}\n",
    "\n",
    "null_counts = pd.DataFrame(null_c)\n",
    "null_counts.set_index(sessions.columns, inplace = True)"
   ]
  },
  {
   "cell_type": "code",
   "execution_count": 16,
   "id": "e7351769",
   "metadata": {},
   "outputs": [
    {
     "data": {
      "image/png": "[encoded data removed]",
      "text/plain": [
       "<Figure size 1008x576 with 1 Axes>"
      ]
     },
     "metadata": {
      "needs_background": "light"
     },
     "output_type": "display_data"
    }
   ],
   "source": [
    "ax = null_counts.plot.bar(rot=1, figsize = (14,8), title = 'NULL count of observations')\n",
    "\n",
    "ax.tick_params(axis='x', labelrotation = 90)\n",
    "\n",
    "for c, col in zip(ax.containers, null_counts.columns):\n",
    "    ax.bar_label(c, label_type='edge', labels=[f'{val}' for val in null_counts[col]])\n",
    "\n",
    "ax.legend(title='NULL', bbox_to_anchor=(1, 1), loc='upper left')\n",
    "    \n",
    "ax.spines['right'].set_visible(False)\n",
    "ax.spines['top'].set_visible(False)\n",
    "\n",
    "plt.tight_layout()\n",
    "plt.show()"
   ]
  },
  {
   "cell_type": "markdown",
   "id": "fab08469",
   "metadata": {},
   "source": [
    "Columns\n",
    "\n",
    "* *level*,\n",
    "* *reps*,\n",
    "* *created_at*, *updated_at*,\n",
    "* *strength*,\n",
    "* *endurance*,\n",
    "* *technique*, \n",
    "* *flexibility*, \n",
    "* *intensity',\n",
    "* *name_es*,\n",
    "* *description_en*, \n",
    "* *description_es*\n",
    "* *warmup_id*,\n",
    "* *cooldown_id*\n",
    "\n",
    "will be dropped, because they won't be important for the analysis. For the analysis variables taken into consideration are:\n",
    "\n",
    "* *order* - number of order of session,\n",
    "* *session_type* - type of session,\n",
    "* *time_duration* - how long the session supposed to last,\n",
    "* *code_name*,\n",
    "* *name_en* - name in English,\n",
    "* *calories* - how many calories supposed to be burned during the session.\n",
    "\n",
    "The information and glimpse of reduced data are given below."
   ]
  },
  {
   "cell_type": "code",
   "execution_count": 22,
   "id": "0ebb5b7d",
   "metadata": {},
   "outputs": [],
   "source": [
    "sessions2 = sessions.drop(['level', 'reps', 'created_at', 'updated_at', 'strength', \n",
    "                           'endurance', 'technique', 'flexibility', 'intensity',\n",
    "                           'name_es','description_en', 'description_es', 'warmup_id', 'cooldown_id'], axis = 1)\n"
   ]
  },
  {
   "cell_type": "code",
   "execution_count": 23,
   "id": "1321e531",
   "metadata": {},
   "outputs": [
    {
     "name": "stdout",
     "output_type": "stream",
     "text": [
      "<class 'pandas.core.frame.DataFrame'>\n",
      "RangeIndex: 1563 entries, 0 to 1562\n",
      "Data columns (total 7 columns):\n",
      " #   Column         Non-Null Count  Dtype  \n",
      "---  ------         --------------  -----  \n",
      " 0   id             1563 non-null   int64  \n",
      " 1   order          1476 non-null   float64\n",
      " 2   session_type   706 non-null    float64\n",
      " 3   time_duration  750 non-null    float64\n",
      " 4   code_name      848 non-null    object \n",
      " 5   name_en        1505 non-null   object \n",
      " 6   calories       546 non-null    float64\n",
      "dtypes: float64(4), int64(1), object(2)\n",
      "memory usage: 85.6+ KB\n"
     ]
    }
   ],
   "source": [
    "sessions2.info()"
   ]
  },
  {
   "cell_type": "code",
   "execution_count": 24,
   "id": "3dbfd91f",
   "metadata": {},
   "outputs": [
    {
     "data": {
      "text/html": [
       "<div>\n",
       "<style scoped>\n",
       "    .dataframe tbody tr th:only-of-type {\n",
       "        vertical-align: middle;\n",
       "    }\n",
       "\n",
       "    .dataframe tbody tr th {\n",
       "        vertical-align: top;\n",
       "    }\n",
       "\n",
       "    .dataframe thead th {\n",
       "        text-align: right;\n",
       "    }\n",
       "</style>\n",
       "<table border=\"1\" class=\"dataframe\">\n",
       "  <thead>\n",
       "    <tr style=\"text-align: right;\">\n",
       "      <th></th>\n",
       "      <th>id</th>\n",
       "      <th>order</th>\n",
       "      <th>session_type</th>\n",
       "      <th>time_duration</th>\n",
       "      <th>code_name</th>\n",
       "      <th>name_en</th>\n",
       "      <th>calories</th>\n",
       "    </tr>\n",
       "  </thead>\n",
       "  <tbody>\n",
       "    <tr>\n",
       "      <th>0</th>\n",
       "      <td>77</td>\n",
       "      <td>5.00</td>\n",
       "      <td>NaN</td>\n",
       "      <td>826.00</td>\n",
       "      <td>PH1-2-5</td>\n",
       "      <td>CPH</td>\n",
       "      <td>137.00</td>\n",
       "    </tr>\n",
       "    <tr>\n",
       "      <th>1</th>\n",
       "      <td>105</td>\n",
       "      <td>3.00</td>\n",
       "      <td>NaN</td>\n",
       "      <td>1200.00</td>\n",
       "      <td>PH3-2-3</td>\n",
       "      <td>IRP</td>\n",
       "      <td>316.00</td>\n",
       "    </tr>\n",
       "    <tr>\n",
       "      <th>2</th>\n",
       "      <td>75</td>\n",
       "      <td>3.00</td>\n",
       "      <td>NaN</td>\n",
       "      <td>720.00</td>\n",
       "      <td>PH1-2-3</td>\n",
       "      <td>IRP</td>\n",
       "      <td>174.00</td>\n",
       "    </tr>\n",
       "    <tr>\n",
       "      <th>3</th>\n",
       "      <td>85</td>\n",
       "      <td>3.00</td>\n",
       "      <td>NaN</td>\n",
       "      <td>651.00</td>\n",
       "      <td>PH2-1-3</td>\n",
       "      <td>IR</td>\n",
       "      <td>369.00</td>\n",
       "    </tr>\n",
       "    <tr>\n",
       "      <th>4</th>\n",
       "      <td>97</td>\n",
       "      <td>10.00</td>\n",
       "      <td>NaN</td>\n",
       "      <td>738.00</td>\n",
       "      <td>PH2-2-10</td>\n",
       "      <td>SR</td>\n",
       "      <td>236.00</td>\n",
       "    </tr>\n",
       "  </tbody>\n",
       "</table>\n",
       "</div>"
      ],
      "text/plain": [
       "    id  order  session_type  time_duration code_name name_en  calories\n",
       "0   77   5.00           NaN         826.00   PH1-2-5     CPH    137.00\n",
       "1  105   3.00           NaN        1200.00   PH3-2-3     IRP    316.00\n",
       "2   75   3.00           NaN         720.00   PH1-2-3     IRP    174.00\n",
       "3   85   3.00           NaN         651.00   PH2-1-3      IR    369.00\n",
       "4   97  10.00           NaN         738.00  PH2-2-10      SR    236.00"
      ]
     },
     "execution_count": 24,
     "metadata": {},
     "output_type": "execute_result"
    }
   ],
   "source": [
    "sessions2.head()"
   ]
  },
  {
   "cell_type": "markdown",
   "id": "90e49df7",
   "metadata": {},
   "source": [
    "There are 1563 observations, but none of the variables have all valid data. Not NULL data barchart is given below."
   ]
  },
  {
   "cell_type": "code",
   "execution_count": 27,
   "id": "95a3f35e",
   "metadata": {},
   "outputs": [],
   "source": [
    "num_null_counts = []\n",
    "num_no_null_counts = []\n",
    "\n",
    "for col in sessions2.columns:\n",
    "    num_null_counts.append(sessions2[col].isnull().sum())\n",
    "    num_no_null_counts.append(len(sessions2[col]) - sessions2[col].isnull().sum())\n",
    "\n",
    "null_c = {\n",
    "    'True': num_null_counts,\n",
    "    'False': num_no_null_counts\n",
    "}\n",
    "\n",
    "null_counts = pd.DataFrame(null_c)\n",
    "null_counts.set_index(sessions2.columns, inplace = True)"
   ]
  },
  {
   "cell_type": "code",
   "execution_count": 28,
   "id": "a700d4ce",
   "metadata": {},
   "outputs": [
    {
     "data": {
      "image/png": "[encoded data removed]",
      "text/plain": [
       "<Figure size 1008x576 with 1 Axes>"
      ]
     },
     "metadata": {
      "needs_background": "light"
     },
     "output_type": "display_data"
    }
   ],
   "source": [
    "ax = null_counts.plot.bar(rot=1, figsize = (14,8), title = 'NULL count of observations')\n",
    "\n",
    "ax.tick_params(axis='x', labelrotation = 90)\n",
    "\n",
    "for c, col in zip(ax.containers, null_counts.columns):\n",
    "    ax.bar_label(c, label_type='edge', labels=[f'{val}' for val in null_counts[col]])\n",
    "\n",
    "ax.legend(title='NULL', bbox_to_anchor=(1, 1), loc='upper left')\n",
    "    \n",
    "ax.spines['right'].set_visible(False)\n",
    "ax.spines['top'].set_visible(False)\n",
    "\n",
    "plt.tight_layout()\n",
    "plt.show()"
   ]
  },
  {
   "cell_type": "markdown",
   "id": "e468aebb",
   "metadata": {},
   "source": [
    "## Numeric data"
   ]
  },
  {
   "cell_type": "markdown",
   "id": "d1edcaae",
   "metadata": {},
   "source": [
    "Variables\n",
    "\n",
    "* *time_duration*,\n",
    "* *calories*\n",
    "\n",
    "can be considered as numeric data."
   ]
  },
  {
   "cell_type": "markdown",
   "id": "006191e8",
   "metadata": {},
   "source": [
    "### Summary statistics"
   ]
  },
  {
   "cell_type": "markdown",
   "id": "71ff3c7d",
   "metadata": {},
   "source": [
    "Below there is summary statistics about this variable that contains mean, standard deviation, minimum, maximum, quartiles, variance, skewness, kurtosis and NULL count."
   ]
  },
  {
   "cell_type": "code",
   "execution_count": 30,
   "id": "79f93ba4",
   "metadata": {},
   "outputs": [
    {
     "data": {
      "text/html": [
       "<div>\n",
       "<style scoped>\n",
       "    .dataframe tbody tr th:only-of-type {\n",
       "        vertical-align: middle;\n",
       "    }\n",
       "\n",
       "    .dataframe tbody tr th {\n",
       "        vertical-align: top;\n",
       "    }\n",
       "\n",
       "    .dataframe thead th {\n",
       "        text-align: right;\n",
       "    }\n",
       "</style>\n",
       "<table border=\"1\" class=\"dataframe\">\n",
       "  <thead>\n",
       "    <tr style=\"text-align: right;\">\n",
       "      <th></th>\n",
       "      <th>count</th>\n",
       "      <th>mean</th>\n",
       "      <th>std</th>\n",
       "      <th>min</th>\n",
       "      <th>25%</th>\n",
       "      <th>50%</th>\n",
       "      <th>75%</th>\n",
       "      <th>max</th>\n",
       "      <th>var</th>\n",
       "      <th>skewness</th>\n",
       "      <th>kurtosis</th>\n",
       "      <th>NULL count</th>\n",
       "    </tr>\n",
       "  </thead>\n",
       "  <tbody>\n",
       "    <tr>\n",
       "      <th>time_duration</th>\n",
       "      <td>750.00</td>\n",
       "      <td>976.01</td>\n",
       "      <td>544.35</td>\n",
       "      <td>65.00</td>\n",
       "      <td>600.00</td>\n",
       "      <td>958.50</td>\n",
       "      <td>1240.00</td>\n",
       "      <td>3420.00</td>\n",
       "      <td>296317.62</td>\n",
       "      <td>1.07</td>\n",
       "      <td>2.28</td>\n",
       "      <td>813</td>\n",
       "    </tr>\n",
       "    <tr>\n",
       "      <th>calories</th>\n",
       "      <td>546.00</td>\n",
       "      <td>301.78</td>\n",
       "      <td>113.16</td>\n",
       "      <td>80.00</td>\n",
       "      <td>202.00</td>\n",
       "      <td>299.50</td>\n",
       "      <td>398.00</td>\n",
       "      <td>500.00</td>\n",
       "      <td>12806.20</td>\n",
       "      <td>-0.01</td>\n",
       "      <td>-1.11</td>\n",
       "      <td>1017</td>\n",
       "    </tr>\n",
       "  </tbody>\n",
       "</table>\n",
       "</div>"
      ],
      "text/plain": [
       "               count   mean    std   min    25%    50%     75%     max  \\\n",
       "time_duration 750.00 976.01 544.35 65.00 600.00 958.50 1240.00 3420.00   \n",
       "calories      546.00 301.78 113.16 80.00 202.00 299.50  398.00  500.00   \n",
       "\n",
       "                    var  skewness  kurtosis  NULL count  \n",
       "time_duration 296317.62      1.07      2.28         813  \n",
       "calories       12806.20     -0.01     -1.11        1017  "
      ]
     },
     "execution_count": 30,
     "metadata": {},
     "output_type": "execute_result"
    }
   ],
   "source": [
    "num_t = sessions2.loc[:, ['time_duration', 'calories']]\n",
    "num_t_desc = num_t.describe()\n",
    "num_t_desc = num_t_desc.transpose()\n",
    "num_t_desc[\"var\"] = num_t.var()\n",
    "num_t_desc[\"skewness\"] = num_t.skew()\n",
    "num_t_desc[\"kurtosis\"] = num_t.kurtosis()\n",
    "num_t_desc[\"NULL count\"] = num_t.isna().sum()\n",
    "num_t_desc"
   ]
  },
  {
   "cell_type": "markdown",
   "id": "8c258787",
   "metadata": {},
   "source": [
    "Mean value of supposed *time_duration* of session is 976 seconds (SD 544), median value is 958.5 seconds (IQR 600 - 1240) and the maximum length of session is 3420 seconds.\n",
    "Mean value of *calories* that supposed to be burned in session is 302 calories (SD 113), median is 299.5 (IQR 202 - 398) and maximum value of planned burned calories is 500 calories."
   ]
  },
  {
   "cell_type": "markdown",
   "id": "92f1cfa7",
   "metadata": {},
   "source": [
    "### Normal distribution evaluation"
   ]
  },
  {
   "cell_type": "markdown",
   "id": "e60071ba",
   "metadata": {},
   "source": [
    "In this section, the normal distribution evaluation will be done. For this purpose, there will be histogram, qqplot and Shapiro-Wilk test done. Below there are histograms."
   ]
  },
  {
   "cell_type": "code",
   "execution_count": 34,
   "id": "feee26dd",
   "metadata": {},
   "outputs": [
    {
     "data": {
      "text/plain": [
       "Text(0.5, 0.98, 'Histogram for numeric variables')"
      ]
     },
     "execution_count": 34,
     "metadata": {},
     "output_type": "execute_result"
    },
    {
     "data": {
      "image/png": "[encoded data removed]",
      "text/plain": [
       "<Figure size 1080x792 with 2 Axes>"
      ]
     },
     "metadata": {
      "needs_background": "light"
     },
     "output_type": "display_data"
    }
   ],
   "source": [
    "num_t.hist(layout=(2,1), grid = False, bins = 25, edgecolor='black', figsize=(15,11))\n",
    "plt.suptitle('Histogram for numeric variables', fontsize = 15)"
   ]
  },
  {
   "cell_type": "markdown",
   "id": "eba16b10",
   "metadata": {},
   "source": [
    "Below there are qqplots."
   ]
  },
  {
   "cell_type": "code",
   "execution_count": 35,
   "id": "b42f7133",
   "metadata": {},
   "outputs": [
    {
     "data": {
      "text/plain": [
       "Text(0.5, 1.05, 'QQ plots for numeric variables')"
      ]
     },
     "execution_count": 35,
     "metadata": {},
     "output_type": "execute_result"
    },
    {
     "data": {
      "image/png": "[encoded data removed]",
      "text/plain": [
       "<Figure size 1080x648 with 2 Axes>"
      ]
     },
     "metadata": {
      "needs_background": "light"
     },
     "output_type": "display_data"
    }
   ],
   "source": [
    "fig, axes = plt.subplots(ncols=2, nrows=1, sharex=True, figsize=(15,9))\n",
    "for k, ax in zip(num_t.columns, np.ravel(axes)):\n",
    "\n",
    "        sm.qqplot(num_t[k], line='s', ax=ax)\n",
    "        ax.set_title(f'{k}')\n",
    "plt.tight_layout()\n",
    "plt.suptitle('QQ plots for numeric variables', fontsize = 20, y = 1.05)"
   ]
  },
  {
   "cell_type": "markdown",
   "id": "9a5588a2",
   "metadata": {},
   "source": [
    "And last, but not least, below there is the table with Shapiro-Wilk test statistics."
   ]
  },
  {
   "cell_type": "code",
   "execution_count": 36,
   "id": "ce063997",
   "metadata": {},
   "outputs": [
    {
     "data": {
      "text/html": [
       "<div>\n",
       "<style scoped>\n",
       "    .dataframe tbody tr th:only-of-type {\n",
       "        vertical-align: middle;\n",
       "    }\n",
       "\n",
       "    .dataframe tbody tr th {\n",
       "        vertical-align: top;\n",
       "    }\n",
       "\n",
       "    .dataframe thead th {\n",
       "        text-align: right;\n",
       "    }\n",
       "</style>\n",
       "<table border=\"1\" class=\"dataframe\">\n",
       "  <thead>\n",
       "    <tr style=\"text-align: right;\">\n",
       "      <th></th>\n",
       "      <th>time_duration</th>\n",
       "      <th>calories</th>\n",
       "    </tr>\n",
       "  </thead>\n",
       "  <tbody>\n",
       "    <tr>\n",
       "      <th>W</th>\n",
       "      <td>0.93</td>\n",
       "      <td>0.96</td>\n",
       "    </tr>\n",
       "    <tr>\n",
       "      <th>pval</th>\n",
       "      <td>0.00</td>\n",
       "      <td>0.00</td>\n",
       "    </tr>\n",
       "    <tr>\n",
       "      <th>normal</th>\n",
       "      <td>False</td>\n",
       "      <td>False</td>\n",
       "    </tr>\n",
       "  </tbody>\n",
       "</table>\n",
       "</div>"
      ],
      "text/plain": [
       "       time_duration calories\n",
       "W               0.93     0.96\n",
       "pval            0.00     0.00\n",
       "normal         False    False"
      ]
     },
     "execution_count": 36,
     "metadata": {},
     "output_type": "execute_result"
    }
   ],
   "source": [
    "normal = pg.normality(num_t, method='shapiro').round(3)\n",
    "normal.transpose()"
   ]
  },
  {
   "cell_type": "markdown",
   "id": "a53e3cf4",
   "metadata": {},
   "source": [
    "There is no normality in the data, histograms, qqlots and Shapiro-Wilk tests confirm it. Only for *calories* skewness shows normality, but other measures decline it. "
   ]
  },
  {
   "cell_type": "markdown",
   "id": "36f25f42",
   "metadata": {},
   "source": [
    "### Distribution evaluation"
   ]
  },
  {
   "cell_type": "markdown",
   "id": "7463a27e",
   "metadata": {},
   "source": [
    "In this section, data distribution will be checked (or the closest one). The criterion of determination for best fit is RSS (residual sum of squares). The RSS describes the deviation predicted from actual empirical values of data. For this operation, NULL values from every tested variable have to be deleted."
   ]
  },
  {
   "cell_type": "markdown",
   "id": "ad969eb3",
   "metadata": {},
   "source": [
    "* *time_duration* - the most fitting distribution is *burr* distribution (RSS = 0.00000097), then *Mielke* (RSS = 0.00000098), *dweibull* (RSS = 0.000001), *logistic* (RSS = 0.000001) and *t* (RSS = 0.000001)."
   ]
  },
  {
   "cell_type": "code",
   "execution_count": 40,
   "id": "78d367c0",
   "metadata": {},
   "outputs": [
    {
     "name": "stdout",
     "output_type": "stream",
     "text": [
      "[distfit] >fit..\n",
      "[distfit] >transform..\n",
      "[distfit] >[burr    ] [0.44 sec] [RSS: 9.6515e-07] [loc=-3.188 scale=1370.583]\n",
      "[distfit] >[mielke  ] [0.22 sec] [RSS: 9.80318e-07] [loc=52.986 scale=1368.830]\n",
      "[distfit] >[dweibull] [0.05 sec] [RSS: 1.00797e-06] [loc=951.268 scale=426.759]\n",
      "[distfit] >[logistic] [0.0 sec] [RSS: 1.01044e-06] [loc=942.333 scale=292.072]\n",
      "[distfit] >[t       ] [0.28 sec] [RSS: 1.02295e-06] [loc=934.496 scale=430.149]\n",
      "[distfit] >Compute confidence interval [parametric]\n",
      "[distfit] >plot summary..\n"
     ]
    },
    {
     "data": {
      "text/plain": [
       "(<Figure size 864x504 with 1 Axes>,\n",
       " <AxesSubplot:title={'center':'Best fit: burr'}, xlabel='Distribution name', ylabel='RSS (lower is better)'>)"
      ]
     },
     "execution_count": 40,
     "metadata": {},
     "output_type": "execute_result"
    },
    {
     "data": {
      "image/png": "[encoded data removed]",
      "text/plain": [
       "<Figure size 864x504 with 1 Axes>"
      ]
     },
     "metadata": {
      "needs_background": "light"
     },
     "output_type": "display_data"
    }
   ],
   "source": [
    "num_t2 = num_t['time_duration'].dropna()\n",
    "dif_fed = num_t2.values\n",
    "dist = distfit(distr = ['burr', 'mielke', 'dweibull', 'logistic', 't'])\n",
    "dist.fit_transform(dif_fed)\n",
    "#dist.summary # there can be also dist.plot() and it gives the plot of distribution \n",
    "dist.plot_summary(figsize = (12,7))"
   ]
  },
  {
   "cell_type": "markdown",
   "id": "a9c0717c",
   "metadata": {},
   "source": [
    "* *calories* - the most fitting distribution is *generalized normal* (RSS = 0.00003), then *hyper Gaussian* (RSS = 0.000031), *beta* (RSS = 0.000031), *johnsonb* (RSS = 0.000032) and *tukey lambda* (RSS = 0.000034)."
   ]
  },
  {
   "cell_type": "code",
   "execution_count": 44,
   "id": "946e9713",
   "metadata": {},
   "outputs": [
    {
     "name": "stdout",
     "output_type": "stream",
     "text": [
      "[distfit] >fit..\n",
      "[distfit] >transform..\n",
      "[distfit] >[gennorm    ] [0.08 sec] [RSS: 3.03164e-05] [loc=298.801 scale=201.961]\n",
      "[distfit] >[gausshyper ] [0.21 sec] [RSS: 3.13422e-05] [loc=79.531 scale=420.606]\n",
      "[distfit] >[beta       ] [0.13 sec] [RSS: 3.14836e-05] [loc=79.546 scale=420.615]\n",
      "[distfit] >[johnsonsb  ] [0.32 sec] [RSS: 3.19165e-05] [loc=77.524 scale=430.275]\n",
      "[distfit] >[tukeylambda] [0.94 sec] [RSS: 3.39926e-05] [loc=290.765 scale=157.234]\n",
      "[distfit] >Compute confidence interval [parametric]\n",
      "[distfit] >plot summary..\n"
     ]
    },
    {
     "data": {
      "text/plain": [
       "(<Figure size 864x504 with 1 Axes>,\n",
       " <AxesSubplot:title={'center':'Best fit: gennorm'}, xlabel='Distribution name', ylabel='RSS (lower is better)'>)"
      ]
     },
     "execution_count": 44,
     "metadata": {},
     "output_type": "execute_result"
    },
    {
     "data": {
      "image/png": "[encoded data removed]",
      "text/plain": [
       "<Figure size 864x504 with 1 Axes>"
      ]
     },
     "metadata": {
      "needs_background": "light"
     },
     "output_type": "display_data"
    }
   ],
   "source": [
    "num_t2 = num_t['calories'].dropna()\n",
    "dif_fed = num_t2.values\n",
    "dist = distfit(distr = ['gennorm', 'gausshyper', 'beta', 'johnsonsb', 'tukeylambda'])\n",
    "dist.fit_transform(dif_fed)\n",
    "#dist.summary # there can be also dist.plot() and it gives the plot of distribution \n",
    "dist.plot_summary(figsize = (12,7))"
   ]
  },
  {
   "cell_type": "markdown",
   "id": "e1528bfc",
   "metadata": {},
   "source": [
    "### Outliers detection"
   ]
  },
  {
   "cell_type": "markdown",
   "id": "38a1e322",
   "metadata": {},
   "source": [
    "The outliers detection will be done as soon as definition of an outlier will be specified."
   ]
  },
  {
   "cell_type": "markdown",
   "id": "8239c798",
   "metadata": {},
   "source": [
    "## Categorical data"
   ]
  },
  {
   "cell_type": "markdown",
   "id": "159da0be",
   "metadata": {},
   "source": [
    "Variables considered as categorical are\n",
    "\n",
    "* *order*,\n",
    "* *session_type*,\n",
    "* *code_name*,\n",
    "* *name_en*."
   ]
  },
  {
   "cell_type": "code",
   "execution_count": 45,
   "id": "73777f83",
   "metadata": {},
   "outputs": [],
   "source": [
    "def my_freq_table(data, var, sort = True, cumul_percent = False):\n",
    "    myFreqTable = data[var].value_counts()\n",
    "    myFreqTable = pd.DataFrame({var: myFreqTable.keys(), 'Frequency': myFreqTable.values})\n",
    "    myFreqTable = myFreqTable.astype({'Frequency': 'int32'})\n",
    "    \n",
    "    if sort == True:\n",
    "        myFreqTable = myFreqTable.sort_values(by=[var])\n",
    "        myFreqTable = myFreqTable.reset_index(drop=True)\n",
    "    \n",
    "    myFreqTable['Percent'] = myFreqTable['Frequency']/myFreqTable['Frequency'].sum()*100\n",
    "    \n",
    "    sum_row1 = myFreqTable['Frequency'].sum()\n",
    "    sum_row2 = myFreqTable['Percent'].sum()\n",
    "    sum_row2 = sum_row2.round(2).astype('str') + '%'\n",
    "    \n",
    "    myFreqTable['Percent'] = myFreqTable['Percent'].round(2).astype('str') + '%'\n",
    "    \n",
    "    if cumul_percent == True:\n",
    "        myFreqTable['Cumulative Percent'] = myFreqTable['Frequency'].cumsum() / myFreqTable['Frequency'].sum() * 100\n",
    "        myFreqTable['Cumulative Percent'] = myFreqTable['Cumulative Percent'].round(2).astype('str') + '%'\n",
    "        sum_row_c = '-'\n",
    "    \n",
    "    '''\n",
    "    if valid_percent == True:\n",
    "    \n",
    "        myMissingCategory = [np.NaN]\n",
    "\n",
    "        myFreqTable2 = myFreqTable\n",
    "        isNonmisAr = np.array([])\n",
    "\n",
    "        for i in data[var]:\n",
    "            isNotMissing=1\n",
    "            for j in myMissingCategory:\n",
    "                if i==j:\n",
    "                    isNotMissing=0\n",
    "            isNonmisAr = np.append(isNonmisAr, [isNotMissing])\n",
    "        \n",
    "        validSum = sum(myFreqTable2['Frequency']*isNonmisAr)\n",
    "        validPerc = myFreqTable2['Frequency']/validSum*isNonmisAr*100\n",
    "        \n",
    "        for i in range(len(validPerc)):\n",
    "            if isNonmisAr[i]==0:\n",
    "                validPerc[i]=np.nan\n",
    "        \n",
    "        myFreqTable2['Valid Percent'] = validPerc\n",
    "        \n",
    "        if cumul_percent == True:\n",
    "            myFreqTable2['Cumulative Valid Percent'] = myFreqTable2['Valid Percent'].cumsum()\n",
    "            \n",
    "            sum_c_2 = '-'\n",
    "            \n",
    "            myFreqTable2['Cumulative Valid Percent'] = myFreqTable2['Cumulative Valid Percent'].round(2).astype('str') + '%'\n",
    "        \n",
    "        sum_valid_percent = myFreqTable2['Valid Percent'].sum()\n",
    "        \n",
    "        myFreqTable2['Valid Percent'] = myFreqTable2['Valid Percent'].round(2).astype('str') + '%'\n",
    "        \n",
    "        sum_valid_percent = sum_valid_percent.round(2).astype('str') + '%'\n",
    "        \n",
    "        #myFreqTable2 = myFreqTable2.set_index(var)\n",
    "        \n",
    "        # return(myFreqTable2)\n",
    "    \n",
    "       \n",
    "    if (valid_percent == True) and (cumul_percent == True):\n",
    "        new_rows = {'Frequency': sum_row1, 'Percent': sum_row2, \n",
    "                    'Cumulative Percent': sum_row_c, \n",
    "                    'Valid Percent': sum_valid_percent,\n",
    "                    'Cumulative Valid Percent': sum_c_2}\n",
    "        \n",
    "    elif (valid_percent == False) and (cumul_percent == True):\n",
    "        new_rows = {'Frequency': sum_row1, 'Percent': sum_row2, \n",
    "                    'Cumulative Percent': sum_row_c}\n",
    "        \n",
    "    elif (valid_percent == True) and (cumul_percent == False):\n",
    "        new_rows = {'Frequency': sum_row1, 'Percent': sum_row2,\n",
    "                    'Valid Percent': sum_valid_percent}\n",
    "            \n",
    "    else: new_rows = {'Frequency': sum_row1, 'Percent': sum_row2}\n",
    "    \n",
    "    if valid_percent == True:\n",
    "        myFreqTable = myFreqTable2\n",
    "    '''\n",
    "    \n",
    "    if cumul_percent == True:\n",
    "        new_rows = {'Frequency': sum_row1, 'Percent': sum_row2, \n",
    "                    'Cumulative Percent': sum_row_c}\n",
    "    else: new_rows = {'Frequency': sum_row1, 'Percent': sum_row2}\n",
    "    \n",
    "    myFreqTable = myFreqTable.append(new_rows, ignore_index=True)\n",
    "    cats = data[var].cat.add_categories(['Total'])\n",
    "    myFreqTable.set_index(cats.cat.categories, inplace = True)\n",
    "    \n",
    "    cols = myFreqTable.columns\n",
    "    \n",
    "    for col in cols:\n",
    "        if col == var:\n",
    "            myFreqTable = myFreqTable.drop(var, axis = 1)\n",
    "    #myFreqTable.rename(index = {'NaN': 'Total'}, inplace = True)\n",
    "    \n",
    "    return(myFreqTable)\n",
    "    "
   ]
  },
  {
   "cell_type": "code",
   "execution_count": 47,
   "id": "39d3f899",
   "metadata": {},
   "outputs": [],
   "source": [
    "cols = ['order', 'session_type', 'code_name', 'name_en']\n",
    "\n",
    "for col in cols:\n",
    "    sessions2[col] = sessions2[col].astype('category')"
   ]
  },
  {
   "cell_type": "code",
   "execution_count": 49,
   "id": "c05bda63",
   "metadata": {},
   "outputs": [],
   "source": [
    "order = my_freq_table(sessions2, 'order')\n",
    "session_type = my_freq_table(sessions2, 'session_type')\n",
    "code_name = my_freq_table(sessions2, 'code_name')\n",
    "name_en = my_freq_table(sessions2, 'name_en')"
   ]
  },
  {
   "cell_type": "markdown",
   "id": "d3059bee",
   "metadata": {},
   "source": [
    "* *session_type* - most of the sessions have session type 0 (506 sessions, 71.67%), second most frequent type of session is 11 (30 sessions, 4.25%) and the least frequent session type is type 12 (22 sessions, 3.12%). Below there is frequency table and barplot representing *session_type* variable."
   ]
  },
  {
   "cell_type": "code",
   "execution_count": 59,
   "id": "6defe538",
   "metadata": {},
   "outputs": [
    {
     "data": {
      "text/html": [
       "<div>\n",
       "<style scoped>\n",
       "    .dataframe tbody tr th:only-of-type {\n",
       "        vertical-align: middle;\n",
       "    }\n",
       "\n",
       "    .dataframe tbody tr th {\n",
       "        vertical-align: top;\n",
       "    }\n",
       "\n",
       "    .dataframe thead th {\n",
       "        text-align: right;\n",
       "    }\n",
       "</style>\n",
       "<table border=\"1\" class=\"dataframe\">\n",
       "  <thead>\n",
       "    <tr style=\"text-align: right;\">\n",
       "      <th></th>\n",
       "      <th>Frequency</th>\n",
       "      <th>Percent</th>\n",
       "    </tr>\n",
       "  </thead>\n",
       "  <tbody>\n",
       "    <tr>\n",
       "      <th>0.0</th>\n",
       "      <td>506</td>\n",
       "      <td>71.67%</td>\n",
       "    </tr>\n",
       "    <tr>\n",
       "      <th>3.0</th>\n",
       "      <td>27</td>\n",
       "      <td>3.82%</td>\n",
       "    </tr>\n",
       "    <tr>\n",
       "      <th>4.0</th>\n",
       "      <td>25</td>\n",
       "      <td>3.54%</td>\n",
       "    </tr>\n",
       "    <tr>\n",
       "      <th>5.0</th>\n",
       "      <td>25</td>\n",
       "      <td>3.54%</td>\n",
       "    </tr>\n",
       "    <tr>\n",
       "      <th>6.0</th>\n",
       "      <td>24</td>\n",
       "      <td>3.4%</td>\n",
       "    </tr>\n",
       "    <tr>\n",
       "      <th>9.0</th>\n",
       "      <td>24</td>\n",
       "      <td>3.4%</td>\n",
       "    </tr>\n",
       "    <tr>\n",
       "      <th>10.0</th>\n",
       "      <td>23</td>\n",
       "      <td>3.26%</td>\n",
       "    </tr>\n",
       "    <tr>\n",
       "      <th>11.0</th>\n",
       "      <td>30</td>\n",
       "      <td>4.25%</td>\n",
       "    </tr>\n",
       "    <tr>\n",
       "      <th>12.0</th>\n",
       "      <td>22</td>\n",
       "      <td>3.12%</td>\n",
       "    </tr>\n",
       "    <tr>\n",
       "      <th>Total</th>\n",
       "      <td>706</td>\n",
       "      <td>100.0%</td>\n",
       "    </tr>\n",
       "  </tbody>\n",
       "</table>\n",
       "</div>"
      ],
      "text/plain": [
       "       Frequency Percent\n",
       "0.0          506  71.67%\n",
       "3.0           27   3.82%\n",
       "4.0           25   3.54%\n",
       "5.0           25   3.54%\n",
       "6.0           24    3.4%\n",
       "9.0           24    3.4%\n",
       "10.0          23   3.26%\n",
       "11.0          30   4.25%\n",
       "12.0          22   3.12%\n",
       "Total        706  100.0%"
      ]
     },
     "execution_count": 59,
     "metadata": {},
     "output_type": "execute_result"
    }
   ],
   "source": [
    "session_type"
   ]
  },
  {
   "cell_type": "code",
   "execution_count": null,
   "id": "5465aab4",
   "metadata": {},
   "outputs": [],
   "source": []
  },
  {
   "cell_type": "markdown",
   "id": "8bc71411",
   "metadata": {},
   "source": [
    "* *order* - most of the sessions have first order (490 sessions, 33%) and then second order (141 sessions, 0.6%). Below there is frequency table of order variable and barplot of top 10 sessions count. "
   ]
  },
  {
   "cell_type": "code",
   "execution_count": 63,
   "id": "1d958e9e",
   "metadata": {},
   "outputs": [
    {
     "data": {
      "text/html": [
       "<div>\n",
       "<style scoped>\n",
       "    .dataframe tbody tr th:only-of-type {\n",
       "        vertical-align: middle;\n",
       "    }\n",
       "\n",
       "    .dataframe tbody tr th {\n",
       "        vertical-align: top;\n",
       "    }\n",
       "\n",
       "    .dataframe thead th {\n",
       "        text-align: right;\n",
       "    }\n",
       "</style>\n",
       "<table border=\"1\" class=\"dataframe\">\n",
       "  <thead>\n",
       "    <tr style=\"text-align: right;\">\n",
       "      <th></th>\n",
       "      <th>Total</th>\n",
       "      <th>1.0</th>\n",
       "      <th>2.0</th>\n",
       "      <th>3.0</th>\n",
       "      <th>4.0</th>\n",
       "      <th>5.0</th>\n",
       "      <th>6.0</th>\n",
       "      <th>8.0</th>\n",
       "      <th>9.0</th>\n",
       "      <th>10.0</th>\n",
       "      <th>...</th>\n",
       "      <th>59.0</th>\n",
       "      <th>60.0</th>\n",
       "      <th>58.0</th>\n",
       "      <th>57.0</th>\n",
       "      <th>56.0</th>\n",
       "      <th>55.0</th>\n",
       "      <th>53.0</th>\n",
       "      <th>52.0</th>\n",
       "      <th>51.0</th>\n",
       "      <th>54.0</th>\n",
       "    </tr>\n",
       "  </thead>\n",
       "  <tbody>\n",
       "    <tr>\n",
       "      <th>Frequency</th>\n",
       "      <td>1476</td>\n",
       "      <td>490</td>\n",
       "      <td>141</td>\n",
       "      <td>78</td>\n",
       "      <td>76</td>\n",
       "      <td>73</td>\n",
       "      <td>52</td>\n",
       "      <td>52</td>\n",
       "      <td>52</td>\n",
       "      <td>52</td>\n",
       "      <td>...</td>\n",
       "      <td>1</td>\n",
       "      <td>1</td>\n",
       "      <td>1</td>\n",
       "      <td>1</td>\n",
       "      <td>1</td>\n",
       "      <td>1</td>\n",
       "      <td>1</td>\n",
       "      <td>1</td>\n",
       "      <td>1</td>\n",
       "      <td>1</td>\n",
       "    </tr>\n",
       "    <tr>\n",
       "      <th>Percent</th>\n",
       "      <td>100.0%</td>\n",
       "      <td>33.2%</td>\n",
       "      <td>9.55%</td>\n",
       "      <td>5.28%</td>\n",
       "      <td>5.15%</td>\n",
       "      <td>4.95%</td>\n",
       "      <td>3.52%</td>\n",
       "      <td>3.52%</td>\n",
       "      <td>3.52%</td>\n",
       "      <td>3.52%</td>\n",
       "      <td>...</td>\n",
       "      <td>0.07%</td>\n",
       "      <td>0.07%</td>\n",
       "      <td>0.07%</td>\n",
       "      <td>0.07%</td>\n",
       "      <td>0.07%</td>\n",
       "      <td>0.07%</td>\n",
       "      <td>0.07%</td>\n",
       "      <td>0.07%</td>\n",
       "      <td>0.07%</td>\n",
       "      <td>0.07%</td>\n",
       "    </tr>\n",
       "  </tbody>\n",
       "</table>\n",
       "<p>2 rows × 71 columns</p>\n",
       "</div>"
      ],
      "text/plain": [
       "            Total    1.0    2.0    3.0    4.0    5.0    6.0    8.0    9.0  \\\n",
       "Frequency    1476    490    141     78     76     73     52     52     52   \n",
       "Percent    100.0%  33.2%  9.55%  5.28%  5.15%  4.95%  3.52%  3.52%  3.52%   \n",
       "\n",
       "            10.0  ...   59.0   60.0   58.0   57.0   56.0   55.0   53.0   52.0  \\\n",
       "Frequency     52  ...      1      1      1      1      1      1      1      1   \n",
       "Percent    3.52%  ...  0.07%  0.07%  0.07%  0.07%  0.07%  0.07%  0.07%  0.07%   \n",
       "\n",
       "            51.0   54.0  \n",
       "Frequency      1      1  \n",
       "Percent    0.07%  0.07%  \n",
       "\n",
       "[2 rows x 71 columns]"
      ]
     },
     "execution_count": 63,
     "metadata": {},
     "output_type": "execute_result"
    }
   ],
   "source": [
    "order.sort_values(by = 'Frequency', ascending = False).transpose()"
   ]
  },
  {
   "cell_type": "code",
   "execution_count": null,
   "id": "51ff414e",
   "metadata": {},
   "outputs": [],
   "source": []
  },
  {
   "cell_type": "markdown",
   "id": "d63f3e19",
   "metadata": {},
   "source": [
    "* *code_name* - "
   ]
  },
  {
   "cell_type": "code",
   "execution_count": 65,
   "id": "3d3147af",
   "metadata": {},
   "outputs": [
    {
     "data": {
      "text/html": [
       "<div>\n",
       "<style scoped>\n",
       "    .dataframe tbody tr th:only-of-type {\n",
       "        vertical-align: middle;\n",
       "    }\n",
       "\n",
       "    .dataframe tbody tr th {\n",
       "        vertical-align: top;\n",
       "    }\n",
       "\n",
       "    .dataframe thead th {\n",
       "        text-align: right;\n",
       "    }\n",
       "</style>\n",
       "<table border=\"1\" class=\"dataframe\">\n",
       "  <thead>\n",
       "    <tr style=\"text-align: right;\">\n",
       "      <th></th>\n",
       "      <th>Total</th>\n",
       "      <th>W01_D01</th>\n",
       "      <th>W01_D03</th>\n",
       "      <th>W03_D01</th>\n",
       "      <th>W03_D02</th>\n",
       "      <th>W03_D03</th>\n",
       "      <th>W03_D04</th>\n",
       "      <th>W05_D01</th>\n",
       "      <th>W05_D02</th>\n",
       "      <th>W05_D03</th>\n",
       "      <th>...</th>\n",
       "      <th>PH2-2-8</th>\n",
       "      <th>PH2-2-9</th>\n",
       "      <th>PH2.1_V2</th>\n",
       "      <th>PH2.2_V2</th>\n",
       "      <th>PH2.3_V2</th>\n",
       "      <th>PH2.4_V2</th>\n",
       "      <th>PH2.5_V2</th>\n",
       "      <th>PH2.P2.10_V2</th>\n",
       "      <th>PH2.P2.1_V2</th>\n",
       "      <th>PH7-1-3</th>\n",
       "    </tr>\n",
       "  </thead>\n",
       "  <tbody>\n",
       "    <tr>\n",
       "      <th>Frequency</th>\n",
       "      <td>848</td>\n",
       "      <td>3</td>\n",
       "      <td>3</td>\n",
       "      <td>3</td>\n",
       "      <td>3</td>\n",
       "      <td>3</td>\n",
       "      <td>3</td>\n",
       "      <td>3</td>\n",
       "      <td>3</td>\n",
       "      <td>3</td>\n",
       "      <td>...</td>\n",
       "      <td>1</td>\n",
       "      <td>1</td>\n",
       "      <td>1</td>\n",
       "      <td>1</td>\n",
       "      <td>1</td>\n",
       "      <td>1</td>\n",
       "      <td>1</td>\n",
       "      <td>1</td>\n",
       "      <td>1</td>\n",
       "      <td>1</td>\n",
       "    </tr>\n",
       "    <tr>\n",
       "      <th>Percent</th>\n",
       "      <td>100.0%</td>\n",
       "      <td>0.35%</td>\n",
       "      <td>0.35%</td>\n",
       "      <td>0.35%</td>\n",
       "      <td>0.35%</td>\n",
       "      <td>0.35%</td>\n",
       "      <td>0.35%</td>\n",
       "      <td>0.35%</td>\n",
       "      <td>0.35%</td>\n",
       "      <td>0.35%</td>\n",
       "      <td>...</td>\n",
       "      <td>0.12%</td>\n",
       "      <td>0.12%</td>\n",
       "      <td>0.12%</td>\n",
       "      <td>0.12%</td>\n",
       "      <td>0.12%</td>\n",
       "      <td>0.12%</td>\n",
       "      <td>0.12%</td>\n",
       "      <td>0.12%</td>\n",
       "      <td>0.12%</td>\n",
       "      <td>0.12%</td>\n",
       "    </tr>\n",
       "  </tbody>\n",
       "</table>\n",
       "<p>2 rows × 784 columns</p>\n",
       "</div>"
      ],
      "text/plain": [
       "            Total W01_D01 W01_D03 W03_D01 W03_D02 W03_D03 W03_D04 W05_D01  \\\n",
       "Frequency     848       3       3       3       3       3       3       3   \n",
       "Percent    100.0%   0.35%   0.35%   0.35%   0.35%   0.35%   0.35%   0.35%   \n",
       "\n",
       "          W05_D02 W05_D03  ... PH2-2-8 PH2-2-9 PH2.1_V2 PH2.2_V2 PH2.3_V2  \\\n",
       "Frequency       3       3  ...       1       1        1        1        1   \n",
       "Percent     0.35%   0.35%  ...   0.12%   0.12%    0.12%    0.12%    0.12%   \n",
       "\n",
       "          PH2.4_V2 PH2.5_V2 PH2.P2.10_V2 PH2.P2.1_V2 PH7-1-3  \n",
       "Frequency        1        1            1           1       1  \n",
       "Percent      0.12%    0.12%        0.12%       0.12%   0.12%  \n",
       "\n",
       "[2 rows x 784 columns]"
      ]
     },
     "execution_count": 65,
     "metadata": {},
     "output_type": "execute_result"
    }
   ],
   "source": [
    "code_name.sort_values(by = 'Frequency', ascending = False).transpose()"
   ]
  },
  {
   "cell_type": "code",
   "execution_count": 58,
   "id": "9783a525",
   "metadata": {},
   "outputs": [
    {
     "data": {
      "text/html": [
       "<div>\n",
       "<style scoped>\n",
       "    .dataframe tbody tr th:only-of-type {\n",
       "        vertical-align: middle;\n",
       "    }\n",
       "\n",
       "    .dataframe tbody tr th {\n",
       "        vertical-align: top;\n",
       "    }\n",
       "\n",
       "    .dataframe thead th {\n",
       "        text-align: right;\n",
       "    }\n",
       "</style>\n",
       "<table border=\"1\" class=\"dataframe\">\n",
       "  <thead>\n",
       "    <tr style=\"text-align: right;\">\n",
       "      <th></th>\n",
       "      <th>0.0</th>\n",
       "      <th>1.0</th>\n",
       "      <th>2.0</th>\n",
       "      <th>3.0</th>\n",
       "      <th>4.0</th>\n",
       "      <th>5.0</th>\n",
       "      <th>6.0</th>\n",
       "      <th>7.0</th>\n",
       "      <th>8.0</th>\n",
       "      <th>9.0</th>\n",
       "      <th>...</th>\n",
       "      <th>61.0</th>\n",
       "      <th>62.0</th>\n",
       "      <th>63.0</th>\n",
       "      <th>64.0</th>\n",
       "      <th>65.0</th>\n",
       "      <th>66.0</th>\n",
       "      <th>67.0</th>\n",
       "      <th>68.0</th>\n",
       "      <th>69.0</th>\n",
       "      <th>Total</th>\n",
       "    </tr>\n",
       "  </thead>\n",
       "  <tbody>\n",
       "    <tr>\n",
       "      <th>Frequency</th>\n",
       "      <td>4</td>\n",
       "      <td>490</td>\n",
       "      <td>141</td>\n",
       "      <td>78</td>\n",
       "      <td>76</td>\n",
       "      <td>73</td>\n",
       "      <td>52</td>\n",
       "      <td>47</td>\n",
       "      <td>52</td>\n",
       "      <td>52</td>\n",
       "      <td>...</td>\n",
       "      <td>1</td>\n",
       "      <td>1</td>\n",
       "      <td>1</td>\n",
       "      <td>1</td>\n",
       "      <td>1</td>\n",
       "      <td>1</td>\n",
       "      <td>1</td>\n",
       "      <td>1</td>\n",
       "      <td>1</td>\n",
       "      <td>1476</td>\n",
       "    </tr>\n",
       "    <tr>\n",
       "      <th>Percent</th>\n",
       "      <td>0.27%</td>\n",
       "      <td>33.2%</td>\n",
       "      <td>9.55%</td>\n",
       "      <td>5.28%</td>\n",
       "      <td>5.15%</td>\n",
       "      <td>4.95%</td>\n",
       "      <td>3.52%</td>\n",
       "      <td>3.18%</td>\n",
       "      <td>3.52%</td>\n",
       "      <td>3.52%</td>\n",
       "      <td>...</td>\n",
       "      <td>0.07%</td>\n",
       "      <td>0.07%</td>\n",
       "      <td>0.07%</td>\n",
       "      <td>0.07%</td>\n",
       "      <td>0.07%</td>\n",
       "      <td>0.07%</td>\n",
       "      <td>0.07%</td>\n",
       "      <td>0.07%</td>\n",
       "      <td>0.07%</td>\n",
       "      <td>100.0%</td>\n",
       "    </tr>\n",
       "  </tbody>\n",
       "</table>\n",
       "<p>2 rows × 71 columns</p>\n",
       "</div>"
      ],
      "text/plain": [
       "             0.0    1.0    2.0    3.0    4.0    5.0    6.0    7.0    8.0  \\\n",
       "Frequency      4    490    141     78     76     73     52     47     52   \n",
       "Percent    0.27%  33.2%  9.55%  5.28%  5.15%  4.95%  3.52%  3.18%  3.52%   \n",
       "\n",
       "             9.0  ...   61.0   62.0   63.0   64.0   65.0   66.0   67.0   68.0  \\\n",
       "Frequency     52  ...      1      1      1      1      1      1      1      1   \n",
       "Percent    3.52%  ...  0.07%  0.07%  0.07%  0.07%  0.07%  0.07%  0.07%  0.07%   \n",
       "\n",
       "            69.0   Total  \n",
       "Frequency      1    1476  \n",
       "Percent    0.07%  100.0%  \n",
       "\n",
       "[2 rows x 71 columns]"
      ]
     },
     "execution_count": 58,
     "metadata": {},
     "output_type": "execute_result"
    }
   ],
   "source": [
    "order.transpose()"
   ]
  },
  {
   "cell_type": "code",
   "execution_count": null,
   "id": "0d1e4806",
   "metadata": {},
   "outputs": [],
   "source": []
  },
  {
   "cell_type": "code",
   "execution_count": null,
   "id": "1cea45a9",
   "metadata": {},
   "outputs": [],
   "source": []
  },
  {
   "cell_type": "code",
   "execution_count": null,
   "id": "d8ffa5f3",
   "metadata": {},
   "outputs": [],
   "source": []
  },
  {
   "cell_type": "code",
   "execution_count": null,
   "id": "8a3e896c",
   "metadata": {},
   "outputs": [],
   "source": []
  }
 ],
 "metadata": {
  "hide_input": false,
  "kernelspec": {
   "display_name": "Python 3 (ipykernel)",
   "language": "python",
   "name": "python3"
  },
  "language_info": {
   "codemirror_mode": {
    "name": "ipython",
    "version": 3
   },
   "file_extension": ".py",
   "mimetype": "text/x-python",
   "name": "python",
   "nbconvert_exporter": "python",
   "pygments_lexer": "ipython3",
   "version": "3.10.8"
  },
  "toc": {
   "base_numbering": 1,
   "nav_menu": {},
   "number_sections": true,
   "sideBar": true,
   "skip_h1_title": true,
   "title_cell": "Table of Contents",
   "title_sidebar": "Contents",
   "toc_cell": true,
   "toc_position": {},
   "toc_section_display": true,
   "toc_window_display": false
  }
 },
 "nbformat": 4,
 "nbformat_minor": 5
}
