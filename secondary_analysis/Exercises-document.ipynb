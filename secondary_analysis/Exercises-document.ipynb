{
 "cells": [
  {
   "cell_type": "markdown",
   "id": "6b8c4872",
   "metadata": {},
   "source": [
    "# Exercises table analysis"
   ]
  },
  {
   "cell_type": "markdown",
   "id": "f4289550",
   "metadata": {
    "toc": true
   },
   "source": [
    "<h1>Table of Contents<span class=\"tocSkip\"></span></h1>\n",
    "<div class=\"toc\"><ul class=\"toc-item\"><li><span><a href=\"#Introduction\" data-toc-modified-id=\"Introduction-1\"><span class=\"toc-item-num\">1&nbsp;&nbsp;</span>Introduction</a></span></li><li><span><a href=\"#Numerical-data\" data-toc-modified-id=\"Numerical-data-2\"><span class=\"toc-item-num\">2&nbsp;&nbsp;</span>Numerical data</a></span><ul class=\"toc-item\"><li><span><a href=\"#Summary-statistics\" data-toc-modified-id=\"Summary-statistics-2.1\"><span class=\"toc-item-num\">2.1&nbsp;&nbsp;</span>Summary statistics</a></span></li><li><span><a href=\"#Normal-distribution-evaluation\" data-toc-modified-id=\"Normal-distribution-evaluation-2.2\"><span class=\"toc-item-num\">2.2&nbsp;&nbsp;</span>Normal distribution evaluation</a></span></li><li><span><a href=\"#Data-distribution-evaluation\" data-toc-modified-id=\"Data-distribution-evaluation-2.3\"><span class=\"toc-item-num\">2.3&nbsp;&nbsp;</span>Data distribution evaluation</a></span></li><li><span><a href=\"#Outliers-detection\" data-toc-modified-id=\"Outliers-detection-2.4\"><span class=\"toc-item-num\">2.4&nbsp;&nbsp;</span>Outliers detection</a></span></li></ul></li><li><span><a href=\"#Categorical-data\" data-toc-modified-id=\"Categorical-data-3\"><span class=\"toc-item-num\">3&nbsp;&nbsp;</span>Categorical data</a></span><ul class=\"toc-item\"><li><span><a href=\"#Frequency-tables\" data-toc-modified-id=\"Frequency-tables-3.1\"><span class=\"toc-item-num\">3.1&nbsp;&nbsp;</span>Frequency tables</a></span></li></ul></li></ul></div>"
   ]
  },
  {
   "cell_type": "markdown",
   "id": "37f9b79d",
   "metadata": {},
   "source": [
    "## Introduction"
   ]
  },
  {
   "cell_type": "markdown",
   "id": "f91fbbc7",
   "metadata": {},
   "source": [
    "In this document there will be statistical analysis of Exercises table. \n",
    "Exercises table has 39 variables (columns) and 973 records. \n",
    "There is a lot of missing data.\n",
    "For the analysis below libraries will be used:\n",
    "\n",
    "* pandas\n",
    "* numpy\n",
    "* statistics\n",
    "* matplotlib.pyplot\n",
    "* seaborn\n",
    "* pingouin\n",
    "* distfit\n",
    "\n",
    "Below there are information about this dataset. "
   ]
  },
  {
   "cell_type": "code",
   "execution_count": 1,
   "id": "5bc7aeda",
   "metadata": {},
   "outputs": [],
   "source": [
    "import pandas as pd\n",
    "import numpy as np\n",
    "import statistics\n",
    "import matplotlib.pyplot as plt\n",
    "import seaborn as sns\n",
    "import math\n",
    "import pingouin as pg\n",
    "import statsmodels.api as sm\n",
    "import matplotlib as mpl\n",
    "from scipy import stats\n",
    "from distfit import distfit\n",
    "\n",
    "exercises = pd.read_csv('/home/evida-monika/mhunters/exercises.csv', sep = ';', on_bad_lines='skip', low_memory=False)\n",
    "pd.options.display.float_format = '{:.2f}'.format\n",
    "\n",
    "import warnings\n",
    "warnings.filterwarnings('ignore')\n",
    "\n",
    "plt.rcParams[\"image.cmap\"] = \"Pastel2\""
   ]
  },
  {
   "cell_type": "code",
   "execution_count": 3,
   "id": "600bdb9d",
   "metadata": {},
   "outputs": [
    {
     "name": "stdout",
     "output_type": "stream",
     "text": [
      "<class 'pandas.core.frame.DataFrame'>\n",
      "RangeIndex: 973 entries, 0 to 972\n",
      "Data columns (total 39 columns):\n",
      " #   Column                  Non-Null Count  Dtype  \n",
      "---  ------                  --------------  -----  \n",
      " 0   id                      973 non-null    int64  \n",
      " 1   video                   388 non-null    object \n",
      " 2   reps                    973 non-null    int64  \n",
      " 3   time                    973 non-null    int64  \n",
      " 4   created_at              973 non-null    object \n",
      " 5   updated_at              973 non-null    object \n",
      " 6   legacy_id               776 non-null    object \n",
      " 7   deprecated              973 non-null    object \n",
      " 8   replacement_legacy_id   98 non-null     float64\n",
      " 9   family                  379 non-null    float64\n",
      " 10  sub_family              0 non-null      float64\n",
      " 11  body_parts_focused      690 non-null    object \n",
      " 12  muscles                 862 non-null    object \n",
      " 13  joints                  862 non-null    object \n",
      " 14  met_multiplier          707 non-null    float64\n",
      " 15  video_female            289 non-null    object \n",
      " 16  video_male              289 non-null    object \n",
      " 17  harder_variation_id     188 non-null    float64\n",
      " 18  easier_variation_id     185 non-null    float64\n",
      " 19  name_en                 852 non-null    object \n",
      " 20  name_es                 863 non-null    object \n",
      " 21  description_en          691 non-null    object \n",
      " 22  description_es          691 non-null    object \n",
      " 23  implement_variation_id  0 non-null      float64\n",
      " 24  test_correction         672 non-null    float64\n",
      " 25  thumbnail               387 non-null    object \n",
      " 26  thumbnail_male          287 non-null    object \n",
      " 27  thumbnail_female        278 non-null    object \n",
      " 28  notes_en                33 non-null     object \n",
      " 29  notes_es                32 non-null     object \n",
      " 30  execution_time          630 non-null    float64\n",
      " 31  thumbnail_400           387 non-null    object \n",
      " 32  thumbnail_400_male      287 non-null    object \n",
      " 33  thumbnail_400_female    279 non-null    object \n",
      " 34  coach_id                0 non-null      float64\n",
      " 35  test_equivalent_id      244 non-null    float64\n",
      " 36  t1_min                  973 non-null    int64  \n",
      " 37  t1_max                  973 non-null    int64  \n",
      " 38  excluded                973 non-null    object \n",
      "dtypes: float64(11), int64(5), object(23)\n",
      "memory usage: 296.6+ KB\n"
     ]
    }
   ],
   "source": [
    "exercises.info()"
   ]
  },
  {
   "cell_type": "markdown",
   "id": "5056f5f7",
   "metadata": {},
   "source": [
    "There is some disproportion - 863 names in Spanish and 852 names in English.\n",
    "\n",
    "Multiple columns as:\n",
    "\n",
    "* *video*,\n",
    "* *reps*,\n",
    "* *time*,\n",
    "* *legacy_id*,\n",
    "* *deprecated*,\n",
    "* *replacement_legacy_id*,\n",
    "* *family*,\n",
    "* *sub_family*,\n",
    "* *video_female*,\n",
    "* *video_male*,\n",
    "* *harder_variation_id*,\n",
    "* *easier_variation_id*,\n",
    "* *name_es*,\n",
    "* *description_en*,\n",
    "* *description_es*,\n",
    "* *implement_variation_id*,\n",
    "* *test_correction*,\n",
    "* *thumbnail*,\n",
    "* *thumbnail_male*,\n",
    "* *thumbnail_female*,\n",
    "* *note_en*,\n",
    "* *note_es*,\n",
    "* *notes_en*,\n",
    "* *notes_es*,\n",
    "* *execution_time*,\n",
    "* *thumbnail_400*,\n",
    "* *thumbnail_400_male*,\n",
    "* *thumbnail_400_female*,\n",
    "* *coach_id*,\n",
    "* *test_equivalent_id*,\n",
    "* *t1_min*,\n",
    "* *t1_max*,\n",
    "* *excluded*\n",
    "\n",
    "will be dropped, because they won't be useful for analysis. So now, the only variables taken into consideration are:\n",
    "\n",
    "* *created_at* - when was the exercise created,\n",
    "* *updated_at* - when was the last time the exercise was updated,\n",
    "* *body_parts_focused* - what body parts did the exercise focus on,\n",
    "* *muscles* - what muscles were used in exercise,\n",
    "* *joints* - what joints were used in exercise,\n",
    "* *met_multiplier* - the metabolic equivalent of task (MET) is the ratio of the metabolic rate during exercise to the metabolic rate at rest, it is divided into three groups: \n",
    "    - light (MET < 3.0), \n",
    "    - moderate (3.0 $\\leq$ MET $\\leq$ 6.0), \n",
    "    - vigorous (MET > 6.0), \n",
    "\n",
    "  in summary it can be said that: \n",
    "     - one MET is defined as the energy you use when one is resting or sitting still, \n",
    "     - an activity that has a value of 4 METs means one is exerting four times the energy than you would if you were sitting still \n",
    "     \n",
    "  (according to https://www.healthline.com/health/what-are-mets#definition), \n",
    "* *met_multiplier_category* - column with category of MET, added.\n",
    "* *name_en* - name of the exercise.\n",
    "\n",
    "Their non-null counts and types are given below."
   ]
  },
  {
   "cell_type": "code",
   "execution_count": 14,
   "id": "d99aaadf",
   "metadata": {},
   "outputs": [],
   "source": [
    "exercises2 = exercises.drop(['video','reps', 'time','legacy_id','deprecated', \n",
    "                             'replacement_legacy_id', 'family', 'sub_family',\n",
    "                             'video_female', 'video_male', 'harder_variation_id',\n",
    "                             'easier_variation_id', 'name_es', 'description_en',\n",
    "       'description_es', 'implement_variation_id', 'test_correction',\n",
    "       'thumbnail', 'thumbnail_male', 'thumbnail_female', 'notes_en',\n",
    "       'notes_es', 'execution_time', 'thumbnail_400', 'thumbnail_400_male',\n",
    "       'thumbnail_400_female', 'coach_id', 'test_equivalent_id', 't1_min',\n",
    "       't1_max', 'excluded'], axis = 1)\n",
    "\n",
    "col_date = ['created_at', 'updated_at']\n",
    "\n",
    "for col in col_date:\n",
    "    exercises2[col] = pd.to_datetime(exercises2[col])#.dt.strftime(\"%Y-%m-%d %H:%M:%S\")\n",
    "\n",
    "exercises2['name_en'] = exercises2['name_en'].astype('category')\n",
    "\n",
    "ex_met_cat = []\n",
    "\n",
    "for i in range(len(exercises2['id'])):\n",
    "    if np.isnan(exercises2['met_multiplier'][i]) == True:\n",
    "        ex_met_cat.append(np.nan)\n",
    "    elif (exercises2['met_multiplier'][i] > 0 and exercises2['met_multiplier'][i] < 3):\n",
    "        ex_met_cat.append('light')\n",
    "    elif (exercises2['met_multiplier'][i] >= 3 and exercises2['met_multiplier'][i] <= 6):\n",
    "        ex_met_cat.append('moderate')\n",
    "    elif exercises2['met_multiplier'][i] > 6:\n",
    "        ex_met_cat.append('vigorous')\n",
    "\n",
    "exercises2['met_multiplier_category'] = ex_met_cat\n",
    "exercises2['met_multiplier_category'] = exercises2['met_multiplier_category'].astype('category')"
   ]
  },
  {
   "cell_type": "code",
   "execution_count": 15,
   "id": "6cc6e96a",
   "metadata": {},
   "outputs": [
    {
     "name": "stdout",
     "output_type": "stream",
     "text": [
      "<class 'pandas.core.frame.DataFrame'>\n",
      "RangeIndex: 973 entries, 0 to 972\n",
      "Data columns (total 9 columns):\n",
      " #   Column                   Non-Null Count  Dtype         \n",
      "---  ------                   --------------  -----         \n",
      " 0   id                       973 non-null    int64         \n",
      " 1   created_at               973 non-null    datetime64[ns]\n",
      " 2   updated_at               973 non-null    datetime64[ns]\n",
      " 3   body_parts_focused       690 non-null    object        \n",
      " 4   muscles                  862 non-null    object        \n",
      " 5   joints                   862 non-null    object        \n",
      " 6   met_multiplier           707 non-null    float64       \n",
      " 7   name_en                  852 non-null    category      \n",
      " 8   met_multiplier_category  707 non-null    category      \n",
      "dtypes: category(2), datetime64[ns](2), float64(1), int64(1), object(3)\n",
      "memory usage: 94.9+ KB\n"
     ]
    }
   ],
   "source": [
    "exercises2.info()"
   ]
  },
  {
   "cell_type": "markdown",
   "id": "dc3b7172",
   "metadata": {},
   "source": [
    "Below there is a glimpse of data - how it looks. It is possible to treat body_parts_focused, muscles and joints as categories and later prepare clusterization according to all of the joints. It is also possible to split data in those variables."
   ]
  },
  {
   "cell_type": "code",
   "execution_count": 16,
   "id": "57998f50",
   "metadata": {},
   "outputs": [
    {
     "data": {
      "text/html": [
       "<div>\n",
       "<style scoped>\n",
       "    .dataframe tbody tr th:only-of-type {\n",
       "        vertical-align: middle;\n",
       "    }\n",
       "\n",
       "    .dataframe tbody tr th {\n",
       "        vertical-align: top;\n",
       "    }\n",
       "\n",
       "    .dataframe thead th {\n",
       "        text-align: right;\n",
       "    }\n",
       "</style>\n",
       "<table border=\"1\" class=\"dataframe\">\n",
       "  <thead>\n",
       "    <tr style=\"text-align: right;\">\n",
       "      <th></th>\n",
       "      <th>id</th>\n",
       "      <th>created_at</th>\n",
       "      <th>updated_at</th>\n",
       "      <th>body_parts_focused</th>\n",
       "      <th>muscles</th>\n",
       "      <th>joints</th>\n",
       "      <th>met_multiplier</th>\n",
       "      <th>name_en</th>\n",
       "      <th>met_multiplier_category</th>\n",
       "    </tr>\n",
       "  </thead>\n",
       "  <tbody>\n",
       "    <tr>\n",
       "      <th>0</th>\n",
       "      <td>5551</td>\n",
       "      <td>2020-10-15 12:37:19.622509</td>\n",
       "      <td>2021-08-24 13:43:14.829103</td>\n",
       "      <td>{\"Todo el cuerpo\"}</td>\n",
       "      <td>{isquiotibiales,\" erector de la columna\",\" dor...</td>\n",
       "      <td>{cadera}</td>\n",
       "      <td>2.30</td>\n",
       "      <td>Straddle split</td>\n",
       "      <td>light</td>\n",
       "    </tr>\n",
       "    <tr>\n",
       "      <th>1</th>\n",
       "      <td>5528</td>\n",
       "      <td>2020-10-15 12:37:19.379916</td>\n",
       "      <td>2021-08-24 13:43:14.852983</td>\n",
       "      <td>{Piernas}</td>\n",
       "      <td>{cuádriceps,\" isquiotibiales\",\" glúteos\"}</td>\n",
       "      <td>{cadera}</td>\n",
       "      <td>2.30</td>\n",
       "      <td>Side leg swing (left)</td>\n",
       "      <td>light</td>\n",
       "    </tr>\n",
       "    <tr>\n",
       "      <th>2</th>\n",
       "      <td>5216</td>\n",
       "      <td>2020-10-15 12:37:15.688677</td>\n",
       "      <td>2021-10-13 09:46:28.673338</td>\n",
       "      <td>{Core}</td>\n",
       "      <td>{\"erector de la columna\",\" recto mayor del abd...</td>\n",
       "      <td>{hombros,\" tobillos\"}</td>\n",
       "      <td>2.50</td>\n",
       "      <td>Plank</td>\n",
       "      <td>light</td>\n",
       "    </tr>\n",
       "    <tr>\n",
       "      <th>3</th>\n",
       "      <td>5706</td>\n",
       "      <td>2020-10-15 12:37:21.440337</td>\n",
       "      <td>2021-09-22 17:13:47.654393</td>\n",
       "      <td>{Brazos,Core}</td>\n",
       "      <td>{pectorales,\" dorsales\",\" bíceps\"}</td>\n",
       "      <td>{hombros,\" codos\",\" muñecas\"}</td>\n",
       "      <td>3.80</td>\n",
       "      <td>Archer row 2</td>\n",
       "      <td>moderate</td>\n",
       "    </tr>\n",
       "    <tr>\n",
       "      <th>4</th>\n",
       "      <td>5702</td>\n",
       "      <td>2020-10-15 12:37:21.397943</td>\n",
       "      <td>2021-09-22 17:13:47.669895</td>\n",
       "      <td>{Espalda,Brazos}</td>\n",
       "      <td>{deltoides,\" tríceps\",\" dorsales\"}</td>\n",
       "      <td>{codos,\" hombros\",\" muñecas\"}</td>\n",
       "      <td>3.20</td>\n",
       "      <td>Chest fly 2</td>\n",
       "      <td>moderate</td>\n",
       "    </tr>\n",
       "  </tbody>\n",
       "</table>\n",
       "</div>"
      ],
      "text/plain": [
       "     id                 created_at                 updated_at  \\\n",
       "0  5551 2020-10-15 12:37:19.622509 2021-08-24 13:43:14.829103   \n",
       "1  5528 2020-10-15 12:37:19.379916 2021-08-24 13:43:14.852983   \n",
       "2  5216 2020-10-15 12:37:15.688677 2021-10-13 09:46:28.673338   \n",
       "3  5706 2020-10-15 12:37:21.440337 2021-09-22 17:13:47.654393   \n",
       "4  5702 2020-10-15 12:37:21.397943 2021-09-22 17:13:47.669895   \n",
       "\n",
       "   body_parts_focused                                            muscles  \\\n",
       "0  {\"Todo el cuerpo\"}  {isquiotibiales,\" erector de la columna\",\" dor...   \n",
       "1           {Piernas}          {cuádriceps,\" isquiotibiales\",\" glúteos\"}   \n",
       "2              {Core}  {\"erector de la columna\",\" recto mayor del abd...   \n",
       "3       {Brazos,Core}                 {pectorales,\" dorsales\",\" bíceps\"}   \n",
       "4    {Espalda,Brazos}                 {deltoides,\" tríceps\",\" dorsales\"}   \n",
       "\n",
       "                          joints  met_multiplier                name_en  \\\n",
       "0                       {cadera}            2.30         Straddle split   \n",
       "1                       {cadera}            2.30  Side leg swing (left)   \n",
       "2          {hombros,\" tobillos\"}            2.50                  Plank   \n",
       "3  {hombros,\" codos\",\" muñecas\"}            3.80           Archer row 2   \n",
       "4  {codos,\" hombros\",\" muñecas\"}            3.20            Chest fly 2   \n",
       "\n",
       "  met_multiplier_category  \n",
       "0                   light  \n",
       "1                   light  \n",
       "2                   light  \n",
       "3                moderate  \n",
       "4                moderate  "
      ]
     },
     "execution_count": 16,
     "metadata": {},
     "output_type": "execute_result"
    }
   ],
   "source": [
    "exercises2.head()"
   ]
  },
  {
   "cell_type": "markdown",
   "id": "71cce2b0",
   "metadata": {},
   "source": [
    "To conclude - there are 973 exercises in which 852 have names in English, 690 have given focused body parts, 862 have given muscles and joints and 707 have given met_multiplier and met_multiplier_category."
   ]
  },
  {
   "cell_type": "markdown",
   "id": "f7da2607",
   "metadata": {},
   "source": [
    "## Numerical data"
   ]
  },
  {
   "cell_type": "markdown",
   "id": "bb2ca123",
   "metadata": {},
   "source": [
    "The only numerical variable in this chosen dataset is met_multiplier. "
   ]
  },
  {
   "cell_type": "markdown",
   "id": "40acd156",
   "metadata": {},
   "source": [
    "### Summary statistics"
   ]
  },
  {
   "cell_type": "markdown",
   "id": "e03a2178",
   "metadata": {},
   "source": [
    "Below there is summary statistics about this variable that contains mean, standard deviation, minimum, maximum, quartiles, variance, skewness, kurtosis and NULL count."
   ]
  },
  {
   "cell_type": "code",
   "execution_count": 17,
   "id": "64874b35",
   "metadata": {},
   "outputs": [
    {
     "data": {
      "text/html": [
       "<div>\n",
       "<style scoped>\n",
       "    .dataframe tbody tr th:only-of-type {\n",
       "        vertical-align: middle;\n",
       "    }\n",
       "\n",
       "    .dataframe tbody tr th {\n",
       "        vertical-align: top;\n",
       "    }\n",
       "\n",
       "    .dataframe thead th {\n",
       "        text-align: right;\n",
       "    }\n",
       "</style>\n",
       "<table border=\"1\" class=\"dataframe\">\n",
       "  <thead>\n",
       "    <tr style=\"text-align: right;\">\n",
       "      <th></th>\n",
       "      <th>count</th>\n",
       "      <th>mean</th>\n",
       "      <th>std</th>\n",
       "      <th>min</th>\n",
       "      <th>25%</th>\n",
       "      <th>50%</th>\n",
       "      <th>75%</th>\n",
       "      <th>max</th>\n",
       "      <th>var</th>\n",
       "      <th>skewness</th>\n",
       "      <th>kurtosis</th>\n",
       "      <th>NULL count</th>\n",
       "    </tr>\n",
       "  </thead>\n",
       "  <tbody>\n",
       "    <tr>\n",
       "      <th>met_multiplier</th>\n",
       "      <td>707.00</td>\n",
       "      <td>3.23</td>\n",
       "      <td>1.31</td>\n",
       "      <td>1.00</td>\n",
       "      <td>2.30</td>\n",
       "      <td>3.00</td>\n",
       "      <td>3.80</td>\n",
       "      <td>23.00</td>\n",
       "      <td>1.72</td>\n",
       "      <td>5.95</td>\n",
       "      <td>76.22</td>\n",
       "      <td>266</td>\n",
       "    </tr>\n",
       "  </tbody>\n",
       "</table>\n",
       "</div>"
      ],
      "text/plain": [
       "                count  mean  std  min  25%  50%  75%   max  var  skewness  \\\n",
       "met_multiplier 707.00  3.23 1.31 1.00 2.30 3.00 3.80 23.00 1.72      5.95   \n",
       "\n",
       "                kurtosis  NULL count  \n",
       "met_multiplier     76.22         266  "
      ]
     },
     "execution_count": 17,
     "metadata": {},
     "output_type": "execute_result"
    }
   ],
   "source": [
    "num_t = exercises2.loc[:, ['met_multiplier']]\n",
    "num_t_desc = num_t.describe()\n",
    "num_t_desc = num_t_desc.transpose()\n",
    "num_t_desc[\"var\"] = num_t.var()\n",
    "num_t_desc[\"skewness\"] = num_t.skew()\n",
    "num_t_desc[\"kurtosis\"] = num_t.kurtosis()\n",
    "num_t_desc[\"NULL count\"] = num_t.isna().sum()\n",
    "num_t_desc"
   ]
  },
  {
   "cell_type": "markdown",
   "id": "4e077891",
   "metadata": {},
   "source": [
    "The mean value of met_multiplier is $3.23$ (SD $1.31$) that means, average value for all of the exercises person training will exert $3.23$ times the energy than if the person would be sitting still. The smallest value of met_multiplier is 1, which is equivalent to sitting still and maximum value is 23 that means that while exercising, person will exert $234$ times the energy than if the person would be sitting still. Median value is $3$ (IQR 2.30 - 3.80). The interpretation is equivalent to the previous ones."
   ]
  },
  {
   "cell_type": "markdown",
   "id": "b9dc731e",
   "metadata": {},
   "source": [
    "### Normal distribution evaluation"
   ]
  },
  {
   "cell_type": "markdown",
   "id": "cb230842",
   "metadata": {},
   "source": [
    "In this section, the normal distribution evaluation will be done. For this purpose, there will be histogram, qqplot and Shapiro-Wilk test done. Below there is a histogram of the MET values."
   ]
  },
  {
   "cell_type": "code",
   "execution_count": 33,
   "id": "cfd85eb7",
   "metadata": {},
   "outputs": [
    {
     "data": {
      "text/plain": [
       "Text(0.5, 1.0, '')"
      ]
     },
     "execution_count": 33,
     "metadata": {},
     "output_type": "execute_result"
    },
    {
     "data": {
      "image/png": "[encoded data removed]",
      "text/plain": [
       "<Figure size 640x480 with 1 Axes>"
      ]
     },
     "metadata": {},
     "output_type": "display_data"
    }
   ],
   "source": [
    "num_t.hist(grid = False, bins = 25, edgecolor='black')\n",
    "plt.suptitle('Histogram for met_multiplier variable', fontsize = 15)\n",
    "plt.title('')"
   ]
  },
  {
   "cell_type": "markdown",
   "id": "e844c845",
   "metadata": {},
   "source": [
    "Below there is a qqplot of the variable."
   ]
  },
  {
   "cell_type": "code",
   "execution_count": 34,
   "id": "ea41c918",
   "metadata": {},
   "outputs": [
    {
     "data": {
      "text/plain": [
       "Text(0.5, 1.05, 'QQ plot for met_multiplier variable')"
      ]
     },
     "execution_count": 34,
     "metadata": {},
     "output_type": "execute_result"
    },
    {
     "data": {
      "image/png": "[encoded data removed]",
      "text/plain": [
       "<Figure size 640x480 with 1 Axes>"
      ]
     },
     "metadata": {},
     "output_type": "display_data"
    }
   ],
   "source": [
    "sm.qqplot(num_t['met_multiplier'], line='s')\n",
    "plt.tight_layout()\n",
    "plt.suptitle('QQ plot for met_multiplier variable', fontsize = 15, y = 1.05)"
   ]
  },
  {
   "cell_type": "code",
   "execution_count": 36,
   "id": "9553eeef",
   "metadata": {},
   "outputs": [
    {
     "data": {
      "text/html": [
       "<div>\n",
       "<style scoped>\n",
       "    .dataframe tbody tr th:only-of-type {\n",
       "        vertical-align: middle;\n",
       "    }\n",
       "\n",
       "    .dataframe tbody tr th {\n",
       "        vertical-align: top;\n",
       "    }\n",
       "\n",
       "    .dataframe thead th {\n",
       "        text-align: right;\n",
       "    }\n",
       "</style>\n",
       "<table border=\"1\" class=\"dataframe\">\n",
       "  <thead>\n",
       "    <tr style=\"text-align: right;\">\n",
       "      <th></th>\n",
       "      <th>W</th>\n",
       "      <th>pval</th>\n",
       "      <th>normal</th>\n",
       "    </tr>\n",
       "  </thead>\n",
       "  <tbody>\n",
       "    <tr>\n",
       "      <th>met_multiplier</th>\n",
       "      <td>0.66</td>\n",
       "      <td>0.00</td>\n",
       "      <td>False</td>\n",
       "    </tr>\n",
       "  </tbody>\n",
       "</table>\n",
       "</div>"
      ],
      "text/plain": [
       "                  W  pval  normal\n",
       "met_multiplier 0.66  0.00   False"
      ]
     },
     "execution_count": 36,
     "metadata": {},
     "output_type": "execute_result"
    }
   ],
   "source": [
    "normal = pg.normality(num_t, method='shapiro').round(3)\n",
    "normal"
   ]
  },
  {
   "cell_type": "markdown",
   "id": "2e1e8655",
   "metadata": {},
   "source": [
    "From the histogram, qqplot and Shapiro-Wilk test it is seen, that there is no normal distribution in this variable. Another confirmation of non-normality of this data is that kurtosis is over 76 and skewness is almost 6 (for normal distribution kurtosis $= 3$ and skewness $= 0$)."
   ]
  },
  {
   "cell_type": "markdown",
   "id": "afbb1ad1",
   "metadata": {},
   "source": [
    "### Data distribution evaluation"
   ]
  },
  {
   "cell_type": "markdown",
   "id": "200de22e",
   "metadata": {},
   "source": [
    "In this section, data distribution will be checked (or the closest one). The criterion of determination for best fit is RSS (residual sum of squares). The RSS describes the deviation predicted from actual empirical values of data. For this operation, NULL values have to be deleted."
   ]
  },
  {
   "cell_type": "markdown",
   "id": "4aad6526",
   "metadata": {},
   "source": [
    "The best fitting distribution is *nakagami* (RSS = 0.16) and the second closest distribution is *dgamma* (RSS = 0.28), *beta* (RSS = 0.28), *Pearson* (RSS = 0.28) and *erlang* (RSS = 0.28). Below there are values of the RSS and plot of $5$ best fitted distribution."
   ]
  },
  {
   "cell_type": "code",
   "execution_count": 39,
   "id": "45576e3d",
   "metadata": {},
   "outputs": [],
   "source": [
    "num_t_null = num_t.dropna()"
   ]
  },
  {
   "cell_type": "code",
   "execution_count": 43,
   "id": "565ea5c9",
   "metadata": {},
   "outputs": [
    {
     "name": "stdout",
     "output_type": "stream",
     "text": [
      "[distfit] >fit..\n",
      "[distfit] >transform..\n",
      "[distfit] >[nakagami] [0.14 sec] [RSS: 0.16195] [loc=2.000 scale=1.899]\n",
      "[distfit] >[dgamma  ] [0.01 sec] [RSS: 0.276741] [loc=3.087 scale=0.490]\n",
      "[distfit] >[beta    ] [0.07 sec] [RSS: 0.282509] [loc=0.749 scale=2369999.562]\n",
      "[distfit] >[pearson3] [0.03 sec] [RSS: 0.283852] [loc=3.227 scale=1.058]\n",
      "[distfit] >[erlang  ] [0.04 sec] [RSS: 0.283856] [loc=0.728 scale=0.448]\n",
      "[distfit] >Compute confidence interval [parametric]\n",
      "[distfit] >plot summary..\n"
     ]
    },
    {
     "data": {
      "text/plain": [
       "(<Figure size 900x400 with 1 Axes>,\n",
       " <AxesSubplot:title={'center':'Best fit: nakagami'}, xlabel='Distribution name', ylabel='RSS (lower is better)'>)"
      ]
     },
     "execution_count": 43,
     "metadata": {},
     "output_type": "execute_result"
    },
    {
     "data": {
      "image/png": "[encoded data removed]",
      "text/plain": [
       "<Figure size 900x400 with 1 Axes>"
      ]
     },
     "metadata": {},
     "output_type": "display_data"
    }
   ],
   "source": [
    "met_m = num_t_null['met_multiplier'].values\n",
    "dist = distfit(distr=['nakagami', 'dgamma', 'beta', 'pearson3', 'erlang'])\n",
    "dist.fit_transform(met_m)\n",
    "#dist.summary # there can be also dist.plot() and it gives the plot of distribution \n",
    "dist.plot_summary(figsize = (9,4))"
   ]
  },
  {
   "cell_type": "markdown",
   "id": "887e4ff2",
   "metadata": {},
   "source": [
    "But RSS value for *nakagami* distribution shows that it is still not fitted the best way possible."
   ]
  },
  {
   "cell_type": "markdown",
   "id": "0c039ba1",
   "metadata": {},
   "source": [
    "### Outliers detection"
   ]
  },
  {
   "cell_type": "markdown",
   "id": "233d606a",
   "metadata": {},
   "source": [
    "This section will be done later, when the outlier definition will be given."
   ]
  },
  {
   "cell_type": "markdown",
   "id": "89313d7c",
   "metadata": {},
   "source": [
    "## Categorical data"
   ]
  },
  {
   "cell_type": "markdown",
   "id": "62425ac9",
   "metadata": {},
   "source": [
    "### Frequency tables"
   ]
  },
  {
   "cell_type": "code",
   "execution_count": 44,
   "id": "2a664fdc",
   "metadata": {},
   "outputs": [],
   "source": [
    "def my_freq_table(data, var, sort = True, cumul_percent = False):\n",
    "    myFreqTable = data[var].value_counts()\n",
    "    myFreqTable = pd.DataFrame({var: myFreqTable.keys(), 'Frequency': myFreqTable.values})\n",
    "    myFreqTable = myFreqTable.astype({'Frequency': 'int32'})\n",
    "    \n",
    "    if sort == True:\n",
    "        myFreqTable = myFreqTable.sort_values(by=[var])\n",
    "        myFreqTable = myFreqTable.reset_index(drop=True)\n",
    "    \n",
    "    myFreqTable['Percent'] = myFreqTable['Frequency']/myFreqTable['Frequency'].sum()*100\n",
    "    \n",
    "    sum_row1 = myFreqTable['Frequency'].sum()\n",
    "    sum_row2 = myFreqTable['Percent'].sum()\n",
    "    sum_row2 = sum_row2.round(2).astype('str') + '%'\n",
    "    \n",
    "    myFreqTable['Percent'] = myFreqTable['Percent'].round(2).astype('str') + '%'\n",
    "    \n",
    "    if cumul_percent == True:\n",
    "        myFreqTable['Cumulative Percent'] = myFreqTable['Frequency'].cumsum() / myFreqTable['Frequency'].sum() * 100\n",
    "        myFreqTable['Cumulative Percent'] = myFreqTable['Cumulative Percent'].round(2).astype('str') + '%'\n",
    "        sum_row_c = '-'\n",
    "    \n",
    "    '''\n",
    "    if valid_percent == True:\n",
    "    \n",
    "        myMissingCategory = [np.NaN]\n",
    "\n",
    "        myFreqTable2 = myFreqTable\n",
    "        isNonmisAr = np.array([])\n",
    "\n",
    "        for i in data[var]:\n",
    "            isNotMissing=1\n",
    "            for j in myMissingCategory:\n",
    "                if i==j:\n",
    "                    isNotMissing=0\n",
    "            isNonmisAr = np.append(isNonmisAr, [isNotMissing])\n",
    "        \n",
    "        validSum = sum(myFreqTable2['Frequency']*isNonmisAr)\n",
    "        validPerc = myFreqTable2['Frequency']/validSum*isNonmisAr*100\n",
    "        \n",
    "        for i in range(len(validPerc)):\n",
    "            if isNonmisAr[i]==0:\n",
    "                validPerc[i]=np.nan\n",
    "        \n",
    "        myFreqTable2['Valid Percent'] = validPerc\n",
    "        \n",
    "        if cumul_percent == True:\n",
    "            myFreqTable2['Cumulative Valid Percent'] = myFreqTable2['Valid Percent'].cumsum()\n",
    "            \n",
    "            sum_c_2 = '-'\n",
    "            \n",
    "            myFreqTable2['Cumulative Valid Percent'] = myFreqTable2['Cumulative Valid Percent'].round(2).astype('str') + '%'\n",
    "        \n",
    "        sum_valid_percent = myFreqTable2['Valid Percent'].sum()\n",
    "        \n",
    "        myFreqTable2['Valid Percent'] = myFreqTable2['Valid Percent'].round(2).astype('str') + '%'\n",
    "        \n",
    "        sum_valid_percent = sum_valid_percent.round(2).astype('str') + '%'\n",
    "        \n",
    "        #myFreqTable2 = myFreqTable2.set_index(var)\n",
    "        \n",
    "        # return(myFreqTable2)\n",
    "    \n",
    "       \n",
    "    if (valid_percent == True) and (cumul_percent == True):\n",
    "        new_rows = {'Frequency': sum_row1, 'Percent': sum_row2, \n",
    "                    'Cumulative Percent': sum_row_c, \n",
    "                    'Valid Percent': sum_valid_percent,\n",
    "                    'Cumulative Valid Percent': sum_c_2}\n",
    "        \n",
    "    elif (valid_percent == False) and (cumul_percent == True):\n",
    "        new_rows = {'Frequency': sum_row1, 'Percent': sum_row2, \n",
    "                    'Cumulative Percent': sum_row_c}\n",
    "        \n",
    "    elif (valid_percent == True) and (cumul_percent == False):\n",
    "        new_rows = {'Frequency': sum_row1, 'Percent': sum_row2,\n",
    "                    'Valid Percent': sum_valid_percent}\n",
    "            \n",
    "    else: new_rows = {'Frequency': sum_row1, 'Percent': sum_row2}\n",
    "    \n",
    "    if valid_percent == True:\n",
    "        myFreqTable = myFreqTable2\n",
    "    '''\n",
    "    \n",
    "    if cumul_percent == True:\n",
    "        new_rows = {'Frequency': sum_row1, 'Percent': sum_row2, \n",
    "                    'Cumulative Percent': sum_row_c}\n",
    "    else: new_rows = {'Frequency': sum_row1, 'Percent': sum_row2}\n",
    "    \n",
    "    myFreqTable = myFreqTable.append(new_rows, ignore_index=True)\n",
    "    cats = data[var].cat.add_categories(['Total'])\n",
    "    myFreqTable.set_index(cats.cat.categories, inplace = True)\n",
    "    \n",
    "    cols = myFreqTable.columns\n",
    "    \n",
    "    for col in cols:\n",
    "        if col == var:\n",
    "            myFreqTable = myFreqTable.drop(var, axis = 1)\n",
    "    #myFreqTable.rename(index = {'NaN': 'Total'}, inplace = True)\n",
    "    \n",
    "    return(myFreqTable)\n",
    "    "
   ]
  },
  {
   "cell_type": "code",
   "execution_count": 46,
   "id": "136febb9",
   "metadata": {},
   "outputs": [
    {
     "data": {
      "text/html": [
       "<div>\n",
       "<style scoped>\n",
       "    .dataframe tbody tr th:only-of-type {\n",
       "        vertical-align: middle;\n",
       "    }\n",
       "\n",
       "    .dataframe tbody tr th {\n",
       "        vertical-align: top;\n",
       "    }\n",
       "\n",
       "    .dataframe thead th {\n",
       "        text-align: right;\n",
       "    }\n",
       "</style>\n",
       "<table border=\"1\" class=\"dataframe\">\n",
       "  <thead>\n",
       "    <tr style=\"text-align: right;\">\n",
       "      <th></th>\n",
       "      <th>Frequency</th>\n",
       "      <th>Percent</th>\n",
       "      <th>Cumulative Percent</th>\n",
       "    </tr>\n",
       "  </thead>\n",
       "  <tbody>\n",
       "    <tr>\n",
       "      <th>light</th>\n",
       "      <td>331</td>\n",
       "      <td>46.82%</td>\n",
       "      <td>46.82%</td>\n",
       "    </tr>\n",
       "    <tr>\n",
       "      <th>moderate</th>\n",
       "      <td>363</td>\n",
       "      <td>51.34%</td>\n",
       "      <td>98.16%</td>\n",
       "    </tr>\n",
       "    <tr>\n",
       "      <th>vigorous</th>\n",
       "      <td>13</td>\n",
       "      <td>1.84%</td>\n",
       "      <td>100.0%</td>\n",
       "    </tr>\n",
       "    <tr>\n",
       "      <th>Total</th>\n",
       "      <td>707</td>\n",
       "      <td>100.0%</td>\n",
       "      <td>-</td>\n",
       "    </tr>\n",
       "  </tbody>\n",
       "</table>\n",
       "</div>"
      ],
      "text/plain": [
       "          Frequency Percent Cumulative Percent\n",
       "light           331  46.82%             46.82%\n",
       "moderate        363  51.34%             98.16%\n",
       "vigorous         13   1.84%             100.0%\n",
       "Total           707  100.0%                  -"
      ]
     },
     "execution_count": 46,
     "metadata": {},
     "output_type": "execute_result"
    }
   ],
   "source": [
    "cat_table = exercises2.loc[:, ['name_en','met_multiplier_category']]\n",
    "\n",
    "name_en = my_freq_table(cat_table, var = 'name_en', cumul_percent = True)\n",
    "met_multiplier_category = my_freq_table(cat_table, var = 'met_multiplier_category', cumul_percent = True)\n",
    "\n",
    "met_multiplier_category"
   ]
  },
  {
   "cell_type": "code",
   "execution_count": 57,
   "id": "d13b6021",
   "metadata": {},
   "outputs": [
    {
     "data": {
      "image/png": "[encoded data removed]",
      "text/plain": [
       "<Figure size 500x500 with 1 Axes>"
      ]
     },
     "metadata": {},
     "output_type": "display_data"
    }
   ],
   "source": [
    "total = len(cat_table)\n",
    "g = sns.catplot(data=cat_table, x='met_multiplier_category', kind=\"count\", palette=\"ch:.25\")\n",
    "ax = g.facet_axis(0, 0)\n",
    "for c in ax.containers:\n",
    "    labels = [f'{v.get_height()}\\n{v.get_height()/total * 100.0:.1f} %' for v in c]\n",
    "    ax.bar_label(c, labels=labels, label_type='edge')"
   ]
  },
  {
   "cell_type": "markdown",
   "id": "5fddac1f",
   "metadata": {},
   "source": [
    "Most of the exercises have *met_multiplier_category* as *moderate* - $363$ exercises ($51\\%$), then *light* category - $331$ exercises ($47\\%$) and only $13$ ($2\\%$) exercises have *vigorous* category. "
   ]
  },
  {
   "cell_type": "markdown",
   "id": "ca442bfb",
   "metadata": {},
   "source": [
    "When it comes to names category, it can be seen that a lot of exercises names are duplicated. Most frequently duplicated was *Superman* (5 times). Below there is a frequency table and barplot with top 20 frequency of duplicated exercise names."
   ]
  },
  {
   "cell_type": "code",
   "execution_count": 48,
   "id": "ef1a0a75",
   "metadata": {},
   "outputs": [
    {
     "data": {
      "text/html": [
       "<div>\n",
       "<style scoped>\n",
       "    .dataframe tbody tr th:only-of-type {\n",
       "        vertical-align: middle;\n",
       "    }\n",
       "\n",
       "    .dataframe tbody tr th {\n",
       "        vertical-align: top;\n",
       "    }\n",
       "\n",
       "    .dataframe thead th {\n",
       "        text-align: right;\n",
       "    }\n",
       "</style>\n",
       "<table border=\"1\" class=\"dataframe\">\n",
       "  <thead>\n",
       "    <tr style=\"text-align: right;\">\n",
       "      <th></th>\n",
       "      <th>Frequency</th>\n",
       "      <th>Percent</th>\n",
       "      <th>Cumulative Percent</th>\n",
       "    </tr>\n",
       "  </thead>\n",
       "  <tbody>\n",
       "    <tr>\n",
       "      <th>Total</th>\n",
       "      <td>852</td>\n",
       "      <td>100.0%</td>\n",
       "      <td>-</td>\n",
       "    </tr>\n",
       "    <tr>\n",
       "      <th>Superman</th>\n",
       "      <td>5</td>\n",
       "      <td>0.59%</td>\n",
       "      <td>85.33%</td>\n",
       "    </tr>\n",
       "    <tr>\n",
       "      <th>Jumping jacks</th>\n",
       "      <td>4</td>\n",
       "      <td>0.47%</td>\n",
       "      <td>41.55%</td>\n",
       "    </tr>\n",
       "    <tr>\n",
       "      <th>Plank balance</th>\n",
       "      <td>3</td>\n",
       "      <td>0.35%</td>\n",
       "      <td>59.98%</td>\n",
       "    </tr>\n",
       "    <tr>\n",
       "      <th>Plank spider</th>\n",
       "      <td>3</td>\n",
       "      <td>0.35%</td>\n",
       "      <td>61.5%</td>\n",
       "    </tr>\n",
       "    <tr>\n",
       "      <th>...</th>\n",
       "      <td>...</td>\n",
       "      <td>...</td>\n",
       "      <td>...</td>\n",
       "    </tr>\n",
       "    <tr>\n",
       "      <th>High squat</th>\n",
       "      <td>1</td>\n",
       "      <td>0.12%</td>\n",
       "      <td>36.38%</td>\n",
       "    </tr>\n",
       "    <tr>\n",
       "      <th>Hindu knee push-up</th>\n",
       "      <td>1</td>\n",
       "      <td>0.12%</td>\n",
       "      <td>36.5%</td>\n",
       "    </tr>\n",
       "    <tr>\n",
       "      <th>Animal Walk</th>\n",
       "      <td>1</td>\n",
       "      <td>0.12%</td>\n",
       "      <td>3.29%</td>\n",
       "    </tr>\n",
       "    <tr>\n",
       "      <th>Hip boxing</th>\n",
       "      <td>1</td>\n",
       "      <td>0.12%</td>\n",
       "      <td>36.85%</td>\n",
       "    </tr>\n",
       "    <tr>\n",
       "      <th>Lunges (right)</th>\n",
       "      <td>1</td>\n",
       "      <td>0.12%</td>\n",
       "      <td>50.0%</td>\n",
       "    </tr>\n",
       "  </tbody>\n",
       "</table>\n",
       "<p>810 rows × 3 columns</p>\n",
       "</div>"
      ],
      "text/plain": [
       "                    Frequency Percent Cumulative Percent\n",
       "Total                     852  100.0%                  -\n",
       "Superman                    5   0.59%             85.33%\n",
       "Jumping jacks               4   0.47%             41.55%\n",
       "Plank balance               3   0.35%             59.98%\n",
       "Plank spider                3   0.35%              61.5%\n",
       "...                       ...     ...                ...\n",
       "High squat                  1   0.12%             36.38%\n",
       "Hindu knee push-up          1   0.12%              36.5%\n",
       "Animal Walk                 1   0.12%              3.29%\n",
       "Hip boxing                  1   0.12%             36.85%\n",
       "Lunges (right)              1   0.12%              50.0%\n",
       "\n",
       "[810 rows x 3 columns]"
      ]
     },
     "execution_count": 48,
     "metadata": {},
     "output_type": "execute_result"
    }
   ],
   "source": [
    "name_en.sort_values('Frequency', ascending=False)"
   ]
  },
  {
   "cell_type": "code",
   "execution_count": 56,
   "id": "594a84f4",
   "metadata": {},
   "outputs": [
    {
     "data": {
      "image/png": "[encoded data removed]",
      "text/plain": [
       "<Figure size 1000x500 with 1 Axes>"
      ]
     },
     "metadata": {},
     "output_type": "display_data"
    }
   ],
   "source": [
    "total = cat_table['name_en'].count()\n",
    "g = sns.catplot(data=cat_table, x='name_en', kind=\"count\", palette=\"ch:.20\",\n",
    "                order=cat_table.name_en.value_counts().iloc[:20].index, \n",
    "                height=5, aspect=2).set(title = 'Top 20 duplicated exercise names')\n",
    "\n",
    "g.set_xticklabels(rotation = 90)\n",
    "\n",
    "ax = g.facet_axis(0, 0)\n",
    "for c in ax.containers:\n",
    "    labels = [f'{v.get_height()}\\n{v.get_height()/total * 100.0:.1f} %' for v in c]\n",
    "    ax.bar_label(c, labels=labels, label_type='edge')"
   ]
  },
  {
   "cell_type": "code",
   "execution_count": null,
   "id": "8d2ce9ac",
   "metadata": {},
   "outputs": [],
   "source": []
  }
 ],
 "metadata": {
  "hide_input": false,
  "kernelspec": {
   "display_name": "Python 3 (ipykernel)",
   "language": "python",
   "name": "python3"
  },
  "language_info": {
   "codemirror_mode": {
    "name": "ipython",
    "version": 3
   },
   "file_extension": ".py",
   "mimetype": "text/x-python",
   "name": "python",
   "nbconvert_exporter": "python",
   "pygments_lexer": "ipython3",
   "version": "3.10.4"
  },
  "toc": {
   "base_numbering": 1,
   "nav_menu": {},
   "number_sections": true,
   "sideBar": true,
   "skip_h1_title": true,
   "title_cell": "Table of Contents",
   "title_sidebar": "Contents",
   "toc_cell": true,
   "toc_position": {},
   "toc_section_display": true,
   "toc_window_display": true
  }
 },
 "nbformat": 4,
 "nbformat_minor": 5
}
