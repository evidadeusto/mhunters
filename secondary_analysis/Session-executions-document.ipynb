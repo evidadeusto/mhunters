{
 "cells": [
  {
   "cell_type": "markdown",
   "id": "6ebfd5d5",
   "metadata": {},
   "source": [
    "# Session executions table"
   ]
  },
  {
   "cell_type": "markdown",
   "id": "818b6988",
   "metadata": {
    "toc": true
   },
   "source": [
    "<h1>Table of Contents<span class=\"tocSkip\"></span></h1>\n",
    "<div class=\"toc\"><ul class=\"toc-item\"><li><span><a href=\"#Introduction\" data-toc-modified-id=\"Introduction-1\"><span class=\"toc-item-num\">1&nbsp;&nbsp;</span>Introduction</a></span></li><li><span><a href=\"#Numerical-data\" data-toc-modified-id=\"Numerical-data-2\"><span class=\"toc-item-num\">2&nbsp;&nbsp;</span>Numerical data</a></span><ul class=\"toc-item\"><li><span><a href=\"#Summary-statistics\" data-toc-modified-id=\"Summary-statistics-2.1\"><span class=\"toc-item-num\">2.1&nbsp;&nbsp;</span>Summary statistics</a></span></li><li><span><a href=\"#Normal-distribution-evaluation\" data-toc-modified-id=\"Normal-distribution-evaluation-2.2\"><span class=\"toc-item-num\">2.2&nbsp;&nbsp;</span>Normal distribution evaluation</a></span></li><li><span><a href=\"#Data-distribution-evaluation\" data-toc-modified-id=\"Data-distribution-evaluation-2.3\"><span class=\"toc-item-num\">2.3&nbsp;&nbsp;</span>Data distribution evaluation</a></span></li><li><span><a href=\"#Outliers-detection\" data-toc-modified-id=\"Outliers-detection-2.4\"><span class=\"toc-item-num\">2.4&nbsp;&nbsp;</span>Outliers detection</a></span></li></ul></li><li><span><a href=\"#Categorical-variables\" data-toc-modified-id=\"Categorical-variables-3\"><span class=\"toc-item-num\">3&nbsp;&nbsp;</span>Categorical variables</a></span></li></ul></div>"
   ]
  },
  {
   "cell_type": "markdown",
   "id": "6576cbc2",
   "metadata": {},
   "source": [
    "## Introduction"
   ]
  },
  {
   "cell_type": "markdown",
   "id": "ad28aa77",
   "metadata": {},
   "source": [
    "In this document there will be statistical analysis of Session_executions table. \n",
    "Session_executions table has 16 variables (columns) and 738688 records. \n",
    "There are a lot of missing data.\n",
    "For the analysis below libraries will be used:\n",
    "\n",
    "* pandas\n",
    "* numpy\n",
    "* statistics\n",
    "* matplotlib.pyplot\n",
    "* seaborn\n",
    "* pingouin\n",
    "* distfit\n",
    "\n",
    "Below there are information and glimpse of this dataset. "
   ]
  },
  {
   "cell_type": "code",
   "execution_count": 1,
   "id": "47afd224",
   "metadata": {},
   "outputs": [
    {
     "name": "stderr",
     "output_type": "stream",
     "text": [
      "C:\\Users\\admin\\anaconda\\envs\\mhunters\\lib\\site-packages\\scipy\\__init__.py:146: UserWarning: A NumPy version >=1.16.5 and <1.23.0 is required for this version of SciPy (detected version 1.23.4\n",
      "  warnings.warn(f\"A NumPy version >={np_minversion} and <{np_maxversion}\"\n"
     ]
    }
   ],
   "source": [
    "import pandas as pd\n",
    "import numpy as np\n",
    "import statistics\n",
    "import matplotlib.pyplot as plt\n",
    "import seaborn as sns\n",
    "import math\n",
    "import pingouin as pg\n",
    "import statsmodels.api as sm\n",
    "import matplotlib as mpl\n",
    "from scipy import stats\n",
    "from distfit import distfit\n",
    "\n",
    "session_executions = pd.read_csv('C:/Users/admin/Desktop/mhunters/session_executions.csv', on_bad_lines='skip', low_memory=False, header = None, na_values = \"\\\\N\")\n",
    "session_executions.columns = ['id', 'scheduled_at', 'user_program_id', \n",
    "                              'difficulty_feedback', 'enjoyment_feedback',\n",
    "                             'feedback_comment', 'reps_executed',\n",
    "                             'execution_time', 'order', 'created_at',\n",
    "                             'updated_at', 'front_end_id', 'session_id',\n",
    "                             'discarded', 'discard_reason', 'imported']\n",
    "\n",
    "pd.options.display.float_format = '{:.2f}'.format\n",
    "\n",
    "import warnings\n",
    "warnings.filterwarnings('ignore')\n",
    "\n",
    "plt.rcParams[\"image.cmap\"] = \"Pastel2\""
   ]
  },
  {
   "cell_type": "code",
   "execution_count": 2,
   "id": "f17794f5",
   "metadata": {},
   "outputs": [
    {
     "name": "stdout",
     "output_type": "stream",
     "text": [
      "<class 'pandas.core.frame.DataFrame'>\n",
      "RangeIndex: 738688 entries, 0 to 738687\n",
      "Data columns (total 16 columns):\n",
      " #   Column               Non-Null Count   Dtype  \n",
      "---  ------               --------------   -----  \n",
      " 0   id                   738688 non-null  int64  \n",
      " 1   scheduled_at         0 non-null       float64\n",
      " 2   user_program_id      738688 non-null  int64  \n",
      " 3   difficulty_feedback  597620 non-null  float64\n",
      " 4   enjoyment_feedback   597626 non-null  float64\n",
      " 5   feedback_comment     0 non-null       float64\n",
      " 6   reps_executed        732862 non-null  float64\n",
      " 7   execution_time       682258 non-null  float64\n",
      " 8   order                0 non-null       float64\n",
      " 9   created_at           738688 non-null  object \n",
      " 10  updated_at           738688 non-null  object \n",
      " 11  front_end_id         0 non-null       float64\n",
      " 12  session_id           738688 non-null  int64  \n",
      " 13  discarded            738688 non-null  object \n",
      " 14  discard_reason       4621 non-null    float64\n",
      " 15  imported             738688 non-null  object \n",
      "dtypes: float64(9), int64(3), object(4)\n",
      "memory usage: 90.2+ MB\n"
     ]
    }
   ],
   "source": [
    "session_executions.info()"
   ]
  },
  {
   "cell_type": "code",
   "execution_count": 3,
   "id": "b8073301",
   "metadata": {},
   "outputs": [
    {
     "data": {
      "text/html": [
       "<div>\n",
       "<style scoped>\n",
       "    .dataframe tbody tr th:only-of-type {\n",
       "        vertical-align: middle;\n",
       "    }\n",
       "\n",
       "    .dataframe tbody tr th {\n",
       "        vertical-align: top;\n",
       "    }\n",
       "\n",
       "    .dataframe thead th {\n",
       "        text-align: right;\n",
       "    }\n",
       "</style>\n",
       "<table border=\"1\" class=\"dataframe\">\n",
       "  <thead>\n",
       "    <tr style=\"text-align: right;\">\n",
       "      <th></th>\n",
       "      <th>id</th>\n",
       "      <th>scheduled_at</th>\n",
       "      <th>user_program_id</th>\n",
       "      <th>difficulty_feedback</th>\n",
       "      <th>enjoyment_feedback</th>\n",
       "      <th>feedback_comment</th>\n",
       "      <th>reps_executed</th>\n",
       "      <th>execution_time</th>\n",
       "      <th>order</th>\n",
       "      <th>created_at</th>\n",
       "      <th>updated_at</th>\n",
       "      <th>front_end_id</th>\n",
       "      <th>session_id</th>\n",
       "      <th>discarded</th>\n",
       "      <th>discard_reason</th>\n",
       "      <th>imported</th>\n",
       "    </tr>\n",
       "  </thead>\n",
       "  <tbody>\n",
       "    <tr>\n",
       "      <th>0</th>\n",
       "      <td>4201</td>\n",
       "      <td>NaN</td>\n",
       "      <td>2016</td>\n",
       "      <td>7.00</td>\n",
       "      <td>4.00</td>\n",
       "      <td>NaN</td>\n",
       "      <td>600.00</td>\n",
       "      <td>NaN</td>\n",
       "      <td>NaN</td>\n",
       "      <td>2021-08-11 11:36:19.323204</td>\n",
       "      <td>2021-08-11 11:36:19.785554</td>\n",
       "      <td>NaN</td>\n",
       "      <td>659</td>\n",
       "      <td>f</td>\n",
       "      <td>NaN</td>\n",
       "      <td>f</td>\n",
       "    </tr>\n",
       "    <tr>\n",
       "      <th>1</th>\n",
       "      <td>4283</td>\n",
       "      <td>NaN</td>\n",
       "      <td>2272</td>\n",
       "      <td>NaN</td>\n",
       "      <td>NaN</td>\n",
       "      <td>NaN</td>\n",
       "      <td>NaN</td>\n",
       "      <td>NaN</td>\n",
       "      <td>NaN</td>\n",
       "      <td>2021-08-30 08:25:17.488913</td>\n",
       "      <td>2021-08-30 08:25:17.488913</td>\n",
       "      <td>NaN</td>\n",
       "      <td>536</td>\n",
       "      <td>t</td>\n",
       "      <td>4.00</td>\n",
       "      <td>f</td>\n",
       "    </tr>\n",
       "    <tr>\n",
       "      <th>2</th>\n",
       "      <td>4399</td>\n",
       "      <td>NaN</td>\n",
       "      <td>2393</td>\n",
       "      <td>4.00</td>\n",
       "      <td>3.00</td>\n",
       "      <td>NaN</td>\n",
       "      <td>144.00</td>\n",
       "      <td>NaN</td>\n",
       "      <td>NaN</td>\n",
       "      <td>2021-09-10 06:31:18.708608</td>\n",
       "      <td>2021-09-10 06:31:18.888265</td>\n",
       "      <td>NaN</td>\n",
       "      <td>692</td>\n",
       "      <td>f</td>\n",
       "      <td>NaN</td>\n",
       "      <td>f</td>\n",
       "    </tr>\n",
       "    <tr>\n",
       "      <th>3</th>\n",
       "      <td>4850</td>\n",
       "      <td>NaN</td>\n",
       "      <td>2791</td>\n",
       "      <td>7.00</td>\n",
       "      <td>5.00</td>\n",
       "      <td>NaN</td>\n",
       "      <td>576.00</td>\n",
       "      <td>NaN</td>\n",
       "      <td>NaN</td>\n",
       "      <td>2021-09-29 08:00:27.051064</td>\n",
       "      <td>2021-09-29 08:00:27.507686</td>\n",
       "      <td>NaN</td>\n",
       "      <td>644</td>\n",
       "      <td>f</td>\n",
       "      <td>NaN</td>\n",
       "      <td>f</td>\n",
       "    </tr>\n",
       "    <tr>\n",
       "      <th>4</th>\n",
       "      <td>4672</td>\n",
       "      <td>NaN</td>\n",
       "      <td>2447</td>\n",
       "      <td>5.00</td>\n",
       "      <td>3.00</td>\n",
       "      <td>NaN</td>\n",
       "      <td>174.00</td>\n",
       "      <td>NaN</td>\n",
       "      <td>NaN</td>\n",
       "      <td>2021-09-21 08:30:05.543407</td>\n",
       "      <td>2021-09-21 08:30:05.658811</td>\n",
       "      <td>NaN</td>\n",
       "      <td>691</td>\n",
       "      <td>f</td>\n",
       "      <td>NaN</td>\n",
       "      <td>f</td>\n",
       "    </tr>\n",
       "  </tbody>\n",
       "</table>\n",
       "</div>"
      ],
      "text/plain": [
       "     id  scheduled_at  user_program_id  difficulty_feedback  \\\n",
       "0  4201           NaN             2016                 7.00   \n",
       "1  4283           NaN             2272                  NaN   \n",
       "2  4399           NaN             2393                 4.00   \n",
       "3  4850           NaN             2791                 7.00   \n",
       "4  4672           NaN             2447                 5.00   \n",
       "\n",
       "   enjoyment_feedback  feedback_comment  reps_executed  execution_time  order  \\\n",
       "0                4.00               NaN         600.00             NaN    NaN   \n",
       "1                 NaN               NaN            NaN             NaN    NaN   \n",
       "2                3.00               NaN         144.00             NaN    NaN   \n",
       "3                5.00               NaN         576.00             NaN    NaN   \n",
       "4                3.00               NaN         174.00             NaN    NaN   \n",
       "\n",
       "                   created_at                  updated_at  front_end_id  \\\n",
       "0  2021-08-11 11:36:19.323204  2021-08-11 11:36:19.785554           NaN   \n",
       "1  2021-08-30 08:25:17.488913  2021-08-30 08:25:17.488913           NaN   \n",
       "2  2021-09-10 06:31:18.708608  2021-09-10 06:31:18.888265           NaN   \n",
       "3  2021-09-29 08:00:27.051064  2021-09-29 08:00:27.507686           NaN   \n",
       "4  2021-09-21 08:30:05.543407  2021-09-21 08:30:05.658811           NaN   \n",
       "\n",
       "   session_id discarded  discard_reason imported  \n",
       "0         659         f             NaN        f  \n",
       "1         536         t            4.00        f  \n",
       "2         692         f             NaN        f  \n",
       "3         644         f             NaN        f  \n",
       "4         691         f             NaN        f  "
      ]
     },
     "execution_count": 3,
     "metadata": {},
     "output_type": "execute_result"
    }
   ],
   "source": [
    "session_executions.head()"
   ]
  },
  {
   "cell_type": "markdown",
   "id": "c24592ec",
   "metadata": {},
   "source": [
    "Columns\n",
    "\n",
    "* *scheduled_at*,\n",
    "* *feedback_comment*,\n",
    "* *order*,\n",
    "* *created_at*, *updated_at*,\n",
    "* *front_end_id*,\n",
    "* *imported*\n",
    "\n",
    "will be dropped, because they won't be important for the analysis. For the analysis variables taken into consideration are:\n",
    "\n",
    "* *user_program_id* - ID number of user_program from *user_programs* table,\n",
    "* *difficulty_feedback* - feedback of difficulty of completed program (on scale 1 to 10),\n",
    "* *enjoyment_feedback* - feedback of enjoyment of completed program (on scale 1 to 10), **ask about enjoyment scale**\n",
    "* *reps_executed* - how many reps were done during program,\n",
    "* *execution_time* - how many seconds **(?)** were spent doing exercises only with time values,\n",
    "* *session_id* - ID number of session,\n",
    "* *discarded* - was a session discarded (true/false),\n",
    "* *discard_reason* - **supposed to be a legend for it here**.\n",
    "\n",
    "The information and glimpse of reduced data are given below."
   ]
  },
  {
   "cell_type": "code",
   "execution_count": 4,
   "id": "54425694",
   "metadata": {},
   "outputs": [],
   "source": [
    "session_executions2 = session_executions.drop(['scheduled_at', 'feedback_comment',\n",
    "                                              'order', 'created_at', 'updated_at',\n",
    "                                              'front_end_id', 'imported'], axis = 1)\n",
    "\n",
    "session_executions2.replace('t', 'True', inplace = True)\n",
    "session_executions2.replace('f', 'False', inplace = True)\n",
    "\n",
    "session_executions2['discarded'] = session_executions2['discarded'].astype('category')\n",
    "session_executions2['discard_reason'] = session_executions2['discard_reason'].astype('category')\n"
   ]
  },
  {
   "cell_type": "code",
   "execution_count": 5,
   "id": "569ab690",
   "metadata": {},
   "outputs": [
    {
     "name": "stdout",
     "output_type": "stream",
     "text": [
      "<class 'pandas.core.frame.DataFrame'>\n",
      "RangeIndex: 738688 entries, 0 to 738687\n",
      "Data columns (total 9 columns):\n",
      " #   Column               Non-Null Count   Dtype   \n",
      "---  ------               --------------   -----   \n",
      " 0   id                   738688 non-null  int64   \n",
      " 1   user_program_id      738688 non-null  int64   \n",
      " 2   difficulty_feedback  597620 non-null  float64 \n",
      " 3   enjoyment_feedback   597626 non-null  float64 \n",
      " 4   reps_executed        732862 non-null  float64 \n",
      " 5   execution_time       682258 non-null  float64 \n",
      " 6   session_id           738688 non-null  int64   \n",
      " 7   discarded            738688 non-null  category\n",
      " 8   discard_reason       4621 non-null    category\n",
      "dtypes: category(2), float64(4), int64(3)\n",
      "memory usage: 40.9 MB\n"
     ]
    }
   ],
   "source": [
    "session_executions2.info()"
   ]
  },
  {
   "cell_type": "code",
   "execution_count": 6,
   "id": "b93f0660",
   "metadata": {},
   "outputs": [
    {
     "data": {
      "text/html": [
       "<div>\n",
       "<style scoped>\n",
       "    .dataframe tbody tr th:only-of-type {\n",
       "        vertical-align: middle;\n",
       "    }\n",
       "\n",
       "    .dataframe tbody tr th {\n",
       "        vertical-align: top;\n",
       "    }\n",
       "\n",
       "    .dataframe thead th {\n",
       "        text-align: right;\n",
       "    }\n",
       "</style>\n",
       "<table border=\"1\" class=\"dataframe\">\n",
       "  <thead>\n",
       "    <tr style=\"text-align: right;\">\n",
       "      <th></th>\n",
       "      <th>id</th>\n",
       "      <th>user_program_id</th>\n",
       "      <th>difficulty_feedback</th>\n",
       "      <th>enjoyment_feedback</th>\n",
       "      <th>reps_executed</th>\n",
       "      <th>execution_time</th>\n",
       "      <th>session_id</th>\n",
       "      <th>discarded</th>\n",
       "      <th>discard_reason</th>\n",
       "    </tr>\n",
       "  </thead>\n",
       "  <tbody>\n",
       "    <tr>\n",
       "      <th>0</th>\n",
       "      <td>4201</td>\n",
       "      <td>2016</td>\n",
       "      <td>7.00</td>\n",
       "      <td>4.00</td>\n",
       "      <td>600.00</td>\n",
       "      <td>NaN</td>\n",
       "      <td>659</td>\n",
       "      <td>False</td>\n",
       "      <td>NaN</td>\n",
       "    </tr>\n",
       "    <tr>\n",
       "      <th>1</th>\n",
       "      <td>4283</td>\n",
       "      <td>2272</td>\n",
       "      <td>NaN</td>\n",
       "      <td>NaN</td>\n",
       "      <td>NaN</td>\n",
       "      <td>NaN</td>\n",
       "      <td>536</td>\n",
       "      <td>True</td>\n",
       "      <td>4.00</td>\n",
       "    </tr>\n",
       "    <tr>\n",
       "      <th>2</th>\n",
       "      <td>4399</td>\n",
       "      <td>2393</td>\n",
       "      <td>4.00</td>\n",
       "      <td>3.00</td>\n",
       "      <td>144.00</td>\n",
       "      <td>NaN</td>\n",
       "      <td>692</td>\n",
       "      <td>False</td>\n",
       "      <td>NaN</td>\n",
       "    </tr>\n",
       "    <tr>\n",
       "      <th>3</th>\n",
       "      <td>4850</td>\n",
       "      <td>2791</td>\n",
       "      <td>7.00</td>\n",
       "      <td>5.00</td>\n",
       "      <td>576.00</td>\n",
       "      <td>NaN</td>\n",
       "      <td>644</td>\n",
       "      <td>False</td>\n",
       "      <td>NaN</td>\n",
       "    </tr>\n",
       "    <tr>\n",
       "      <th>4</th>\n",
       "      <td>4672</td>\n",
       "      <td>2447</td>\n",
       "      <td>5.00</td>\n",
       "      <td>3.00</td>\n",
       "      <td>174.00</td>\n",
       "      <td>NaN</td>\n",
       "      <td>691</td>\n",
       "      <td>False</td>\n",
       "      <td>NaN</td>\n",
       "    </tr>\n",
       "  </tbody>\n",
       "</table>\n",
       "</div>"
      ],
      "text/plain": [
       "     id  user_program_id  difficulty_feedback  enjoyment_feedback  \\\n",
       "0  4201             2016                 7.00                4.00   \n",
       "1  4283             2272                  NaN                 NaN   \n",
       "2  4399             2393                 4.00                3.00   \n",
       "3  4850             2791                 7.00                5.00   \n",
       "4  4672             2447                 5.00                3.00   \n",
       "\n",
       "   reps_executed  execution_time  session_id discarded discard_reason  \n",
       "0         600.00             NaN         659     False            NaN  \n",
       "1            NaN             NaN         536      True           4.00  \n",
       "2         144.00             NaN         692     False            NaN  \n",
       "3         576.00             NaN         644     False            NaN  \n",
       "4         174.00             NaN         691     False            NaN  "
      ]
     },
     "execution_count": 6,
     "metadata": {},
     "output_type": "execute_result"
    }
   ],
   "source": [
    "session_executions2.head()"
   ]
  },
  {
   "cell_type": "markdown",
   "id": "7c56c2d0",
   "metadata": {},
   "source": [
    "On difficulty feedback there are 597620 (81%) observations, enjoyment feedback has 597626 (81%) observations. Variable reps executed has 732862 (99%) observations, execution time has 682258 (92%) observations and discarded reason has 4621 (less than 0.05%)."
   ]
  },
  {
   "cell_type": "markdown",
   "id": "05a39cec",
   "metadata": {},
   "source": [
    "## Numerical data"
   ]
  },
  {
   "cell_type": "markdown",
   "id": "760341be",
   "metadata": {},
   "source": [
    "Numerical variables taken into consideration are:\n",
    "\n",
    "* *difficulty_feedback*,\n",
    "* *enjoyment_feedback*,\n",
    "* *reps_executed* and\n",
    "* *execution_time*."
   ]
  },
  {
   "cell_type": "markdown",
   "id": "80332e1e",
   "metadata": {},
   "source": [
    "### Summary statistics"
   ]
  },
  {
   "cell_type": "markdown",
   "id": "59fb5af8",
   "metadata": {},
   "source": [
    "Below there is summary statistics about this variable that contains mean, standard deviation, minimum, maximum, quartiles, variance, skewness, kurtosis and NULL count."
   ]
  },
  {
   "cell_type": "code",
   "execution_count": 7,
   "id": "27de26fd",
   "metadata": {},
   "outputs": [
    {
     "data": {
      "text/html": [
       "<div>\n",
       "<style scoped>\n",
       "    .dataframe tbody tr th:only-of-type {\n",
       "        vertical-align: middle;\n",
       "    }\n",
       "\n",
       "    .dataframe tbody tr th {\n",
       "        vertical-align: top;\n",
       "    }\n",
       "\n",
       "    .dataframe thead th {\n",
       "        text-align: right;\n",
       "    }\n",
       "</style>\n",
       "<table border=\"1\" class=\"dataframe\">\n",
       "  <thead>\n",
       "    <tr style=\"text-align: right;\">\n",
       "      <th></th>\n",
       "      <th>count</th>\n",
       "      <th>mean</th>\n",
       "      <th>std</th>\n",
       "      <th>min</th>\n",
       "      <th>25%</th>\n",
       "      <th>50%</th>\n",
       "      <th>75%</th>\n",
       "      <th>max</th>\n",
       "      <th>var</th>\n",
       "      <th>skewness</th>\n",
       "      <th>kurtosis</th>\n",
       "      <th>NULL count</th>\n",
       "    </tr>\n",
       "  </thead>\n",
       "  <tbody>\n",
       "    <tr>\n",
       "      <th>difficulty_feedback</th>\n",
       "      <td>597620.00</td>\n",
       "      <td>5.50</td>\n",
       "      <td>2.31</td>\n",
       "      <td>1.00</td>\n",
       "      <td>5.00</td>\n",
       "      <td>5.00</td>\n",
       "      <td>5.00</td>\n",
       "      <td>10.00</td>\n",
       "      <td>5.33</td>\n",
       "      <td>0.54</td>\n",
       "      <td>0.60</td>\n",
       "      <td>141068</td>\n",
       "    </tr>\n",
       "    <tr>\n",
       "      <th>enjoyment_feedback</th>\n",
       "      <td>597626.00</td>\n",
       "      <td>3.56</td>\n",
       "      <td>1.02</td>\n",
       "      <td>1.00</td>\n",
       "      <td>3.00</td>\n",
       "      <td>3.00</td>\n",
       "      <td>5.00</td>\n",
       "      <td>5.00</td>\n",
       "      <td>1.05</td>\n",
       "      <td>0.21</td>\n",
       "      <td>-0.46</td>\n",
       "      <td>141062</td>\n",
       "    </tr>\n",
       "    <tr>\n",
       "      <th>reps_executed</th>\n",
       "      <td>732862.00</td>\n",
       "      <td>3601.83</td>\n",
       "      <td>2481357.56</td>\n",
       "      <td>-3.00</td>\n",
       "      <td>0.00</td>\n",
       "      <td>126.00</td>\n",
       "      <td>244.00</td>\n",
       "      <td>2111101353.00</td>\n",
       "      <td>6157135336092.50</td>\n",
       "      <td>841.17</td>\n",
       "      <td>714986.40</td>\n",
       "      <td>5826</td>\n",
       "    </tr>\n",
       "    <tr>\n",
       "      <th>execution_time</th>\n",
       "      <td>682258.00</td>\n",
       "      <td>1059.93</td>\n",
       "      <td>1727.98</td>\n",
       "      <td>0.00</td>\n",
       "      <td>0.00</td>\n",
       "      <td>811.00</td>\n",
       "      <td>1463.00</td>\n",
       "      <td>86340.00</td>\n",
       "      <td>2985898.22</td>\n",
       "      <td>11.95</td>\n",
       "      <td>358.22</td>\n",
       "      <td>56430</td>\n",
       "    </tr>\n",
       "  </tbody>\n",
       "</table>\n",
       "</div>"
      ],
      "text/plain": [
       "                        count    mean        std   min  25%    50%     75%  \\\n",
       "difficulty_feedback 597620.00    5.50       2.31  1.00 5.00   5.00    5.00   \n",
       "enjoyment_feedback  597626.00    3.56       1.02  1.00 3.00   3.00    5.00   \n",
       "reps_executed       732862.00 3601.83 2481357.56 -3.00 0.00 126.00  244.00   \n",
       "execution_time      682258.00 1059.93    1727.98  0.00 0.00 811.00 1463.00   \n",
       "\n",
       "                              max              var  skewness  kurtosis  \\\n",
       "difficulty_feedback         10.00             5.33      0.54      0.60   \n",
       "enjoyment_feedback           5.00             1.05      0.21     -0.46   \n",
       "reps_executed       2111101353.00 6157135336092.50    841.17 714986.40   \n",
       "execution_time           86340.00       2985898.22     11.95    358.22   \n",
       "\n",
       "                     NULL count  \n",
       "difficulty_feedback      141068  \n",
       "enjoyment_feedback       141062  \n",
       "reps_executed              5826  \n",
       "execution_time            56430  "
      ]
     },
     "execution_count": 7,
     "metadata": {},
     "output_type": "execute_result"
    }
   ],
   "source": [
    "num_t = session_executions2.loc[:, ['difficulty_feedback', 'enjoyment_feedback', 'reps_executed', 'execution_time']]\n",
    "num_t_desc = num_t.describe()\n",
    "num_t_desc = num_t_desc.transpose()\n",
    "num_t_desc[\"var\"] = num_t.var()\n",
    "num_t_desc[\"skewness\"] = num_t.skew()\n",
    "num_t_desc[\"kurtosis\"] = num_t.kurtosis()\n",
    "num_t_desc[\"NULL count\"] = num_t.isna().sum()\n",
    "num_t_desc"
   ]
  },
  {
   "cell_type": "markdown",
   "id": "0bc059eb",
   "metadata": {},
   "source": [
    "For *difficulty_feedback* variable mean value is 5.5 (SD 2.3), median is 5 (IQR 5 - 5) and maximum value is 10. For *enjoyment_feedback* variable mean value is 3.6 (SD 1), median is 3 (IQR  3 - 5) and maximum is 5. For *reps_executed* variables there are outliers, because the minimum value is -3 reps and maximum is 2111101353 reps executed. Mean value is 3602 (SD 2481358), median is 126 (IQR 0 - 244). For *execution_time* variable mean is 1059 seconds (SD 1728), median is 811 seconds per block (IQR 0 - 1463) and maximum is 86340 seconds. \n",
    "\n",
    "Difficulty feedback and enjoyment feedback can be also considered as categorical variables. It will be done in the Categorical variables section."
   ]
  },
  {
   "cell_type": "markdown",
   "id": "b5edba74",
   "metadata": {},
   "source": [
    "Below there is a barplot with NULL count of numeric data."
   ]
  },
  {
   "cell_type": "code",
   "execution_count": 8,
   "id": "6c8f4c60",
   "metadata": {},
   "outputs": [],
   "source": [
    "num_null_counts = []\n",
    "num_no_null_counts = []\n",
    "\n",
    "for col in num_t.columns:\n",
    "    num_null_counts.append(num_t[col].isnull().sum())\n",
    "    num_no_null_counts.append(len(num_t[col]) - num_t[col].isnull().sum())\n",
    "\n",
    "null_c = {\n",
    "    'True': num_null_counts,\n",
    "    'False': num_no_null_counts\n",
    "}\n",
    "\n",
    "null_counts = pd.DataFrame(null_c)\n",
    "null_counts.set_index(num_t.columns, inplace = True)\n"
   ]
  },
  {
   "cell_type": "code",
   "execution_count": 9,
   "id": "45c62f49",
   "metadata": {},
   "outputs": [
    {
     "data": {
      "image/png": "[encoded data removed]",
      "text/plain": [
       "<Figure size 864x360 with 1 Axes>"
      ]
     },
     "metadata": {
      "needs_background": "light"
     },
     "output_type": "display_data"
    }
   ],
   "source": [
    "ax = null_counts.plot.bar(rot=1, figsize = (12,5), title = 'NULL count of observations')\n",
    "\n",
    "# ax.tick_params(axis='x', labelrotation = 90)\n",
    "\n",
    "for c, col in zip(ax.containers, null_counts.columns):\n",
    "    ax.bar_label(c, label_type='edge', labels=[f'{val}' for val in null_counts[col]])\n",
    "\n",
    "ax.legend(title='NULL', bbox_to_anchor=(1, 1), loc='upper left')\n",
    "    \n",
    "ax.spines['right'].set_visible(False)\n",
    "ax.spines['top'].set_visible(False)\n",
    "\n",
    "plt.tight_layout()\n",
    "plt.show()"
   ]
  },
  {
   "cell_type": "markdown",
   "id": "3f79d19f",
   "metadata": {},
   "source": [
    "### Normal distribution evaluation"
   ]
  },
  {
   "cell_type": "markdown",
   "id": "41d8b4d8",
   "metadata": {},
   "source": [
    "In this section, the normal distribution evaluation will be done. For this purpose, there will be histogram, qqplot and Shapiro-Wilk test done. Below there are histograms."
   ]
  },
  {
   "cell_type": "code",
   "execution_count": 10,
   "id": "1a9a0999",
   "metadata": {},
   "outputs": [
    {
     "data": {
      "text/plain": [
       "Text(0.5, 0.98, 'Histogram for numeric variables')"
      ]
     },
     "execution_count": 10,
     "metadata": {},
     "output_type": "execute_result"
    },
    {
     "data": {
      "image/png": "[encoded data removed]",
      "text/plain": [
       "<Figure size 1080x648 with 4 Axes>"
      ]
     },
     "metadata": {
      "needs_background": "light"
     },
     "output_type": "display_data"
    }
   ],
   "source": [
    "num_t.hist(layout=(2,2), grid = False, bins = 25, edgecolor='black', figsize=(15,9))\n",
    "plt.suptitle('Histogram for numeric variables', fontsize = 15)"
   ]
  },
  {
   "cell_type": "markdown",
   "id": "8ec12a95",
   "metadata": {},
   "source": [
    "Below there are qqplots."
   ]
  },
  {
   "cell_type": "code",
   "execution_count": 11,
   "id": "516d37c1",
   "metadata": {},
   "outputs": [
    {
     "data": {
      "text/plain": [
       "Text(0.5, 1.05, 'QQ plots for numeric variables')"
      ]
     },
     "execution_count": 11,
     "metadata": {},
     "output_type": "execute_result"
    },
    {
     "data": {
      "image/png": "[encoded data removed]",
      "text/plain": [
       "<Figure size 1080x648 with 4 Axes>"
      ]
     },
     "metadata": {
      "needs_background": "light"
     },
     "output_type": "display_data"
    }
   ],
   "source": [
    "fig, axes = plt.subplots(ncols=2, nrows=2, sharex=True, figsize=(15,9))\n",
    "for k, ax in zip(num_t.columns, np.ravel(axes)):\n",
    "\n",
    "        sm.qqplot(num_t[k], line='s', ax=ax)\n",
    "        ax.set_title(f'{k}')\n",
    "plt.tight_layout()\n",
    "plt.suptitle('QQ plots for numeric variables', fontsize = 20, y = 1.05)"
   ]
  },
  {
   "cell_type": "markdown",
   "id": "cfe52eb3",
   "metadata": {},
   "source": [
    "And last, but not least, below there is the table with Shapiro-Wilk test statistics."
   ]
  },
  {
   "cell_type": "code",
   "execution_count": 12,
   "id": "3bc7ff95",
   "metadata": {},
   "outputs": [
    {
     "data": {
      "text/html": [
       "<div>\n",
       "<style scoped>\n",
       "    .dataframe tbody tr th:only-of-type {\n",
       "        vertical-align: middle;\n",
       "    }\n",
       "\n",
       "    .dataframe tbody tr th {\n",
       "        vertical-align: top;\n",
       "    }\n",
       "\n",
       "    .dataframe thead th {\n",
       "        text-align: right;\n",
       "    }\n",
       "</style>\n",
       "<table border=\"1\" class=\"dataframe\">\n",
       "  <thead>\n",
       "    <tr style=\"text-align: right;\">\n",
       "      <th></th>\n",
       "      <th>difficulty_feedback</th>\n",
       "      <th>enjoyment_feedback</th>\n",
       "      <th>reps_executed</th>\n",
       "      <th>execution_time</th>\n",
       "    </tr>\n",
       "  </thead>\n",
       "  <tbody>\n",
       "    <tr>\n",
       "      <th>W</th>\n",
       "      <td>0.70</td>\n",
       "      <td>0.70</td>\n",
       "      <td>0.00</td>\n",
       "      <td>0.49</td>\n",
       "    </tr>\n",
       "    <tr>\n",
       "      <th>pval</th>\n",
       "      <td>0.00</td>\n",
       "      <td>0.00</td>\n",
       "      <td>0.00</td>\n",
       "      <td>0.00</td>\n",
       "    </tr>\n",
       "    <tr>\n",
       "      <th>normal</th>\n",
       "      <td>False</td>\n",
       "      <td>False</td>\n",
       "      <td>False</td>\n",
       "      <td>False</td>\n",
       "    </tr>\n",
       "  </tbody>\n",
       "</table>\n",
       "</div>"
      ],
      "text/plain": [
       "       difficulty_feedback enjoyment_feedback reps_executed execution_time\n",
       "W                     0.70               0.70          0.00           0.49\n",
       "pval                  0.00               0.00          0.00           0.00\n",
       "normal               False              False         False          False"
      ]
     },
     "execution_count": 12,
     "metadata": {},
     "output_type": "execute_result"
    }
   ],
   "source": [
    "normal = pg.normality(num_t, method='shapiro').round(3)\n",
    "normal.transpose()"
   ]
  },
  {
   "cell_type": "markdown",
   "id": "d4c9b8ef",
   "metadata": {},
   "source": [
    "There is no normality in the data (histograms, qqplots, Shapiro-Wilk test statistics, kurtosis and skewness confirmes it)."
   ]
  },
  {
   "cell_type": "markdown",
   "id": "0b8cde35",
   "metadata": {},
   "source": [
    "### Data distribution evaluation"
   ]
  },
  {
   "cell_type": "markdown",
   "id": "a95ad5bc",
   "metadata": {},
   "source": [
    "In this section, data distribution will be checked (or the closest one). The criterion of determination for best fit is RSS (residual sum of squares). The RSS describes the deviation predicted from actual empirical values of data. For this operation, NULL values have to be deleted."
   ]
  },
  {
   "cell_type": "markdown",
   "id": "4e6218e9",
   "metadata": {},
   "source": [
    "* *difficulty_feedback* - the best distribution is *t* distribution (RSS = 10.14), then *dweibull* (RSS = 11.93), *lognorm* (RSS = 15.7), *beta* (RSS = 15.71) and gamma (RSS = 15.71)."
   ]
  },
  {
   "cell_type": "code",
   "execution_count": 15,
   "id": "b2ff1196",
   "metadata": {},
   "outputs": [
    {
     "name": "stdout",
     "output_type": "stream",
     "text": [
      "[distfit] >fit..\n",
      "[distfit] >transform..\n",
      "[distfit] >[t       ] [27.6 sec] [RSS: 10.1385] [loc=5.001 scale=0.003]\n",
      "[distfit] >[dweibull] [46.5 sec] [RSS: 11.9317] [loc=5.000 scale=1.149]\n",
      "[distfit] >[lognorm ] [26.8 sec] [RSS: 15.7027] [loc=-12.598 scale=17.953]\n",
      "[distfit] >[beta    ] [18.6 sec] [RSS: 15.7085] [loc=-7.799 scale=58082552.027]\n",
      "[distfit] >[gamma   ] [9.64 sec] [RSS: 15.7085] [loc=-7.799 scale=0.396]\n",
      "[distfit] >Compute confidence interval [parametric]\n",
      "[distfit] >plot summary..\n"
     ]
    },
    {
     "data": {
      "text/plain": [
       "(<Figure size 648x288 with 1 Axes>,\n",
       " <AxesSubplot:title={'center':'Best fit: t'}, xlabel='Distribution name', ylabel='RSS (lower is better)'>)"
      ]
     },
     "execution_count": 15,
     "metadata": {},
     "output_type": "execute_result"
    },
    {
     "data": {
      "image/png": "[encoded data removed]",
      "text/plain": [
       "<Figure size 648x288 with 1 Axes>"
      ]
     },
     "metadata": {
      "needs_background": "light"
     },
     "output_type": "display_data"
    }
   ],
   "source": [
    "num_t2 = num_t['difficulty_feedback'].dropna()\n",
    "dif_fed = num_t2.values\n",
    "dist = distfit(distr = ['t', 'dweibull', 'lognorm', 'beta', 'gamma'])\n",
    "dist.fit_transform(dif_fed)\n",
    "#dist.summary # there can be also dist.plot() and it gives the plot of distribution \n",
    "dist.plot_summary(figsize = (9,4))"
   ]
  },
  {
   "cell_type": "markdown",
   "id": "dc551dec",
   "metadata": {},
   "source": [
    "* *enjoyment_feedback* - the best fitting distribution is *beta* (RSS = 68.69), then *dweibull* (RSS = 69.21), *lognorm* (RSS = 74.38), *gamma* (RSS = 74.39) and *genextreme* (RSS = 74.52)."
   ]
  },
  {
   "cell_type": "code",
   "execution_count": 19,
   "id": "5e023b69",
   "metadata": {},
   "outputs": [
    {
     "name": "stdout",
     "output_type": "stream",
     "text": [
      "[distfit] >fit..\n",
      "[distfit] >transform..\n",
      "[distfit] >[beta      ] [36.3 sec] [RSS: 68.6935] [loc=0.957 scale=4.043]\n",
      "[distfit] >[dweibull  ] [46.9 sec] [RSS: 69.2073] [loc=3.000 scale=1.100]\n",
      "[distfit] >[lognorm   ] [29.7 sec] [RSS: 74.3774] [loc=-9.644 scale=13.161]\n",
      "[distfit] >[gamma     ] [7.63 sec] [RSS: 74.3886] [loc=-5.805 scale=0.112]\n",
      "[distfit] >[genextreme] [22.3 sec] [RSS: 74.5244] [loc=3.207 scale=1.005]\n",
      "[distfit] >Compute confidence interval [parametric]\n",
      "[distfit] >plot summary..\n"
     ]
    },
    {
     "data": {
      "text/plain": [
       "(<Figure size 648x288 with 1 Axes>,\n",
       " <AxesSubplot:title={'center':'Best fit: beta'}, xlabel='Distribution name', ylabel='RSS (lower is better)'>)"
      ]
     },
     "execution_count": 19,
     "metadata": {},
     "output_type": "execute_result"
    },
    {
     "data": {
      "image/png": "[encoded data removed]",
      "text/plain": [
       "<Figure size 648x288 with 1 Axes>"
      ]
     },
     "metadata": {
      "needs_background": "light"
     },
     "output_type": "display_data"
    }
   ],
   "source": [
    "num_t2 = num_t['enjoyment_feedback'].dropna()\n",
    "dif_fed = num_t2.values\n",
    "dist = distfit(distr = ['beta', 'dweibull', 'lognorm', 'gamma', 'genextreme'])\n",
    "dist.fit_transform(dif_fed)\n",
    "#dist.summary # there can be also dist.plot() and it gives the plot of distribution \n",
    "dist.plot_summary(figsize = (9,4))"
   ]
  },
  {
   "cell_type": "markdown",
   "id": "d79bacc2",
   "metadata": {},
   "source": [
    "* *reps_executed* - the best fitting distribution is *dweibull* (RSS < 0.0005), then *genextreme* (RSS < 0.0005), *uniform* (RSS < 0.0005), *pareto* (RSS < 0.0005) and *t* (RSS < 0.0005)."
   ]
  },
  {
   "cell_type": "code",
   "execution_count": 20,
   "id": "cde0f0d7",
   "metadata": {},
   "outputs": [
    {
     "name": "stdout",
     "output_type": "stream",
     "text": [
      "[distfit] >fit..\n",
      "[distfit] >transform..\n",
      "[distfit] >[dweibull  ] [52.8 sec] [RSS: 4.80787e-16] [loc=0.000 scale=2303252.730]\n",
      "[distfit] >[genextreme] [111. sec] [RSS: 5.39398e-16] [loc=3.227 scale=17.553]\n",
      "[distfit] >[uniform   ] [0.0 sec] [RSS: 5.4972e-16] [loc=-3.000 scale=2111101356.000]\n",
      "[distfit] >[pareto    ] [49.1 sec] [RSS: 5.59141e-16] [loc=-2.582 scale=2.362]\n",
      "[distfit] >[t         ] [28.9 sec] [RSS: 5.60072e-16] [loc=0.000 scale=0.000]\n",
      "[distfit] >Compute confidence interval [parametric]\n",
      "[distfit] >plot summary..\n"
     ]
    },
    {
     "data": {
      "text/plain": [
       "(<Figure size 648x288 with 1 Axes>,\n",
       " <AxesSubplot:title={'center':'Best fit: dweibull'}, xlabel='Distribution name', ylabel='RSS (lower is better)'>)"
      ]
     },
     "execution_count": 20,
     "metadata": {},
     "output_type": "execute_result"
    },
    {
     "data": {
      "image/png": "[encoded data removed]",
      "text/plain": [
       "<Figure size 648x288 with 1 Axes>"
      ]
     },
     "metadata": {
      "needs_background": "light"
     },
     "output_type": "display_data"
    }
   ],
   "source": [
    "num_t2 = num_t['reps_executed'].dropna()\n",
    "dif_fed = num_t2.values\n",
    "dist = distfit(distr = ['dweibull', 'genextreme', 'uniform', 'pareto', 't'])\n",
    "dist.fit_transform(dif_fed)\n",
    "#dist.summary # there can be also dist.plot() and it gives the plot of distribution \n",
    "dist.plot_summary(figsize = (9,4))"
   ]
  },
  {
   "cell_type": "markdown",
   "id": "b448b5d6",
   "metadata": {},
   "source": [
    "* *execution_time* - the best fitting distribution is *dweibull* (RSS = 0.0000000006), then *exponential* (RSS = 0.000000007), *beta* (RSS = 0.00000005), *normal* (RSS = 0.00000008) and *logarythmic gamma* (RSS = 0.0000001)."
   ]
  },
  {
   "cell_type": "code",
   "execution_count": 21,
   "id": "a21b2a92",
   "metadata": {},
   "outputs": [
    {
     "name": "stdout",
     "output_type": "stream",
     "text": [
      "[distfit] >fit..\n",
      "[distfit] >transform..\n",
      "[distfit] >[dweibull] [21.7 sec] [RSS: 6.27233e-10] [loc=803.509 scale=890.918]\n",
      "[distfit] >[expon   ] [0.0 sec] [RSS: 6.64466e-09] [loc=0.000 scale=1059.933]\n",
      "[distfit] >[beta    ] [54.7 sec] [RSS: 5.41691e-08] [loc=-0.000 scale=101361.869]\n",
      "[distfit] >[norm    ] [0.01 sec] [RSS: 8.10511e-08] [loc=1059.933 scale=1727.974]\n",
      "[distfit] >[loggamma] [27.4 sec] [RSS: 9.84147e-08] [loc=-763766.676 scale=98309.276]\n",
      "[distfit] >Compute confidence interval [parametric]\n",
      "[distfit] >plot summary..\n"
     ]
    },
    {
     "data": {
      "text/plain": [
       "(<Figure size 648x288 with 1 Axes>,\n",
       " <AxesSubplot:title={'center':'Best fit: dweibull'}, xlabel='Distribution name', ylabel='RSS (lower is better)'>)"
      ]
     },
     "execution_count": 21,
     "metadata": {},
     "output_type": "execute_result"
    },
    {
     "data": {
      "image/png": "[encoded data removed]",
      "text/plain": [
       "<Figure size 648x288 with 1 Axes>"
      ]
     },
     "metadata": {
      "needs_background": "light"
     },
     "output_type": "display_data"
    }
   ],
   "source": [
    "num_t2 = num_t['execution_time'].dropna()\n",
    "dif_fed = num_t2.values\n",
    "dist = distfit(distr = ['dweibull', 'expon', 'beta', 'norm', 'loggamma'])\n",
    "dist.fit_transform(dif_fed)\n",
    "#dist.summary # there can be also dist.plot() and it gives the plot of distribution \n",
    "dist.plot_summary(figsize = (9,4))"
   ]
  },
  {
   "cell_type": "markdown",
   "id": "4ab059a2",
   "metadata": {},
   "source": [
    "### Outliers detection"
   ]
  },
  {
   "cell_type": "markdown",
   "id": "c8366641",
   "metadata": {},
   "source": [
    "The outliers detection will be done as soon as definition of an outlier will be specified."
   ]
  },
  {
   "cell_type": "markdown",
   "id": "b5e16e3e",
   "metadata": {},
   "source": [
    "## Categorical variables"
   ]
  },
  {
   "cell_type": "markdown",
   "id": "030cfe91",
   "metadata": {},
   "source": [
    "Categorical variables can be not only\n",
    "\n",
    "* *discarded*,\n",
    "* *discard_reason*\n",
    "\n",
    "but also\n",
    "\n",
    "* *difficulty_feedback* and\n",
    "* *enjoyment_feedback*."
   ]
  },
  {
   "cell_type": "code",
   "execution_count": 18,
   "id": "6f0b00c7",
   "metadata": {},
   "outputs": [],
   "source": [
    "session_executions2['difficulty_feedback'] = session_executions2['difficulty_feedback'].astype('category')\n",
    "session_executions2['enjoyment_feedback'] = session_executions2['enjoyment_feedback'].astype('category')"
   ]
  },
  {
   "cell_type": "code",
   "execution_count": 22,
   "id": "a4f45993",
   "metadata": {},
   "outputs": [],
   "source": [
    "def my_freq_table(data, var, sort = True, cumul_percent = False):\n",
    "    myFreqTable = data[var].value_counts()\n",
    "    myFreqTable = pd.DataFrame({var: myFreqTable.keys(), 'Frequency': myFreqTable.values})\n",
    "    myFreqTable = myFreqTable.astype({'Frequency': 'int32'})\n",
    "    \n",
    "    if sort == True:\n",
    "        myFreqTable = myFreqTable.sort_values(by=[var])\n",
    "        myFreqTable = myFreqTable.reset_index(drop=True)\n",
    "    \n",
    "    myFreqTable['Percent'] = myFreqTable['Frequency']/myFreqTable['Frequency'].sum()*100\n",
    "    \n",
    "    sum_row1 = myFreqTable['Frequency'].sum()\n",
    "    sum_row2 = myFreqTable['Percent'].sum()\n",
    "    sum_row2 = sum_row2.round(2).astype('str') + '%'\n",
    "    \n",
    "    myFreqTable['Percent'] = myFreqTable['Percent'].round(2).astype('str') + '%'\n",
    "    \n",
    "    if cumul_percent == True:\n",
    "        myFreqTable['Cumulative Percent'] = myFreqTable['Frequency'].cumsum() / myFreqTable['Frequency'].sum() * 100\n",
    "        myFreqTable['Cumulative Percent'] = myFreqTable['Cumulative Percent'].round(2).astype('str') + '%'\n",
    "        sum_row_c = '-'\n",
    "    \n",
    "    '''\n",
    "    if valid_percent == True:\n",
    "    \n",
    "        myMissingCategory = [np.NaN]\n",
    "\n",
    "        myFreqTable2 = myFreqTable\n",
    "        isNonmisAr = np.array([])\n",
    "\n",
    "        for i in data[var]:\n",
    "            isNotMissing=1\n",
    "            for j in myMissingCategory:\n",
    "                if i==j:\n",
    "                    isNotMissing=0\n",
    "            isNonmisAr = np.append(isNonmisAr, [isNotMissing])\n",
    "        \n",
    "        validSum = sum(myFreqTable2['Frequency']*isNonmisAr)\n",
    "        validPerc = myFreqTable2['Frequency']/validSum*isNonmisAr*100\n",
    "        \n",
    "        for i in range(len(validPerc)):\n",
    "            if isNonmisAr[i]==0:\n",
    "                validPerc[i]=np.nan\n",
    "        \n",
    "        myFreqTable2['Valid Percent'] = validPerc\n",
    "        \n",
    "        if cumul_percent == True:\n",
    "            myFreqTable2['Cumulative Valid Percent'] = myFreqTable2['Valid Percent'].cumsum()\n",
    "            \n",
    "            sum_c_2 = '-'\n",
    "            \n",
    "            myFreqTable2['Cumulative Valid Percent'] = myFreqTable2['Cumulative Valid Percent'].round(2).astype('str') + '%'\n",
    "        \n",
    "        sum_valid_percent = myFreqTable2['Valid Percent'].sum()\n",
    "        \n",
    "        myFreqTable2['Valid Percent'] = myFreqTable2['Valid Percent'].round(2).astype('str') + '%'\n",
    "        \n",
    "        sum_valid_percent = sum_valid_percent.round(2).astype('str') + '%'\n",
    "        \n",
    "        #myFreqTable2 = myFreqTable2.set_index(var)\n",
    "        \n",
    "        # return(myFreqTable2)\n",
    "    \n",
    "       \n",
    "    if (valid_percent == True) and (cumul_percent == True):\n",
    "        new_rows = {'Frequency': sum_row1, 'Percent': sum_row2, \n",
    "                    'Cumulative Percent': sum_row_c, \n",
    "                    'Valid Percent': sum_valid_percent,\n",
    "                    'Cumulative Valid Percent': sum_c_2}\n",
    "        \n",
    "    elif (valid_percent == False) and (cumul_percent == True):\n",
    "        new_rows = {'Frequency': sum_row1, 'Percent': sum_row2, \n",
    "                    'Cumulative Percent': sum_row_c}\n",
    "        \n",
    "    elif (valid_percent == True) and (cumul_percent == False):\n",
    "        new_rows = {'Frequency': sum_row1, 'Percent': sum_row2,\n",
    "                    'Valid Percent': sum_valid_percent}\n",
    "            \n",
    "    else: new_rows = {'Frequency': sum_row1, 'Percent': sum_row2}\n",
    "    \n",
    "    if valid_percent == True:\n",
    "        myFreqTable = myFreqTable2\n",
    "    '''\n",
    "    \n",
    "    if cumul_percent == True:\n",
    "        new_rows = {'Frequency': sum_row1, 'Percent': sum_row2, \n",
    "                    'Cumulative Percent': sum_row_c}\n",
    "    else: new_rows = {'Frequency': sum_row1, 'Percent': sum_row2}\n",
    "    \n",
    "    myFreqTable = myFreqTable.append(new_rows, ignore_index=True)\n",
    "    cats = data[var].cat.add_categories(['Total'])\n",
    "    myFreqTable.set_index(cats.cat.categories, inplace = True)\n",
    "    \n",
    "    cols = myFreqTable.columns\n",
    "    \n",
    "    for col in cols:\n",
    "        if col == var:\n",
    "            myFreqTable = myFreqTable.drop(var, axis = 1)\n",
    "    #myFreqTable.rename(index = {'NaN': 'Total'}, inplace = True)\n",
    "    \n",
    "    return(myFreqTable)\n",
    "    "
   ]
  },
  {
   "cell_type": "code",
   "execution_count": 23,
   "id": "198af007",
   "metadata": {},
   "outputs": [],
   "source": [
    "discarded = my_freq_table(session_executions2, var = 'discarded', cumul_percent = True)\n",
    "discard_reason = my_freq_table(session_executions2, var = 'discard_reason', cumul_percent = True)\n",
    "enjoyment_feedback = my_freq_table(session_executions2, var = 'enjoyment_feedback', cumul_percent = True)\n",
    "difficulty_feedback = my_freq_table(session_executions2, var = 'difficulty_feedback', cumul_percent = True)"
   ]
  },
  {
   "cell_type": "code",
   "execution_count": 27,
   "id": "4dd8d56a",
   "metadata": {},
   "outputs": [
    {
     "data": {
      "text/html": [
       "<div>\n",
       "<style scoped>\n",
       "    .dataframe tbody tr th:only-of-type {\n",
       "        vertical-align: middle;\n",
       "    }\n",
       "\n",
       "    .dataframe tbody tr th {\n",
       "        vertical-align: top;\n",
       "    }\n",
       "\n",
       "    .dataframe thead th {\n",
       "        text-align: right;\n",
       "    }\n",
       "</style>\n",
       "<table border=\"1\" class=\"dataframe\">\n",
       "  <thead>\n",
       "    <tr style=\"text-align: right;\">\n",
       "      <th></th>\n",
       "      <th></th>\n",
       "      <th>Frequency</th>\n",
       "      <th>Percent</th>\n",
       "      <th>Cumulative Percent</th>\n",
       "    </tr>\n",
       "    <tr>\n",
       "      <th>Variable</th>\n",
       "      <th>factors</th>\n",
       "      <th></th>\n",
       "      <th></th>\n",
       "      <th></th>\n",
       "    </tr>\n",
       "  </thead>\n",
       "  <tbody>\n",
       "    <tr>\n",
       "      <th>Dicarded</th>\n",
       "      <th></th>\n",
       "      <td></td>\n",
       "      <td></td>\n",
       "      <td></td>\n",
       "    </tr>\n",
       "    <tr>\n",
       "      <th rowspan=\"3\" valign=\"top\"></th>\n",
       "      <th>False</th>\n",
       "      <td>734067.00</td>\n",
       "      <td>99.37%</td>\n",
       "      <td>99.37%</td>\n",
       "    </tr>\n",
       "    <tr>\n",
       "      <th>True</th>\n",
       "      <td>4621.00</td>\n",
       "      <td>0.63%</td>\n",
       "      <td>100.0%</td>\n",
       "    </tr>\n",
       "    <tr>\n",
       "      <th>Total</th>\n",
       "      <td>738688.00</td>\n",
       "      <td>100.0%</td>\n",
       "      <td>-</td>\n",
       "    </tr>\n",
       "    <tr>\n",
       "      <th>Discard_reason</th>\n",
       "      <th></th>\n",
       "      <td></td>\n",
       "      <td></td>\n",
       "      <td></td>\n",
       "    </tr>\n",
       "    <tr>\n",
       "      <th rowspan=\"6\" valign=\"top\"></th>\n",
       "      <th>0.0</th>\n",
       "      <td>298.00</td>\n",
       "      <td>6.45%</td>\n",
       "      <td>6.45%</td>\n",
       "    </tr>\n",
       "    <tr>\n",
       "      <th>1.0</th>\n",
       "      <td>198.00</td>\n",
       "      <td>4.28%</td>\n",
       "      <td>10.73%</td>\n",
       "    </tr>\n",
       "    <tr>\n",
       "      <th>2.0</th>\n",
       "      <td>347.00</td>\n",
       "      <td>7.51%</td>\n",
       "      <td>18.24%</td>\n",
       "    </tr>\n",
       "    <tr>\n",
       "      <th>3.0</th>\n",
       "      <td>369.00</td>\n",
       "      <td>7.99%</td>\n",
       "      <td>26.23%</td>\n",
       "    </tr>\n",
       "    <tr>\n",
       "      <th>4.0</th>\n",
       "      <td>3409.00</td>\n",
       "      <td>73.77%</td>\n",
       "      <td>100.0%</td>\n",
       "    </tr>\n",
       "    <tr>\n",
       "      <th>Total</th>\n",
       "      <td>4621.00</td>\n",
       "      <td>100.0%</td>\n",
       "      <td>-</td>\n",
       "    </tr>\n",
       "    <tr>\n",
       "      <th>enjoyment_feedback</th>\n",
       "      <th></th>\n",
       "      <td></td>\n",
       "      <td></td>\n",
       "      <td></td>\n",
       "    </tr>\n",
       "    <tr>\n",
       "      <th rowspan=\"6\" valign=\"top\"></th>\n",
       "      <th>1.0</th>\n",
       "      <td>20014.00</td>\n",
       "      <td>3.35%</td>\n",
       "      <td>3.35%</td>\n",
       "    </tr>\n",
       "    <tr>\n",
       "      <th>2.0</th>\n",
       "      <td>998.00</td>\n",
       "      <td>0.17%</td>\n",
       "      <td>3.52%</td>\n",
       "    </tr>\n",
       "    <tr>\n",
       "      <th>3.0</th>\n",
       "      <td>381827.00</td>\n",
       "      <td>63.89%</td>\n",
       "      <td>67.41%</td>\n",
       "    </tr>\n",
       "    <tr>\n",
       "      <th>4.0</th>\n",
       "      <td>15732.00</td>\n",
       "      <td>2.63%</td>\n",
       "      <td>70.04%</td>\n",
       "    </tr>\n",
       "    <tr>\n",
       "      <th>5.0</th>\n",
       "      <td>179055.00</td>\n",
       "      <td>29.96%</td>\n",
       "      <td>100.0%</td>\n",
       "    </tr>\n",
       "    <tr>\n",
       "      <th>Total</th>\n",
       "      <td>597626.00</td>\n",
       "      <td>100.0%</td>\n",
       "      <td>-</td>\n",
       "    </tr>\n",
       "    <tr>\n",
       "      <th>difficulty_feedback</th>\n",
       "      <th></th>\n",
       "      <td></td>\n",
       "      <td></td>\n",
       "      <td></td>\n",
       "    </tr>\n",
       "    <tr>\n",
       "      <th rowspan=\"11\" valign=\"top\"></th>\n",
       "      <th>1.0</th>\n",
       "      <td>52418.00</td>\n",
       "      <td>8.77%</td>\n",
       "      <td>8.77%</td>\n",
       "    </tr>\n",
       "    <tr>\n",
       "      <th>2.0</th>\n",
       "      <td>623.00</td>\n",
       "      <td>0.1%</td>\n",
       "      <td>8.88%</td>\n",
       "    </tr>\n",
       "    <tr>\n",
       "      <th>3.0</th>\n",
       "      <td>2079.00</td>\n",
       "      <td>0.35%</td>\n",
       "      <td>9.22%</td>\n",
       "    </tr>\n",
       "    <tr>\n",
       "      <th>4.0</th>\n",
       "      <td>2869.00</td>\n",
       "      <td>0.48%</td>\n",
       "      <td>9.7%</td>\n",
       "    </tr>\n",
       "    <tr>\n",
       "      <th>5.0</th>\n",
       "      <td>423691.00</td>\n",
       "      <td>70.9%</td>\n",
       "      <td>80.6%</td>\n",
       "    </tr>\n",
       "    <tr>\n",
       "      <th>6.0</th>\n",
       "      <td>7788.00</td>\n",
       "      <td>1.3%</td>\n",
       "      <td>81.9%</td>\n",
       "    </tr>\n",
       "    <tr>\n",
       "      <th>7.0</th>\n",
       "      <td>7419.00</td>\n",
       "      <td>1.24%</td>\n",
       "      <td>83.14%</td>\n",
       "    </tr>\n",
       "    <tr>\n",
       "      <th>8.0</th>\n",
       "      <td>3857.00</td>\n",
       "      <td>0.65%</td>\n",
       "      <td>83.79%</td>\n",
       "    </tr>\n",
       "    <tr>\n",
       "      <th>9.0</th>\n",
       "      <td>1831.00</td>\n",
       "      <td>0.31%</td>\n",
       "      <td>84.1%</td>\n",
       "    </tr>\n",
       "    <tr>\n",
       "      <th>10.0</th>\n",
       "      <td>95045.00</td>\n",
       "      <td>15.9%</td>\n",
       "      <td>100.0%</td>\n",
       "    </tr>\n",
       "    <tr>\n",
       "      <th>Total</th>\n",
       "      <td>597620.00</td>\n",
       "      <td>100.0%</td>\n",
       "      <td>-</td>\n",
       "    </tr>\n",
       "  </tbody>\n",
       "</table>\n",
       "</div>"
      ],
      "text/plain": [
       "                            Frequency Percent Cumulative Percent\n",
       "Variable            factors                                     \n",
       "Dicarded                                                        \n",
       "                    False   734067.00  99.37%             99.37%\n",
       "                    True      4621.00   0.63%             100.0%\n",
       "                    Total   738688.00  100.0%                  -\n",
       "Discard_reason                                                  \n",
       "                    0.0        298.00   6.45%              6.45%\n",
       "                    1.0        198.00   4.28%             10.73%\n",
       "                    2.0        347.00   7.51%             18.24%\n",
       "                    3.0        369.00   7.99%             26.23%\n",
       "                    4.0       3409.00  73.77%             100.0%\n",
       "                    Total     4621.00  100.0%                  -\n",
       "enjoyment_feedback                                              \n",
       "                    1.0      20014.00   3.35%              3.35%\n",
       "                    2.0        998.00   0.17%              3.52%\n",
       "                    3.0     381827.00  63.89%             67.41%\n",
       "                    4.0      15732.00   2.63%             70.04%\n",
       "                    5.0     179055.00  29.96%             100.0%\n",
       "                    Total   597626.00  100.0%                  -\n",
       "difficulty_feedback                                             \n",
       "                    1.0      52418.00   8.77%              8.77%\n",
       "                    2.0        623.00    0.1%              8.88%\n",
       "                    3.0       2079.00   0.35%              9.22%\n",
       "                    4.0       2869.00   0.48%               9.7%\n",
       "                    5.0     423691.00   70.9%              80.6%\n",
       "                    6.0       7788.00    1.3%              81.9%\n",
       "                    7.0       7419.00   1.24%             83.14%\n",
       "                    8.0       3857.00   0.65%             83.79%\n",
       "                    9.0       1831.00   0.31%              84.1%\n",
       "                    10.0     95045.00   15.9%             100.0%\n",
       "                    Total   597620.00  100.0%                  -"
      ]
     },
     "execution_count": 27,
     "metadata": {},
     "output_type": "execute_result"
    }
   ],
   "source": [
    "empty_row = pd.DataFrame([''])\n",
    "freq_cat_together = pd.concat([discarded,empty_row, discard_reason,empty_row, enjoyment_feedback,empty_row,\n",
    "                               difficulty_feedback], axis = 0)\n",
    "freq_cat_together = freq_cat_together.reset_index()\n",
    "\n",
    "\n",
    "freq_cat_together.insert(0, 'Variable', value=['' for i in range(freq_cat_together.shape[0])])\n",
    "freq_cat_together = freq_cat_together.iloc[: , :-1]\n",
    "freq_cat_together.loc[-1] = ['Dicarded', '', '','','']  # adding a row\n",
    "freq_cat_together.index = freq_cat_together.index + 1  # shifting index\n",
    "\n",
    "freq_cat_together = freq_cat_together.sort_index() \n",
    "\n",
    "freq_cat_together.loc[4] =  ['Discard_reason', '', '', '', '']\n",
    "freq_cat_together.loc[11] =  ['enjoyment_feedback', '', '', '', '']\n",
    "freq_cat_together.loc[18] =  ['difficulty_feedback', '', '', '', '']\n",
    "freq_cat_together.rename(columns = {'index': 'factors'}, inplace = True)\n",
    "freq_cat_together.set_index(['Variable', 'factors'], inplace=True)\n",
    "\n",
    "\n",
    "freq_cat_together\n"
   ]
  },
  {
   "cell_type": "code",
   "execution_count": 28,
   "id": "7f3e052d",
   "metadata": {},
   "outputs": [
    {
     "data": {
      "image/png": "[encoded data removed]",
      "text/plain": [
       "<Figure size 360x360 with 1 Axes>"
      ]
     },
     "metadata": {
      "needs_background": "light"
     },
     "output_type": "display_data"
    },
    {
     "data": {
      "image/png": "[encoded data removed]",
      "text/plain": [
       "<Figure size 360x360 with 1 Axes>"
      ]
     },
     "metadata": {
      "needs_background": "light"
     },
     "output_type": "display_data"
    },
    {
     "data": {
      "image/png": "[encoded data removed]",
      "text/plain": [
       "<Figure size 360x360 with 1 Axes>"
      ]
     },
     "metadata": {
      "needs_background": "light"
     },
     "output_type": "display_data"
    },
    {
     "data": {
      "image/png": "[encoded data removed]",
      "text/plain": [
       "<Figure size 360x360 with 1 Axes>"
      ]
     },
     "metadata": {
      "needs_background": "light"
     },
     "output_type": "display_data"
    }
   ],
   "source": [
    "total = len(session_executions2)\n",
    "g = sns.catplot(data=session_executions2, x='discarded', kind=\"count\", palette=\"ch:.25\")\n",
    "ax = g.facet_axis(0, 0)\n",
    "for c in ax.containers:\n",
    "    labels = [f'{v.get_height()}\\n{v.get_height()/total * 100.0:.1f} %' for v in c]\n",
    "    ax.bar_label(c, labels=labels, label_type='edge')\n",
    "\n",
    "g = sns.catplot(data=session_executions2, x='discard_reason', kind=\"count\", palette=\"ch:.25\")\n",
    "\n",
    "ax = g.facet_axis(0, 0)\n",
    "for c in ax.containers:\n",
    "    labels = [f'{v.get_height()}\\n{v.get_height()/total * 100.0:.1f} %' for v in c]\n",
    "    ax.bar_label(c, labels=labels, label_type='edge')\n",
    "    \n",
    "g = sns.catplot(data=session_executions2, x='enjoyment_feedback', kind=\"count\", palette=\"ch:.25\")\n",
    "\n",
    "ax = g.facet_axis(0, 0)\n",
    "for c in ax.containers:\n",
    "    labels = [f'{v.get_height()}\\n{v.get_height()/total * 100.0:.1f} %' for v in c]\n",
    "    ax.bar_label(c, labels=labels, label_type='edge')\n",
    "\n",
    "g = sns.catplot(data=session_executions2, x='difficulty_feedback', kind=\"count\", palette=\"ch:.25\")\n",
    "\n",
    "ax = g.facet_axis(0, 0)\n",
    "for c in ax.containers:\n",
    "    labels = [f'{v.get_height()}\\n{v.get_height()/total * 100.0:.1f} %' for v in c]\n",
    "    ax.bar_label(c, labels=labels, label_type='edge')\n",
    "\n",
    "    "
   ]
  },
  {
   "cell_type": "markdown",
   "id": "f6a16765",
   "metadata": {},
   "source": [
    "There were 4621 (0.6%) discarded sessions, in which 298 (6%) were reason **0**, 198 (4%) were reason **1**, 347 (8%) were reason **2**, 369 (8%) were reason **3** and 3409 (74%) were reason **4**. Enjoyment feedback 1 were given 20014 (3%) times, 2 were given 998 (0.17%) times, 3 were given 381827 (64%) times, 4 were given 15732 times (3%) and 5 were given 179055 (30%) times. On difficulty feedback, the most frequent answer was 5 - 423691 (71%) times, then answer 10 - 95045 (16%) times and answer 1 - 52418 (9%) times."
   ]
  },
  {
   "cell_type": "code",
   "execution_count": null,
   "id": "ce0bb408",
   "metadata": {},
   "outputs": [],
   "source": []
  },
  {
   "cell_type": "code",
   "execution_count": null,
   "id": "6af05d7a",
   "metadata": {},
   "outputs": [],
   "source": []
  }
 ],
 "metadata": {
  "hide_input": false,
  "kernelspec": {
   "display_name": "Python 3 (ipykernel)",
   "language": "python",
   "name": "python3"
  },
  "language_info": {
   "codemirror_mode": {
    "name": "ipython",
    "version": 3
   },
   "file_extension": ".py",
   "mimetype": "text/x-python",
   "name": "python",
   "nbconvert_exporter": "python",
   "pygments_lexer": "ipython3",
   "version": "3.10.8"
  },
  "toc": {
   "base_numbering": 1,
   "nav_menu": {},
   "number_sections": true,
   "sideBar": true,
   "skip_h1_title": true,
   "title_cell": "Table of Contents",
   "title_sidebar": "Contents",
   "toc_cell": true,
   "toc_position": {},
   "toc_section_display": true,
   "toc_window_display": false
  }
 },
 "nbformat": 4,
 "nbformat_minor": 5
}
