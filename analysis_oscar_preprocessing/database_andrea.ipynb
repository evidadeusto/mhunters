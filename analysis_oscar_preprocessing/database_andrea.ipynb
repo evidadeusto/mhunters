{
 "cells": [
  {
   "cell_type": "code",
   "execution_count": 1,
   "metadata": {},
   "outputs": [],
   "source": [
    "import pandas as pd\n",
    "import numpy as np\n",
    "from utilities import Data_cleaning\n",
    "\n",
    "import matplotlib.pyplot as plt\n",
    "import seaborn as sns\n",
    "import plotly.express as px\n",
    "import plotly.graph_objects as go\n",
    "from plotly.subplots import make_subplots\n",
    "from plotly.express.colors import sample_colorscale\n",
    "from IPython.display import clear_output\n",
    "\n",
    "import math\n",
    "import copy\n",
    "%matplotlib inline\n",
    "\n",
    "pd.set_option('display.max_rows', 500)"
   ]
  },
  {
   "cell_type": "code",
   "execution_count": 2,
   "metadata": {},
   "outputs": [
    {
     "data": {
      "text/plain": [
       "((51355, 9190), (46024, 8677))"
      ]
     },
     "execution_count": 2,
     "metadata": {},
     "output_type": "execute_result"
    }
   ],
   "source": [
    "df_demographic = pd.read_hdf('../data/flattened_database_merged_with_session_executions_v03_(andrea).h5',  key='data')\n",
    "df_demographic.index.names = [\"session_execution_id\"]\n",
    "df_demographic.replace(np.nan, 0, inplace=True)\n",
    "\n",
    "df = pd.read_hdf('../data/filtered_dataset_v1.h5', key='data')\n",
    "df_demographic.shape, df.shape"
   ]
  },
  {
   "cell_type": "code",
   "execution_count": 3,
   "metadata": {},
   "outputs": [],
   "source": [
    "# bmi calculation\n",
    "df_demographic_filtered = copy.copy(df_demographic)\n",
    "df_demographic_filtered['users_bmi'] = df_demographic['users_weight'] / (df_demographic['users_height'] / 100) ** 2\n",
    "\n",
    "df_demographic_columns = ['user_programs_user_id',\n",
    "                            'users_created_at',\n",
    "                            'users_date_of_birth', \n",
    "                            'users_activity_level', \n",
    "                            'users_gender', \n",
    "                            'users_body_type', \n",
    "                            'users_weight', \n",
    "                            'users_height', \n",
    "                            'users_body_fat', \n",
    "                            'users_goal', \n",
    "                            'users_bmi',\n",
    "                            'session_executions_difficulty_feedback',\n",
    "                            'session_executions_enjoyment_feedback',\n",
    "                            'programs_pro', \n",
    "                            'programs_name_en', \n",
    "                            'programs_description_en', \n",
    "                            'users_last_sign_in_at', \n",
    "                            'user_programs_active',\n",
    "                            'user_programs_completed',\n",
    "                            'users_newsletter_subscription']\n",
    "\n",
    "df_demographic_filtered = df_demographic_filtered[df_demographic_columns]"
   ]
  },
  {
   "cell_type": "code",
   "execution_count": 4,
   "metadata": {},
   "outputs": [],
   "source": [
    "# merge demographic data with the main dataset by index\n",
    "\n",
    "df_merged = df.merge(df_demographic_filtered,\n",
    "                                  how ='inner',\n",
    "                                  left_index = True,\n",
    "                                  right_index= True)\n",
    "\n",
    "# Rename user_programs_user_id\n",
    "df_merged = df_merged.rename(columns={'user_programs_user_id_x': 'user_programs_user_id'})"
   ]
  },
  {
   "cell_type": "code",
   "execution_count": 5,
   "metadata": {},
   "outputs": [],
   "source": [
    "df_users = df_merged.drop_duplicates(subset=['user_programs_user_id'], keep='last')"
   ]
  },
  {
   "cell_type": "code",
   "execution_count": 6,
   "metadata": {},
   "outputs": [],
   "source": [
    "#user_columns = ['user_programs_user_id',\n",
    "#           'users_created_at',\n",
    "#           'session_executions_updated_at',\n",
    "#           'users_date_of_birth', \n",
    "#           'users_activity_level', \n",
    "#           'users_gender', \n",
    "#           'users_body_type', 'users_weight', 'users_height', 'users_body_fat', 'users_goal', 'users_bmi']\n",
    "\n",
    "# Append session_executions_updated_at to the df_demographic_columns\n",
    "df_demographic_columns.append('session_executions_updated_at')\n",
    "\n",
    "df_users = df_users[df_demographic_columns]\n",
    "\n",
    "# reassing the index to the user_programs_user_id\n",
    "\n",
    "df_users.set_index('user_programs_user_id', inplace=True)\n",
    "\n",
    "# rename the columns\n",
    "df_users = df_users.rename(columns={'session_executions_updated_at': 'Last_training_date'})"
   ]
  },
  {
   "cell_type": "code",
   "execution_count": 7,
   "metadata": {},
   "outputs": [],
   "source": [
    "# calculate the first training date for each user\n",
    "first_training_date = df_merged.drop_duplicates(subset=['user_programs_user_id'], keep='first')[['session_executions_updated_at', 'user_programs_user_id']]\n",
    "\n",
    "# Reassign the index to the user_programs_user_id\n",
    "first_training_date.set_index('user_programs_user_id', inplace=True)\n",
    "\n",
    "# merge the first training date with the user data\n",
    "df_users = df_users.merge(first_training_date, how='inner', left_index=True, right_index=True)\n",
    "\n",
    "df_users = df_users.rename(columns={'session_executions_updated_at': 'first_training_date'})"
   ]
  },
  {
   "cell_type": "code",
   "execution_count": 8,
   "metadata": {},
   "outputs": [],
   "source": [
    "# add the number of sessions to the user dataframe\n",
    "df_users['number_of_sessions'] = df_merged['user_programs_user_id'].value_counts()"
   ]
  },
  {
   "cell_type": "code",
   "execution_count": 9,
   "metadata": {},
   "outputs": [],
   "source": [
    "# Add the duration of activity to the user dataframe\n",
    "\n",
    "# Sum of time of all sessions by user\n",
    "duration_of_activity = df_merged.groupby('user_programs_user_id')['sum_of_time'].sum()\n",
    "\n",
    "# Merge the duration of activity with the user dataframe\n",
    "df_users = df_users.merge(duration_of_activity,\n",
    "                          how ='inner',\n",
    "                          left_index = True,\n",
    "                          right_index= True)\n",
    "\n",
    "# Rename the columns\n",
    "df_users.rename(columns={'sum_of_time': 'duration_of_activity'}, inplace=True)\n"
   ]
  },
  {
   "cell_type": "code",
   "execution_count": 10,
   "metadata": {},
   "outputs": [],
   "source": [
    "# Add the duration of sessions\n",
    "\n",
    "# calculate the duration of sessions\n",
    "duration_of_sessions = df_merged.groupby('user_programs_user_id')['sum_of_time'].agg(list)\n",
    "\n",
    "# merge the duration of sessions with the user dataframe\n",
    "df_users = df_users.merge(duration_of_sessions,\n",
    "                          how ='inner',\n",
    "                          left_index = True,\n",
    "                          right_index= True)\n",
    "\n",
    "# Rename the columns\n",
    "df_users.rename(columns={'sum_of_time': 'duration_of_activity_list'}, inplace=True)\n"
   ]
  },
  {
   "cell_type": "code",
   "execution_count": 11,
   "metadata": {},
   "outputs": [],
   "source": [
    "# get month of the sessions\n",
    "df_merged['month_of_sessions'] = df_merged['session_executions_updated_at'].dt.month\n",
    "\n",
    "# get the list of the months of the sessions\n",
    "month_of_sessions = df_merged.groupby('user_programs_user_id')['month_of_sessions'].agg(list)\n",
    "\n",
    "# rename month of sessions from numbers to names\n",
    "\n",
    "months = {1: 'January', 2: 'February', 3: 'March', 4: 'April', 5: 'May', 6: 'June', 7: 'July', 8: 'August', 9: 'September', 10: 'October', 11: 'November', 12: 'December'}\n",
    "\n",
    "month_of_sessions = month_of_sessions.apply(lambda x: [months[i] for i in x])\n",
    "\n",
    "# merge the month of sessions with the user dataframe\n",
    "df_users = df_users.merge(month_of_sessions,\n",
    "                          how ='inner',\n",
    "                          left_index = True,\n",
    "                          right_index= True)"
   ]
  },
  {
   "cell_type": "code",
   "execution_count": 12,
   "metadata": {},
   "outputs": [],
   "source": [
    "# session_executions_difficulty_feedback and session_executions_enjoyment_feedback\n",
    "\n",
    "# get the mean of the session_executions_difficulty_feedback and session_executions_enjoyment_feedback\n",
    "session_executions_difficulty_feedback = df_merged.groupby('user_programs_user_id')['session_executions_difficulty_feedback'].mean()\n",
    "\n",
    "# merge the session_executions_difficulty_feedback with the user dataframe\n",
    "df_users = df_users.merge(session_executions_difficulty_feedback,\n",
    "                          how ='inner',\n",
    "                          left_index = True,\n",
    "                          right_index= True)\n",
    "\n",
    "# get the list of the session_executions_difficulty_feedback\n",
    "session_executions_difficulty_feedback_list = df_merged.groupby('user_programs_user_id')['session_executions_difficulty_feedback'].agg(list)\n",
    "\n",
    "# merge the session_executions_difficulty_feedback with the user dataframe\n",
    "df_users = df_users.merge(session_executions_difficulty_feedback_list,\n",
    "                          how ='inner',\n",
    "                          left_index = True,\n",
    "                          right_index= True)\n",
    "\n",
    "# get the mean of the session_executions_enjoyment_feedback\n",
    "session_executions_enjoyment_feedback = df_merged.groupby('user_programs_user_id')['session_executions_enjoyment_feedback'].mean()\n",
    "\n",
    "# merge the session_executions_enjoyment_feedback with the user dataframe\n",
    "df_users = df_users.merge(session_executions_enjoyment_feedback,\n",
    "                          how ='inner',\n",
    "                          left_index = True,\n",
    "                          right_index= True)\n",
    "\n",
    "# get the list of the session_executions_enjoyment_feedback\n",
    "session_executions_enjoyment_feedback_list = df_merged.groupby('user_programs_user_id')['session_executions_enjoyment_feedback'].agg(list)\n",
    "\n",
    "# merge the session_executions_enjoyment_feedback with the user dataframe\n",
    "df_users = df_users.merge(session_executions_enjoyment_feedback_list,\n",
    "                          how ='inner',\n",
    "                          left_index = True,\n",
    "                          right_index= True)"
   ]
  },
  {
   "cell_type": "code",
   "execution_count": 13,
   "metadata": {},
   "outputs": [],
   "source": [
    "# rename columns\n",
    "df_users.rename(columns={'session_executions_difficulty_feedback_x': 'mean_difficulty_feedback', \n",
    "                        'session_executions_difficulty_feedback_y': 'difficulty_feedback', \n",
    "                        'session_executions_enjoyment_feedback_x': 'mean_enjoyment_feedback', \n",
    "                        'session_executions_enjoyment_feedback_y': 'enjoyment_feedback'}, inplace=True)\n"
   ]
  },
  {
   "cell_type": "code",
   "execution_count": 14,
   "metadata": {},
   "outputs": [],
   "source": [
    "# Calculate the duration from the first session to the last session exucuted\n",
    "\n",
    "df_users['duration_from_first_to_last_session'] = df_users['Last_training_date'] - df_users['first_training_date']"
   ]
  },
  {
   "cell_type": "code",
   "execution_count": 15,
   "metadata": {},
   "outputs": [
    {
     "data": {
      "text/plain": [
       "\"\\ndf2 = pd.read_hdf('../data/filtered_dataset_v1.h5', key='data')\\ndf2.drop(columns=['session_executions_updated_at', 'session_executions_updated_at', 'user_programs_user_id', 'date', 'session_executions_summary_total_kcal', 'session_executions_summary_effort', 'session_executions_summary_points', 'session_executions_summary_value_of_session'], inplace=True)\\n\\n# count the zero values for a rows\\ndf2['zero_values'] = df2.apply(lambda x: x.value_counts().get(0, 0), axis=1)\\nprint(df2['zero_values'].value_counts().keys().sort_values(ascending=False))\\nprint(df2.shape)\\n\""
      ]
     },
     "execution_count": 15,
     "metadata": {},
     "output_type": "execute_result"
    }
   ],
   "source": [
    "# Small test to corroborate that all the users have at least one training session\n",
    "\n",
    "'''\n",
    "df2 = pd.read_hdf('../data/filtered_dataset_v1.h5', key='data')\n",
    "df2.drop(columns=['session_executions_updated_at', 'session_executions_updated_at', 'user_programs_user_id', 'date', 'session_executions_summary_total_kcal', 'session_executions_summary_effort', 'session_executions_summary_points', 'session_executions_summary_value_of_session'], inplace=True)\n",
    "\n",
    "# count the zero values for a rows\n",
    "df2['zero_values'] = df2.apply(lambda x: x.value_counts().get(0, 0), axis=1)\n",
    "print(df2['zero_values'].value_counts().keys().sort_values(ascending=False))\n",
    "print(df2.shape)\n",
    "'''\n",
    "# In the precious prints we can observe that all the rows have at least 5 values, which means that at least one training session was executed."
   ]
  },
  {
   "cell_type": "code",
   "execution_count": 16,
   "metadata": {},
   "outputs": [],
   "source": [
    "# Calculate the sum of time for each exercise excluding the rest time\n",
    "\n",
    "df_merged['sum_of_time_excluding_rest_time'] = df_merged['sum_of_time'] - df_merged['Rest_sum_of_time_per_exercise']\n",
    "\n",
    "# Calculate the mean of the sum of time for each exercise excluding the rest time\n",
    "\n",
    "sum_of_time_excluding_rest_time = df_merged.groupby('user_programs_user_id')['sum_of_time_excluding_rest_time'].mean()\n",
    "\n",
    "# merge the sum of time excluding rest time with the user dataframe\n",
    "\n",
    "df_users = df_users.merge(sum_of_time_excluding_rest_time,\n",
    "                          how ='inner',\n",
    "                          left_index = True,\n",
    "                          right_index= True)\n",
    "\n",
    "# Calculate the list of the sum of time for each exercise excluding the rest time\n",
    "\n",
    "sum_of_time_excluding_rest_time_list = df_merged.groupby('user_programs_user_id')['sum_of_time_excluding_rest_time'].agg(list)\n",
    "\n",
    "# merge the sum of time excluding rest time with the user dataframe\n",
    "\n",
    "df_users = df_users.merge(sum_of_time_excluding_rest_time_list,\n",
    "                          how ='inner',\n",
    "                          left_index = True,\n",
    "                          right_index= True)\n",
    "\n",
    "# rename columns\n",
    "df_users.rename(columns={'sum_of_time_excluding_rest_time_x': 'mean_sum_of_time_excluding_rest_time', \n",
    "                        'sum_of_time_excluding_rest_time_y': 'sum_of_time_excluding_rest_time_list'}, inplace=True)\n"
   ]
  },
  {
   "cell_type": "code",
   "execution_count": 17,
   "metadata": {},
   "outputs": [],
   "source": [
    "from datetime import datetime\n",
    "\n",
    "dates_by_user = df_merged.groupby('user_programs_user_id')['session_executions_updated_at'].agg(list)\n",
    "df_dates_by_user = dates_by_user.to_frame().reset_index()\n",
    "\n",
    "def get_weeks_month_and_time_range(dates):\n",
    "    \n",
    "    all_weeks = {}\n",
    "    all_months = {}\n",
    "    all_time_ranges = {}\n",
    "    for row in dates.iterrows():       \n",
    "        \n",
    "        dates = row[1]['session_executions_updated_at']\n",
    "        start_date = dates[0]\n",
    "        week_counts = {}\n",
    "        month_counts = {}\n",
    "        time_ranges = []\n",
    "\n",
    "        for date in dates:\n",
    "            week_number = (date - start_date).days // 7\n",
    "            month_number = (date - start_date).days // 30\n",
    "            week_key = f'week_{week_number}'\n",
    "            month_key = f'month_{month_number}'\n",
    "\n",
    "            # count the number of sessions per week\n",
    "            if week_key in week_counts:\n",
    "                week_counts[week_key] += 1\n",
    "            else:\n",
    "                week_counts[week_key] = 1\n",
    "\n",
    "            # count the number of sessions per month\n",
    "            if month_key in month_counts:\n",
    "                month_counts[month_key] += 1\n",
    "            else:\n",
    "                month_counts[month_key] = 1\n",
    "            \n",
    "            # Add the time range of the session\n",
    "            if date.time() >= datetime.strptime('05:30', '%H:%M').time() and date.time() <= datetime.strptime('12:30', '%H:%M').time():\n",
    "                time_ranges.append('Morning')\n",
    "            elif date.time() >= datetime.strptime('12:31', '%H:%M').time() and date.time() <= datetime.strptime('20:00', '%H:%M').time():\n",
    "                time_ranges.append('Afternoon')\n",
    "            else:\n",
    "                time_ranges.append('Night')\n",
    "        \n",
    "        # append the week counts to the all weeks dictionary\n",
    "        all_weeks[row[1]['user_programs_user_id']] = week_counts\n",
    "        all_months[row[1]['user_programs_user_id']] = month_counts\n",
    "        all_time_ranges[row[1]['user_programs_user_id']] = time_ranges\n",
    "        \n",
    "    return pd.Series(all_weeks), pd.Series(all_months), pd.Series(all_time_ranges)\n",
    "\n",
    "# get the weeks, months and time ranges of the sessions\n",
    "weeks_frequency, months_frequency, time_ranges_series = get_weeks_month_and_time_range(df_dates_by_user)\n",
    "\n",
    "# add a name to the weeks pandas series\n",
    "weeks_frequency.name = 'weeks_frequency'\n",
    "\n",
    "# add a name to the months pandas series\n",
    "months_frequency.name = 'months_frequency'\n",
    "\n",
    "# add a name to the time ranges pandas series\n",
    "time_ranges_series.name = 'time_ranges'\n",
    "\n",
    "# merge the weeks of the sessions with the user dataframe\n",
    "df_users = df_users.merge(weeks_frequency,\n",
    "                          how ='inner',\n",
    "                          left_index = True,\n",
    "                          right_index= True)\n",
    "\n",
    "# merge the months of the sessions with the user dataframe\n",
    "df_users = df_users.merge(months_frequency,\n",
    "                          how ='inner',\n",
    "                          left_index = True,\n",
    "                          right_index= True)\n",
    "\n",
    "# merge the time ranges of the sessions with the user dataframe\n",
    "df_users = df_users.merge(time_ranges_series,\n",
    "                          how ='inner',\n",
    "                          left_index = True,\n",
    "                          right_index= True)\n"
   ]
  },
  {
   "cell_type": "code",
   "execution_count": 18,
   "metadata": {},
   "outputs": [],
   "source": [
    "# Get age from date of birth\n",
    "\n",
    "df_users['users_age'] = (datetime.now() - df_users['users_date_of_birth']).dt.days // 365"
   ]
  },
  {
   "cell_type": "code",
   "execution_count": 19,
   "metadata": {},
   "outputs": [],
   "source": [
    "\n",
    "# Export the user dataframe to a csv file\n",
    "df_users.to_csv('../data/user_dataframe.csv')"
   ]
  },
  {
   "cell_type": "code",
   "execution_count": 25,
   "metadata": {},
   "outputs": [],
   "source": [
    "# Read motivational cuestionary data\n",
    "\n",
    "df_motivational = pd.read_csv('../data/cuestionario_motivacional_after_filtering.csv')\n",
    "\n",
    "# remove id duplicates\n",
    "\n",
    "df_motivational = df_motivational.drop_duplicates(subset=['id'], keep='last')"
   ]
  },
  {
   "cell_type": "code",
   "execution_count": 26,
   "metadata": {},
   "outputs": [],
   "source": [
    "# Get users from the motivational cuestionary that are in the user dataframe\n",
    "\n",
    "df_motivational = df_motivational[df_motivational['id'].isin(df_users.index)]"
   ]
  },
  {
   "cell_type": "code",
   "execution_count": 27,
   "metadata": {},
   "outputs": [],
   "source": [
    "df_motivational = df_motivational[[\n",
    "                 'id',\n",
    "                 'Cuando hago una sesión de alta intensidad y acabo cansado, esto me anima a seguir realizando sesiones posteriores',\n",
    "                 'El programa de ejercicio físico me ayuda a mejorar mi aspecto físico',\n",
    "                 'Disfruto alcanzando los retos y metas que me propone el programa de ejercicio físico ',\n",
    "                 'El programa de ejercicio físico me permite prevenir futuras lesiones',\n",
    "                 'Disfruto cada momento de mi tiempo dedicado al ejercicio físico ',\n",
    "                 'No soy capaz de imaginar mi vida sin practicar deporte',\n",
    "                 'El programa de ejercicio físico me permite mantener un peso adecuado',\n",
    "                 'El programa de ejercicio físico me proporciona una mejor imagen hacia los demás',\n",
    "                 'El programa de ejercicio físico me permite mejorar mi salud',\n",
    "                 'La actividad deportiva me permitirá progresar en otros ámbitos de mi vida',\n",
    "                 'El programa de ejercicio físico evitará que tenga problemas de salud en el futuro',\n",
    "                 'El deporte me ayuda a desconectar de los problemas diarios',\n",
    "                 'Con el programa de ejercicio físico estoy mejorando mis marcas personales',\n",
    "                 'El programa de ejercicio físico me permitirá mejorar mi vida social',\n",
    "                 'Compito mucho mejor siguiendo el programa de ejercicio físico',\n",
    "                 'Siento una gran satisfacción al comprobar que he integrado un programa de actividad física en mi vida',\n",
    "                 ]]"
   ]
  },
  {
   "cell_type": "code",
   "execution_count": 31,
   "metadata": {},
   "outputs": [],
   "source": [
    "# save the motivational cuestionary data to a csv file\n",
    "\n",
    "df_motivational.to_csv('../data/motivational_cuestionary_users_dataframe_matched.csv')"
   ]
  },
  {
   "cell_type": "code",
   "execution_count": 30,
   "metadata": {},
   "outputs": [
    {
     "data": {
      "text/plain": [
       "(325, 17)"
      ]
     },
     "execution_count": 30,
     "metadata": {},
     "output_type": "execute_result"
    }
   ],
   "source": [
    "df_motivational.shape"
   ]
  }
 ],
 "metadata": {
  "kernelspec": {
   "display_name": "m_hunters",
   "language": "python",
   "name": "kernel_mhunters"
  },
  "language_info": {
   "codemirror_mode": {
    "name": "ipython",
    "version": 3
   },
   "file_extension": ".py",
   "mimetype": "text/x-python",
   "name": "python",
   "nbconvert_exporter": "python",
   "pygments_lexer": "ipython3",
   "version": "3.10.6"
  }
 },
 "nbformat": 4,
 "nbformat_minor": 2
}
