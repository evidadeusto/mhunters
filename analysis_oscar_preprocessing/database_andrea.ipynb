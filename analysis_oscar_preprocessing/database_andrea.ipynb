{
 "cells": [
  {
   "cell_type": "code",
   "execution_count": 57,
   "metadata": {},
   "outputs": [],
   "source": [
    "import pandas as pd\n",
    "import numpy as np\n",
    "from utilities import Data_cleaning\n",
    "\n",
    "import matplotlib.pyplot as plt\n",
    "import seaborn as sns\n",
    "import plotly.express as px\n",
    "import plotly.graph_objects as go\n",
    "from plotly.subplots import make_subplots\n",
    "from plotly.express.colors import sample_colorscale\n",
    "from IPython.display import clear_output\n",
    "\n",
    "import math\n",
    "import copy\n",
    "%matplotlib inline\n",
    "\n",
    "pd.set_option('display.max_rows', 500)"
   ]
  },
  {
   "cell_type": "code",
   "execution_count": 58,
   "metadata": {},
   "outputs": [
    {
     "data": {
      "text/plain": [
       "((51355, 9190), (46024, 8677))"
      ]
     },
     "execution_count": 58,
     "metadata": {},
     "output_type": "execute_result"
    }
   ],
   "source": [
    "df_demographic = pd.read_hdf('../data/flattened_database_merged_with_session_executions_v03_(andrea).h5',  key='data')\n",
    "df_demographic.index.names = [\"session_execution_id\"]\n",
    "df_demographic.replace(np.nan, 0, inplace=True)\n",
    "\n",
    "df = pd.read_hdf('../data/filtered_dataset_v1.h5', key='data')\n",
    "df_demographic.shape, df.shape"
   ]
  },
  {
   "cell_type": "code",
   "execution_count": 59,
   "metadata": {},
   "outputs": [],
   "source": [
    "# bmi calculation\n",
    "df_demographic_filtered = copy.copy(df_demographic)\n",
    "df_demographic_filtered['users_bmi'] = df_demographic['users_weight'] / (df_demographic['users_height'] / 100) ** 2\n",
    "\n",
    "df_demographic_columns = ['user_programs_user_id',\n",
    "                            'users_created_at',\n",
    "                            'users_date_of_birth', \n",
    "                            'users_activity_level', \n",
    "                            'users_gender', \n",
    "                            'users_body_type', \n",
    "                            'users_weight', \n",
    "                            'users_height', \n",
    "                            'users_body_fat', \n",
    "                            'users_goal', \n",
    "                            'users_bmi',\n",
    "                            'session_executions_difficulty_feedback',\n",
    "                            'session_executions_enjoyment_feedback',\n",
    "                            'programs_pro', \n",
    "                            'programs_name_en', \n",
    "                            'programs_description_en', \n",
    "                            'users_last_sign_in_at', \n",
    "                            'user_programs_active',\n",
    "                            'user_programs_completed',\n",
    "                            'users_newsletter_subscription']\n",
    "\n",
    "df_demographic_filtered = df_demographic_filtered[df_demographic_columns]"
   ]
  },
  {
   "cell_type": "code",
   "execution_count": 60,
   "metadata": {},
   "outputs": [],
   "source": [
    "# merge demographic data with the main dataset by index\n",
    "\n",
    "df_merged = df.merge(df_demographic_filtered,\n",
    "                                  how ='inner',\n",
    "                                  left_index = True,\n",
    "                                  right_index= True)\n",
    "\n",
    "# Rename user_programs_user_id\n",
    "df_merged = df_merged.rename(columns={'user_programs_user_id': 'user_programs_user_id'})"
   ]
  },
  {
   "cell_type": "code",
   "execution_count": 61,
   "metadata": {},
   "outputs": [
    {
     "ename": "KeyError",
     "evalue": "Index(['user_programs_user_id'], dtype='object')",
     "output_type": "error",
     "traceback": [
      "\u001b[1;31m---------------------------------------------------------------------------\u001b[0m",
      "\u001b[1;31mKeyError\u001b[0m                                  Traceback (most recent call last)",
      "Input \u001b[1;32mIn [61]\u001b[0m, in \u001b[0;36m<cell line: 1>\u001b[1;34m()\u001b[0m\n\u001b[1;32m----> 1\u001b[0m df_users \u001b[38;5;241m=\u001b[39m \u001b[43mdf_merged\u001b[49m\u001b[38;5;241;43m.\u001b[39;49m\u001b[43mdrop_duplicates\u001b[49m\u001b[43m(\u001b[49m\u001b[43msubset\u001b[49m\u001b[38;5;241;43m=\u001b[39;49m\u001b[43m[\u001b[49m\u001b[38;5;124;43m'\u001b[39;49m\u001b[38;5;124;43muser_programs_user_id\u001b[39;49m\u001b[38;5;124;43m'\u001b[39;49m\u001b[43m]\u001b[49m\u001b[43m,\u001b[49m\u001b[43m \u001b[49m\u001b[43mkeep\u001b[49m\u001b[38;5;241;43m=\u001b[39;49m\u001b[38;5;124;43m'\u001b[39;49m\u001b[38;5;124;43mlast\u001b[39;49m\u001b[38;5;124;43m'\u001b[39;49m\u001b[43m)\u001b[49m\n",
      "File \u001b[1;32mc:\\Users\\eVida-PC\\anaconda3\\envs\\mhunters\\lib\\site-packages\\pandas\\util\\_decorators.py:331\u001b[0m, in \u001b[0;36mdeprecate_nonkeyword_arguments.<locals>.decorate.<locals>.wrapper\u001b[1;34m(*args, **kwargs)\u001b[0m\n\u001b[0;32m    325\u001b[0m \u001b[38;5;28;01mif\u001b[39;00m \u001b[38;5;28mlen\u001b[39m(args) \u001b[38;5;241m>\u001b[39m num_allow_args:\n\u001b[0;32m    326\u001b[0m     warnings\u001b[38;5;241m.\u001b[39mwarn(\n\u001b[0;32m    327\u001b[0m         msg\u001b[38;5;241m.\u001b[39mformat(arguments\u001b[38;5;241m=\u001b[39m_format_argument_list(allow_args)),\n\u001b[0;32m    328\u001b[0m         \u001b[38;5;167;01mFutureWarning\u001b[39;00m,\n\u001b[0;32m    329\u001b[0m         stacklevel\u001b[38;5;241m=\u001b[39mfind_stack_level(),\n\u001b[0;32m    330\u001b[0m     )\n\u001b[1;32m--> 331\u001b[0m \u001b[38;5;28;01mreturn\u001b[39;00m func(\u001b[38;5;241m*\u001b[39margs, \u001b[38;5;241m*\u001b[39m\u001b[38;5;241m*\u001b[39mkwargs)\n",
      "File \u001b[1;32mc:\\Users\\eVida-PC\\anaconda3\\envs\\mhunters\\lib\\site-packages\\pandas\\core\\frame.py:6669\u001b[0m, in \u001b[0;36mDataFrame.drop_duplicates\u001b[1;34m(self, subset, keep, inplace, ignore_index)\u001b[0m\n\u001b[0;32m   6667\u001b[0m inplace \u001b[38;5;241m=\u001b[39m validate_bool_kwarg(inplace, \u001b[38;5;124m\"\u001b[39m\u001b[38;5;124minplace\u001b[39m\u001b[38;5;124m\"\u001b[39m)\n\u001b[0;32m   6668\u001b[0m ignore_index \u001b[38;5;241m=\u001b[39m validate_bool_kwarg(ignore_index, \u001b[38;5;124m\"\u001b[39m\u001b[38;5;124mignore_index\u001b[39m\u001b[38;5;124m\"\u001b[39m)\n\u001b[1;32m-> 6669\u001b[0m duplicated \u001b[38;5;241m=\u001b[39m \u001b[38;5;28;43mself\u001b[39;49m\u001b[38;5;241;43m.\u001b[39;49m\u001b[43mduplicated\u001b[49m\u001b[43m(\u001b[49m\u001b[43msubset\u001b[49m\u001b[43m,\u001b[49m\u001b[43m \u001b[49m\u001b[43mkeep\u001b[49m\u001b[38;5;241;43m=\u001b[39;49m\u001b[43mkeep\u001b[49m\u001b[43m)\u001b[49m\n\u001b[0;32m   6671\u001b[0m result \u001b[38;5;241m=\u001b[39m \u001b[38;5;28mself\u001b[39m[\u001b[38;5;241m-\u001b[39mduplicated]\n\u001b[0;32m   6672\u001b[0m \u001b[38;5;28;01mif\u001b[39;00m ignore_index:\n",
      "File \u001b[1;32mc:\\Users\\eVida-PC\\anaconda3\\envs\\mhunters\\lib\\site-packages\\pandas\\core\\frame.py:6803\u001b[0m, in \u001b[0;36mDataFrame.duplicated\u001b[1;34m(self, subset, keep)\u001b[0m\n\u001b[0;32m   6801\u001b[0m diff \u001b[38;5;241m=\u001b[39m \u001b[38;5;28mset\u001b[39m(subset) \u001b[38;5;241m-\u001b[39m \u001b[38;5;28mset\u001b[39m(\u001b[38;5;28mself\u001b[39m\u001b[38;5;241m.\u001b[39mcolumns)\n\u001b[0;32m   6802\u001b[0m \u001b[38;5;28;01mif\u001b[39;00m diff:\n\u001b[1;32m-> 6803\u001b[0m     \u001b[38;5;28;01mraise\u001b[39;00m \u001b[38;5;167;01mKeyError\u001b[39;00m(Index(diff))\n\u001b[0;32m   6805\u001b[0m \u001b[38;5;28;01mif\u001b[39;00m \u001b[38;5;28mlen\u001b[39m(subset) \u001b[38;5;241m==\u001b[39m \u001b[38;5;241m1\u001b[39m \u001b[38;5;129;01mand\u001b[39;00m \u001b[38;5;28mself\u001b[39m\u001b[38;5;241m.\u001b[39mcolumns\u001b[38;5;241m.\u001b[39mis_unique:\n\u001b[0;32m   6806\u001b[0m     \u001b[38;5;66;03m# GH#45236 This is faster than get_group_index below\u001b[39;00m\n\u001b[0;32m   6807\u001b[0m     result \u001b[38;5;241m=\u001b[39m \u001b[38;5;28mself\u001b[39m[subset[\u001b[38;5;241m0\u001b[39m]]\u001b[38;5;241m.\u001b[39mduplicated(keep)\n",
      "\u001b[1;31mKeyError\u001b[0m: Index(['user_programs_user_id'], dtype='object')"
     ]
    }
   ],
   "source": [
    "df_users = df_merged.drop_duplicates(subset=['user_programs_user_id'], keep='last')"
   ]
  },
  {
   "cell_type": "code",
   "execution_count": null,
   "metadata": {},
   "outputs": [],
   "source": [
    "#user_columns = ['user_programs_user_id',\n",
    "#           'users_created_at',\n",
    "#           'session_executions_updated_at',\n",
    "#           'users_date_of_birth', \n",
    "#           'users_activity_level', \n",
    "#           'users_gender', \n",
    "#           'users_body_type', 'users_weight', 'users_height', 'users_body_fat', 'users_goal', 'users_bmi']\n",
    "\n",
    "# Append session_executions_updated_at to the df_demographic_columns\n",
    "df_demographic_columns.append('session_executions_updated_at')\n",
    "\n",
    "df_users = df_users[df_demographic_columns]\n",
    "\n",
    "# reassing the index to the user_programs_user_id\n",
    "\n",
    "df_users.set_index('user_programs_user_id', inplace=True)\n",
    "\n",
    "# rename the columns\n",
    "df_users = df_users.rename(columns={'session_executions_updated_at': 'Last_training_date'})"
   ]
  },
  {
   "cell_type": "code",
   "execution_count": null,
   "metadata": {},
   "outputs": [],
   "source": [
    "# calculate the first training date for each user\n",
    "first_training_date = df_merged.drop_duplicates(subset=['user_programs_user_id'], keep='first')[['session_executions_updated_at', 'user_programs_user_id']]\n",
    "\n",
    "# Reassign the index to the user_programs_user_id\n",
    "first_training_date.set_index('user_programs_user_id', inplace=True)\n",
    "\n",
    "# merge the first training date with the user data\n",
    "df_users = df_users.merge(first_training_date, how='inner', left_index=True, right_index=True)\n",
    "\n",
    "df_users = df_users.rename(columns={'session_executions_updated_at': 'first_training_date'})"
   ]
  },
  {
   "cell_type": "code",
   "execution_count": null,
   "metadata": {},
   "outputs": [],
   "source": [
    "# add the number of sessions to the user dataframe\n",
    "df_users['number_of_sessions'] = df_merged['user_programs_user_id'].value_counts()"
   ]
  },
  {
   "cell_type": "code",
   "execution_count": null,
   "metadata": {},
   "outputs": [],
   "source": [
    "# add Duration of “activity” (time from session 1 to last session)\n",
    "\n",
    "# Sum of time of all sessions by user\n",
    "duration_of_activity = df_merged.groupby('user_programs_user_id')['sum_of_time'].sum()\n",
    "\n",
    "# Merge the duration of activity with the user dataframe\n",
    "df_users = df_users.merge(duration_of_activity,\n",
    "                          how ='inner',\n",
    "                          left_index = True,\n",
    "                          right_index= True)\n",
    "\n",
    "# Rename the columns\n",
    "df_users.rename(columns={'sum_of_time_x': 'duration_of_activity', 'sum_of_time_y': 'duration_of_sessions'}, inplace=True)\n"
   ]
  },
  {
   "cell_type": "code",
   "execution_count": null,
   "metadata": {},
   "outputs": [],
   "source": [
    "# Add the duration of sessions\n",
    "\n",
    "# calculate the duration of sessions\n",
    "duration_of_sessions = df_merged.groupby('user_programs_user_id')['sum_of_time'].agg(list)\n",
    "\n",
    "# merge the duration of sessions with the user dataframe\n",
    "df_users = df_users.merge(duration_of_sessions,\n",
    "                          how ='inner',\n",
    "                          left_index = True,\n",
    "                          right_index= True)\n"
   ]
  },
  {
   "cell_type": "code",
   "execution_count": null,
   "metadata": {},
   "outputs": [],
   "source": [
    "# get month of the sessions\n",
    "df_merged['month_of_sessions'] = df_merged['session_executions_updated_at'].dt.month\n",
    "\n",
    "# get the list of the months of the sessions\n",
    "month_of_sessions = df_merged.groupby('user_programs_user_id')['month_of_sessions'].agg(list)\n",
    "\n",
    "# rename month of sessions from numbers to names\n",
    "\n",
    "months = {1: 'January', 2: 'February', 3: 'March', 4: 'April', 5: 'May', 6: 'June', 7: 'July', 8: 'August', 9: 'September', 10: 'October', 11: 'November', 12: 'December'}\n",
    "\n",
    "month_of_sessions = month_of_sessions.apply(lambda x: [months[i] for i in x])\n",
    "\n",
    "# merge the month of sessions with the user dataframe\n",
    "df_users = df_users.merge(month_of_sessions,\n",
    "                          how ='inner',\n",
    "                          left_index = True,\n",
    "                          right_index= True)"
   ]
  },
  {
   "cell_type": "code",
   "execution_count": null,
   "metadata": {},
   "outputs": [],
   "source": [
    "# session_executions_difficulty_feedback and session_executions_enjoyment_feedback\n",
    "\n",
    "# get the mean of the session_executions_difficulty_feedback and session_executions_enjoyment_feedback\n",
    "session_executions_difficulty_feedback = df_merged.groupby('user_programs_user_id')['session_executions_difficulty_feedback'].mean()\n",
    "\n",
    "# merge the session_executions_difficulty_feedback with the user dataframe\n",
    "df_users = df_users.merge(session_executions_difficulty_feedback,\n",
    "                          how ='inner',\n",
    "                          left_index = True,\n",
    "                          right_index= True)\n",
    "\n",
    "# get the list of the session_executions_difficulty_feedback\n",
    "session_executions_difficulty_feedback_list = df_merged.groupby('user_programs_user_id')['session_executions_difficulty_feedback'].agg(list)\n",
    "\n",
    "# merge the session_executions_difficulty_feedback with the user dataframe\n",
    "df_users = df_users.merge(session_executions_difficulty_feedback_list,\n",
    "                          how ='inner',\n",
    "                          left_index = True,\n",
    "                          right_index= True)\n",
    "\n",
    "# get the mean of the session_executions_enjoyment_feedback\n",
    "session_executions_enjoyment_feedback = df_merged.groupby('user_programs_user_id')['session_executions_enjoyment_feedback'].mean()\n",
    "\n",
    "# merge the session_executions_enjoyment_feedback with the user dataframe\n",
    "df_users = df_users.merge(session_executions_enjoyment_feedback,\n",
    "                          how ='inner',\n",
    "                          left_index = True,\n",
    "                          right_index= True)\n",
    "\n",
    "# get the list of the session_executions_enjoyment_feedback\n",
    "session_executions_enjoyment_feedback_list = df_merged.groupby('user_programs_user_id')['session_executions_enjoyment_feedback'].agg(list)\n",
    "\n",
    "# merge the session_executions_enjoyment_feedback with the user dataframe\n",
    "df_users = df_users.merge(session_executions_enjoyment_feedback_list,\n",
    "                          how ='inner',\n",
    "                          left_index = True,\n",
    "                          right_index= True)"
   ]
  },
  {
   "cell_type": "code",
   "execution_count": null,
   "metadata": {},
   "outputs": [],
   "source": [
    "# rename columns\n",
    "df_users.rename(columns={'session_executions_difficulty_feedback_x': 'mean_difficulty_feedback', \n",
    "                        'session_executions_difficulty_feedback_y': 'difficulty_feedback', \n",
    "                        'session_executions_enjoyment_feedback_x': 'mean_enjoyment_feedback', \n",
    "                        'session_executions_enjoyment_feedback_y': 'enjoyment_feedback'}, inplace=True)\n"
   ]
  },
  {
   "cell_type": "code",
   "execution_count": null,
   "metadata": {},
   "outputs": [],
   "source": [
    "# Calculate the duration from the first session to the last session exucuted\n",
    "\n",
    "df_users['duration_from_first_to_last_session'] = df_users['Last_training_date'] - df_users['first_training_date']"
   ]
  },
  {
   "cell_type": "code",
   "execution_count": null,
   "metadata": {},
   "outputs": [
    {
     "data": {
      "text/plain": [
       "\"\\ndf2 = pd.read_hdf('../data/filtered_dataset_v1.h5', key='data')\\ndf2.drop(columns=['session_executions_updated_at', 'session_executions_updated_at', 'user_programs_user_id', 'date', 'session_executions_summary_total_kcal', 'session_executions_summary_effort', 'session_executions_summary_points', 'session_executions_summary_value_of_session'], inplace=True)\\n\\n# count the zero values for a rows\\ndf2['zero_values'] = df2.apply(lambda x: x.value_counts().get(0, 0), axis=1)\\nprint(df2['zero_values'].value_counts().keys().sort_values(ascending=False))\\nprint(df2.shape)\\n\""
      ]
     },
     "execution_count": 29,
     "metadata": {},
     "output_type": "execute_result"
    }
   ],
   "source": [
    "# Small test to corroborate that all the users have at least one training session\n",
    "\n",
    "'''\n",
    "df2 = pd.read_hdf('../data/filtered_dataset_v1.h5', key='data')\n",
    "df2.drop(columns=['session_executions_updated_at', 'session_executions_updated_at', 'user_programs_user_id', 'date', 'session_executions_summary_total_kcal', 'session_executions_summary_effort', 'session_executions_summary_points', 'session_executions_summary_value_of_session'], inplace=True)\n",
    "\n",
    "# count the zero values for a rows\n",
    "df2['zero_values'] = df2.apply(lambda x: x.value_counts().get(0, 0), axis=1)\n",
    "print(df2['zero_values'].value_counts().keys().sort_values(ascending=False))\n",
    "print(df2.shape)\n",
    "'''\n",
    "# In the precious prints we can observe that all the rows have at least 5 values, which means that at least one training session was executed."
   ]
  },
  {
   "cell_type": "code",
   "execution_count": null,
   "metadata": {},
   "outputs": [
    {
     "name": "stderr",
     "output_type": "stream",
     "text": [
      "C:\\Users\\eVida-PC\\AppData\\Local\\Temp\\ipykernel_34852\\4275649835.py:22: FutureWarning: Passing 'suffixes' which cause duplicate columns {'sum_of_time_excluding_rest_time_x'} in the result is deprecated and will raise a MergeError in a future version.\n",
      "  df_users = df_users.merge(sum_of_time_excluding_rest_time_list,\n"
     ]
    }
   ],
   "source": [
    "# Calculate the sum of time for each exercise excluding the rest time\n",
    "\n",
    "df_merged['sum_of_time_excluding_rest_time'] = df_merged['sum_of_time'] - df_merged['Rest_sum_of_time_per_exercise']\n",
    "\n",
    "# Calculate the mean of the sum of time for each exercise excluding the rest time\n",
    "\n",
    "sum_of_time_excluding_rest_time = df_merged.groupby('user_programs_user_id')['sum_of_time_excluding_rest_time'].mean()\n",
    "\n",
    "# merge the sum of time excluding rest time with the user dataframe\n",
    "\n",
    "df_users = df_users.merge(sum_of_time_excluding_rest_time,\n",
    "                          how ='inner',\n",
    "                          left_index = True,\n",
    "                          right_index= True)\n",
    "\n",
    "# Calculate the list of the sum of time for each exercise excluding the rest time\n",
    "\n",
    "sum_of_time_excluding_rest_time_list = df_merged.groupby('user_programs_user_id')['sum_of_time_excluding_rest_time'].agg(list)\n",
    "\n",
    "# merge the sum of time excluding rest time with the user dataframe\n",
    "\n",
    "df_users = df_users.merge(sum_of_time_excluding_rest_time_list,\n",
    "                          how ='inner',\n",
    "                          left_index = True,\n",
    "                          right_index= True)\n",
    "\n",
    "# rename columns\n",
    "df_users.rename(columns={'sum_of_time_excluding_rest_time_x': 'mean_sum_of_time_excluding_rest_time', \n",
    "                        'sum_of_time_excluding_rest_time_y': 'sum_of_time_excluding_rest_time_list'}, inplace=True)\n"
   ]
  }
 ],
 "metadata": {
  "kernelspec": {
   "display_name": "m_hunters",
   "language": "python",
   "name": "kernel_mhunters"
  },
  "language_info": {
   "codemirror_mode": {
    "name": "ipython",
    "version": 3
   },
   "file_extension": ".py",
   "mimetype": "text/x-python",
   "name": "python",
   "nbconvert_exporter": "python",
   "pygments_lexer": "ipython3",
   "version": "3.10.6"
  }
 },
 "nbformat": 4,
 "nbformat_minor": 2
}
