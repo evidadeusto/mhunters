{
 "cells": [
  {
   "cell_type": "markdown",
   "metadata": {},
   "source": [
    "# Overview\n",
    "\n",
    "In this notebook, we conduct data cleaning of the merged table. \n",
    "\n",
    "**Author**: Oscar Javier Bastidas Jossa. \n",
    "\n",
    "**Email**: oscar.jossa@deusto.es."
   ]
  },
  {
   "cell_type": "code",
   "execution_count": 1,
   "metadata": {},
   "outputs": [],
   "source": [
    "import pandas as pd\n",
    "import numpy as np\n",
    "from utilities import Data_cleaning\n",
    "\n",
    "import matplotlib.pyplot as plt\n",
    "import seaborn as sns\n",
    "import plotly.express as px\n",
    "import plotly.graph_objects as go\n",
    "from plotly.subplots import make_subplots\n",
    "from plotly.express.colors import sample_colorscale\n",
    "\n",
    "import math\n",
    "import copy\n",
    "%matplotlib inline\n",
    "\n",
    "pd.set_option('display.max_rows', 500)"
   ]
  },
  {
   "cell_type": "code",
   "execution_count": 2,
   "metadata": {},
   "outputs": [
    {
     "name": "stderr",
     "output_type": "stream",
     "text": [
      "C:\\Users\\eVida-PC\\AppData\\Local\\Temp\\ipykernel_11744\\2381277674.py:1: DtypeWarning: Columns (9153,9165) have mixed types. Specify dtype option on import or set low_memory=False.\n",
      "  df = pd.read_csv('../data/flattened_database_merged_v01.csv')\n"
     ]
    },
    {
     "data": {
      "text/plain": [
       "(51405, 9175)"
      ]
     },
     "execution_count": 2,
     "metadata": {},
     "output_type": "execute_result"
    }
   ],
   "source": [
    "df = pd.read_csv('../data/flattened_database_merged_v01.csv')\n",
    "df.set_index('Unnamed: 0', inplace=True)\n",
    "df.index.names = [\"session_execution_id\"]\n",
    "df.shape"
   ]
  },
  {
   "cell_type": "code",
   "execution_count": 3,
   "metadata": {},
   "outputs": [],
   "source": [
    "# Select those columns to are be useful just with purpose of descrition\n",
    "columns_description = ['body_parts_focused',\n",
    "                    'exercises_description_en',\n",
    "                    'exercises_execution_time',\n",
    "                    'exercises_joints',\n",
    "                    'exercises_met_multiplier',\n",
    "                    'exercises_muscles',\n",
    "                    'exercises_t1_max',\n",
    "                    'exercises_t1_min',\n",
    "                    'exercises_test_correction',\n",
    "                    'session_executions_created_at',\n",
    "                    'session_executions_difficulty_feedback',\n",
    "                    'session_executions_discarded',\n",
    "                    'session_executions_enjoyment_feedback',\n",
    "                    'session_executions_imported',\n",
    "                    'session_executions_reps_executed',\n",
    "                    'session_executions_user_program_id',\n",
    "                    'sessions_calories',\n",
    "                    'sessions_description_en',\n",
    "                    'sessions_name_en',\n",
    "                    'sessions_order',\n",
    "                    'sessions_time_duration',\n",
    "                    'user_programs_active',\n",
    "                    'user_programs_completed',\n",
    "                    'user_programs_program_id',\n",
    "                    'user_programs_enjoyment',\n",
    "                    'session_executions_updated_at', \n",
    "                    'user_programs_user_id',\n",
    "                    'users_created_at',\n",
    "                    'users_updated_at',\n",
    "                    'users_gender',\n",
    "                    'users_activity_level',\n",
    "                    'users_body_type',\n",
    "                    'users_newsletter_subscription',\n",
    "                    'users_sign_in_count',\n",
    "                    'users_notifications_setting',\n",
    "                    'users_training_days_setting',\n",
    "                    'users_country',\n",
    "                    'users_points',\n",
    "                    'users_scientific_data_usage',\n",
    "                    'users_best_weekly_streak', \n",
    "                    'users_imported'\n",
    "                    ]\n",
    "\n",
    "df_description = df[columns_description]\n",
    "\n",
    "# Removing all the columns except the exercises\n",
    "df_data = df.drop(columns=columns_description)\n",
    "\n",
    "# Organizing all the columns by the user id\n",
    "df_description = df_description.sort_values(by=['user_programs_user_id'])"
   ]
  },
  {
   "cell_type": "code",
   "execution_count": 4,
   "metadata": {},
   "outputs": [
    {
     "name": "stdout",
     "output_type": "stream",
     "text": [
      "\n",
      " --- converting_data_types method executed --- \n",
      "\n",
      "converting datetime\n"
     ]
    }
   ],
   "source": [
    "# Creating and instance from the Data cleaning to change the type of the datetime column\n",
    "\n",
    "change_data_type_columns = {'datetime' : ['session_executions_updated_at']}\n",
    "\n",
    "cleaner = Data_cleaning(df_description)\n",
    "\n",
    "# Converting data types of the indicated columns\n",
    "df_description = cleaner.converting_data_types(change_data_type_columns)\n"
   ]
  },
  {
   "cell_type": "code",
   "execution_count": 5,
   "metadata": {},
   "outputs": [],
   "source": [
    "# Getting user id and session_executions_updated_at\n",
    "df_user_session_execution_date = df_description[['session_executions_updated_at', 'user_programs_user_id']]\n",
    "users_id = df_user_session_execution_date['user_programs_user_id'].drop_duplicates()\n",
    "\n",
    "# Organizing dataframe by users and datetime\n",
    "sorted_rows = []\n",
    "for user_id in users_id:\n",
    "    sorted_rows_by_user = df_user_session_execution_date.loc[df_user_session_execution_date['user_programs_user_id'] == user_id].sort_values('session_executions_updated_at')\n",
    "    sorted_rows.append(sorted_rows_by_user)\n",
    "\n",
    "# Merging organized concatenated_df with the exercise data\n",
    "concatenated_df = pd.concat(sorted_rows, ignore_index=False)\n",
    "df_data = pd.merge(concatenated_df, df_data, left_index=True, right_index=True)\n",
    "\n",
    "# Replacing NaN with 0\n",
    "df_data.fillna(0, inplace=True)\n",
    "\n",
    "# Getting users\n",
    "users = df_data['user_programs_user_id'].drop_duplicates()"
   ]
  },
  {
   "cell_type": "code",
   "execution_count": 7,
   "metadata": {},
   "outputs": [
    {
     "data": {
      "text/plain": [
       "(51405, 9136)"
      ]
     },
     "execution_count": 7,
     "metadata": {},
     "output_type": "execute_result"
    }
   ],
   "source": [
    "df_data.shape"
   ]
  },
  {
   "cell_type": "code",
   "execution_count": 6,
   "metadata": {},
   "outputs": [
    {
     "name": "stdout",
     "output_type": "stream",
     "text": [
      "df with rows repeated:  (51405, 9136)\n",
      "df of rows repeated (2150, 9136)\n",
      "last rows from repeated_exercises (269, 9136)\n",
      "difference from repeated_exercises - list_last_rows (1881, 9136)\n",
      "df with wrong data removed:  (49524, 9136)\n",
      "Final check  1881\n"
     ]
    }
   ],
   "source": [
    "# Faster way to remove the repeated rows (It works well with this dataset, but can generate problems in very few cases with \n",
    "# other datasets when sustracting the timestamp from different users and coincidentially they exercise the same day, at the same time (less than 30 seconds))\n",
    "\n",
    "# # Calculate the difference in seconds between consecutive timestamps\n",
    "# time_diff = df_data['session_executions_updated_at'].diff().dt.total_seconds()\n",
    "# \n",
    "# #time_diff = time_diff[time_diff > 0] \n",
    "# time_diff[time_diff < 0] = 60\n",
    "# \n",
    "# # Include the minuend in the condition by shifting the time difference by one row\n",
    "# condition = (time_diff < 30) | (time_diff.shift(-1) < 30)\n",
    "# \n",
    "# # Filter rows based on the condition\n",
    "# filtered_rows = df_data[condition]\n",
    "# \n",
    "# value_counts = filtered_rows['user_programs_user_id'].value_counts()\n",
    "# \n",
    "# # Filter out rows where the value in 'specific_column' occurs less than twice\n",
    "# filtered_rows = filtered_rows[filtered_rows['user_programs_user_id'].isin(value_counts[value_counts >= 2].index)]\n",
    "# \n",
    "# filtered_rows['user_programs_user_id'].isin(a['user_programs_user_id']).value_counts()\n",
    "\n",
    "def get_exercises_repeated(df):\n",
    "    repeated_exercises = []\n",
    "    last_rows = []\n",
    "    for user in users:\n",
    "        \n",
    "        user_data  = df.loc[df['user_programs_user_id'] == user]\n",
    "\n",
    "        # Calculate the difference in seconds between consecutive timestamps\n",
    "        time_diff = user_data['session_executions_updated_at'].diff().dt.total_seconds()\n",
    "\n",
    "        # Include the minuend in the condition by shifting the time difference by one row\n",
    "        condition = (time_diff < 10) | (time_diff.shift(-1) < 10)\n",
    "\n",
    "        # Filter rows based on the condition\n",
    "        filtered_rows = user_data[condition]\n",
    "\n",
    "        # Remove all ind\n",
    "        last_row = filtered_rows.iloc[-1:]\n",
    "\n",
    "        repeated_exercises.append(filtered_rows)\n",
    "        last_rows.append(last_row)\n",
    "    return repeated_exercises, last_rows\n",
    "\n",
    "list_repeated_exercises, list_last_rows = get_exercises_repeated(df_data)\n",
    "\n",
    "repeated_exercises = pd.concat(list_repeated_exercises, ignore_index=False)\n",
    "list_last_rows = pd.concat(list_last_rows, ignore_index=False)\n",
    "\n",
    "repeated_exercises_last_rows_substracted = repeated_exercises.drop(list_last_rows.index)\n",
    "df_data_remove_duplicated = df_data.drop(repeated_exercises_last_rows_substracted.index)\n",
    "print(\"df with rows repeated: \", df_data.shape)\n",
    "print(\"df of rows repeated\", repeated_exercises.shape)\n",
    "print(\"last rows from repeated_exercises\", list_last_rows.shape)\n",
    "print(\"difference from repeated_exercises - list_last_rows\", repeated_exercises_last_rows_substracted.shape), \n",
    "print(\"df with wrong data removed: \", df_data_remove_duplicated.shape)\n",
    "print(\"Final check \", df_data.shape[0] - df_data_remove_duplicated.shape[0])\n"
   ]
  },
  {
   "cell_type": "code",
   "execution_count": 7,
   "metadata": {},
   "outputs": [],
   "source": [
    "from IPython.display import clear_output\n",
    "\n",
    "def plot_exercises(df_plot, user):\n",
    "    exercises = df_plot.columns.drop(['session_executions_updated_at', 'user_programs_user_id'])\n",
    "    len_plot = math.ceil(len(exercises)/2)\n",
    "    fig = make_subplots(rows=len_plot, cols=2, subplot_titles=exercises)\n",
    "    row_count = 1\n",
    "    col_count = 1\n",
    "    x_color = np.linspace(0, 1, 25)\n",
    "    c_color = sample_colorscale('jet', list(x_color))\n",
    "    count_color = 0\n",
    "\n",
    "    for index, exercise in enumerate(exercises):\n",
    "        fig.add_trace(\n",
    "        go.Scatter(y=df_plot[exercise], x =df_plot['session_executions_updated_at'], \n",
    "                mode=\"lines+markers\",\n",
    "                name= exercise,\n",
    "                marker=dict(\n",
    "                        color=c_color[count_color],\n",
    "                        size=5)),\n",
    "                row=row_count, col=col_count)\n",
    "        \n",
    "        if (index%2 != 0):\n",
    "            row_count = row_count + 1\n",
    "            col_count = 1\n",
    "        else:\n",
    "            col_count = col_count + 1\n",
    "        \n",
    "        count_color = count_color + 1\n",
    "        if count_color == 25:\n",
    "            count_color = 0\n",
    "    \n",
    "    fig.update_layout(height=len_plot*400, width=1500, title_text=\"Exercises per User {}\".format(user))\n",
    "\n",
    "    # Clear previous output\n",
    "    clear_output(wait=True)\n",
    "\n",
    "    \n",
    "    fig.show()\n",
    "    "
   ]
  },
  {
   "cell_type": "code",
   "execution_count": 8,
   "metadata": {},
   "outputs": [],
   "source": [
    "def plot_all_exercises(df_plot, user):\n",
    "    value_vars = df_plot.columns.drop(['session_executions_updated_at', 'user_programs_user_id'])\n",
    "    df_melt = pd.melt(df_plot, id_vars=['session_executions_updated_at', 'user_programs_user_id'], value_vars=value_vars)\n",
    "    fig = px.scatter(df_melt, x=\"session_executions_updated_at\", y=\"value\", color=\"variable\", title=\"Exercises per User {}\".format(user))\n",
    "    # Clear previous output\n",
    "    clear_output(wait=True)\n",
    "    \n",
    "    fig.show()"
   ]
  },
  {
   "cell_type": "code",
   "execution_count": 9,
   "metadata": {},
   "outputs": [
    {
     "data": {
      "application/vnd.plotly.v1+json": {
       "config": {
        "plotlyServerURL": "https://plot.ly"
       },
       "data": [
        {
         "hovertemplate": "variable=2 legs half burpee<br>session_executions_updated_at=%{x}<br>value=%{y}<extra></extra>",
         "legendgroup": "2 legs half burpee",
         "marker": {
          "color": "#636efa",
          "symbol": "circle"
         },
         "mode": "markers",
         "name": "2 legs half burpee",
         "orientation": "v",
         "showlegend": true,
         "type": "scatter",
         "x": [
          "2021-06-11T18:00:35.640406",
          "2021-10-30T16:51:09.117908",
          "2021-10-30T17:11:05.202353",
          "2021-12-08T19:19:10.266601",
          "2021-12-09T19:13:22.047997",
          "2022-01-24T11:38:17.767057",
          "2022-01-24T12:07:44.199707",
          "2022-01-25T19:59:50.119567",
          "2022-01-26T18:53:01.088990",
          "2022-04-10T10:17:40.613564"
         ],
         "xaxis": "x",
         "y": [
          3,
          null,
          null,
          null,
          null,
          null,
          null,
          null,
          null,
          null
         ],
         "yaxis": "y"
        },
        {
         "hovertemplate": "variable=Bridge<br>session_executions_updated_at=%{x}<br>value=%{y}<extra></extra>",
         "legendgroup": "Bridge",
         "marker": {
          "color": "#EF553B",
          "symbol": "circle"
         },
         "mode": "markers",
         "name": "Bridge",
         "orientation": "v",
         "showlegend": true,
         "type": "scatter",
         "x": [
          "2021-06-11T18:00:35.640406",
          "2021-10-30T16:51:09.117908",
          "2021-10-30T17:11:05.202353",
          "2021-12-08T19:19:10.266601",
          "2021-12-09T19:13:22.047997",
          "2022-01-24T11:38:17.767057",
          "2022-01-24T12:07:44.199707",
          "2022-01-25T19:59:50.119567",
          "2022-01-26T18:53:01.088990",
          "2022-04-10T10:17:40.613564"
         ],
         "xaxis": "x",
         "y": [
          10,
          null,
          null,
          null,
          null,
          null,
          null,
          null,
          null,
          null
         ],
         "yaxis": "y"
        },
        {
         "hovertemplate": "variable=Free thruster<br>session_executions_updated_at=%{x}<br>value=%{y}<extra></extra>",
         "legendgroup": "Free thruster",
         "marker": {
          "color": "#00cc96",
          "symbol": "circle"
         },
         "mode": "markers",
         "name": "Free thruster",
         "orientation": "v",
         "showlegend": true,
         "type": "scatter",
         "x": [
          "2021-06-11T18:00:35.640406",
          "2021-10-30T16:51:09.117908",
          "2021-10-30T17:11:05.202353",
          "2021-12-08T19:19:10.266601",
          "2021-12-09T19:13:22.047997",
          "2022-01-24T11:38:17.767057",
          "2022-01-24T12:07:44.199707",
          "2022-01-25T19:59:50.119567",
          "2022-01-26T18:53:01.088990",
          "2022-04-10T10:17:40.613564"
         ],
         "xaxis": "x",
         "y": [
          3,
          null,
          null,
          null,
          null,
          null,
          null,
          null,
          null,
          null
         ],
         "yaxis": "y"
        },
        {
         "hovertemplate": "variable=Knee push-up<br>session_executions_updated_at=%{x}<br>value=%{y}<extra></extra>",
         "legendgroup": "Knee push-up",
         "marker": {
          "color": "#ab63fa",
          "symbol": "circle"
         },
         "mode": "markers",
         "name": "Knee push-up",
         "orientation": "v",
         "showlegend": true,
         "type": "scatter",
         "x": [
          "2021-06-11T18:00:35.640406",
          "2021-10-30T16:51:09.117908",
          "2021-10-30T17:11:05.202353",
          "2021-12-08T19:19:10.266601",
          "2021-12-09T19:13:22.047997",
          "2022-01-24T11:38:17.767057",
          "2022-01-24T12:07:44.199707",
          "2022-01-25T19:59:50.119567",
          "2022-01-26T18:53:01.088990",
          "2022-04-10T10:17:40.613564"
         ],
         "xaxis": "x",
         "y": [
          3,
          null,
          null,
          null,
          null,
          null,
          null,
          null,
          null,
          null
         ],
         "yaxis": "y"
        },
        {
         "hovertemplate": "variable=Mckenzie<br>session_executions_updated_at=%{x}<br>value=%{y}<extra></extra>",
         "legendgroup": "Mckenzie",
         "marker": {
          "color": "#FFA15A",
          "symbol": "circle"
         },
         "mode": "markers",
         "name": "Mckenzie",
         "orientation": "v",
         "showlegend": true,
         "type": "scatter",
         "x": [
          "2021-06-11T18:00:35.640406",
          "2021-10-30T16:51:09.117908",
          "2021-10-30T17:11:05.202353",
          "2021-12-08T19:19:10.266601",
          "2021-12-09T19:13:22.047997",
          "2022-01-24T11:38:17.767057",
          "2022-01-24T12:07:44.199707",
          "2022-01-25T19:59:50.119567",
          "2022-01-26T18:53:01.088990",
          "2022-04-10T10:17:40.613564"
         ],
         "xaxis": "x",
         "y": [
          3,
          null,
          null,
          null,
          null,
          null,
          null,
          null,
          null,
          null
         ],
         "yaxis": "y"
        },
        {
         "hovertemplate": "variable=Mountain runner<br>session_executions_updated_at=%{x}<br>value=%{y}<extra></extra>",
         "legendgroup": "Mountain runner",
         "marker": {
          "color": "#19d3f3",
          "symbol": "circle"
         },
         "mode": "markers",
         "name": "Mountain runner",
         "orientation": "v",
         "showlegend": true,
         "type": "scatter",
         "x": [
          "2021-06-11T18:00:35.640406",
          "2021-10-30T16:51:09.117908",
          "2021-10-30T17:11:05.202353",
          "2021-12-08T19:19:10.266601",
          "2021-12-09T19:13:22.047997",
          "2022-01-24T11:38:17.767057",
          "2022-01-24T12:07:44.199707",
          "2022-01-25T19:59:50.119567",
          "2022-01-26T18:53:01.088990",
          "2022-04-10T10:17:40.613564"
         ],
         "xaxis": "x",
         "y": [
          3,
          2,
          null,
          4,
          null,
          null,
          null,
          null,
          null,
          null
         ],
         "yaxis": "y"
        },
        {
         "hovertemplate": "variable=Plank pivot<br>session_executions_updated_at=%{x}<br>value=%{y}<extra></extra>",
         "legendgroup": "Plank pivot",
         "marker": {
          "color": "#FF6692",
          "symbol": "circle"
         },
         "mode": "markers",
         "name": "Plank pivot",
         "orientation": "v",
         "showlegend": true,
         "type": "scatter",
         "x": [
          "2021-06-11T18:00:35.640406",
          "2021-10-30T16:51:09.117908",
          "2021-10-30T17:11:05.202353",
          "2021-12-08T19:19:10.266601",
          "2021-12-09T19:13:22.047997",
          "2022-01-24T11:38:17.767057",
          "2022-01-24T12:07:44.199707",
          "2022-01-25T19:59:50.119567",
          "2022-01-26T18:53:01.088990",
          "2022-04-10T10:17:40.613564"
         ],
         "xaxis": "x",
         "y": [
          3,
          null,
          null,
          null,
          null,
          null,
          null,
          null,
          null,
          null
         ],
         "yaxis": "y"
        },
        {
         "hovertemplate": "variable=Rest<br>session_executions_updated_at=%{x}<br>value=%{y}<extra></extra>",
         "legendgroup": "Rest",
         "marker": {
          "color": "#B6E880",
          "symbol": "circle"
         },
         "mode": "markers",
         "name": "Rest",
         "orientation": "v",
         "showlegend": true,
         "type": "scatter",
         "x": [
          "2021-06-11T18:00:35.640406",
          "2021-10-30T16:51:09.117908",
          "2021-10-30T17:11:05.202353",
          "2021-12-08T19:19:10.266601",
          "2021-12-09T19:13:22.047997",
          "2022-01-24T11:38:17.767057",
          "2022-01-24T12:07:44.199707",
          "2022-01-25T19:59:50.119567",
          "2022-01-26T18:53:01.088990",
          "2022-04-10T10:17:40.613564"
         ],
         "xaxis": "x",
         "y": [
          32,
          13,
          15,
          17,
          3,
          19,
          17,
          19,
          17,
          17
         ],
         "yaxis": "y"
        },
        {
         "hovertemplate": "variable=Side plank (left)<br>session_executions_updated_at=%{x}<br>value=%{y}<extra></extra>",
         "legendgroup": "Side plank (left)",
         "marker": {
          "color": "#FF97FF",
          "symbol": "circle"
         },
         "mode": "markers",
         "name": "Side plank (left)",
         "orientation": "v",
         "showlegend": true,
         "type": "scatter",
         "x": [
          "2021-06-11T18:00:35.640406",
          "2021-10-30T16:51:09.117908",
          "2021-10-30T17:11:05.202353",
          "2021-12-08T19:19:10.266601",
          "2021-12-09T19:13:22.047997",
          "2022-01-24T11:38:17.767057",
          "2022-01-24T12:07:44.199707",
          "2022-01-25T19:59:50.119567",
          "2022-01-26T18:53:01.088990",
          "2022-04-10T10:17:40.613564"
         ],
         "xaxis": "x",
         "y": [
          8,
          null,
          null,
          null,
          3,
          null,
          null,
          null,
          null,
          null
         ],
         "yaxis": "y"
        },
        {
         "hovertemplate": "variable=Side plank (right)<br>session_executions_updated_at=%{x}<br>value=%{y}<extra></extra>",
         "legendgroup": "Side plank (right)",
         "marker": {
          "color": "#FECB52",
          "symbol": "circle"
         },
         "mode": "markers",
         "name": "Side plank (right)",
         "orientation": "v",
         "showlegend": true,
         "type": "scatter",
         "x": [
          "2021-06-11T18:00:35.640406",
          "2021-10-30T16:51:09.117908",
          "2021-10-30T17:11:05.202353",
          "2021-12-08T19:19:10.266601",
          "2021-12-09T19:13:22.047997",
          "2022-01-24T11:38:17.767057",
          "2022-01-24T12:07:44.199707",
          "2022-01-25T19:59:50.119567",
          "2022-01-26T18:53:01.088990",
          "2022-04-10T10:17:40.613564"
         ],
         "xaxis": "x",
         "y": [
          8,
          null,
          null,
          null,
          3,
          null,
          null,
          null,
          null,
          null
         ],
         "yaxis": "y"
        },
        {
         "hovertemplate": "variable=Burpee<br>session_executions_updated_at=%{x}<br>value=%{y}<extra></extra>",
         "legendgroup": "Burpee",
         "marker": {
          "color": "#636efa",
          "symbol": "circle"
         },
         "mode": "markers",
         "name": "Burpee",
         "orientation": "v",
         "showlegend": true,
         "type": "scatter",
         "x": [
          "2021-06-11T18:00:35.640406",
          "2021-10-30T16:51:09.117908",
          "2021-10-30T17:11:05.202353",
          "2021-12-08T19:19:10.266601",
          "2021-12-09T19:13:22.047997",
          "2022-01-24T11:38:17.767057",
          "2022-01-24T12:07:44.199707",
          "2022-01-25T19:59:50.119567",
          "2022-01-26T18:53:01.088990",
          "2022-04-10T10:17:40.613564"
         ],
         "xaxis": "x",
         "y": [
          null,
          2,
          null,
          null,
          null,
          null,
          1,
          null,
          1,
          1
         ],
         "yaxis": "y"
        },
        {
         "hovertemplate": "variable=One leg bridge<br>session_executions_updated_at=%{x}<br>value=%{y}<extra></extra>",
         "legendgroup": "One leg bridge",
         "marker": {
          "color": "#EF553B",
          "symbol": "circle"
         },
         "mode": "markers",
         "name": "One leg bridge",
         "orientation": "v",
         "showlegend": true,
         "type": "scatter",
         "x": [
          "2021-06-11T18:00:35.640406",
          "2021-10-30T16:51:09.117908",
          "2021-10-30T17:11:05.202353",
          "2021-12-08T19:19:10.266601",
          "2021-12-09T19:13:22.047997",
          "2022-01-24T11:38:17.767057",
          "2022-01-24T12:07:44.199707",
          "2022-01-25T19:59:50.119567",
          "2022-01-26T18:53:01.088990",
          "2022-04-10T10:17:40.613564"
         ],
         "xaxis": "x",
         "y": [
          null,
          2,
          null,
          null,
          null,
          null,
          null,
          null,
          null,
          null
         ],
         "yaxis": "y"
        },
        {
         "hovertemplate": "variable=Plank spider<br>session_executions_updated_at=%{x}<br>value=%{y}<extra></extra>",
         "legendgroup": "Plank spider",
         "marker": {
          "color": "#00cc96",
          "symbol": "circle"
         },
         "mode": "markers",
         "name": "Plank spider",
         "orientation": "v",
         "showlegend": true,
         "type": "scatter",
         "x": [
          "2021-06-11T18:00:35.640406",
          "2021-10-30T16:51:09.117908",
          "2021-10-30T17:11:05.202353",
          "2021-12-08T19:19:10.266601",
          "2021-12-09T19:13:22.047997",
          "2022-01-24T11:38:17.767057",
          "2022-01-24T12:07:44.199707",
          "2022-01-25T19:59:50.119567",
          "2022-01-26T18:53:01.088990",
          "2022-04-10T10:17:40.613564"
         ],
         "xaxis": "x",
         "y": [
          null,
          2,
          null,
          null,
          null,
          null,
          null,
          null,
          null,
          null
         ],
         "yaxis": "y"
        },
        {
         "hovertemplate": "variable=Push-up<br>session_executions_updated_at=%{x}<br>value=%{y}<extra></extra>",
         "legendgroup": "Push-up",
         "marker": {
          "color": "#ab63fa",
          "symbol": "circle"
         },
         "mode": "markers",
         "name": "Push-up",
         "orientation": "v",
         "showlegend": true,
         "type": "scatter",
         "x": [
          "2021-06-11T18:00:35.640406",
          "2021-10-30T16:51:09.117908",
          "2021-10-30T17:11:05.202353",
          "2021-12-08T19:19:10.266601",
          "2021-12-09T19:13:22.047997",
          "2022-01-24T11:38:17.767057",
          "2022-01-24T12:07:44.199707",
          "2022-01-25T19:59:50.119567",
          "2022-01-26T18:53:01.088990",
          "2022-04-10T10:17:40.613564"
         ],
         "xaxis": "x",
         "y": [
          null,
          2,
          null,
          null,
          null,
          null,
          null,
          null,
          null,
          null
         ],
         "yaxis": "y"
        },
        {
         "hovertemplate": "variable=Superman<br>session_executions_updated_at=%{x}<br>value=%{y}<extra></extra>",
         "legendgroup": "Superman",
         "marker": {
          "color": "#FFA15A",
          "symbol": "circle"
         },
         "mode": "markers",
         "name": "Superman",
         "orientation": "v",
         "showlegend": true,
         "type": "scatter",
         "x": [
          "2021-06-11T18:00:35.640406",
          "2021-10-30T16:51:09.117908",
          "2021-10-30T17:11:05.202353",
          "2021-12-08T19:19:10.266601",
          "2021-12-09T19:13:22.047997",
          "2022-01-24T11:38:17.767057",
          "2022-01-24T12:07:44.199707",
          "2022-01-25T19:59:50.119567",
          "2022-01-26T18:53:01.088990",
          "2022-04-10T10:17:40.613564"
         ],
         "xaxis": "x",
         "y": [
          null,
          2,
          null,
          null,
          2,
          null,
          null,
          null,
          null,
          null
         ],
         "yaxis": "y"
        },
        {
         "hovertemplate": "variable=Thruster with KB<br>session_executions_updated_at=%{x}<br>value=%{y}<extra></extra>",
         "legendgroup": "Thruster with KB",
         "marker": {
          "color": "#19d3f3",
          "symbol": "circle"
         },
         "mode": "markers",
         "name": "Thruster with KB",
         "orientation": "v",
         "showlegend": true,
         "type": "scatter",
         "x": [
          "2021-06-11T18:00:35.640406",
          "2021-10-30T16:51:09.117908",
          "2021-10-30T17:11:05.202353",
          "2021-12-08T19:19:10.266601",
          "2021-12-09T19:13:22.047997",
          "2022-01-24T11:38:17.767057",
          "2022-01-24T12:07:44.199707",
          "2022-01-25T19:59:50.119567",
          "2022-01-26T18:53:01.088990",
          "2022-04-10T10:17:40.613564"
         ],
         "xaxis": "x",
         "y": [
          null,
          2,
          null,
          4,
          null,
          null,
          null,
          null,
          null,
          null
         ],
         "yaxis": "y"
        },
        {
         "hovertemplate": "variable=Bridge segmentations<br>session_executions_updated_at=%{x}<br>value=%{y}<extra></extra>",
         "legendgroup": "Bridge segmentations",
         "marker": {
          "color": "#FF6692",
          "symbol": "circle"
         },
         "mode": "markers",
         "name": "Bridge segmentations",
         "orientation": "v",
         "showlegend": true,
         "type": "scatter",
         "x": [
          "2021-06-11T18:00:35.640406",
          "2021-10-30T16:51:09.117908",
          "2021-10-30T17:11:05.202353",
          "2021-12-08T19:19:10.266601",
          "2021-12-09T19:13:22.047997",
          "2022-01-24T11:38:17.767057",
          "2022-01-24T12:07:44.199707",
          "2022-01-25T19:59:50.119567",
          "2022-01-26T18:53:01.088990",
          "2022-04-10T10:17:40.613564"
         ],
         "xaxis": "x",
         "y": [
          null,
          null,
          3,
          null,
          null,
          null,
          null,
          null,
          null,
          null
         ],
         "yaxis": "y"
        },
        {
         "hovertemplate": "variable=Chest expansions<br>session_executions_updated_at=%{x}<br>value=%{y}<extra></extra>",
         "legendgroup": "Chest expansions",
         "marker": {
          "color": "#B6E880",
          "symbol": "circle"
         },
         "mode": "markers",
         "name": "Chest expansions",
         "orientation": "v",
         "showlegend": true,
         "type": "scatter",
         "x": [
          "2021-06-11T18:00:35.640406",
          "2021-10-30T16:51:09.117908",
          "2021-10-30T17:11:05.202353",
          "2021-12-08T19:19:10.266601",
          "2021-12-09T19:13:22.047997",
          "2022-01-24T11:38:17.767057",
          "2022-01-24T12:07:44.199707",
          "2022-01-25T19:59:50.119567",
          "2022-01-26T18:53:01.088990",
          "2022-04-10T10:17:40.613564"
         ],
         "xaxis": "x",
         "y": [
          null,
          null,
          1,
          null,
          null,
          null,
          null,
          null,
          null,
          null
         ],
         "yaxis": "y"
        },
        {
         "hovertemplate": "variable=Elbows to floor in squat<br>session_executions_updated_at=%{x}<br>value=%{y}<extra></extra>",
         "legendgroup": "Elbows to floor in squat",
         "marker": {
          "color": "#FF97FF",
          "symbol": "circle"
         },
         "mode": "markers",
         "name": "Elbows to floor in squat",
         "orientation": "v",
         "showlegend": true,
         "type": "scatter",
         "x": [
          "2021-06-11T18:00:35.640406",
          "2021-10-30T16:51:09.117908",
          "2021-10-30T17:11:05.202353",
          "2021-12-08T19:19:10.266601",
          "2021-12-09T19:13:22.047997",
          "2022-01-24T11:38:17.767057",
          "2022-01-24T12:07:44.199707",
          "2022-01-25T19:59:50.119567",
          "2022-01-26T18:53:01.088990",
          "2022-04-10T10:17:40.613564"
         ],
         "xaxis": "x",
         "y": [
          null,
          null,
          3,
          null,
          null,
          null,
          null,
          null,
          null,
          null
         ],
         "yaxis": "y"
        },
        {
         "hovertemplate": "variable=Lumbar circumductions<br>session_executions_updated_at=%{x}<br>value=%{y}<extra></extra>",
         "legendgroup": "Lumbar circumductions",
         "marker": {
          "color": "#FECB52",
          "symbol": "circle"
         },
         "mode": "markers",
         "name": "Lumbar circumductions",
         "orientation": "v",
         "showlegend": true,
         "type": "scatter",
         "x": [
          "2021-06-11T18:00:35.640406",
          "2021-10-30T16:51:09.117908",
          "2021-10-30T17:11:05.202353",
          "2021-12-08T19:19:10.266601",
          "2021-12-09T19:13:22.047997",
          "2022-01-24T11:38:17.767057",
          "2022-01-24T12:07:44.199707",
          "2022-01-25T19:59:50.119567",
          "2022-01-26T18:53:01.088990",
          "2022-04-10T10:17:40.613564"
         ],
         "xaxis": "x",
         "y": [
          null,
          null,
          1,
          null,
          null,
          null,
          null,
          null,
          null,
          null
         ],
         "yaxis": "y"
        },
        {
         "hovertemplate": "variable=Pelvic tilting circles<br>session_executions_updated_at=%{x}<br>value=%{y}<extra></extra>",
         "legendgroup": "Pelvic tilting circles",
         "marker": {
          "color": "#636efa",
          "symbol": "circle"
         },
         "mode": "markers",
         "name": "Pelvic tilting circles",
         "orientation": "v",
         "showlegend": true,
         "type": "scatter",
         "x": [
          "2021-06-11T18:00:35.640406",
          "2021-10-30T16:51:09.117908",
          "2021-10-30T17:11:05.202353",
          "2021-12-08T19:19:10.266601",
          "2021-12-09T19:13:22.047997",
          "2022-01-24T11:38:17.767057",
          "2022-01-24T12:07:44.199707",
          "2022-01-25T19:59:50.119567",
          "2022-01-26T18:53:01.088990",
          "2022-04-10T10:17:40.613564"
         ],
         "xaxis": "x",
         "y": [
          null,
          null,
          1,
          null,
          null,
          null,
          null,
          null,
          null,
          null
         ],
         "yaxis": "y"
        },
        {
         "hovertemplate": "variable=Seated hip rotations<br>session_executions_updated_at=%{x}<br>value=%{y}<extra></extra>",
         "legendgroup": "Seated hip rotations",
         "marker": {
          "color": "#EF553B",
          "symbol": "circle"
         },
         "mode": "markers",
         "name": "Seated hip rotations",
         "orientation": "v",
         "showlegend": true,
         "type": "scatter",
         "x": [
          "2021-06-11T18:00:35.640406",
          "2021-10-30T16:51:09.117908",
          "2021-10-30T17:11:05.202353",
          "2021-12-08T19:19:10.266601",
          "2021-12-09T19:13:22.047997",
          "2022-01-24T11:38:17.767057",
          "2022-01-24T12:07:44.199707",
          "2022-01-25T19:59:50.119567",
          "2022-01-26T18:53:01.088990",
          "2022-04-10T10:17:40.613564"
         ],
         "xaxis": "x",
         "y": [
          null,
          null,
          2,
          null,
          null,
          null,
          null,
          null,
          null,
          null
         ],
         "yaxis": "y"
        },
        {
         "hovertemplate": "variable=Segmented wall extensions<br>session_executions_updated_at=%{x}<br>value=%{y}<extra></extra>",
         "legendgroup": "Segmented wall extensions",
         "marker": {
          "color": "#00cc96",
          "symbol": "circle"
         },
         "mode": "markers",
         "name": "Segmented wall extensions",
         "orientation": "v",
         "showlegend": true,
         "type": "scatter",
         "x": [
          "2021-06-11T18:00:35.640406",
          "2021-10-30T16:51:09.117908",
          "2021-10-30T17:11:05.202353",
          "2021-12-08T19:19:10.266601",
          "2021-12-09T19:13:22.047997",
          "2022-01-24T11:38:17.767057",
          "2022-01-24T12:07:44.199707",
          "2022-01-25T19:59:50.119567",
          "2022-01-26T18:53:01.088990",
          "2022-04-10T10:17:40.613564"
         ],
         "xaxis": "x",
         "y": [
          null,
          null,
          3,
          null,
          null,
          null,
          null,
          null,
          null,
          null
         ],
         "yaxis": "y"
        },
        {
         "hovertemplate": "variable=Separate knee circles<br>session_executions_updated_at=%{x}<br>value=%{y}<extra></extra>",
         "legendgroup": "Separate knee circles",
         "marker": {
          "color": "#ab63fa",
          "symbol": "circle"
         },
         "mode": "markers",
         "name": "Separate knee circles",
         "orientation": "v",
         "showlegend": true,
         "type": "scatter",
         "x": [
          "2021-06-11T18:00:35.640406",
          "2021-10-30T16:51:09.117908",
          "2021-10-30T17:11:05.202353",
          "2021-12-08T19:19:10.266601",
          "2021-12-09T19:13:22.047997",
          "2022-01-24T11:38:17.767057",
          "2022-01-24T12:07:44.199707",
          "2022-01-25T19:59:50.119567",
          "2022-01-26T18:53:01.088990",
          "2022-04-10T10:17:40.613564"
         ],
         "xaxis": "x",
         "y": [
          null,
          null,
          1,
          null,
          null,
          null,
          null,
          null,
          null,
          null
         ],
         "yaxis": "y"
        },
        {
         "hovertemplate": "variable=Supine hang bar<br>session_executions_updated_at=%{x}<br>value=%{y}<extra></extra>",
         "legendgroup": "Supine hang bar",
         "marker": {
          "color": "#FFA15A",
          "symbol": "circle"
         },
         "mode": "markers",
         "name": "Supine hang bar",
         "orientation": "v",
         "showlegend": true,
         "type": "scatter",
         "x": [
          "2021-06-11T18:00:35.640406",
          "2021-10-30T16:51:09.117908",
          "2021-10-30T17:11:05.202353",
          "2021-12-08T19:19:10.266601",
          "2021-12-09T19:13:22.047997",
          "2022-01-24T11:38:17.767057",
          "2022-01-24T12:07:44.199707",
          "2022-01-25T19:59:50.119567",
          "2022-01-26T18:53:01.088990",
          "2022-04-10T10:17:40.613564"
         ],
         "xaxis": "x",
         "y": [
          null,
          null,
          1,
          null,
          null,
          null,
          null,
          null,
          null,
          null
         ],
         "yaxis": "y"
        },
        {
         "hovertemplate": "variable=Deficit push-up<br>session_executions_updated_at=%{x}<br>value=%{y}<extra></extra>",
         "legendgroup": "Deficit push-up",
         "marker": {
          "color": "#19d3f3",
          "symbol": "circle"
         },
         "mode": "markers",
         "name": "Deficit push-up",
         "orientation": "v",
         "showlegend": true,
         "type": "scatter",
         "x": [
          "2021-06-11T18:00:35.640406",
          "2021-10-30T16:51:09.117908",
          "2021-10-30T17:11:05.202353",
          "2021-12-08T19:19:10.266601",
          "2021-12-09T19:13:22.047997",
          "2022-01-24T11:38:17.767057",
          "2022-01-24T12:07:44.199707",
          "2022-01-25T19:59:50.119567",
          "2022-01-26T18:53:01.088990",
          "2022-04-10T10:17:40.613564"
         ],
         "xaxis": "x",
         "y": [
          null,
          null,
          null,
          4,
          null,
          null,
          null,
          null,
          null,
          null
         ],
         "yaxis": "y"
        },
        {
         "hovertemplate": "variable=Double row trx<br>session_executions_updated_at=%{x}<br>value=%{y}<extra></extra>",
         "legendgroup": "Double row trx",
         "marker": {
          "color": "#FF6692",
          "symbol": "circle"
         },
         "mode": "markers",
         "name": "Double row trx",
         "orientation": "v",
         "showlegend": true,
         "type": "scatter",
         "x": [
          "2021-06-11T18:00:35.640406",
          "2021-10-30T16:51:09.117908",
          "2021-10-30T17:11:05.202353",
          "2021-12-08T19:19:10.266601",
          "2021-12-09T19:13:22.047997",
          "2022-01-24T11:38:17.767057",
          "2022-01-24T12:07:44.199707",
          "2022-01-25T19:59:50.119567",
          "2022-01-26T18:53:01.088990",
          "2022-04-10T10:17:40.613564"
         ],
         "xaxis": "x",
         "y": [
          null,
          null,
          null,
          4,
          null,
          null,
          null,
          null,
          null,
          null
         ],
         "yaxis": "y"
        },
        {
         "hovertemplate": "variable=Forward thrust<br>session_executions_updated_at=%{x}<br>value=%{y}<extra></extra>",
         "legendgroup": "Forward thrust",
         "marker": {
          "color": "#B6E880",
          "symbol": "circle"
         },
         "mode": "markers",
         "name": "Forward thrust",
         "orientation": "v",
         "showlegend": true,
         "type": "scatter",
         "x": [
          "2021-06-11T18:00:35.640406",
          "2021-10-30T16:51:09.117908",
          "2021-10-30T17:11:05.202353",
          "2021-12-08T19:19:10.266601",
          "2021-12-09T19:13:22.047997",
          "2022-01-24T11:38:17.767057",
          "2022-01-24T12:07:44.199707",
          "2022-01-25T19:59:50.119567",
          "2022-01-26T18:53:01.088990",
          "2022-04-10T10:17:40.613564"
         ],
         "xaxis": "x",
         "y": [
          null,
          null,
          null,
          4,
          null,
          null,
          null,
          null,
          null,
          null
         ],
         "yaxis": "y"
        },
        {
         "hovertemplate": "variable=Pivot lunges (left)<br>session_executions_updated_at=%{x}<br>value=%{y}<extra></extra>",
         "legendgroup": "Pivot lunges (left)",
         "marker": {
          "color": "#FF97FF",
          "symbol": "circle"
         },
         "mode": "markers",
         "name": "Pivot lunges (left)",
         "orientation": "v",
         "showlegend": true,
         "type": "scatter",
         "x": [
          "2021-06-11T18:00:35.640406",
          "2021-10-30T16:51:09.117908",
          "2021-10-30T17:11:05.202353",
          "2021-12-08T19:19:10.266601",
          "2021-12-09T19:13:22.047997",
          "2022-01-24T11:38:17.767057",
          "2022-01-24T12:07:44.199707",
          "2022-01-25T19:59:50.119567",
          "2022-01-26T18:53:01.088990",
          "2022-04-10T10:17:40.613564"
         ],
         "xaxis": "x",
         "y": [
          null,
          null,
          null,
          4,
          null,
          null,
          null,
          null,
          null,
          null
         ],
         "yaxis": "y"
        },
        {
         "hovertemplate": "variable=Pivot lunges (right)<br>session_executions_updated_at=%{x}<br>value=%{y}<extra></extra>",
         "legendgroup": "Pivot lunges (right)",
         "marker": {
          "color": "#FECB52",
          "symbol": "circle"
         },
         "mode": "markers",
         "name": "Pivot lunges (right)",
         "orientation": "v",
         "showlegend": true,
         "type": "scatter",
         "x": [
          "2021-06-11T18:00:35.640406",
          "2021-10-30T16:51:09.117908",
          "2021-10-30T17:11:05.202353",
          "2021-12-08T19:19:10.266601",
          "2021-12-09T19:13:22.047997",
          "2022-01-24T11:38:17.767057",
          "2022-01-24T12:07:44.199707",
          "2022-01-25T19:59:50.119567",
          "2022-01-26T18:53:01.088990",
          "2022-04-10T10:17:40.613564"
         ],
         "xaxis": "x",
         "y": [
          null,
          null,
          null,
          4,
          null,
          null,
          null,
          null,
          null,
          null
         ],
         "yaxis": "y"
        },
        {
         "hovertemplate": "variable=Shoulder to shoulder<br>session_executions_updated_at=%{x}<br>value=%{y}<extra></extra>",
         "legendgroup": "Shoulder to shoulder",
         "marker": {
          "color": "#636efa",
          "symbol": "circle"
         },
         "mode": "markers",
         "name": "Shoulder to shoulder",
         "orientation": "v",
         "showlegend": true,
         "type": "scatter",
         "x": [
          "2021-06-11T18:00:35.640406",
          "2021-10-30T16:51:09.117908",
          "2021-10-30T17:11:05.202353",
          "2021-12-08T19:19:10.266601",
          "2021-12-09T19:13:22.047997",
          "2022-01-24T11:38:17.767057",
          "2022-01-24T12:07:44.199707",
          "2022-01-25T19:59:50.119567",
          "2022-01-26T18:53:01.088990",
          "2022-04-10T10:17:40.613564"
         ],
         "xaxis": "x",
         "y": [
          null,
          null,
          null,
          4,
          null,
          null,
          null,
          null,
          null,
          null
         ],
         "yaxis": "y"
        },
        {
         "hovertemplate": "variable=Sprint<br>session_executions_updated_at=%{x}<br>value=%{y}<extra></extra>",
         "legendgroup": "Sprint",
         "marker": {
          "color": "#EF553B",
          "symbol": "circle"
         },
         "mode": "markers",
         "name": "Sprint",
         "orientation": "v",
         "showlegend": true,
         "type": "scatter",
         "x": [
          "2021-06-11T18:00:35.640406",
          "2021-10-30T16:51:09.117908",
          "2021-10-30T17:11:05.202353",
          "2021-12-08T19:19:10.266601",
          "2021-12-09T19:13:22.047997",
          "2022-01-24T11:38:17.767057",
          "2022-01-24T12:07:44.199707",
          "2022-01-25T19:59:50.119567",
          "2022-01-26T18:53:01.088990",
          "2022-04-10T10:17:40.613564"
         ],
         "xaxis": "x",
         "y": [
          null,
          null,
          null,
          9,
          null,
          null,
          null,
          null,
          null,
          null
         ],
         "yaxis": "y"
        },
        {
         "hovertemplate": "variable=Trx pull-ups<br>session_executions_updated_at=%{x}<br>value=%{y}<extra></extra>",
         "legendgroup": "Trx pull-ups",
         "marker": {
          "color": "#00cc96",
          "symbol": "circle"
         },
         "mode": "markers",
         "name": "Trx pull-ups",
         "orientation": "v",
         "showlegend": true,
         "type": "scatter",
         "x": [
          "2021-06-11T18:00:35.640406",
          "2021-10-30T16:51:09.117908",
          "2021-10-30T17:11:05.202353",
          "2021-12-08T19:19:10.266601",
          "2021-12-09T19:13:22.047997",
          "2022-01-24T11:38:17.767057",
          "2022-01-24T12:07:44.199707",
          "2022-01-25T19:59:50.119567",
          "2022-01-26T18:53:01.088990",
          "2022-04-10T10:17:40.613564"
         ],
         "xaxis": "x",
         "y": [
          null,
          null,
          null,
          4,
          null,
          null,
          null,
          null,
          null,
          null
         ],
         "yaxis": "y"
        },
        {
         "hovertemplate": "variable=Cat to dog<br>session_executions_updated_at=%{x}<br>value=%{y}<extra></extra>",
         "legendgroup": "Cat to dog",
         "marker": {
          "color": "#ab63fa",
          "symbol": "circle"
         },
         "mode": "markers",
         "name": "Cat to dog",
         "orientation": "v",
         "showlegend": true,
         "type": "scatter",
         "x": [
          "2021-06-11T18:00:35.640406",
          "2021-10-30T16:51:09.117908",
          "2021-10-30T17:11:05.202353",
          "2021-12-08T19:19:10.266601",
          "2021-12-09T19:13:22.047997",
          "2022-01-24T11:38:17.767057",
          "2022-01-24T12:07:44.199707",
          "2022-01-25T19:59:50.119567",
          "2022-01-26T18:53:01.088990",
          "2022-04-10T10:17:40.613564"
         ],
         "xaxis": "x",
         "y": [
          null,
          null,
          null,
          null,
          3,
          null,
          null,
          null,
          null,
          null
         ],
         "yaxis": "y"
        },
        {
         "hovertemplate": "variable=Circles of knees together<br>session_executions_updated_at=%{x}<br>value=%{y}<extra></extra>",
         "legendgroup": "Circles of knees together",
         "marker": {
          "color": "#FFA15A",
          "symbol": "circle"
         },
         "mode": "markers",
         "name": "Circles of knees together",
         "orientation": "v",
         "showlegend": true,
         "type": "scatter",
         "x": [
          "2021-06-11T18:00:35.640406",
          "2021-10-30T16:51:09.117908",
          "2021-10-30T17:11:05.202353",
          "2021-12-08T19:19:10.266601",
          "2021-12-09T19:13:22.047997",
          "2022-01-24T11:38:17.767057",
          "2022-01-24T12:07:44.199707",
          "2022-01-25T19:59:50.119567",
          "2022-01-26T18:53:01.088990",
          "2022-04-10T10:17:40.613564"
         ],
         "xaxis": "x",
         "y": [
          null,
          null,
          null,
          null,
          3,
          null,
          null,
          null,
          null,
          null
         ],
         "yaxis": "y"
        },
        {
         "hovertemplate": "variable=Elbow and wrist circles<br>session_executions_updated_at=%{x}<br>value=%{y}<extra></extra>",
         "legendgroup": "Elbow and wrist circles",
         "marker": {
          "color": "#19d3f3",
          "symbol": "circle"
         },
         "mode": "markers",
         "name": "Elbow and wrist circles",
         "orientation": "v",
         "showlegend": true,
         "type": "scatter",
         "x": [
          "2021-06-11T18:00:35.640406",
          "2021-10-30T16:51:09.117908",
          "2021-10-30T17:11:05.202353",
          "2021-12-08T19:19:10.266601",
          "2021-12-09T19:13:22.047997",
          "2022-01-24T11:38:17.767057",
          "2022-01-24T12:07:44.199707",
          "2022-01-25T19:59:50.119567",
          "2022-01-26T18:53:01.088990",
          "2022-04-10T10:17:40.613564"
         ],
         "xaxis": "x",
         "y": [
          null,
          null,
          null,
          null,
          3,
          null,
          null,
          null,
          null,
          null
         ],
         "yaxis": "y"
        },
        {
         "hovertemplate": "variable=Neck circles<br>session_executions_updated_at=%{x}<br>value=%{y}<extra></extra>",
         "legendgroup": "Neck circles",
         "marker": {
          "color": "#FF6692",
          "symbol": "circle"
         },
         "mode": "markers",
         "name": "Neck circles",
         "orientation": "v",
         "showlegend": true,
         "type": "scatter",
         "x": [
          "2021-06-11T18:00:35.640406",
          "2021-10-30T16:51:09.117908",
          "2021-10-30T17:11:05.202353",
          "2021-12-08T19:19:10.266601",
          "2021-12-09T19:13:22.047997",
          "2022-01-24T11:38:17.767057",
          "2022-01-24T12:07:44.199707",
          "2022-01-25T19:59:50.119567",
          "2022-01-26T18:53:01.088990",
          "2022-04-10T10:17:40.613564"
         ],
         "xaxis": "x",
         "y": [
          null,
          null,
          null,
          null,
          3,
          null,
          null,
          null,
          null,
          null
         ],
         "yaxis": "y"
        },
        {
         "hovertemplate": "variable=Pelvis circles<br>session_executions_updated_at=%{x}<br>value=%{y}<extra></extra>",
         "legendgroup": "Pelvis circles",
         "marker": {
          "color": "#B6E880",
          "symbol": "circle"
         },
         "mode": "markers",
         "name": "Pelvis circles",
         "orientation": "v",
         "showlegend": true,
         "type": "scatter",
         "x": [
          "2021-06-11T18:00:35.640406",
          "2021-10-30T16:51:09.117908",
          "2021-10-30T17:11:05.202353",
          "2021-12-08T19:19:10.266601",
          "2021-12-09T19:13:22.047997",
          "2022-01-24T11:38:17.767057",
          "2022-01-24T12:07:44.199707",
          "2022-01-25T19:59:50.119567",
          "2022-01-26T18:53:01.088990",
          "2022-04-10T10:17:40.613564"
         ],
         "xaxis": "x",
         "y": [
          null,
          null,
          null,
          null,
          3,
          null,
          null,
          null,
          null,
          null
         ],
         "yaxis": "y"
        },
        {
         "hovertemplate": "variable=Plank<br>session_executions_updated_at=%{x}<br>value=%{y}<extra></extra>",
         "legendgroup": "Plank",
         "marker": {
          "color": "#FF97FF",
          "symbol": "circle"
         },
         "mode": "markers",
         "name": "Plank",
         "orientation": "v",
         "showlegend": true,
         "type": "scatter",
         "x": [
          "2021-06-11T18:00:35.640406",
          "2021-10-30T16:51:09.117908",
          "2021-10-30T17:11:05.202353",
          "2021-12-08T19:19:10.266601",
          "2021-12-09T19:13:22.047997",
          "2022-01-24T11:38:17.767057",
          "2022-01-24T12:07:44.199707",
          "2022-01-25T19:59:50.119567",
          "2022-01-26T18:53:01.088990",
          "2022-04-10T10:17:40.613564"
         ],
         "xaxis": "x",
         "y": [
          null,
          null,
          null,
          null,
          3,
          null,
          null,
          null,
          null,
          null
         ],
         "yaxis": "y"
        },
        {
         "hovertemplate": "variable=Shoulder circles<br>session_executions_updated_at=%{x}<br>value=%{y}<extra></extra>",
         "legendgroup": "Shoulder circles",
         "marker": {
          "color": "#FECB52",
          "symbol": "circle"
         },
         "mode": "markers",
         "name": "Shoulder circles",
         "orientation": "v",
         "showlegend": true,
         "type": "scatter",
         "x": [
          "2021-06-11T18:00:35.640406",
          "2021-10-30T16:51:09.117908",
          "2021-10-30T17:11:05.202353",
          "2021-12-08T19:19:10.266601",
          "2021-12-09T19:13:22.047997",
          "2022-01-24T11:38:17.767057",
          "2022-01-24T12:07:44.199707",
          "2022-01-25T19:59:50.119567",
          "2022-01-26T18:53:01.088990",
          "2022-04-10T10:17:40.613564"
         ],
         "xaxis": "x",
         "y": [
          null,
          null,
          null,
          null,
          3,
          null,
          null,
          null,
          null,
          null
         ],
         "yaxis": "y"
        },
        {
         "hovertemplate": "variable=Hold with rings<br>session_executions_updated_at=%{x}<br>value=%{y}<extra></extra>",
         "legendgroup": "Hold with rings",
         "marker": {
          "color": "#636efa",
          "symbol": "circle"
         },
         "mode": "markers",
         "name": "Hold with rings",
         "orientation": "v",
         "showlegend": true,
         "type": "scatter",
         "x": [
          "2021-06-11T18:00:35.640406",
          "2021-10-30T16:51:09.117908",
          "2021-10-30T17:11:05.202353",
          "2021-12-08T19:19:10.266601",
          "2021-12-09T19:13:22.047997",
          "2022-01-24T11:38:17.767057",
          "2022-01-24T12:07:44.199707",
          "2022-01-25T19:59:50.119567",
          "2022-01-26T18:53:01.088990",
          "2022-04-10T10:17:40.613564"
         ],
         "xaxis": "x",
         "y": [
          null,
          null,
          null,
          null,
          null,
          6,
          null,
          6,
          null,
          null
         ],
         "yaxis": "y"
        },
        {
         "hovertemplate": "variable=Pull-up with rings 1<br>session_executions_updated_at=%{x}<br>value=%{y}<extra></extra>",
         "legendgroup": "Pull-up with rings 1",
         "marker": {
          "color": "#EF553B",
          "symbol": "circle"
         },
         "mode": "markers",
         "name": "Pull-up with rings 1",
         "orientation": "v",
         "showlegend": true,
         "type": "scatter",
         "x": [
          "2021-06-11T18:00:35.640406",
          "2021-10-30T16:51:09.117908",
          "2021-10-30T17:11:05.202353",
          "2021-12-08T19:19:10.266601",
          "2021-12-09T19:13:22.047997",
          "2022-01-24T11:38:17.767057",
          "2022-01-24T12:07:44.199707",
          "2022-01-25T19:59:50.119567",
          "2022-01-26T18:53:01.088990",
          "2022-04-10T10:17:40.613564"
         ],
         "xaxis": "x",
         "y": [
          null,
          null,
          null,
          null,
          null,
          3,
          null,
          3,
          null,
          null
         ],
         "yaxis": "y"
        },
        {
         "hovertemplate": "variable=Push-up with rings 1<br>session_executions_updated_at=%{x}<br>value=%{y}<extra></extra>",
         "legendgroup": "Push-up with rings 1",
         "marker": {
          "color": "#00cc96",
          "symbol": "circle"
         },
         "mode": "markers",
         "name": "Push-up with rings 1",
         "orientation": "v",
         "showlegend": true,
         "type": "scatter",
         "x": [
          "2021-06-11T18:00:35.640406",
          "2021-10-30T16:51:09.117908",
          "2021-10-30T17:11:05.202353",
          "2021-12-08T19:19:10.266601",
          "2021-12-09T19:13:22.047997",
          "2022-01-24T11:38:17.767057",
          "2022-01-24T12:07:44.199707",
          "2022-01-25T19:59:50.119567",
          "2022-01-26T18:53:01.088990",
          "2022-04-10T10:17:40.613564"
         ],
         "xaxis": "x",
         "y": [
          null,
          null,
          null,
          null,
          null,
          3,
          null,
          1,
          null,
          null
         ],
         "yaxis": "y"
        },
        {
         "hovertemplate": "variable=Ring dips 1<br>session_executions_updated_at=%{x}<br>value=%{y}<extra></extra>",
         "legendgroup": "Ring dips 1",
         "marker": {
          "color": "#ab63fa",
          "symbol": "circle"
         },
         "mode": "markers",
         "name": "Ring dips 1",
         "orientation": "v",
         "showlegend": true,
         "type": "scatter",
         "x": [
          "2021-06-11T18:00:35.640406",
          "2021-10-30T16:51:09.117908",
          "2021-10-30T17:11:05.202353",
          "2021-12-08T19:19:10.266601",
          "2021-12-09T19:13:22.047997",
          "2022-01-24T11:38:17.767057",
          "2022-01-24T12:07:44.199707",
          "2022-01-25T19:59:50.119567",
          "2022-01-26T18:53:01.088990",
          "2022-04-10T10:17:40.613564"
         ],
         "xaxis": "x",
         "y": [
          null,
          null,
          null,
          null,
          null,
          4,
          null,
          3,
          null,
          null
         ],
         "yaxis": "y"
        },
        {
         "hovertemplate": "variable=Row with rings 1<br>session_executions_updated_at=%{x}<br>value=%{y}<extra></extra>",
         "legendgroup": "Row with rings 1",
         "marker": {
          "color": "#FFA15A",
          "symbol": "circle"
         },
         "mode": "markers",
         "name": "Row with rings 1",
         "orientation": "v",
         "showlegend": true,
         "type": "scatter",
         "x": [
          "2021-06-11T18:00:35.640406",
          "2021-10-30T16:51:09.117908",
          "2021-10-30T17:11:05.202353",
          "2021-12-08T19:19:10.266601",
          "2021-12-09T19:13:22.047997",
          "2022-01-24T11:38:17.767057",
          "2022-01-24T12:07:44.199707",
          "2022-01-25T19:59:50.119567",
          "2022-01-26T18:53:01.088990",
          "2022-04-10T10:17:40.613564"
         ],
         "xaxis": "x",
         "y": [
          null,
          null,
          null,
          null,
          null,
          3,
          null,
          3,
          null,
          null
         ],
         "yaxis": "y"
        },
        {
         "hovertemplate": "variable=Forward lunge<br>session_executions_updated_at=%{x}<br>value=%{y}<extra></extra>",
         "legendgroup": "Forward lunge",
         "marker": {
          "color": "#19d3f3",
          "symbol": "circle"
         },
         "mode": "markers",
         "name": "Forward lunge",
         "orientation": "v",
         "showlegend": true,
         "type": "scatter",
         "x": [
          "2021-06-11T18:00:35.640406",
          "2021-10-30T16:51:09.117908",
          "2021-10-30T17:11:05.202353",
          "2021-12-08T19:19:10.266601",
          "2021-12-09T19:13:22.047997",
          "2022-01-24T11:38:17.767057",
          "2022-01-24T12:07:44.199707",
          "2022-01-25T19:59:50.119567",
          "2022-01-26T18:53:01.088990",
          "2022-04-10T10:17:40.613564"
         ],
         "xaxis": "x",
         "y": [
          null,
          null,
          null,
          null,
          null,
          null,
          2,
          null,
          null,
          null
         ],
         "yaxis": "y"
        },
        {
         "hovertemplate": "variable=Leg raises 1<br>session_executions_updated_at=%{x}<br>value=%{y}<extra></extra>",
         "legendgroup": "Leg raises 1",
         "marker": {
          "color": "#FF6692",
          "symbol": "circle"
         },
         "mode": "markers",
         "name": "Leg raises 1",
         "orientation": "v",
         "showlegend": true,
         "type": "scatter",
         "x": [
          "2021-06-11T18:00:35.640406",
          "2021-10-30T16:51:09.117908",
          "2021-10-30T17:11:05.202353",
          "2021-12-08T19:19:10.266601",
          "2021-12-09T19:13:22.047997",
          "2022-01-24T11:38:17.767057",
          "2022-01-24T12:07:44.199707",
          "2022-01-25T19:59:50.119567",
          "2022-01-26T18:53:01.088990",
          "2022-04-10T10:17:40.613564"
         ],
         "xaxis": "x",
         "y": [
          null,
          null,
          null,
          null,
          null,
          null,
          3,
          null,
          null,
          3
         ],
         "yaxis": "y"
        },
        {
         "hovertemplate": "variable=Plank with rings<br>session_executions_updated_at=%{x}<br>value=%{y}<extra></extra>",
         "legendgroup": "Plank with rings",
         "marker": {
          "color": "#B6E880",
          "symbol": "circle"
         },
         "mode": "markers",
         "name": "Plank with rings",
         "orientation": "v",
         "showlegend": true,
         "type": "scatter",
         "x": [
          "2021-06-11T18:00:35.640406",
          "2021-10-30T16:51:09.117908",
          "2021-10-30T17:11:05.202353",
          "2021-12-08T19:19:10.266601",
          "2021-12-09T19:13:22.047997",
          "2022-01-24T11:38:17.767057",
          "2022-01-24T12:07:44.199707",
          "2022-01-25T19:59:50.119567",
          "2022-01-26T18:53:01.088990",
          "2022-04-10T10:17:40.613564"
         ],
         "xaxis": "x",
         "y": [
          null,
          null,
          null,
          null,
          null,
          null,
          2,
          null,
          2,
          2
         ],
         "yaxis": "y"
        },
        {
         "hovertemplate": "variable=Roll-out with rings 1<br>session_executions_updated_at=%{x}<br>value=%{y}<extra></extra>",
         "legendgroup": "Roll-out with rings 1",
         "marker": {
          "color": "#FF97FF",
          "symbol": "circle"
         },
         "mode": "markers",
         "name": "Roll-out with rings 1",
         "orientation": "v",
         "showlegend": true,
         "type": "scatter",
         "x": [
          "2021-06-11T18:00:35.640406",
          "2021-10-30T16:51:09.117908",
          "2021-10-30T17:11:05.202353",
          "2021-12-08T19:19:10.266601",
          "2021-12-09T19:13:22.047997",
          "2022-01-24T11:38:17.767057",
          "2022-01-24T12:07:44.199707",
          "2022-01-25T19:59:50.119567",
          "2022-01-26T18:53:01.088990",
          "2022-04-10T10:17:40.613564"
         ],
         "xaxis": "x",
         "y": [
          null,
          null,
          null,
          null,
          null,
          null,
          3,
          null,
          3,
          3
         ],
         "yaxis": "y"
        },
        {
         "hovertemplate": "variable=Side lunge<br>session_executions_updated_at=%{x}<br>value=%{y}<extra></extra>",
         "legendgroup": "Side lunge",
         "marker": {
          "color": "#FECB52",
          "symbol": "circle"
         },
         "mode": "markers",
         "name": "Side lunge",
         "orientation": "v",
         "showlegend": true,
         "type": "scatter",
         "x": [
          "2021-06-11T18:00:35.640406",
          "2021-10-30T16:51:09.117908",
          "2021-10-30T17:11:05.202353",
          "2021-12-08T19:19:10.266601",
          "2021-12-09T19:13:22.047997",
          "2022-01-24T11:38:17.767057",
          "2022-01-24T12:07:44.199707",
          "2022-01-25T19:59:50.119567",
          "2022-01-26T18:53:01.088990",
          "2022-04-10T10:17:40.613564"
         ],
         "xaxis": "x",
         "y": [
          null,
          null,
          null,
          null,
          null,
          null,
          2,
          null,
          2,
          3
         ],
         "yaxis": "y"
        },
        {
         "hovertemplate": "variable=Squat with rings<br>session_executions_updated_at=%{x}<br>value=%{y}<extra></extra>",
         "legendgroup": "Squat with rings",
         "marker": {
          "color": "#636efa",
          "symbol": "circle"
         },
         "mode": "markers",
         "name": "Squat with rings",
         "orientation": "v",
         "showlegend": true,
         "type": "scatter",
         "x": [
          "2021-06-11T18:00:35.640406",
          "2021-10-30T16:51:09.117908",
          "2021-10-30T17:11:05.202353",
          "2021-12-08T19:19:10.266601",
          "2021-12-09T19:13:22.047997",
          "2022-01-24T11:38:17.767057",
          "2022-01-24T12:07:44.199707",
          "2022-01-25T19:59:50.119567",
          "2022-01-26T18:53:01.088990",
          "2022-04-10T10:17:40.613564"
         ],
         "xaxis": "x",
         "y": [
          null,
          null,
          null,
          null,
          null,
          null,
          3,
          null,
          3,
          3
         ],
         "yaxis": "y"
        },
        {
         "hovertemplate": "variable=Vertical ring push-up 1<br>session_executions_updated_at=%{x}<br>value=%{y}<extra></extra>",
         "legendgroup": "Vertical ring push-up 1",
         "marker": {
          "color": "#EF553B",
          "symbol": "circle"
         },
         "mode": "markers",
         "name": "Vertical ring push-up 1",
         "orientation": "v",
         "showlegend": true,
         "type": "scatter",
         "x": [
          "2021-06-11T18:00:35.640406",
          "2021-10-30T16:51:09.117908",
          "2021-10-30T17:11:05.202353",
          "2021-12-08T19:19:10.266601",
          "2021-12-09T19:13:22.047997",
          "2022-01-24T11:38:17.767057",
          "2022-01-24T12:07:44.199707",
          "2022-01-25T19:59:50.119567",
          "2022-01-26T18:53:01.088990",
          "2022-04-10T10:17:40.613564"
         ],
         "xaxis": "x",
         "y": [
          null,
          null,
          null,
          null,
          null,
          null,
          null,
          3,
          null,
          null
         ],
         "yaxis": "y"
        },
        {
         "hovertemplate": "variable=Backward lunge<br>session_executions_updated_at=%{x}<br>value=%{y}<extra></extra>",
         "legendgroup": "Backward lunge",
         "marker": {
          "color": "#00cc96",
          "symbol": "circle"
         },
         "mode": "markers",
         "name": "Backward lunge",
         "orientation": "v",
         "showlegend": true,
         "type": "scatter",
         "x": [
          "2021-06-11T18:00:35.640406",
          "2021-10-30T16:51:09.117908",
          "2021-10-30T17:11:05.202353",
          "2021-12-08T19:19:10.266601",
          "2021-12-09T19:13:22.047997",
          "2022-01-24T11:38:17.767057",
          "2022-01-24T12:07:44.199707",
          "2022-01-25T19:59:50.119567",
          "2022-01-26T18:53:01.088990",
          "2022-04-10T10:17:40.613564"
         ],
         "xaxis": "x",
         "y": [
          null,
          null,
          null,
          null,
          null,
          null,
          null,
          null,
          3,
          null
         ],
         "yaxis": "y"
        },
        {
         "hovertemplate": "variable=Mountain climbers<br>session_executions_updated_at=%{x}<br>value=%{y}<extra></extra>",
         "legendgroup": "Mountain climbers",
         "marker": {
          "color": "#ab63fa",
          "symbol": "circle"
         },
         "mode": "markers",
         "name": "Mountain climbers",
         "orientation": "v",
         "showlegend": true,
         "type": "scatter",
         "x": [
          "2021-06-11T18:00:35.640406",
          "2021-10-30T16:51:09.117908",
          "2021-10-30T17:11:05.202353",
          "2021-12-08T19:19:10.266601",
          "2021-12-09T19:13:22.047997",
          "2022-01-24T11:38:17.767057",
          "2022-01-24T12:07:44.199707",
          "2022-01-25T19:59:50.119567",
          "2022-01-26T18:53:01.088990",
          "2022-04-10T10:17:40.613564"
         ],
         "xaxis": "x",
         "y": [
          null,
          null,
          null,
          null,
          null,
          null,
          null,
          null,
          3,
          2
         ],
         "yaxis": "y"
        }
       ],
       "layout": {
        "legend": {
         "title": {
          "text": "variable"
         },
         "tracegroupgap": 0
        },
        "template": {
         "data": {
          "bar": [
           {
            "error_x": {
             "color": "#2a3f5f"
            },
            "error_y": {
             "color": "#2a3f5f"
            },
            "marker": {
             "line": {
              "color": "#E5ECF6",
              "width": 0.5
             },
             "pattern": {
              "fillmode": "overlay",
              "size": 10,
              "solidity": 0.2
             }
            },
            "type": "bar"
           }
          ],
          "barpolar": [
           {
            "marker": {
             "line": {
              "color": "#E5ECF6",
              "width": 0.5
             },
             "pattern": {
              "fillmode": "overlay",
              "size": 10,
              "solidity": 0.2
             }
            },
            "type": "barpolar"
           }
          ],
          "carpet": [
           {
            "aaxis": {
             "endlinecolor": "#2a3f5f",
             "gridcolor": "white",
             "linecolor": "white",
             "minorgridcolor": "white",
             "startlinecolor": "#2a3f5f"
            },
            "baxis": {
             "endlinecolor": "#2a3f5f",
             "gridcolor": "white",
             "linecolor": "white",
             "minorgridcolor": "white",
             "startlinecolor": "#2a3f5f"
            },
            "type": "carpet"
           }
          ],
          "choropleth": [
           {
            "colorbar": {
             "outlinewidth": 0,
             "ticks": ""
            },
            "type": "choropleth"
           }
          ],
          "contour": [
           {
            "colorbar": {
             "outlinewidth": 0,
             "ticks": ""
            },
            "colorscale": [
             [
              0,
              "#0d0887"
             ],
             [
              0.1111111111111111,
              "#46039f"
             ],
             [
              0.2222222222222222,
              "#7201a8"
             ],
             [
              0.3333333333333333,
              "#9c179e"
             ],
             [
              0.4444444444444444,
              "#bd3786"
             ],
             [
              0.5555555555555556,
              "#d8576b"
             ],
             [
              0.6666666666666666,
              "#ed7953"
             ],
             [
              0.7777777777777778,
              "#fb9f3a"
             ],
             [
              0.8888888888888888,
              "#fdca26"
             ],
             [
              1,
              "#f0f921"
             ]
            ],
            "type": "contour"
           }
          ],
          "contourcarpet": [
           {
            "colorbar": {
             "outlinewidth": 0,
             "ticks": ""
            },
            "type": "contourcarpet"
           }
          ],
          "heatmap": [
           {
            "colorbar": {
             "outlinewidth": 0,
             "ticks": ""
            },
            "colorscale": [
             [
              0,
              "#0d0887"
             ],
             [
              0.1111111111111111,
              "#46039f"
             ],
             [
              0.2222222222222222,
              "#7201a8"
             ],
             [
              0.3333333333333333,
              "#9c179e"
             ],
             [
              0.4444444444444444,
              "#bd3786"
             ],
             [
              0.5555555555555556,
              "#d8576b"
             ],
             [
              0.6666666666666666,
              "#ed7953"
             ],
             [
              0.7777777777777778,
              "#fb9f3a"
             ],
             [
              0.8888888888888888,
              "#fdca26"
             ],
             [
              1,
              "#f0f921"
             ]
            ],
            "type": "heatmap"
           }
          ],
          "heatmapgl": [
           {
            "colorbar": {
             "outlinewidth": 0,
             "ticks": ""
            },
            "colorscale": [
             [
              0,
              "#0d0887"
             ],
             [
              0.1111111111111111,
              "#46039f"
             ],
             [
              0.2222222222222222,
              "#7201a8"
             ],
             [
              0.3333333333333333,
              "#9c179e"
             ],
             [
              0.4444444444444444,
              "#bd3786"
             ],
             [
              0.5555555555555556,
              "#d8576b"
             ],
             [
              0.6666666666666666,
              "#ed7953"
             ],
             [
              0.7777777777777778,
              "#fb9f3a"
             ],
             [
              0.8888888888888888,
              "#fdca26"
             ],
             [
              1,
              "#f0f921"
             ]
            ],
            "type": "heatmapgl"
           }
          ],
          "histogram": [
           {
            "marker": {
             "pattern": {
              "fillmode": "overlay",
              "size": 10,
              "solidity": 0.2
             }
            },
            "type": "histogram"
           }
          ],
          "histogram2d": [
           {
            "colorbar": {
             "outlinewidth": 0,
             "ticks": ""
            },
            "colorscale": [
             [
              0,
              "#0d0887"
             ],
             [
              0.1111111111111111,
              "#46039f"
             ],
             [
              0.2222222222222222,
              "#7201a8"
             ],
             [
              0.3333333333333333,
              "#9c179e"
             ],
             [
              0.4444444444444444,
              "#bd3786"
             ],
             [
              0.5555555555555556,
              "#d8576b"
             ],
             [
              0.6666666666666666,
              "#ed7953"
             ],
             [
              0.7777777777777778,
              "#fb9f3a"
             ],
             [
              0.8888888888888888,
              "#fdca26"
             ],
             [
              1,
              "#f0f921"
             ]
            ],
            "type": "histogram2d"
           }
          ],
          "histogram2dcontour": [
           {
            "colorbar": {
             "outlinewidth": 0,
             "ticks": ""
            },
            "colorscale": [
             [
              0,
              "#0d0887"
             ],
             [
              0.1111111111111111,
              "#46039f"
             ],
             [
              0.2222222222222222,
              "#7201a8"
             ],
             [
              0.3333333333333333,
              "#9c179e"
             ],
             [
              0.4444444444444444,
              "#bd3786"
             ],
             [
              0.5555555555555556,
              "#d8576b"
             ],
             [
              0.6666666666666666,
              "#ed7953"
             ],
             [
              0.7777777777777778,
              "#fb9f3a"
             ],
             [
              0.8888888888888888,
              "#fdca26"
             ],
             [
              1,
              "#f0f921"
             ]
            ],
            "type": "histogram2dcontour"
           }
          ],
          "mesh3d": [
           {
            "colorbar": {
             "outlinewidth": 0,
             "ticks": ""
            },
            "type": "mesh3d"
           }
          ],
          "parcoords": [
           {
            "line": {
             "colorbar": {
              "outlinewidth": 0,
              "ticks": ""
             }
            },
            "type": "parcoords"
           }
          ],
          "pie": [
           {
            "automargin": true,
            "type": "pie"
           }
          ],
          "scatter": [
           {
            "fillpattern": {
             "fillmode": "overlay",
             "size": 10,
             "solidity": 0.2
            },
            "type": "scatter"
           }
          ],
          "scatter3d": [
           {
            "line": {
             "colorbar": {
              "outlinewidth": 0,
              "ticks": ""
             }
            },
            "marker": {
             "colorbar": {
              "outlinewidth": 0,
              "ticks": ""
             }
            },
            "type": "scatter3d"
           }
          ],
          "scattercarpet": [
           {
            "marker": {
             "colorbar": {
              "outlinewidth": 0,
              "ticks": ""
             }
            },
            "type": "scattercarpet"
           }
          ],
          "scattergeo": [
           {
            "marker": {
             "colorbar": {
              "outlinewidth": 0,
              "ticks": ""
             }
            },
            "type": "scattergeo"
           }
          ],
          "scattergl": [
           {
            "marker": {
             "colorbar": {
              "outlinewidth": 0,
              "ticks": ""
             }
            },
            "type": "scattergl"
           }
          ],
          "scattermapbox": [
           {
            "marker": {
             "colorbar": {
              "outlinewidth": 0,
              "ticks": ""
             }
            },
            "type": "scattermapbox"
           }
          ],
          "scatterpolar": [
           {
            "marker": {
             "colorbar": {
              "outlinewidth": 0,
              "ticks": ""
             }
            },
            "type": "scatterpolar"
           }
          ],
          "scatterpolargl": [
           {
            "marker": {
             "colorbar": {
              "outlinewidth": 0,
              "ticks": ""
             }
            },
            "type": "scatterpolargl"
           }
          ],
          "scatterternary": [
           {
            "marker": {
             "colorbar": {
              "outlinewidth": 0,
              "ticks": ""
             }
            },
            "type": "scatterternary"
           }
          ],
          "surface": [
           {
            "colorbar": {
             "outlinewidth": 0,
             "ticks": ""
            },
            "colorscale": [
             [
              0,
              "#0d0887"
             ],
             [
              0.1111111111111111,
              "#46039f"
             ],
             [
              0.2222222222222222,
              "#7201a8"
             ],
             [
              0.3333333333333333,
              "#9c179e"
             ],
             [
              0.4444444444444444,
              "#bd3786"
             ],
             [
              0.5555555555555556,
              "#d8576b"
             ],
             [
              0.6666666666666666,
              "#ed7953"
             ],
             [
              0.7777777777777778,
              "#fb9f3a"
             ],
             [
              0.8888888888888888,
              "#fdca26"
             ],
             [
              1,
              "#f0f921"
             ]
            ],
            "type": "surface"
           }
          ],
          "table": [
           {
            "cells": {
             "fill": {
              "color": "#EBF0F8"
             },
             "line": {
              "color": "white"
             }
            },
            "header": {
             "fill": {
              "color": "#C8D4E3"
             },
             "line": {
              "color": "white"
             }
            },
            "type": "table"
           }
          ]
         },
         "layout": {
          "annotationdefaults": {
           "arrowcolor": "#2a3f5f",
           "arrowhead": 0,
           "arrowwidth": 1
          },
          "autotypenumbers": "strict",
          "coloraxis": {
           "colorbar": {
            "outlinewidth": 0,
            "ticks": ""
           }
          },
          "colorscale": {
           "diverging": [
            [
             0,
             "#8e0152"
            ],
            [
             0.1,
             "#c51b7d"
            ],
            [
             0.2,
             "#de77ae"
            ],
            [
             0.3,
             "#f1b6da"
            ],
            [
             0.4,
             "#fde0ef"
            ],
            [
             0.5,
             "#f7f7f7"
            ],
            [
             0.6,
             "#e6f5d0"
            ],
            [
             0.7,
             "#b8e186"
            ],
            [
             0.8,
             "#7fbc41"
            ],
            [
             0.9,
             "#4d9221"
            ],
            [
             1,
             "#276419"
            ]
           ],
           "sequential": [
            [
             0,
             "#0d0887"
            ],
            [
             0.1111111111111111,
             "#46039f"
            ],
            [
             0.2222222222222222,
             "#7201a8"
            ],
            [
             0.3333333333333333,
             "#9c179e"
            ],
            [
             0.4444444444444444,
             "#bd3786"
            ],
            [
             0.5555555555555556,
             "#d8576b"
            ],
            [
             0.6666666666666666,
             "#ed7953"
            ],
            [
             0.7777777777777778,
             "#fb9f3a"
            ],
            [
             0.8888888888888888,
             "#fdca26"
            ],
            [
             1,
             "#f0f921"
            ]
           ],
           "sequentialminus": [
            [
             0,
             "#0d0887"
            ],
            [
             0.1111111111111111,
             "#46039f"
            ],
            [
             0.2222222222222222,
             "#7201a8"
            ],
            [
             0.3333333333333333,
             "#9c179e"
            ],
            [
             0.4444444444444444,
             "#bd3786"
            ],
            [
             0.5555555555555556,
             "#d8576b"
            ],
            [
             0.6666666666666666,
             "#ed7953"
            ],
            [
             0.7777777777777778,
             "#fb9f3a"
            ],
            [
             0.8888888888888888,
             "#fdca26"
            ],
            [
             1,
             "#f0f921"
            ]
           ]
          },
          "colorway": [
           "#636efa",
           "#EF553B",
           "#00cc96",
           "#ab63fa",
           "#FFA15A",
           "#19d3f3",
           "#FF6692",
           "#B6E880",
           "#FF97FF",
           "#FECB52"
          ],
          "font": {
           "color": "#2a3f5f"
          },
          "geo": {
           "bgcolor": "white",
           "lakecolor": "white",
           "landcolor": "#E5ECF6",
           "showlakes": true,
           "showland": true,
           "subunitcolor": "white"
          },
          "hoverlabel": {
           "align": "left"
          },
          "hovermode": "closest",
          "mapbox": {
           "style": "light"
          },
          "paper_bgcolor": "white",
          "plot_bgcolor": "#E5ECF6",
          "polar": {
           "angularaxis": {
            "gridcolor": "white",
            "linecolor": "white",
            "ticks": ""
           },
           "bgcolor": "#E5ECF6",
           "radialaxis": {
            "gridcolor": "white",
            "linecolor": "white",
            "ticks": ""
           }
          },
          "scene": {
           "xaxis": {
            "backgroundcolor": "#E5ECF6",
            "gridcolor": "white",
            "gridwidth": 2,
            "linecolor": "white",
            "showbackground": true,
            "ticks": "",
            "zerolinecolor": "white"
           },
           "yaxis": {
            "backgroundcolor": "#E5ECF6",
            "gridcolor": "white",
            "gridwidth": 2,
            "linecolor": "white",
            "showbackground": true,
            "ticks": "",
            "zerolinecolor": "white"
           },
           "zaxis": {
            "backgroundcolor": "#E5ECF6",
            "gridcolor": "white",
            "gridwidth": 2,
            "linecolor": "white",
            "showbackground": true,
            "ticks": "",
            "zerolinecolor": "white"
           }
          },
          "shapedefaults": {
           "line": {
            "color": "#2a3f5f"
           }
          },
          "ternary": {
           "aaxis": {
            "gridcolor": "white",
            "linecolor": "white",
            "ticks": ""
           },
           "baxis": {
            "gridcolor": "white",
            "linecolor": "white",
            "ticks": ""
           },
           "bgcolor": "#E5ECF6",
           "caxis": {
            "gridcolor": "white",
            "linecolor": "white",
            "ticks": ""
           }
          },
          "title": {
           "x": 0.05
          },
          "xaxis": {
           "automargin": true,
           "gridcolor": "white",
           "linecolor": "white",
           "ticks": "",
           "title": {
            "standoff": 15
           },
           "zerolinecolor": "white",
           "zerolinewidth": 2
          },
          "yaxis": {
           "automargin": true,
           "gridcolor": "white",
           "linecolor": "white",
           "ticks": "",
           "title": {
            "standoff": 15
           },
           "zerolinecolor": "white",
           "zerolinewidth": 2
          }
         }
        },
        "title": {
         "text": "Exercises per User 108"
        },
        "xaxis": {
         "anchor": "y",
         "domain": [
          0,
          1
         ],
         "title": {
          "text": "session_executions_updated_at"
         }
        },
        "yaxis": {
         "anchor": "x",
         "domain": [
          0,
          1
         ],
         "title": {
          "text": "value"
         }
        }
       }
      }
     },
     "metadata": {},
     "output_type": "display_data"
    },
    {
     "name": "stdout",
     "output_type": "stream",
     "text": [
      "User number :  112\n"
     ]
    }
   ],
   "source": [
    "for user in users:\n",
    "    \n",
    "    user_data  = df_data_remove_duplicated.loc[df_data['user_programs_user_id'] == user]\n",
    "    print(\"User number : \", user)\n",
    "    while True:\n",
    "        next_action = input(\"Next action: \")\n",
    "        if next_action == 'y':\n",
    "            break\n",
    "        if next_action == 'c':\n",
    "            break\n",
    "        else:\n",
    "            pass\n",
    "    if next_action == 'c':\n",
    "        break\n",
    "\n",
    "    series_exec = []\n",
    "\n",
    "    for index, row in user_data.iterrows():\n",
    "        series_number = row[row.astype(bool)]\n",
    "        series_number = series_number[~series_number.keys().str.contains('_time_')]\n",
    "        series_number = series_number[~series_number.keys().str.contains('_reps_')]\n",
    "        series_exec.append(series_number.to_dict())\n",
    "\n",
    "    df_plot = pd.DataFrame(series_exec)\n",
    "    #plot_exercises(df_plot, user)\n",
    "    plot_all_exercises(df_plot, user)\n",
    "    "
   ]
  },
  {
   "cell_type": "code",
   "execution_count": 10,
   "metadata": {},
   "outputs": [
    {
     "name": "stdout",
     "output_type": "stream",
     "text": [
      "3299\n"
     ]
    },
    {
     "data": {
      "text/plain": [
       "46225"
      ]
     },
     "execution_count": 10,
     "metadata": {},
     "output_type": "execute_result"
    }
   ],
   "source": [
    "# Extract date from 'session_executions_updated_at'\n",
    "df_data_remove_duplicated['date'] = df_data_remove_duplicated['session_executions_updated_at'].dt.date\n",
    "\n",
    "# Group by 'user_programs_user_id' and 'date', then count the number of sessions for each group\n",
    "sessions_per_day = df_data_remove_duplicated.groupby(['user_programs_user_id', 'date']).size()\n",
    "\n",
    "# Filter out users who executed more than one session per day\n",
    "users_with_more_than_one_session = sessions_per_day[sessions_per_day > 1]\n",
    "\n",
    "rows_with_the_same_day_deleted = users_with_more_than_one_session.values.sum() - users_with_more_than_one_session.value_counts().sum()\n",
    "\n",
    "print(rows_with_the_same_day_deleted)\n",
    "\n",
    "df_data_remove_duplicated.shape[0] - rows_with_the_same_day_deleted"
   ]
  },
  {
   "cell_type": "markdown",
   "metadata": {},
   "source": [
    "The \"rows_with_the_same_day_deleted\" above should be the same after apply the operaration below that sum all the exercises grouped by user id and date"
   ]
  },
  {
   "cell_type": "code",
   "execution_count": 11,
   "metadata": {},
   "outputs": [],
   "source": [
    "# Assuming df is your DataFrame\n",
    "\n",
    "# Convert 'session_executions_updated_at' column to datetime type\n",
    "df_data_remove_duplicated['session_executions_updated_at'] = pd.to_datetime(df_data_remove_duplicated['session_executions_updated_at'])\n",
    "\n",
    "# Extract columns to sum\n",
    "columns_to_sum = df_data_remove_duplicated.columns.drop(['session_executions_updated_at', 'user_programs_user_id', 'date'])\n",
    "\n",
    "# Group by 'user_programs_user_id' and 'date', then calculate sum for '1 leg bridge (left)' for each group\n",
    "df_data_remove_duplicated[columns_to_sum] = df_data_remove_duplicated.groupby(['user_programs_user_id', 'date'])[columns_to_sum].transform('sum')\n",
    "\n",
    "# Drop duplicate rows based on 'user_programs_user_id' and 'date'\n",
    "df_data_remove_duplicated = df_data_remove_duplicated.drop_duplicates(subset=['user_programs_user_id', 'date'])\n",
    "\n",
    "df_final = copy.copy(df_data_remove_duplicated)"
   ]
  },
  {
   "cell_type": "markdown",
   "metadata": {},
   "source": [
    "The df_final containts the sum of the sessions per day for each user. It is organized per user, and then per consecutive days. For this dataset also was correct the sessions that were multiple times repeated in short periods of time"
   ]
  },
  {
   "cell_type": "code",
   "execution_count": 12,
   "metadata": {},
   "outputs": [
    {
     "data": {
      "text/html": [
       "<div>\n",
       "<style scoped>\n",
       "    .dataframe tbody tr th:only-of-type {\n",
       "        vertical-align: middle;\n",
       "    }\n",
       "\n",
       "    .dataframe tbody tr th {\n",
       "        vertical-align: top;\n",
       "    }\n",
       "\n",
       "    .dataframe thead th {\n",
       "        text-align: right;\n",
       "    }\n",
       "</style>\n",
       "<table border=\"1\" class=\"dataframe\">\n",
       "  <thead>\n",
       "    <tr style=\"text-align: right;\">\n",
       "      <th></th>\n",
       "      <th>session_executions_updated_at</th>\n",
       "      <th>user_programs_user_id</th>\n",
       "      <th>1 leg bridge (left)</th>\n",
       "      <th>1 leg bridge (left)_reps_1</th>\n",
       "      <th>1 leg bridge (left)_reps_10</th>\n",
       "      <th>1 leg bridge (left)_reps_11</th>\n",
       "      <th>1 leg bridge (left)_reps_12</th>\n",
       "      <th>1 leg bridge (left)_reps_13</th>\n",
       "      <th>1 leg bridge (left)_reps_14</th>\n",
       "      <th>1 leg bridge (left)_reps_15</th>\n",
       "      <th>...</th>\n",
       "      <th>Wrist flexion and extension_time_4</th>\n",
       "      <th>Wrist flexion and extension_time_5</th>\n",
       "      <th>Zancadas</th>\n",
       "      <th>Zancadas_reps_1</th>\n",
       "      <th>Zancadas_reps_2</th>\n",
       "      <th>Zancadas_reps_3</th>\n",
       "      <th>Zancadas_time_1</th>\n",
       "      <th>Zancadas_time_2</th>\n",
       "      <th>Zancadas_time_3</th>\n",
       "      <th>date</th>\n",
       "    </tr>\n",
       "    <tr>\n",
       "      <th>session_execution_id</th>\n",
       "      <th></th>\n",
       "      <th></th>\n",
       "      <th></th>\n",
       "      <th></th>\n",
       "      <th></th>\n",
       "      <th></th>\n",
       "      <th></th>\n",
       "      <th></th>\n",
       "      <th></th>\n",
       "      <th></th>\n",
       "      <th></th>\n",
       "      <th></th>\n",
       "      <th></th>\n",
       "      <th></th>\n",
       "      <th></th>\n",
       "      <th></th>\n",
       "      <th></th>\n",
       "      <th></th>\n",
       "      <th></th>\n",
       "      <th></th>\n",
       "      <th></th>\n",
       "    </tr>\n",
       "  </thead>\n",
       "  <tbody>\n",
       "    <tr>\n",
       "      <th>3737</th>\n",
       "      <td>2021-06-11 18:00:35.640406</td>\n",
       "      <td>108</td>\n",
       "      <td>0.0</td>\n",
       "      <td>0.0</td>\n",
       "      <td>0.0</td>\n",
       "      <td>0.0</td>\n",
       "      <td>0.0</td>\n",
       "      <td>0.0</td>\n",
       "      <td>0.0</td>\n",
       "      <td>0.0</td>\n",
       "      <td>...</td>\n",
       "      <td>0.0</td>\n",
       "      <td>0.0</td>\n",
       "      <td>0.0</td>\n",
       "      <td>0.0</td>\n",
       "      <td>0.0</td>\n",
       "      <td>0.0</td>\n",
       "      <td>0.0</td>\n",
       "      <td>0.0</td>\n",
       "      <td>0.0</td>\n",
       "      <td>2021-06-11</td>\n",
       "    </tr>\n",
       "    <tr>\n",
       "      <th>5830</th>\n",
       "      <td>2021-10-30 16:51:09.117908</td>\n",
       "      <td>108</td>\n",
       "      <td>0.0</td>\n",
       "      <td>0.0</td>\n",
       "      <td>0.0</td>\n",
       "      <td>0.0</td>\n",
       "      <td>0.0</td>\n",
       "      <td>0.0</td>\n",
       "      <td>0.0</td>\n",
       "      <td>0.0</td>\n",
       "      <td>...</td>\n",
       "      <td>0.0</td>\n",
       "      <td>0.0</td>\n",
       "      <td>0.0</td>\n",
       "      <td>0.0</td>\n",
       "      <td>0.0</td>\n",
       "      <td>0.0</td>\n",
       "      <td>0.0</td>\n",
       "      <td>0.0</td>\n",
       "      <td>0.0</td>\n",
       "      <td>2021-10-30</td>\n",
       "    </tr>\n",
       "    <tr>\n",
       "      <th>17048</th>\n",
       "      <td>2021-12-08 19:19:10.266601</td>\n",
       "      <td>108</td>\n",
       "      <td>0.0</td>\n",
       "      <td>0.0</td>\n",
       "      <td>0.0</td>\n",
       "      <td>0.0</td>\n",
       "      <td>0.0</td>\n",
       "      <td>0.0</td>\n",
       "      <td>0.0</td>\n",
       "      <td>0.0</td>\n",
       "      <td>...</td>\n",
       "      <td>0.0</td>\n",
       "      <td>0.0</td>\n",
       "      <td>0.0</td>\n",
       "      <td>0.0</td>\n",
       "      <td>0.0</td>\n",
       "      <td>0.0</td>\n",
       "      <td>0.0</td>\n",
       "      <td>0.0</td>\n",
       "      <td>0.0</td>\n",
       "      <td>2021-12-08</td>\n",
       "    </tr>\n",
       "    <tr>\n",
       "      <th>17351</th>\n",
       "      <td>2021-12-09 19:13:22.047997</td>\n",
       "      <td>108</td>\n",
       "      <td>0.0</td>\n",
       "      <td>0.0</td>\n",
       "      <td>0.0</td>\n",
       "      <td>0.0</td>\n",
       "      <td>0.0</td>\n",
       "      <td>0.0</td>\n",
       "      <td>0.0</td>\n",
       "      <td>0.0</td>\n",
       "      <td>...</td>\n",
       "      <td>0.0</td>\n",
       "      <td>0.0</td>\n",
       "      <td>0.0</td>\n",
       "      <td>0.0</td>\n",
       "      <td>0.0</td>\n",
       "      <td>0.0</td>\n",
       "      <td>0.0</td>\n",
       "      <td>0.0</td>\n",
       "      <td>0.0</td>\n",
       "      <td>2021-12-09</td>\n",
       "    </tr>\n",
       "    <tr>\n",
       "      <th>715926</th>\n",
       "      <td>2022-01-24 11:38:17.767057</td>\n",
       "      <td>108</td>\n",
       "      <td>0.0</td>\n",
       "      <td>0.0</td>\n",
       "      <td>0.0</td>\n",
       "      <td>0.0</td>\n",
       "      <td>0.0</td>\n",
       "      <td>0.0</td>\n",
       "      <td>0.0</td>\n",
       "      <td>0.0</td>\n",
       "      <td>...</td>\n",
       "      <td>0.0</td>\n",
       "      <td>0.0</td>\n",
       "      <td>0.0</td>\n",
       "      <td>0.0</td>\n",
       "      <td>0.0</td>\n",
       "      <td>0.0</td>\n",
       "      <td>0.0</td>\n",
       "      <td>0.0</td>\n",
       "      <td>0.0</td>\n",
       "      <td>2022-01-24</td>\n",
       "    </tr>\n",
       "    <tr>\n",
       "      <th>...</th>\n",
       "      <td>...</td>\n",
       "      <td>...</td>\n",
       "      <td>...</td>\n",
       "      <td>...</td>\n",
       "      <td>...</td>\n",
       "      <td>...</td>\n",
       "      <td>...</td>\n",
       "      <td>...</td>\n",
       "      <td>...</td>\n",
       "      <td>...</td>\n",
       "      <td>...</td>\n",
       "      <td>...</td>\n",
       "      <td>...</td>\n",
       "      <td>...</td>\n",
       "      <td>...</td>\n",
       "      <td>...</td>\n",
       "      <td>...</td>\n",
       "      <td>...</td>\n",
       "      <td>...</td>\n",
       "      <td>...</td>\n",
       "      <td>...</td>\n",
       "    </tr>\n",
       "    <tr>\n",
       "      <th>746183</th>\n",
       "      <td>2022-05-25 20:36:55.438881</td>\n",
       "      <td>18157</td>\n",
       "      <td>0.0</td>\n",
       "      <td>0.0</td>\n",
       "      <td>0.0</td>\n",
       "      <td>0.0</td>\n",
       "      <td>0.0</td>\n",
       "      <td>0.0</td>\n",
       "      <td>0.0</td>\n",
       "      <td>0.0</td>\n",
       "      <td>...</td>\n",
       "      <td>0.0</td>\n",
       "      <td>0.0</td>\n",
       "      <td>0.0</td>\n",
       "      <td>0.0</td>\n",
       "      <td>0.0</td>\n",
       "      <td>0.0</td>\n",
       "      <td>0.0</td>\n",
       "      <td>0.0</td>\n",
       "      <td>0.0</td>\n",
       "      <td>2022-05-25</td>\n",
       "    </tr>\n",
       "    <tr>\n",
       "      <th>746178</th>\n",
       "      <td>2022-05-25 20:12:56.904269</td>\n",
       "      <td>18165</td>\n",
       "      <td>0.0</td>\n",
       "      <td>0.0</td>\n",
       "      <td>0.0</td>\n",
       "      <td>0.0</td>\n",
       "      <td>0.0</td>\n",
       "      <td>0.0</td>\n",
       "      <td>0.0</td>\n",
       "      <td>0.0</td>\n",
       "      <td>...</td>\n",
       "      <td>0.0</td>\n",
       "      <td>0.0</td>\n",
       "      <td>0.0</td>\n",
       "      <td>0.0</td>\n",
       "      <td>0.0</td>\n",
       "      <td>0.0</td>\n",
       "      <td>0.0</td>\n",
       "      <td>0.0</td>\n",
       "      <td>0.0</td>\n",
       "      <td>2022-05-25</td>\n",
       "    </tr>\n",
       "    <tr>\n",
       "      <th>746199</th>\n",
       "      <td>2022-05-26 00:49:19.809268</td>\n",
       "      <td>18165</td>\n",
       "      <td>0.0</td>\n",
       "      <td>0.0</td>\n",
       "      <td>0.0</td>\n",
       "      <td>0.0</td>\n",
       "      <td>0.0</td>\n",
       "      <td>0.0</td>\n",
       "      <td>0.0</td>\n",
       "      <td>0.0</td>\n",
       "      <td>...</td>\n",
       "      <td>0.0</td>\n",
       "      <td>0.0</td>\n",
       "      <td>0.0</td>\n",
       "      <td>0.0</td>\n",
       "      <td>0.0</td>\n",
       "      <td>0.0</td>\n",
       "      <td>0.0</td>\n",
       "      <td>0.0</td>\n",
       "      <td>0.0</td>\n",
       "      <td>2022-05-26</td>\n",
       "    </tr>\n",
       "    <tr>\n",
       "      <th>746468</th>\n",
       "      <td>2022-05-27 00:56:28.806426</td>\n",
       "      <td>18165</td>\n",
       "      <td>0.0</td>\n",
       "      <td>0.0</td>\n",
       "      <td>0.0</td>\n",
       "      <td>0.0</td>\n",
       "      <td>0.0</td>\n",
       "      <td>0.0</td>\n",
       "      <td>0.0</td>\n",
       "      <td>0.0</td>\n",
       "      <td>...</td>\n",
       "      <td>0.0</td>\n",
       "      <td>0.0</td>\n",
       "      <td>0.0</td>\n",
       "      <td>0.0</td>\n",
       "      <td>0.0</td>\n",
       "      <td>0.0</td>\n",
       "      <td>0.0</td>\n",
       "      <td>0.0</td>\n",
       "      <td>0.0</td>\n",
       "      <td>2022-05-27</td>\n",
       "    </tr>\n",
       "    <tr>\n",
       "      <th>746205</th>\n",
       "      <td>2022-05-26 03:05:45.613110</td>\n",
       "      <td>18174</td>\n",
       "      <td>0.0</td>\n",
       "      <td>0.0</td>\n",
       "      <td>0.0</td>\n",
       "      <td>0.0</td>\n",
       "      <td>0.0</td>\n",
       "      <td>0.0</td>\n",
       "      <td>0.0</td>\n",
       "      <td>0.0</td>\n",
       "      <td>...</td>\n",
       "      <td>0.0</td>\n",
       "      <td>0.0</td>\n",
       "      <td>0.0</td>\n",
       "      <td>0.0</td>\n",
       "      <td>0.0</td>\n",
       "      <td>0.0</td>\n",
       "      <td>0.0</td>\n",
       "      <td>0.0</td>\n",
       "      <td>0.0</td>\n",
       "      <td>2022-05-26</td>\n",
       "    </tr>\n",
       "  </tbody>\n",
       "</table>\n",
       "<p>46225 rows × 9137 columns</p>\n",
       "</div>"
      ],
      "text/plain": [
       "                     session_executions_updated_at  user_programs_user_id  \\\n",
       "session_execution_id                                                        \n",
       "3737                    2021-06-11 18:00:35.640406                    108   \n",
       "5830                    2021-10-30 16:51:09.117908                    108   \n",
       "17048                   2021-12-08 19:19:10.266601                    108   \n",
       "17351                   2021-12-09 19:13:22.047997                    108   \n",
       "715926                  2022-01-24 11:38:17.767057                    108   \n",
       "...                                            ...                    ...   \n",
       "746183                  2022-05-25 20:36:55.438881                  18157   \n",
       "746178                  2022-05-25 20:12:56.904269                  18165   \n",
       "746199                  2022-05-26 00:49:19.809268                  18165   \n",
       "746468                  2022-05-27 00:56:28.806426                  18165   \n",
       "746205                  2022-05-26 03:05:45.613110                  18174   \n",
       "\n",
       "                      1 leg bridge (left)  1 leg bridge (left)_reps_1  \\\n",
       "session_execution_id                                                    \n",
       "3737                                  0.0                         0.0   \n",
       "5830                                  0.0                         0.0   \n",
       "17048                                 0.0                         0.0   \n",
       "17351                                 0.0                         0.0   \n",
       "715926                                0.0                         0.0   \n",
       "...                                   ...                         ...   \n",
       "746183                                0.0                         0.0   \n",
       "746178                                0.0                         0.0   \n",
       "746199                                0.0                         0.0   \n",
       "746468                                0.0                         0.0   \n",
       "746205                                0.0                         0.0   \n",
       "\n",
       "                      1 leg bridge (left)_reps_10  \\\n",
       "session_execution_id                                \n",
       "3737                                          0.0   \n",
       "5830                                          0.0   \n",
       "17048                                         0.0   \n",
       "17351                                         0.0   \n",
       "715926                                        0.0   \n",
       "...                                           ...   \n",
       "746183                                        0.0   \n",
       "746178                                        0.0   \n",
       "746199                                        0.0   \n",
       "746468                                        0.0   \n",
       "746205                                        0.0   \n",
       "\n",
       "                      1 leg bridge (left)_reps_11  \\\n",
       "session_execution_id                                \n",
       "3737                                          0.0   \n",
       "5830                                          0.0   \n",
       "17048                                         0.0   \n",
       "17351                                         0.0   \n",
       "715926                                        0.0   \n",
       "...                                           ...   \n",
       "746183                                        0.0   \n",
       "746178                                        0.0   \n",
       "746199                                        0.0   \n",
       "746468                                        0.0   \n",
       "746205                                        0.0   \n",
       "\n",
       "                      1 leg bridge (left)_reps_12  \\\n",
       "session_execution_id                                \n",
       "3737                                          0.0   \n",
       "5830                                          0.0   \n",
       "17048                                         0.0   \n",
       "17351                                         0.0   \n",
       "715926                                        0.0   \n",
       "...                                           ...   \n",
       "746183                                        0.0   \n",
       "746178                                        0.0   \n",
       "746199                                        0.0   \n",
       "746468                                        0.0   \n",
       "746205                                        0.0   \n",
       "\n",
       "                      1 leg bridge (left)_reps_13  \\\n",
       "session_execution_id                                \n",
       "3737                                          0.0   \n",
       "5830                                          0.0   \n",
       "17048                                         0.0   \n",
       "17351                                         0.0   \n",
       "715926                                        0.0   \n",
       "...                                           ...   \n",
       "746183                                        0.0   \n",
       "746178                                        0.0   \n",
       "746199                                        0.0   \n",
       "746468                                        0.0   \n",
       "746205                                        0.0   \n",
       "\n",
       "                      1 leg bridge (left)_reps_14  \\\n",
       "session_execution_id                                \n",
       "3737                                          0.0   \n",
       "5830                                          0.0   \n",
       "17048                                         0.0   \n",
       "17351                                         0.0   \n",
       "715926                                        0.0   \n",
       "...                                           ...   \n",
       "746183                                        0.0   \n",
       "746178                                        0.0   \n",
       "746199                                        0.0   \n",
       "746468                                        0.0   \n",
       "746205                                        0.0   \n",
       "\n",
       "                      1 leg bridge (left)_reps_15  ...  \\\n",
       "session_execution_id                               ...   \n",
       "3737                                          0.0  ...   \n",
       "5830                                          0.0  ...   \n",
       "17048                                         0.0  ...   \n",
       "17351                                         0.0  ...   \n",
       "715926                                        0.0  ...   \n",
       "...                                           ...  ...   \n",
       "746183                                        0.0  ...   \n",
       "746178                                        0.0  ...   \n",
       "746199                                        0.0  ...   \n",
       "746468                                        0.0  ...   \n",
       "746205                                        0.0  ...   \n",
       "\n",
       "                      Wrist flexion and extension_time_4  \\\n",
       "session_execution_id                                       \n",
       "3737                                                 0.0   \n",
       "5830                                                 0.0   \n",
       "17048                                                0.0   \n",
       "17351                                                0.0   \n",
       "715926                                               0.0   \n",
       "...                                                  ...   \n",
       "746183                                               0.0   \n",
       "746178                                               0.0   \n",
       "746199                                               0.0   \n",
       "746468                                               0.0   \n",
       "746205                                               0.0   \n",
       "\n",
       "                      Wrist flexion and extension_time_5  Zancadas  \\\n",
       "session_execution_id                                                 \n",
       "3737                                                 0.0       0.0   \n",
       "5830                                                 0.0       0.0   \n",
       "17048                                                0.0       0.0   \n",
       "17351                                                0.0       0.0   \n",
       "715926                                               0.0       0.0   \n",
       "...                                                  ...       ...   \n",
       "746183                                               0.0       0.0   \n",
       "746178                                               0.0       0.0   \n",
       "746199                                               0.0       0.0   \n",
       "746468                                               0.0       0.0   \n",
       "746205                                               0.0       0.0   \n",
       "\n",
       "                      Zancadas_reps_1  Zancadas_reps_2  Zancadas_reps_3  \\\n",
       "session_execution_id                                                      \n",
       "3737                              0.0              0.0              0.0   \n",
       "5830                              0.0              0.0              0.0   \n",
       "17048                             0.0              0.0              0.0   \n",
       "17351                             0.0              0.0              0.0   \n",
       "715926                            0.0              0.0              0.0   \n",
       "...                               ...              ...              ...   \n",
       "746183                            0.0              0.0              0.0   \n",
       "746178                            0.0              0.0              0.0   \n",
       "746199                            0.0              0.0              0.0   \n",
       "746468                            0.0              0.0              0.0   \n",
       "746205                            0.0              0.0              0.0   \n",
       "\n",
       "                      Zancadas_time_1  Zancadas_time_2  Zancadas_time_3  \\\n",
       "session_execution_id                                                      \n",
       "3737                              0.0              0.0              0.0   \n",
       "5830                              0.0              0.0              0.0   \n",
       "17048                             0.0              0.0              0.0   \n",
       "17351                             0.0              0.0              0.0   \n",
       "715926                            0.0              0.0              0.0   \n",
       "...                               ...              ...              ...   \n",
       "746183                            0.0              0.0              0.0   \n",
       "746178                            0.0              0.0              0.0   \n",
       "746199                            0.0              0.0              0.0   \n",
       "746468                            0.0              0.0              0.0   \n",
       "746205                            0.0              0.0              0.0   \n",
       "\n",
       "                            date  \n",
       "session_execution_id              \n",
       "3737                  2021-06-11  \n",
       "5830                  2021-10-30  \n",
       "17048                 2021-12-08  \n",
       "17351                 2021-12-09  \n",
       "715926                2022-01-24  \n",
       "...                          ...  \n",
       "746183                2022-05-25  \n",
       "746178                2022-05-25  \n",
       "746199                2022-05-26  \n",
       "746468                2022-05-27  \n",
       "746205                2022-05-26  \n",
       "\n",
       "[46225 rows x 9137 columns]"
      ]
     },
     "execution_count": 12,
     "metadata": {},
     "output_type": "execute_result"
    }
   ],
   "source": [
    "df_final.to_csv('../data/cleaned_dataset_v1.csv', sep=',', encoding='utf-8')\n",
    "df_final"
   ]
  },
  {
   "cell_type": "code",
   "execution_count": 14,
   "metadata": {},
   "outputs": [],
   "source": [
    "# df_final.to_csv('../data/cleaned_dataset_v0.csv', sep=',', encoding='utf-8')"
   ]
  },
  {
   "cell_type": "code",
   "execution_count": 119,
   "metadata": {},
   "outputs": [],
   "source": [
    "# To make the comparisson run again the where the \"df_data_remove_duplicated\" is obtained\n",
    "# 1.) Check the users to compare\n",
    "# print(df_data_remove_duplicated.shape, df_final.shape)\n",
    "# users_with_more_than_one_session.head(100)\n",
    "\n",
    "# 2.) select the users to compare\n",
    "## sub_dataframe_1 = df_data_remove_duplicated.loc[df_data_remove_duplicated['user_programs_user_id'] == 620] # Change this number according the user to compare\n",
    "## sub_dataframe_2 = df_final.loc[df_final['user_programs_user_id'] == 620] # Change this number according the user to compare\n",
    "\n",
    "# 3) Select the dates to compare\n",
    "### date1_sub_dataframe_1 = sub_dataframe_1.loc[[714164]] # Change this index according the First session_executions_updated_at_ to compare\n",
    "### date2_sub_dataframe_1 = sub_dataframe_1.loc[[714202]] # Change this index according the Second session_executions_updated_at_ to compare\n",
    "### date3_sub_dataframe_1 = sub_dataframe_1.loc[[714214]] # Change this index according the Third session_executions_updated_at_ to compare\n",
    "### date_exercises_summed_sub_dataframe_2 = sub_dataframe_2.loc[[714164]] # # Change this index according the First session_executions_updated_at_ to compare in the second df\n",
    "\n",
    "#### sub_dataframe_1.loc[714164:714214,  (date1_sub_dataframe_1.all()) | (date2_sub_dataframe_1.all()) | (date3_sub_dataframe_1.all())] # Change the number according the previous indexes of the session_executions_updated_at_ to compare\n",
    "#### date_exercises_summed_sub_dataframe_2.loc[:, date_exercises_summed_sub_dataframe_2.all()]"
   ]
  }
 ],
 "metadata": {
  "kernelspec": {
   "display_name": "m_hunters",
   "language": "python",
   "name": "kernel_mhunters"
  },
  "language_info": {
   "codemirror_mode": {
    "name": "ipython",
    "version": 3
   },
   "file_extension": ".py",
   "mimetype": "text/x-python",
   "name": "python",
   "nbconvert_exporter": "python",
   "pygments_lexer": "ipython3",
   "version": "3.10.6"
  }
 },
 "nbformat": 4,
 "nbformat_minor": 2
}
